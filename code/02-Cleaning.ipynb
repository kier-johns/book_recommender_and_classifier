{
 "cells": [
  {
   "cell_type": "markdown",
   "id": "e2736f84-e774-44f7-a6bb-b50f3f5ab8ef",
   "metadata": {},
   "source": [
    "# Imports:"
   ]
  },
  {
   "cell_type": "code",
   "execution_count": 1,
   "id": "60933d79-40b5-472a-9c19-afb5f4b1cc2b",
   "metadata": {
    "tags": []
   },
   "outputs": [],
   "source": [
    "import numpy as np\n",
    "import pandas as pd\n",
    "import matplotlib.pyplot as plt\n",
    "import seaborn as sns"
   ]
  },
  {
   "cell_type": "code",
   "execution_count": 2,
   "id": "b0661048-ce17-4a3b-ab39-962c4850d14c",
   "metadata": {
    "tags": []
   },
   "outputs": [],
   "source": [
    "pd.set_option('display.max_columns', None)\n",
    "pd.set_option('display.max_rows', None)"
   ]
  },
  {
   "cell_type": "markdown",
   "id": "0f5e027d-39db-40c2-ba18-3bfe28ef53e4",
   "metadata": {},
   "source": [
    "#### Read in the data:"
   ]
  },
  {
   "cell_type": "code",
   "execution_count": 4,
   "id": "1c330c63-2679-4248-bb29-c0b8f07f4f82",
   "metadata": {
    "tags": []
   },
   "outputs": [],
   "source": [
    "book_tags = pd.read_csv('../ignore/book_tags.csv')\n",
    "books = pd.read_csv('../ignore/books.csv')\n",
    "ratings = pd.read_csv('../ignore/ratings.csv')\n",
    "tags = pd.read_csv('../ignore/tags.csv')\n",
    "to_read = pd.read_csv('../ignore/to_read.csv')"
   ]
  },
  {
   "cell_type": "code",
   "execution_count": 78,
   "id": "28f11211-fbab-4758-bcc1-703674df3823",
   "metadata": {
    "tags": []
   },
   "outputs": [
    {
     "name": "stdout",
     "output_type": "stream",
     "text": [
      "(999912, 3)\n",
      "(10000, 23)\n",
      "(5976479, 3)\n",
      "(34252, 2)\n",
      "(912705, 2)\n"
     ]
    }
   ],
   "source": [
    "print(book_tags.shape)\n",
    "print(books.shape)\n",
    "print(ratings.shape)\n",
    "print(tags.shape)\n",
    "print(to_read.shape)"
   ]
  },
  {
   "cell_type": "markdown",
   "id": "ab5c5f19-dd92-4165-ab49-bf12dac8a147",
   "metadata": {},
   "source": [
    " "
   ]
  },
  {
   "cell_type": "markdown",
   "id": "b48d6dd4-7411-4274-9e80-cc15df3c6e02",
   "metadata": {},
   "source": [
    "### Cleaning for Recommender System:"
   ]
  },
  {
   "cell_type": "markdown",
   "id": "82d5c87a-bc53-42bb-9c5e-22324f982e43",
   "metadata": {},
   "source": [
    "While more data is better... for the purpose of memory usage for this project I am going to randomly pick 50,000 data points from the over 5 million data points in the ratings.csv"
   ]
  },
  {
   "cell_type": "code",
   "execution_count": 79,
   "id": "520eb114-a981-4144-980e-cfc2003fae97",
   "metadata": {
    "tags": []
   },
   "outputs": [
    {
     "data": {
      "text/plain": [
       "user_id    0\n",
       "book_id    0\n",
       "rating     0\n",
       "dtype: int64"
      ]
     },
     "execution_count": 79,
     "metadata": {},
     "output_type": "execute_result"
    }
   ],
   "source": [
    "ratings.isna().sum()"
   ]
  },
  {
   "cell_type": "markdown",
   "id": "981bd333-0025-480d-94c7-08397af8802c",
   "metadata": {},
   "source": [
    "> There are no missing values, so I cannot just delete null items"
   ]
  },
  {
   "cell_type": "code",
   "execution_count": 80,
   "id": "c9a9a4e7-de60-4647-bc83-0de2db9c4191",
   "metadata": {
    "tags": []
   },
   "outputs": [
    {
     "data": {
      "text/plain": [
       "53424"
      ]
     },
     "execution_count": 80,
     "metadata": {},
     "output_type": "execute_result"
    }
   ],
   "source": [
    "ratings.user_id.value_counts().count()"
   ]
  },
  {
   "cell_type": "markdown",
   "id": "fff943a1-6d42-4377-84c2-48cd48f5dc0c",
   "metadata": {},
   "source": [
    "> 53,424 unique users"
   ]
  },
  {
   "cell_type": "code",
   "execution_count": 81,
   "id": "5efae171-3844-4622-9d51-9ed7df86bde1",
   "metadata": {
    "tags": []
   },
   "outputs": [
    {
     "data": {
      "text/plain": [
       "10000"
      ]
     },
     "execution_count": 81,
     "metadata": {},
     "output_type": "execute_result"
    }
   ],
   "source": [
    "ratings.book_id.value_counts().count()"
   ]
  },
  {
   "cell_type": "markdown",
   "id": "26266604-9190-4304-afe9-bc0436a5be29",
   "metadata": {},
   "source": [
    "> 10,000 unique books"
   ]
  },
  {
   "cell_type": "code",
   "execution_count": 82,
   "id": "3006bcc3-2278-4590-b668-b2be1ad444ae",
   "metadata": {
    "tags": []
   },
   "outputs": [],
   "source": [
    "ratings_sample = ratings.sample(n = 50000, replace = False)"
   ]
  },
  {
   "cell_type": "code",
   "execution_count": 83,
   "id": "3ebcb5b4-0679-4d51-8970-55d0fd7a837e",
   "metadata": {
    "tags": []
   },
   "outputs": [
    {
     "data": {
      "text/html": [
       "<div>\n",
       "<style scoped>\n",
       "    .dataframe tbody tr th:only-of-type {\n",
       "        vertical-align: middle;\n",
       "    }\n",
       "\n",
       "    .dataframe tbody tr th {\n",
       "        vertical-align: top;\n",
       "    }\n",
       "\n",
       "    .dataframe thead th {\n",
       "        text-align: right;\n",
       "    }\n",
       "</style>\n",
       "<table border=\"1\" class=\"dataframe\">\n",
       "  <thead>\n",
       "    <tr style=\"text-align: right;\">\n",
       "      <th></th>\n",
       "      <th>user_id</th>\n",
       "      <th>book_id</th>\n",
       "      <th>rating</th>\n",
       "    </tr>\n",
       "  </thead>\n",
       "  <tbody>\n",
       "    <tr>\n",
       "      <th>3607532</th>\n",
       "      <td>42385</td>\n",
       "      <td>337</td>\n",
       "      <td>3</td>\n",
       "    </tr>\n",
       "    <tr>\n",
       "      <th>3897650</th>\n",
       "      <td>21470</td>\n",
       "      <td>235</td>\n",
       "      <td>4</td>\n",
       "    </tr>\n",
       "    <tr>\n",
       "      <th>1912390</th>\n",
       "      <td>26283</td>\n",
       "      <td>736</td>\n",
       "      <td>5</td>\n",
       "    </tr>\n",
       "    <tr>\n",
       "      <th>5926101</th>\n",
       "      <td>5836</td>\n",
       "      <td>6947</td>\n",
       "      <td>4</td>\n",
       "    </tr>\n",
       "    <tr>\n",
       "      <th>3952553</th>\n",
       "      <td>21830</td>\n",
       "      <td>601</td>\n",
       "      <td>3</td>\n",
       "    </tr>\n",
       "  </tbody>\n",
       "</table>\n",
       "</div>"
      ],
      "text/plain": [
       "         user_id  book_id  rating\n",
       "3607532    42385      337       3\n",
       "3897650    21470      235       4\n",
       "1912390    26283      736       5\n",
       "5926101     5836     6947       4\n",
       "3952553    21830      601       3"
      ]
     },
     "execution_count": 83,
     "metadata": {},
     "output_type": "execute_result"
    }
   ],
   "source": [
    "ratings_sample.head()"
   ]
  },
  {
   "cell_type": "code",
   "execution_count": 84,
   "id": "ad90190c-5179-44c5-99fd-b15e5dc03f45",
   "metadata": {
    "tags": []
   },
   "outputs": [
    {
     "data": {
      "text/plain": [
       "user_id    0\n",
       "book_id    0\n",
       "rating     0\n",
       "dtype: int64"
      ]
     },
     "execution_count": 84,
     "metadata": {},
     "output_type": "execute_result"
    }
   ],
   "source": [
    "ratings_sample.isna().sum()"
   ]
  },
  {
   "cell_type": "code",
   "execution_count": 85,
   "id": "202ca849-febe-402e-8413-d8d106b20f59",
   "metadata": {
    "tags": []
   },
   "outputs": [
    {
     "data": {
      "text/plain": [
       "32065"
      ]
     },
     "execution_count": 85,
     "metadata": {},
     "output_type": "execute_result"
    }
   ],
   "source": [
    "ratings_sample.user_id.value_counts().count()"
   ]
  },
  {
   "cell_type": "markdown",
   "id": "18a039bc-b39c-4964-a83c-c2a1240579fe",
   "metadata": {},
   "source": [
    "32,009 unique users in this sample, with some repeats"
   ]
  },
  {
   "cell_type": "code",
   "execution_count": 86,
   "id": "63b8c49d-963a-478e-b3ff-219bbf3bc64a",
   "metadata": {
    "tags": []
   },
   "outputs": [
    {
     "data": {
      "text/plain": [
       "8435"
      ]
     },
     "execution_count": 86,
     "metadata": {},
     "output_type": "execute_result"
    }
   ],
   "source": [
    "ratings_sample.book_id.value_counts().count()"
   ]
  },
  {
   "cell_type": "markdown",
   "id": "e87023c5-c26f-48db-a4cf-f877eb282499",
   "metadata": {},
   "source": [
    "> 8,393 unique books... I want all 10,000 books included so I may re-sample"
   ]
  },
  {
   "cell_type": "code",
   "execution_count": 87,
   "id": "7765c017-5e42-4a8c-8d04-1cd837e9e492",
   "metadata": {
    "tags": []
   },
   "outputs": [
    {
     "data": {
      "text/plain": [
       "5"
      ]
     },
     "execution_count": 87,
     "metadata": {},
     "output_type": "execute_result"
    }
   ],
   "source": [
    "ratings_sample.rating.value_counts().count()"
   ]
  },
  {
   "cell_type": "markdown",
   "id": "125790db-05d3-4e86-bdd6-82f8499e45d7",
   "metadata": {},
   "source": [
    "> All 5 different ratings are represented"
   ]
  },
  {
   "cell_type": "markdown",
   "id": "7df37d6e-d2d9-42ee-947f-3774fd4826cc",
   "metadata": {},
   "source": [
    "Let's try a resample with 100,000 instead..."
   ]
  },
  {
   "cell_type": "code",
   "execution_count": 88,
   "id": "523dd02a-d949-416f-b641-6a93cdbdbefc",
   "metadata": {
    "tags": []
   },
   "outputs": [],
   "source": [
    "ratings_sample = ratings.sample(n = 100000, replace = False, random_state=1002)"
   ]
  },
  {
   "cell_type": "code",
   "execution_count": 89,
   "id": "a743d177-e408-4ac6-be24-3b8a509f7302",
   "metadata": {
    "tags": []
   },
   "outputs": [
    {
     "data": {
      "text/html": [
       "<div>\n",
       "<style scoped>\n",
       "    .dataframe tbody tr th:only-of-type {\n",
       "        vertical-align: middle;\n",
       "    }\n",
       "\n",
       "    .dataframe tbody tr th {\n",
       "        vertical-align: top;\n",
       "    }\n",
       "\n",
       "    .dataframe thead th {\n",
       "        text-align: right;\n",
       "    }\n",
       "</style>\n",
       "<table border=\"1\" class=\"dataframe\">\n",
       "  <thead>\n",
       "    <tr style=\"text-align: right;\">\n",
       "      <th></th>\n",
       "      <th>user_id</th>\n",
       "      <th>book_id</th>\n",
       "      <th>rating</th>\n",
       "    </tr>\n",
       "  </thead>\n",
       "  <tbody>\n",
       "    <tr>\n",
       "      <th>2186601</th>\n",
       "      <td>29403</td>\n",
       "      <td>102</td>\n",
       "      <td>5</td>\n",
       "    </tr>\n",
       "    <tr>\n",
       "      <th>2858642</th>\n",
       "      <td>36128</td>\n",
       "      <td>4663</td>\n",
       "      <td>4</td>\n",
       "    </tr>\n",
       "    <tr>\n",
       "      <th>4280792</th>\n",
       "      <td>37112</td>\n",
       "      <td>25</td>\n",
       "      <td>5</td>\n",
       "    </tr>\n",
       "    <tr>\n",
       "      <th>1026306</th>\n",
       "      <td>16114</td>\n",
       "      <td>693</td>\n",
       "      <td>4</td>\n",
       "    </tr>\n",
       "    <tr>\n",
       "      <th>5672837</th>\n",
       "      <td>50684</td>\n",
       "      <td>1731</td>\n",
       "      <td>4</td>\n",
       "    </tr>\n",
       "  </tbody>\n",
       "</table>\n",
       "</div>"
      ],
      "text/plain": [
       "         user_id  book_id  rating\n",
       "2186601    29403      102       5\n",
       "2858642    36128     4663       4\n",
       "4280792    37112       25       5\n",
       "1026306    16114      693       4\n",
       "5672837    50684     1731       4"
      ]
     },
     "execution_count": 89,
     "metadata": {},
     "output_type": "execute_result"
    }
   ],
   "source": [
    "ratings_sample.head()"
   ]
  },
  {
   "cell_type": "code",
   "execution_count": 90,
   "id": "ffdce1b0-af47-4274-9793-2f5fbc331628",
   "metadata": {
    "tags": []
   },
   "outputs": [
    {
     "data": {
      "text/plain": [
       "user_id    0\n",
       "book_id    0\n",
       "rating     0\n",
       "dtype: int64"
      ]
     },
     "execution_count": 90,
     "metadata": {},
     "output_type": "execute_result"
    }
   ],
   "source": [
    "ratings_sample.isna().sum()"
   ]
  },
  {
   "cell_type": "code",
   "execution_count": 91,
   "id": "c7a7439b-9a34-4350-a527-17178f2ebddb",
   "metadata": {
    "tags": []
   },
   "outputs": [
    {
     "data": {
      "text/plain": [
       "44364"
      ]
     },
     "execution_count": 91,
     "metadata": {},
     "output_type": "execute_result"
    }
   ],
   "source": [
    "ratings_sample.user_id.value_counts().count()"
   ]
  },
  {
   "cell_type": "markdown",
   "id": "46953e96-decc-4c93-9db7-95c36a62e08a",
   "metadata": {},
   "source": [
    "> 44,364 unique users"
   ]
  },
  {
   "cell_type": "code",
   "execution_count": 92,
   "id": "941f8dd0-cfed-455c-8fb9-45741992d60c",
   "metadata": {
    "tags": []
   },
   "outputs": [
    {
     "data": {
      "text/plain": [
       "9523"
      ]
     },
     "execution_count": 92,
     "metadata": {},
     "output_type": "execute_result"
    }
   ],
   "source": [
    "ratings_sample.book_id.value_counts().count()"
   ]
  },
  {
   "cell_type": "markdown",
   "id": "d89c99e6-eea8-402b-8abd-69ad19ccb037",
   "metadata": {},
   "source": [
    "> 9523 unique books... this is not the full 10,000 but close enough for my liking"
   ]
  },
  {
   "cell_type": "code",
   "execution_count": 93,
   "id": "57d5bef3-ca4f-440a-98e1-a9eb00da86b6",
   "metadata": {
    "tags": []
   },
   "outputs": [],
   "source": [
    "# Checking to make sure that some of my favorite books are included in this sample... because what would a good recommender system be if it doesn't include my favorites\n",
    "# ratings_sample.loc[ratings_sample['book_id'] == 30]"
   ]
  },
  {
   "cell_type": "code",
   "execution_count": 94,
   "id": "5261391f-f52d-4a23-8b0d-e13cf09ee91b",
   "metadata": {
    "tags": []
   },
   "outputs": [
    {
     "data": {
      "text/plain": [
       "(100000, 3)"
      ]
     },
     "execution_count": 94,
     "metadata": {},
     "output_type": "execute_result"
    }
   ],
   "source": [
    "ratings_sample.shape"
   ]
  },
  {
   "cell_type": "markdown",
   "id": "6852eea2-b423-4a81-b35c-3eeb770fcdcf",
   "metadata": {},
   "source": [
    "Now, let's merge the book df with it"
   ]
  },
  {
   "cell_type": "code",
   "execution_count": 95,
   "id": "036892e7-225d-45a3-9b40-939683e06f3a",
   "metadata": {
    "tags": []
   },
   "outputs": [
    {
     "data": {
      "text/html": [
       "<div>\n",
       "<style scoped>\n",
       "    .dataframe tbody tr th:only-of-type {\n",
       "        vertical-align: middle;\n",
       "    }\n",
       "\n",
       "    .dataframe tbody tr th {\n",
       "        vertical-align: top;\n",
       "    }\n",
       "\n",
       "    .dataframe thead th {\n",
       "        text-align: right;\n",
       "    }\n",
       "</style>\n",
       "<table border=\"1\" class=\"dataframe\">\n",
       "  <thead>\n",
       "    <tr style=\"text-align: right;\">\n",
       "      <th></th>\n",
       "      <th>user_id</th>\n",
       "      <th>book_id</th>\n",
       "      <th>rating</th>\n",
       "      <th>goodreads_book_id</th>\n",
       "      <th>best_book_id</th>\n",
       "      <th>work_id</th>\n",
       "      <th>books_count</th>\n",
       "      <th>isbn</th>\n",
       "      <th>isbn13</th>\n",
       "      <th>authors</th>\n",
       "      <th>original_publication_year</th>\n",
       "      <th>original_title</th>\n",
       "      <th>title</th>\n",
       "      <th>language_code</th>\n",
       "      <th>average_rating</th>\n",
       "      <th>ratings_count</th>\n",
       "      <th>work_ratings_count</th>\n",
       "      <th>work_text_reviews_count</th>\n",
       "      <th>ratings_1</th>\n",
       "      <th>ratings_2</th>\n",
       "      <th>ratings_3</th>\n",
       "      <th>ratings_4</th>\n",
       "      <th>ratings_5</th>\n",
       "      <th>image_url</th>\n",
       "      <th>small_image_url</th>\n",
       "    </tr>\n",
       "  </thead>\n",
       "  <tbody>\n",
       "    <tr>\n",
       "      <th>0</th>\n",
       "      <td>29403</td>\n",
       "      <td>102</td>\n",
       "      <td>5</td>\n",
       "      <td>19543</td>\n",
       "      <td>19543</td>\n",
       "      <td>3020535</td>\n",
       "      <td>110</td>\n",
       "      <td>99408392</td>\n",
       "      <td>9.780099e+12</td>\n",
       "      <td>Maurice Sendak</td>\n",
       "      <td>1963.0</td>\n",
       "      <td>Where the Wild Things Are</td>\n",
       "      <td>Where the Wild Things Are</td>\n",
       "      <td>eng</td>\n",
       "      <td>4.22</td>\n",
       "      <td>620618</td>\n",
       "      <td>636061</td>\n",
       "      <td>9102</td>\n",
       "      <td>15392</td>\n",
       "      <td>27532</td>\n",
       "      <td>93700</td>\n",
       "      <td>167043</td>\n",
       "      <td>332394</td>\n",
       "      <td>https://images.gr-assets.com/books/1384434560m...</td>\n",
       "      <td>https://images.gr-assets.com/books/1384434560s...</td>\n",
       "    </tr>\n",
       "    <tr>\n",
       "      <th>1</th>\n",
       "      <td>36128</td>\n",
       "      <td>4663</td>\n",
       "      <td>4</td>\n",
       "      <td>64081</td>\n",
       "      <td>64081</td>\n",
       "      <td>2827103</td>\n",
       "      <td>19</td>\n",
       "      <td>310266300</td>\n",
       "      <td>9.780310e+12</td>\n",
       "      <td>Shane Claiborne</td>\n",
       "      <td>2006.0</td>\n",
       "      <td>The Irresistible Revolution: Living as an Ordi...</td>\n",
       "      <td>The Irresistible Revolution: Living as an Ordi...</td>\n",
       "      <td>NaN</td>\n",
       "      <td>4.07</td>\n",
       "      <td>18566</td>\n",
       "      <td>19186</td>\n",
       "      <td>953</td>\n",
       "      <td>409</td>\n",
       "      <td>977</td>\n",
       "      <td>3435</td>\n",
       "      <td>6486</td>\n",
       "      <td>7879</td>\n",
       "      <td>https://s.gr-assets.com/assets/nophoto/book/11...</td>\n",
       "      <td>https://s.gr-assets.com/assets/nophoto/book/50...</td>\n",
       "    </tr>\n",
       "    <tr>\n",
       "      <th>2</th>\n",
       "      <td>37112</td>\n",
       "      <td>25</td>\n",
       "      <td>5</td>\n",
       "      <td>136251</td>\n",
       "      <td>136251</td>\n",
       "      <td>2963218</td>\n",
       "      <td>263</td>\n",
       "      <td>545010225</td>\n",
       "      <td>9.780545e+12</td>\n",
       "      <td>J.K. Rowling, Mary GrandPré</td>\n",
       "      <td>2007.0</td>\n",
       "      <td>Harry Potter and the Deathly Hallows</td>\n",
       "      <td>Harry Potter and the Deathly Hallows (Harry Po...</td>\n",
       "      <td>eng</td>\n",
       "      <td>4.61</td>\n",
       "      <td>1746574</td>\n",
       "      <td>1847395</td>\n",
       "      <td>51942</td>\n",
       "      <td>9363</td>\n",
       "      <td>22245</td>\n",
       "      <td>113646</td>\n",
       "      <td>383914</td>\n",
       "      <td>1318227</td>\n",
       "      <td>https://images.gr-assets.com/books/1474171184m...</td>\n",
       "      <td>https://images.gr-assets.com/books/1474171184s...</td>\n",
       "    </tr>\n",
       "    <tr>\n",
       "      <th>3</th>\n",
       "      <td>16114</td>\n",
       "      <td>693</td>\n",
       "      <td>4</td>\n",
       "      <td>455373</td>\n",
       "      <td>455373</td>\n",
       "      <td>2651694</td>\n",
       "      <td>122</td>\n",
       "      <td>345418972</td>\n",
       "      <td>9.780345e+12</td>\n",
       "      <td>Michael Crichton</td>\n",
       "      <td>1987.0</td>\n",
       "      <td>Sphere</td>\n",
       "      <td>Sphere</td>\n",
       "      <td>eng</td>\n",
       "      <td>3.77</td>\n",
       "      <td>128244</td>\n",
       "      <td>135005</td>\n",
       "      <td>2313</td>\n",
       "      <td>1851</td>\n",
       "      <td>9728</td>\n",
       "      <td>40085</td>\n",
       "      <td>49513</td>\n",
       "      <td>33828</td>\n",
       "      <td>https://s.gr-assets.com/assets/nophoto/book/11...</td>\n",
       "      <td>https://s.gr-assets.com/assets/nophoto/book/50...</td>\n",
       "    </tr>\n",
       "    <tr>\n",
       "      <th>4</th>\n",
       "      <td>50684</td>\n",
       "      <td>1731</td>\n",
       "      <td>4</td>\n",
       "      <td>6736971</td>\n",
       "      <td>6736971</td>\n",
       "      <td>6527274</td>\n",
       "      <td>37</td>\n",
       "      <td>345503813</td>\n",
       "      <td>9.780346e+12</td>\n",
       "      <td>Peter V. Brett</td>\n",
       "      <td>2010.0</td>\n",
       "      <td>The Desert Spear</td>\n",
       "      <td>The Desert Spear (Demon Cycle, #2)</td>\n",
       "      <td>eng</td>\n",
       "      <td>4.24</td>\n",
       "      <td>53143</td>\n",
       "      <td>58608</td>\n",
       "      <td>1927</td>\n",
       "      <td>555</td>\n",
       "      <td>1691</td>\n",
       "      <td>7805</td>\n",
       "      <td>21853</td>\n",
       "      <td>26704</td>\n",
       "      <td>https://s.gr-assets.com/assets/nophoto/book/11...</td>\n",
       "      <td>https://s.gr-assets.com/assets/nophoto/book/50...</td>\n",
       "    </tr>\n",
       "  </tbody>\n",
       "</table>\n",
       "</div>"
      ],
      "text/plain": [
       "   user_id  book_id  rating  goodreads_book_id  best_book_id  work_id  \\\n",
       "0    29403      102       5              19543         19543  3020535   \n",
       "1    36128     4663       4              64081         64081  2827103   \n",
       "2    37112       25       5             136251        136251  2963218   \n",
       "3    16114      693       4             455373        455373  2651694   \n",
       "4    50684     1731       4            6736971       6736971  6527274   \n",
       "\n",
       "   books_count       isbn        isbn13                      authors  \\\n",
       "0          110   99408392  9.780099e+12               Maurice Sendak   \n",
       "1           19  310266300  9.780310e+12              Shane Claiborne   \n",
       "2          263  545010225  9.780545e+12  J.K. Rowling, Mary GrandPré   \n",
       "3          122  345418972  9.780345e+12             Michael Crichton   \n",
       "4           37  345503813  9.780346e+12               Peter V. Brett   \n",
       "\n",
       "   original_publication_year  \\\n",
       "0                     1963.0   \n",
       "1                     2006.0   \n",
       "2                     2007.0   \n",
       "3                     1987.0   \n",
       "4                     2010.0   \n",
       "\n",
       "                                      original_title  \\\n",
       "0                          Where the Wild Things Are   \n",
       "1  The Irresistible Revolution: Living as an Ordi...   \n",
       "2               Harry Potter and the Deathly Hallows   \n",
       "3                                             Sphere   \n",
       "4                                   The Desert Spear   \n",
       "\n",
       "                                               title language_code  \\\n",
       "0                          Where the Wild Things Are           eng   \n",
       "1  The Irresistible Revolution: Living as an Ordi...           NaN   \n",
       "2  Harry Potter and the Deathly Hallows (Harry Po...           eng   \n",
       "3                                             Sphere           eng   \n",
       "4                 The Desert Spear (Demon Cycle, #2)           eng   \n",
       "\n",
       "   average_rating  ratings_count  work_ratings_count  work_text_reviews_count  \\\n",
       "0            4.22         620618              636061                     9102   \n",
       "1            4.07          18566               19186                      953   \n",
       "2            4.61        1746574             1847395                    51942   \n",
       "3            3.77         128244              135005                     2313   \n",
       "4            4.24          53143               58608                     1927   \n",
       "\n",
       "   ratings_1  ratings_2  ratings_3  ratings_4  ratings_5  \\\n",
       "0      15392      27532      93700     167043     332394   \n",
       "1        409        977       3435       6486       7879   \n",
       "2       9363      22245     113646     383914    1318227   \n",
       "3       1851       9728      40085      49513      33828   \n",
       "4        555       1691       7805      21853      26704   \n",
       "\n",
       "                                           image_url  \\\n",
       "0  https://images.gr-assets.com/books/1384434560m...   \n",
       "1  https://s.gr-assets.com/assets/nophoto/book/11...   \n",
       "2  https://images.gr-assets.com/books/1474171184m...   \n",
       "3  https://s.gr-assets.com/assets/nophoto/book/11...   \n",
       "4  https://s.gr-assets.com/assets/nophoto/book/11...   \n",
       "\n",
       "                                     small_image_url  \n",
       "0  https://images.gr-assets.com/books/1384434560s...  \n",
       "1  https://s.gr-assets.com/assets/nophoto/book/50...  \n",
       "2  https://images.gr-assets.com/books/1474171184s...  \n",
       "3  https://s.gr-assets.com/assets/nophoto/book/50...  \n",
       "4  https://s.gr-assets.com/assets/nophoto/book/50...  "
      ]
     },
     "execution_count": 95,
     "metadata": {},
     "output_type": "execute_result"
    }
   ],
   "source": [
    "ratings_and_books = pd.merge(ratings_sample, books, how='left', on='book_id')\n",
    "ratings_and_books.head()"
   ]
  },
  {
   "cell_type": "markdown",
   "id": "48ae68f4-0b9f-4a47-bbd3-91be528e0d30",
   "metadata": {},
   "source": [
    "Make sure the counts are all the same..."
   ]
  },
  {
   "cell_type": "code",
   "execution_count": 96,
   "id": "1a5228d7-6ae1-4f18-804a-bfe3c1df9323",
   "metadata": {
    "tags": []
   },
   "outputs": [
    {
     "data": {
      "text/plain": [
       "(100000, 25)"
      ]
     },
     "execution_count": 96,
     "metadata": {},
     "output_type": "execute_result"
    }
   ],
   "source": [
    "ratings_and_books.shape"
   ]
  },
  {
   "cell_type": "code",
   "execution_count": 97,
   "id": "70344d9f-ac9d-4fb0-a9c9-ac77671b4d43",
   "metadata": {
    "tags": []
   },
   "outputs": [
    {
     "data": {
      "text/plain": [
       "44364"
      ]
     },
     "execution_count": 97,
     "metadata": {},
     "output_type": "execute_result"
    }
   ],
   "source": [
    "ratings_and_books.user_id.value_counts().count()"
   ]
  },
  {
   "cell_type": "code",
   "execution_count": 98,
   "id": "1d1973b0-fbe8-4400-8f77-f9e3d96ddd0b",
   "metadata": {
    "tags": []
   },
   "outputs": [
    {
     "data": {
      "text/plain": [
       "9523"
      ]
     },
     "execution_count": 98,
     "metadata": {},
     "output_type": "execute_result"
    }
   ],
   "source": [
    "ratings_and_books.book_id.value_counts().count()"
   ]
  },
  {
   "cell_type": "markdown",
   "id": "fbf232e3-12b4-4b7a-9e8f-020be06095c8",
   "metadata": {},
   "source": [
    "I only want books with an english language code"
   ]
  },
  {
   "cell_type": "code",
   "execution_count": 99,
   "id": "a8576afe-e0d3-4d73-9337-abf866e56e6b",
   "metadata": {
    "tags": []
   },
   "outputs": [
    {
     "data": {
      "text/plain": [
       "eng      70983\n",
       "en-US    19678\n",
       "en-GB     1911\n",
       "en-CA      771\n",
       "spa        391\n",
       "ara        182\n",
       "fre        178\n",
       "ger         57\n",
       "ind         38\n",
       "en          26\n",
       "jpn         25\n",
       "pol         23\n",
       "nor         18\n",
       "por         15\n",
       "nl          14\n",
       "per         10\n",
       "ita          8\n",
       "dan          7\n",
       "vie          5\n",
       "mul          3\n",
       "rum          3\n",
       "fil          2\n",
       "swe          1\n",
       "tur          1\n",
       "Name: language_code, dtype: int64"
      ]
     },
     "execution_count": 99,
     "metadata": {},
     "output_type": "execute_result"
    }
   ],
   "source": [
    "ratings_and_books.language_code.value_counts()"
   ]
  },
  {
   "cell_type": "code",
   "execution_count": 100,
   "id": "17b9d22a-d6f9-412c-9375-5233c6497d4f",
   "metadata": {
    "tags": []
   },
   "outputs": [
    {
     "data": {
      "text/html": [
       "<div>\n",
       "<style scoped>\n",
       "    .dataframe tbody tr th:only-of-type {\n",
       "        vertical-align: middle;\n",
       "    }\n",
       "\n",
       "    .dataframe tbody tr th {\n",
       "        vertical-align: top;\n",
       "    }\n",
       "\n",
       "    .dataframe thead th {\n",
       "        text-align: right;\n",
       "    }\n",
       "</style>\n",
       "<table border=\"1\" class=\"dataframe\">\n",
       "  <thead>\n",
       "    <tr style=\"text-align: right;\">\n",
       "      <th></th>\n",
       "      <th>user_id</th>\n",
       "      <th>book_id</th>\n",
       "      <th>rating</th>\n",
       "      <th>goodreads_book_id</th>\n",
       "      <th>best_book_id</th>\n",
       "      <th>work_id</th>\n",
       "      <th>books_count</th>\n",
       "      <th>isbn</th>\n",
       "      <th>isbn13</th>\n",
       "      <th>authors</th>\n",
       "      <th>original_publication_year</th>\n",
       "      <th>original_title</th>\n",
       "      <th>title</th>\n",
       "      <th>language_code</th>\n",
       "      <th>average_rating</th>\n",
       "      <th>ratings_count</th>\n",
       "      <th>work_ratings_count</th>\n",
       "      <th>work_text_reviews_count</th>\n",
       "      <th>ratings_1</th>\n",
       "      <th>ratings_2</th>\n",
       "      <th>ratings_3</th>\n",
       "      <th>ratings_4</th>\n",
       "      <th>ratings_5</th>\n",
       "      <th>image_url</th>\n",
       "      <th>small_image_url</th>\n",
       "    </tr>\n",
       "  </thead>\n",
       "  <tbody>\n",
       "    <tr>\n",
       "      <th>0</th>\n",
       "      <td>29403</td>\n",
       "      <td>102</td>\n",
       "      <td>5</td>\n",
       "      <td>19543</td>\n",
       "      <td>19543</td>\n",
       "      <td>3020535</td>\n",
       "      <td>110</td>\n",
       "      <td>99408392</td>\n",
       "      <td>9.780099e+12</td>\n",
       "      <td>Maurice Sendak</td>\n",
       "      <td>1963.0</td>\n",
       "      <td>Where the Wild Things Are</td>\n",
       "      <td>Where the Wild Things Are</td>\n",
       "      <td>eng</td>\n",
       "      <td>4.22</td>\n",
       "      <td>620618</td>\n",
       "      <td>636061</td>\n",
       "      <td>9102</td>\n",
       "      <td>15392</td>\n",
       "      <td>27532</td>\n",
       "      <td>93700</td>\n",
       "      <td>167043</td>\n",
       "      <td>332394</td>\n",
       "      <td>https://images.gr-assets.com/books/1384434560m...</td>\n",
       "      <td>https://images.gr-assets.com/books/1384434560s...</td>\n",
       "    </tr>\n",
       "    <tr>\n",
       "      <th>2</th>\n",
       "      <td>37112</td>\n",
       "      <td>25</td>\n",
       "      <td>5</td>\n",
       "      <td>136251</td>\n",
       "      <td>136251</td>\n",
       "      <td>2963218</td>\n",
       "      <td>263</td>\n",
       "      <td>545010225</td>\n",
       "      <td>9.780545e+12</td>\n",
       "      <td>J.K. Rowling, Mary GrandPré</td>\n",
       "      <td>2007.0</td>\n",
       "      <td>Harry Potter and the Deathly Hallows</td>\n",
       "      <td>Harry Potter and the Deathly Hallows (Harry Po...</td>\n",
       "      <td>eng</td>\n",
       "      <td>4.61</td>\n",
       "      <td>1746574</td>\n",
       "      <td>1847395</td>\n",
       "      <td>51942</td>\n",
       "      <td>9363</td>\n",
       "      <td>22245</td>\n",
       "      <td>113646</td>\n",
       "      <td>383914</td>\n",
       "      <td>1318227</td>\n",
       "      <td>https://images.gr-assets.com/books/1474171184m...</td>\n",
       "      <td>https://images.gr-assets.com/books/1474171184s...</td>\n",
       "    </tr>\n",
       "    <tr>\n",
       "      <th>3</th>\n",
       "      <td>16114</td>\n",
       "      <td>693</td>\n",
       "      <td>4</td>\n",
       "      <td>455373</td>\n",
       "      <td>455373</td>\n",
       "      <td>2651694</td>\n",
       "      <td>122</td>\n",
       "      <td>345418972</td>\n",
       "      <td>9.780345e+12</td>\n",
       "      <td>Michael Crichton</td>\n",
       "      <td>1987.0</td>\n",
       "      <td>Sphere</td>\n",
       "      <td>Sphere</td>\n",
       "      <td>eng</td>\n",
       "      <td>3.77</td>\n",
       "      <td>128244</td>\n",
       "      <td>135005</td>\n",
       "      <td>2313</td>\n",
       "      <td>1851</td>\n",
       "      <td>9728</td>\n",
       "      <td>40085</td>\n",
       "      <td>49513</td>\n",
       "      <td>33828</td>\n",
       "      <td>https://s.gr-assets.com/assets/nophoto/book/11...</td>\n",
       "      <td>https://s.gr-assets.com/assets/nophoto/book/50...</td>\n",
       "    </tr>\n",
       "    <tr>\n",
       "      <th>4</th>\n",
       "      <td>50684</td>\n",
       "      <td>1731</td>\n",
       "      <td>4</td>\n",
       "      <td>6736971</td>\n",
       "      <td>6736971</td>\n",
       "      <td>6527274</td>\n",
       "      <td>37</td>\n",
       "      <td>345503813</td>\n",
       "      <td>9.780346e+12</td>\n",
       "      <td>Peter V. Brett</td>\n",
       "      <td>2010.0</td>\n",
       "      <td>The Desert Spear</td>\n",
       "      <td>The Desert Spear (Demon Cycle, #2)</td>\n",
       "      <td>eng</td>\n",
       "      <td>4.24</td>\n",
       "      <td>53143</td>\n",
       "      <td>58608</td>\n",
       "      <td>1927</td>\n",
       "      <td>555</td>\n",
       "      <td>1691</td>\n",
       "      <td>7805</td>\n",
       "      <td>21853</td>\n",
       "      <td>26704</td>\n",
       "      <td>https://s.gr-assets.com/assets/nophoto/book/11...</td>\n",
       "      <td>https://s.gr-assets.com/assets/nophoto/book/50...</td>\n",
       "    </tr>\n",
       "    <tr>\n",
       "      <th>6</th>\n",
       "      <td>43944</td>\n",
       "      <td>1199</td>\n",
       "      <td>3</td>\n",
       "      <td>156534</td>\n",
       "      <td>156534</td>\n",
       "      <td>151061</td>\n",
       "      <td>19</td>\n",
       "      <td>1563899809</td>\n",
       "      <td>9.781564e+12</td>\n",
       "      <td>Brian K. Vaughan, Pia Guerra, José Marzán Jr.</td>\n",
       "      <td>2003.0</td>\n",
       "      <td>Y: The Last Man, Vol. 1: Unmanned</td>\n",
       "      <td>Y: The Last Man, Vol. 1: Unmanned</td>\n",
       "      <td>eng</td>\n",
       "      <td>4.12</td>\n",
       "      <td>81326</td>\n",
       "      <td>82315</td>\n",
       "      <td>2434</td>\n",
       "      <td>2462</td>\n",
       "      <td>3478</td>\n",
       "      <td>12272</td>\n",
       "      <td>27613</td>\n",
       "      <td>36490</td>\n",
       "      <td>https://s.gr-assets.com/assets/nophoto/book/11...</td>\n",
       "      <td>https://s.gr-assets.com/assets/nophoto/book/50...</td>\n",
       "    </tr>\n",
       "  </tbody>\n",
       "</table>\n",
       "</div>"
      ],
      "text/plain": [
       "   user_id  book_id  rating  goodreads_book_id  best_book_id  work_id  \\\n",
       "0    29403      102       5              19543         19543  3020535   \n",
       "2    37112       25       5             136251        136251  2963218   \n",
       "3    16114      693       4             455373        455373  2651694   \n",
       "4    50684     1731       4            6736971       6736971  6527274   \n",
       "6    43944     1199       3             156534        156534   151061   \n",
       "\n",
       "   books_count        isbn        isbn13  \\\n",
       "0          110    99408392  9.780099e+12   \n",
       "2          263   545010225  9.780545e+12   \n",
       "3          122   345418972  9.780345e+12   \n",
       "4           37   345503813  9.780346e+12   \n",
       "6           19  1563899809  9.781564e+12   \n",
       "\n",
       "                                         authors  original_publication_year  \\\n",
       "0                                 Maurice Sendak                     1963.0   \n",
       "2                    J.K. Rowling, Mary GrandPré                     2007.0   \n",
       "3                               Michael Crichton                     1987.0   \n",
       "4                                 Peter V. Brett                     2010.0   \n",
       "6  Brian K. Vaughan, Pia Guerra, José Marzán Jr.                     2003.0   \n",
       "\n",
       "                         original_title  \\\n",
       "0             Where the Wild Things Are   \n",
       "2  Harry Potter and the Deathly Hallows   \n",
       "3                                Sphere   \n",
       "4                      The Desert Spear   \n",
       "6     Y: The Last Man, Vol. 1: Unmanned   \n",
       "\n",
       "                                               title language_code  \\\n",
       "0                          Where the Wild Things Are           eng   \n",
       "2  Harry Potter and the Deathly Hallows (Harry Po...           eng   \n",
       "3                                             Sphere           eng   \n",
       "4                 The Desert Spear (Demon Cycle, #2)           eng   \n",
       "6                  Y: The Last Man, Vol. 1: Unmanned           eng   \n",
       "\n",
       "   average_rating  ratings_count  work_ratings_count  work_text_reviews_count  \\\n",
       "0            4.22         620618              636061                     9102   \n",
       "2            4.61        1746574             1847395                    51942   \n",
       "3            3.77         128244              135005                     2313   \n",
       "4            4.24          53143               58608                     1927   \n",
       "6            4.12          81326               82315                     2434   \n",
       "\n",
       "   ratings_1  ratings_2  ratings_3  ratings_4  ratings_5  \\\n",
       "0      15392      27532      93700     167043     332394   \n",
       "2       9363      22245     113646     383914    1318227   \n",
       "3       1851       9728      40085      49513      33828   \n",
       "4        555       1691       7805      21853      26704   \n",
       "6       2462       3478      12272      27613      36490   \n",
       "\n",
       "                                           image_url  \\\n",
       "0  https://images.gr-assets.com/books/1384434560m...   \n",
       "2  https://images.gr-assets.com/books/1474171184m...   \n",
       "3  https://s.gr-assets.com/assets/nophoto/book/11...   \n",
       "4  https://s.gr-assets.com/assets/nophoto/book/11...   \n",
       "6  https://s.gr-assets.com/assets/nophoto/book/11...   \n",
       "\n",
       "                                     small_image_url  \n",
       "0  https://images.gr-assets.com/books/1384434560s...  \n",
       "2  https://images.gr-assets.com/books/1474171184s...  \n",
       "3  https://s.gr-assets.com/assets/nophoto/book/50...  \n",
       "4  https://s.gr-assets.com/assets/nophoto/book/50...  \n",
       "6  https://s.gr-assets.com/assets/nophoto/book/50...  "
      ]
     },
     "execution_count": 100,
     "metadata": {},
     "output_type": "execute_result"
    }
   ],
   "source": [
    "en_us = ratings_and_books.loc[(ratings_and_books['language_code'] == 'en-US') | (ratings_and_books['language_code'] == 'eng')]\n",
    "en_us.head()"
   ]
  },
  {
   "cell_type": "code",
   "execution_count": 101,
   "id": "7b35c2d7-0492-4d4c-9e53-4608ba7f660d",
   "metadata": {
    "tags": []
   },
   "outputs": [
    {
     "data": {
      "text/plain": [
       "(90661, 25)"
      ]
     },
     "execution_count": 101,
     "metadata": {},
     "output_type": "execute_result"
    }
   ],
   "source": [
    "en_us.shape"
   ]
  },
  {
   "cell_type": "markdown",
   "id": "de0025b6-aa7b-47b7-ac88-73b8e1858020",
   "metadata": {},
   "source": [
    "Let's drop unwanted columns:\n",
    "> For recommendation system I only need user_id, rating, and title"
   ]
  },
  {
   "cell_type": "code",
   "execution_count": 102,
   "id": "0f50548d-a50f-4351-8096-2eb3bef10ba1",
   "metadata": {
    "tags": []
   },
   "outputs": [
    {
     "data": {
      "text/html": [
       "<div>\n",
       "<style scoped>\n",
       "    .dataframe tbody tr th:only-of-type {\n",
       "        vertical-align: middle;\n",
       "    }\n",
       "\n",
       "    .dataframe tbody tr th {\n",
       "        vertical-align: top;\n",
       "    }\n",
       "\n",
       "    .dataframe thead th {\n",
       "        text-align: right;\n",
       "    }\n",
       "</style>\n",
       "<table border=\"1\" class=\"dataframe\">\n",
       "  <thead>\n",
       "    <tr style=\"text-align: right;\">\n",
       "      <th></th>\n",
       "      <th>user_id</th>\n",
       "      <th>rating</th>\n",
       "      <th>title</th>\n",
       "    </tr>\n",
       "  </thead>\n",
       "  <tbody>\n",
       "    <tr>\n",
       "      <th>0</th>\n",
       "      <td>29403</td>\n",
       "      <td>5</td>\n",
       "      <td>Where the Wild Things Are</td>\n",
       "    </tr>\n",
       "    <tr>\n",
       "      <th>2</th>\n",
       "      <td>37112</td>\n",
       "      <td>5</td>\n",
       "      <td>Harry Potter and the Deathly Hallows (Harry Po...</td>\n",
       "    </tr>\n",
       "    <tr>\n",
       "      <th>3</th>\n",
       "      <td>16114</td>\n",
       "      <td>4</td>\n",
       "      <td>Sphere</td>\n",
       "    </tr>\n",
       "    <tr>\n",
       "      <th>4</th>\n",
       "      <td>50684</td>\n",
       "      <td>4</td>\n",
       "      <td>The Desert Spear (Demon Cycle, #2)</td>\n",
       "    </tr>\n",
       "    <tr>\n",
       "      <th>6</th>\n",
       "      <td>43944</td>\n",
       "      <td>3</td>\n",
       "      <td>Y: The Last Man, Vol. 1: Unmanned</td>\n",
       "    </tr>\n",
       "  </tbody>\n",
       "</table>\n",
       "</div>"
      ],
      "text/plain": [
       "   user_id  rating                                              title\n",
       "0    29403       5                          Where the Wild Things Are\n",
       "2    37112       5  Harry Potter and the Deathly Hallows (Harry Po...\n",
       "3    16114       4                                             Sphere\n",
       "4    50684       4                 The Desert Spear (Demon Cycle, #2)\n",
       "6    43944       3                  Y: The Last Man, Vol. 1: Unmanned"
      ]
     },
     "execution_count": 102,
     "metadata": {},
     "output_type": "execute_result"
    }
   ],
   "source": [
    "recommend = en_us[['user_id', 'rating', 'title']]\n",
    "recommend.head()"
   ]
  },
  {
   "cell_type": "code",
   "execution_count": 103,
   "id": "fdb9f4eb-142b-41e0-914b-eb6f8b7b00d9",
   "metadata": {
    "tags": []
   },
   "outputs": [
    {
     "data": {
      "text/plain": [
       "(90661, 3)"
      ]
     },
     "execution_count": 103,
     "metadata": {},
     "output_type": "execute_result"
    }
   ],
   "source": [
    "recommend.shape"
   ]
  },
  {
   "cell_type": "code",
   "execution_count": 104,
   "id": "25eb494e-94d0-4edb-86ea-44079c9f268e",
   "metadata": {
    "tags": []
   },
   "outputs": [],
   "source": [
    "# recommend.to_csv('recommend.csv', index=False)"
   ]
  },
  {
   "cell_type": "markdown",
   "id": "e0242675-101b-467e-b337-4c096e0fe6ba",
   "metadata": {},
   "source": [
    "Actually... let's try to use all ratings!"
   ]
  },
  {
   "cell_type": "code",
   "execution_count": 105,
   "id": "30a007b6-0a65-434e-bb0f-132aa68033cf",
   "metadata": {
    "tags": []
   },
   "outputs": [
    {
     "data": {
      "text/html": [
       "<div>\n",
       "<style scoped>\n",
       "    .dataframe tbody tr th:only-of-type {\n",
       "        vertical-align: middle;\n",
       "    }\n",
       "\n",
       "    .dataframe tbody tr th {\n",
       "        vertical-align: top;\n",
       "    }\n",
       "\n",
       "    .dataframe thead th {\n",
       "        text-align: right;\n",
       "    }\n",
       "</style>\n",
       "<table border=\"1\" class=\"dataframe\">\n",
       "  <thead>\n",
       "    <tr style=\"text-align: right;\">\n",
       "      <th></th>\n",
       "      <th>user_id</th>\n",
       "      <th>book_id</th>\n",
       "      <th>rating</th>\n",
       "      <th>goodreads_book_id</th>\n",
       "      <th>best_book_id</th>\n",
       "      <th>work_id</th>\n",
       "      <th>books_count</th>\n",
       "      <th>isbn</th>\n",
       "      <th>isbn13</th>\n",
       "      <th>authors</th>\n",
       "      <th>original_publication_year</th>\n",
       "      <th>original_title</th>\n",
       "      <th>title</th>\n",
       "      <th>language_code</th>\n",
       "      <th>average_rating</th>\n",
       "      <th>ratings_count</th>\n",
       "      <th>work_ratings_count</th>\n",
       "      <th>work_text_reviews_count</th>\n",
       "      <th>ratings_1</th>\n",
       "      <th>ratings_2</th>\n",
       "      <th>ratings_3</th>\n",
       "      <th>ratings_4</th>\n",
       "      <th>ratings_5</th>\n",
       "      <th>image_url</th>\n",
       "      <th>small_image_url</th>\n",
       "    </tr>\n",
       "  </thead>\n",
       "  <tbody>\n",
       "    <tr>\n",
       "      <th>0</th>\n",
       "      <td>1</td>\n",
       "      <td>258</td>\n",
       "      <td>5</td>\n",
       "      <td>1232</td>\n",
       "      <td>1232</td>\n",
       "      <td>3209783</td>\n",
       "      <td>279</td>\n",
       "      <td>143034901</td>\n",
       "      <td>9.780143e+12</td>\n",
       "      <td>Carlos Ruiz Zafón, Lucia Graves</td>\n",
       "      <td>2001.0</td>\n",
       "      <td>La sombra del viento</td>\n",
       "      <td>The Shadow of the Wind (The Cemetery of Forgot...</td>\n",
       "      <td>eng</td>\n",
       "      <td>4.24</td>\n",
       "      <td>263685</td>\n",
       "      <td>317554</td>\n",
       "      <td>24652</td>\n",
       "      <td>4789</td>\n",
       "      <td>11769</td>\n",
       "      <td>42214</td>\n",
       "      <td>101612</td>\n",
       "      <td>157170</td>\n",
       "      <td>https://images.gr-assets.com/books/1344545047m...</td>\n",
       "      <td>https://images.gr-assets.com/books/1344545047s...</td>\n",
       "    </tr>\n",
       "    <tr>\n",
       "      <th>1</th>\n",
       "      <td>2</td>\n",
       "      <td>4081</td>\n",
       "      <td>4</td>\n",
       "      <td>231</td>\n",
       "      <td>231</td>\n",
       "      <td>1005335</td>\n",
       "      <td>53</td>\n",
       "      <td>312424442</td>\n",
       "      <td>9.780312e+12</td>\n",
       "      <td>Tom Wolfe</td>\n",
       "      <td>2004.0</td>\n",
       "      <td>NaN</td>\n",
       "      <td>I am Charlotte Simmons</td>\n",
       "      <td>en-US</td>\n",
       "      <td>3.40</td>\n",
       "      <td>19293</td>\n",
       "      <td>21580</td>\n",
       "      <td>1891</td>\n",
       "      <td>1481</td>\n",
       "      <td>2886</td>\n",
       "      <td>6557</td>\n",
       "      <td>6890</td>\n",
       "      <td>3766</td>\n",
       "      <td>https://s.gr-assets.com/assets/nophoto/book/11...</td>\n",
       "      <td>https://s.gr-assets.com/assets/nophoto/book/50...</td>\n",
       "    </tr>\n",
       "    <tr>\n",
       "      <th>2</th>\n",
       "      <td>2</td>\n",
       "      <td>260</td>\n",
       "      <td>5</td>\n",
       "      <td>4865</td>\n",
       "      <td>4865</td>\n",
       "      <td>2370171</td>\n",
       "      <td>353</td>\n",
       "      <td>NaN</td>\n",
       "      <td>9.780672e+12</td>\n",
       "      <td>Dale Carnegie</td>\n",
       "      <td>1936.0</td>\n",
       "      <td>How to Win Friends and Influence People</td>\n",
       "      <td>How to Win Friends and Influence People</td>\n",
       "      <td>eng</td>\n",
       "      <td>4.13</td>\n",
       "      <td>282623</td>\n",
       "      <td>305437</td>\n",
       "      <td>7909</td>\n",
       "      <td>6734</td>\n",
       "      <td>13880</td>\n",
       "      <td>50529</td>\n",
       "      <td>94743</td>\n",
       "      <td>139551</td>\n",
       "      <td>https://images.gr-assets.com/books/1442726934m...</td>\n",
       "      <td>https://images.gr-assets.com/books/1442726934s...</td>\n",
       "    </tr>\n",
       "    <tr>\n",
       "      <th>3</th>\n",
       "      <td>2</td>\n",
       "      <td>9296</td>\n",
       "      <td>5</td>\n",
       "      <td>4887</td>\n",
       "      <td>4887</td>\n",
       "      <td>821815</td>\n",
       "      <td>75</td>\n",
       "      <td>465016901</td>\n",
       "      <td>9.780465e+12</td>\n",
       "      <td>Alice  Miller, Ruth Ward</td>\n",
       "      <td>1979.0</td>\n",
       "      <td>Das Drama des begabten Kindes und die Suche na...</td>\n",
       "      <td>The Drama of the Gifted Child: The Search for ...</td>\n",
       "      <td>en-GB</td>\n",
       "      <td>4.09</td>\n",
       "      <td>9563</td>\n",
       "      <td>10830</td>\n",
       "      <td>537</td>\n",
       "      <td>189</td>\n",
       "      <td>490</td>\n",
       "      <td>2025</td>\n",
       "      <td>3548</td>\n",
       "      <td>4578</td>\n",
       "      <td>https://images.gr-assets.com/books/1339395245m...</td>\n",
       "      <td>https://images.gr-assets.com/books/1339395245s...</td>\n",
       "    </tr>\n",
       "    <tr>\n",
       "      <th>4</th>\n",
       "      <td>2</td>\n",
       "      <td>2318</td>\n",
       "      <td>3</td>\n",
       "      <td>998</td>\n",
       "      <td>998</td>\n",
       "      <td>5210</td>\n",
       "      <td>43</td>\n",
       "      <td>671015206</td>\n",
       "      <td>9.780671e+12</td>\n",
       "      <td>Thomas J. Stanley, William D. Danko</td>\n",
       "      <td>1995.0</td>\n",
       "      <td>The Millionaire Next Door: The Surprising Secr...</td>\n",
       "      <td>The Millionaire Next Door: The Surprising Secr...</td>\n",
       "      <td>eng</td>\n",
       "      <td>4.00</td>\n",
       "      <td>43937</td>\n",
       "      <td>46748</td>\n",
       "      <td>2049</td>\n",
       "      <td>645</td>\n",
       "      <td>2318</td>\n",
       "      <td>10382</td>\n",
       "      <td>16665</td>\n",
       "      <td>16738</td>\n",
       "      <td>https://s.gr-assets.com/assets/nophoto/book/11...</td>\n",
       "      <td>https://s.gr-assets.com/assets/nophoto/book/50...</td>\n",
       "    </tr>\n",
       "  </tbody>\n",
       "</table>\n",
       "</div>"
      ],
      "text/plain": [
       "   user_id  book_id  rating  goodreads_book_id  best_book_id  work_id  \\\n",
       "0        1      258       5               1232          1232  3209783   \n",
       "1        2     4081       4                231           231  1005335   \n",
       "2        2      260       5               4865          4865  2370171   \n",
       "3        2     9296       5               4887          4887   821815   \n",
       "4        2     2318       3                998           998     5210   \n",
       "\n",
       "   books_count       isbn        isbn13                              authors  \\\n",
       "0          279  143034901  9.780143e+12      Carlos Ruiz Zafón, Lucia Graves   \n",
       "1           53  312424442  9.780312e+12                            Tom Wolfe   \n",
       "2          353        NaN  9.780672e+12                        Dale Carnegie   \n",
       "3           75  465016901  9.780465e+12             Alice  Miller, Ruth Ward   \n",
       "4           43  671015206  9.780671e+12  Thomas J. Stanley, William D. Danko   \n",
       "\n",
       "   original_publication_year  \\\n",
       "0                     2001.0   \n",
       "1                     2004.0   \n",
       "2                     1936.0   \n",
       "3                     1979.0   \n",
       "4                     1995.0   \n",
       "\n",
       "                                      original_title  \\\n",
       "0                               La sombra del viento   \n",
       "1                                                NaN   \n",
       "2            How to Win Friends and Influence People   \n",
       "3  Das Drama des begabten Kindes und die Suche na...   \n",
       "4  The Millionaire Next Door: The Surprising Secr...   \n",
       "\n",
       "                                               title language_code  \\\n",
       "0  The Shadow of the Wind (The Cemetery of Forgot...           eng   \n",
       "1                             I am Charlotte Simmons         en-US   \n",
       "2            How to Win Friends and Influence People           eng   \n",
       "3  The Drama of the Gifted Child: The Search for ...         en-GB   \n",
       "4  The Millionaire Next Door: The Surprising Secr...           eng   \n",
       "\n",
       "   average_rating  ratings_count  work_ratings_count  work_text_reviews_count  \\\n",
       "0            4.24         263685              317554                    24652   \n",
       "1            3.40          19293               21580                     1891   \n",
       "2            4.13         282623              305437                     7909   \n",
       "3            4.09           9563               10830                      537   \n",
       "4            4.00          43937               46748                     2049   \n",
       "\n",
       "   ratings_1  ratings_2  ratings_3  ratings_4  ratings_5  \\\n",
       "0       4789      11769      42214     101612     157170   \n",
       "1       1481       2886       6557       6890       3766   \n",
       "2       6734      13880      50529      94743     139551   \n",
       "3        189        490       2025       3548       4578   \n",
       "4        645       2318      10382      16665      16738   \n",
       "\n",
       "                                           image_url  \\\n",
       "0  https://images.gr-assets.com/books/1344545047m...   \n",
       "1  https://s.gr-assets.com/assets/nophoto/book/11...   \n",
       "2  https://images.gr-assets.com/books/1442726934m...   \n",
       "3  https://images.gr-assets.com/books/1339395245m...   \n",
       "4  https://s.gr-assets.com/assets/nophoto/book/11...   \n",
       "\n",
       "                                     small_image_url  \n",
       "0  https://images.gr-assets.com/books/1344545047s...  \n",
       "1  https://s.gr-assets.com/assets/nophoto/book/50...  \n",
       "2  https://images.gr-assets.com/books/1442726934s...  \n",
       "3  https://images.gr-assets.com/books/1339395245s...  \n",
       "4  https://s.gr-assets.com/assets/nophoto/book/50...  "
      ]
     },
     "execution_count": 105,
     "metadata": {},
     "output_type": "execute_result"
    }
   ],
   "source": [
    "ratings_and_books = pd.merge(ratings, books, how='left', on='book_id')\n",
    "ratings_and_books.head()"
   ]
  },
  {
   "cell_type": "markdown",
   "id": "289e2fb6-0252-4cdf-a7c8-c83ff02e81cb",
   "metadata": {},
   "source": [
    "Make sure the counts are all the same..."
   ]
  },
  {
   "cell_type": "code",
   "execution_count": 106,
   "id": "b40ce1bc-e2e7-4db8-b6e8-03e3d302e6ab",
   "metadata": {
    "tags": []
   },
   "outputs": [
    {
     "data": {
      "text/plain": [
       "(5976479, 25)"
      ]
     },
     "execution_count": 106,
     "metadata": {},
     "output_type": "execute_result"
    }
   ],
   "source": [
    "ratings_and_books.shape"
   ]
  },
  {
   "cell_type": "code",
   "execution_count": 107,
   "id": "4395fc7e-aed7-44b0-9794-ea83bb61dcf0",
   "metadata": {
    "tags": []
   },
   "outputs": [
    {
     "data": {
      "text/plain": [
       "53424"
      ]
     },
     "execution_count": 107,
     "metadata": {},
     "output_type": "execute_result"
    }
   ],
   "source": [
    "ratings_and_books.user_id.value_counts().count()"
   ]
  },
  {
   "cell_type": "code",
   "execution_count": 108,
   "id": "2bd24319-d3fe-4f8c-a21f-11a392021757",
   "metadata": {
    "tags": []
   },
   "outputs": [
    {
     "data": {
      "text/plain": [
       "10000"
      ]
     },
     "execution_count": 108,
     "metadata": {},
     "output_type": "execute_result"
    }
   ],
   "source": [
    "ratings_and_books.book_id.value_counts().count()"
   ]
  },
  {
   "cell_type": "markdown",
   "id": "e640d718-a037-40e6-9216-fd34eed64072",
   "metadata": {},
   "source": [
    "I only want books with an english language code"
   ]
  },
  {
   "cell_type": "code",
   "execution_count": 109,
   "id": "822149e7-ef74-425b-a274-66d429b03eac",
   "metadata": {
    "tags": []
   },
   "outputs": [
    {
     "data": {
      "text/plain": [
       "eng      4239947\n",
       "en-US    1179179\n",
       "en-GB     111743\n",
       "en-CA      47106\n",
       "spa        25033\n",
       "fre        10815\n",
       "ara        10543\n",
       "ger         3837\n",
       "ind         2649\n",
       "jpn         1190\n",
       "en          1171\n",
       "por         1043\n",
       "nl          1017\n",
       "nor          963\n",
       "pol          961\n",
       "per          700\n",
       "dan          479\n",
       "ita          307\n",
       "mul          195\n",
       "vie          179\n",
       "swe          129\n",
       "fil           75\n",
       "tur           67\n",
       "rus           67\n",
       "rum           64\n",
       "Name: language_code, dtype: int64"
      ]
     },
     "execution_count": 109,
     "metadata": {},
     "output_type": "execute_result"
    }
   ],
   "source": [
    "ratings_and_books.language_code.value_counts()"
   ]
  },
  {
   "cell_type": "code",
   "execution_count": 110,
   "id": "5b6de718-49dd-472f-ab12-abde0eba7da9",
   "metadata": {
    "tags": []
   },
   "outputs": [
    {
     "data": {
      "text/html": [
       "<div>\n",
       "<style scoped>\n",
       "    .dataframe tbody tr th:only-of-type {\n",
       "        vertical-align: middle;\n",
       "    }\n",
       "\n",
       "    .dataframe tbody tr th {\n",
       "        vertical-align: top;\n",
       "    }\n",
       "\n",
       "    .dataframe thead th {\n",
       "        text-align: right;\n",
       "    }\n",
       "</style>\n",
       "<table border=\"1\" class=\"dataframe\">\n",
       "  <thead>\n",
       "    <tr style=\"text-align: right;\">\n",
       "      <th></th>\n",
       "      <th>user_id</th>\n",
       "      <th>book_id</th>\n",
       "      <th>rating</th>\n",
       "      <th>goodreads_book_id</th>\n",
       "      <th>best_book_id</th>\n",
       "      <th>work_id</th>\n",
       "      <th>books_count</th>\n",
       "      <th>isbn</th>\n",
       "      <th>isbn13</th>\n",
       "      <th>authors</th>\n",
       "      <th>original_publication_year</th>\n",
       "      <th>original_title</th>\n",
       "      <th>title</th>\n",
       "      <th>language_code</th>\n",
       "      <th>average_rating</th>\n",
       "      <th>ratings_count</th>\n",
       "      <th>work_ratings_count</th>\n",
       "      <th>work_text_reviews_count</th>\n",
       "      <th>ratings_1</th>\n",
       "      <th>ratings_2</th>\n",
       "      <th>ratings_3</th>\n",
       "      <th>ratings_4</th>\n",
       "      <th>ratings_5</th>\n",
       "      <th>image_url</th>\n",
       "      <th>small_image_url</th>\n",
       "    </tr>\n",
       "  </thead>\n",
       "  <tbody>\n",
       "    <tr>\n",
       "      <th>0</th>\n",
       "      <td>1</td>\n",
       "      <td>258</td>\n",
       "      <td>5</td>\n",
       "      <td>1232</td>\n",
       "      <td>1232</td>\n",
       "      <td>3209783</td>\n",
       "      <td>279</td>\n",
       "      <td>143034901</td>\n",
       "      <td>9.780143e+12</td>\n",
       "      <td>Carlos Ruiz Zafón, Lucia Graves</td>\n",
       "      <td>2001.0</td>\n",
       "      <td>La sombra del viento</td>\n",
       "      <td>The Shadow of the Wind (The Cemetery of Forgot...</td>\n",
       "      <td>eng</td>\n",
       "      <td>4.24</td>\n",
       "      <td>263685</td>\n",
       "      <td>317554</td>\n",
       "      <td>24652</td>\n",
       "      <td>4789</td>\n",
       "      <td>11769</td>\n",
       "      <td>42214</td>\n",
       "      <td>101612</td>\n",
       "      <td>157170</td>\n",
       "      <td>https://images.gr-assets.com/books/1344545047m...</td>\n",
       "      <td>https://images.gr-assets.com/books/1344545047s...</td>\n",
       "    </tr>\n",
       "    <tr>\n",
       "      <th>1</th>\n",
       "      <td>2</td>\n",
       "      <td>4081</td>\n",
       "      <td>4</td>\n",
       "      <td>231</td>\n",
       "      <td>231</td>\n",
       "      <td>1005335</td>\n",
       "      <td>53</td>\n",
       "      <td>312424442</td>\n",
       "      <td>9.780312e+12</td>\n",
       "      <td>Tom Wolfe</td>\n",
       "      <td>2004.0</td>\n",
       "      <td>NaN</td>\n",
       "      <td>I am Charlotte Simmons</td>\n",
       "      <td>en-US</td>\n",
       "      <td>3.40</td>\n",
       "      <td>19293</td>\n",
       "      <td>21580</td>\n",
       "      <td>1891</td>\n",
       "      <td>1481</td>\n",
       "      <td>2886</td>\n",
       "      <td>6557</td>\n",
       "      <td>6890</td>\n",
       "      <td>3766</td>\n",
       "      <td>https://s.gr-assets.com/assets/nophoto/book/11...</td>\n",
       "      <td>https://s.gr-assets.com/assets/nophoto/book/50...</td>\n",
       "    </tr>\n",
       "    <tr>\n",
       "      <th>2</th>\n",
       "      <td>2</td>\n",
       "      <td>260</td>\n",
       "      <td>5</td>\n",
       "      <td>4865</td>\n",
       "      <td>4865</td>\n",
       "      <td>2370171</td>\n",
       "      <td>353</td>\n",
       "      <td>NaN</td>\n",
       "      <td>9.780672e+12</td>\n",
       "      <td>Dale Carnegie</td>\n",
       "      <td>1936.0</td>\n",
       "      <td>How to Win Friends and Influence People</td>\n",
       "      <td>How to Win Friends and Influence People</td>\n",
       "      <td>eng</td>\n",
       "      <td>4.13</td>\n",
       "      <td>282623</td>\n",
       "      <td>305437</td>\n",
       "      <td>7909</td>\n",
       "      <td>6734</td>\n",
       "      <td>13880</td>\n",
       "      <td>50529</td>\n",
       "      <td>94743</td>\n",
       "      <td>139551</td>\n",
       "      <td>https://images.gr-assets.com/books/1442726934m...</td>\n",
       "      <td>https://images.gr-assets.com/books/1442726934s...</td>\n",
       "    </tr>\n",
       "    <tr>\n",
       "      <th>4</th>\n",
       "      <td>2</td>\n",
       "      <td>2318</td>\n",
       "      <td>3</td>\n",
       "      <td>998</td>\n",
       "      <td>998</td>\n",
       "      <td>5210</td>\n",
       "      <td>43</td>\n",
       "      <td>671015206</td>\n",
       "      <td>9.780671e+12</td>\n",
       "      <td>Thomas J. Stanley, William D. Danko</td>\n",
       "      <td>1995.0</td>\n",
       "      <td>The Millionaire Next Door: The Surprising Secr...</td>\n",
       "      <td>The Millionaire Next Door: The Surprising Secr...</td>\n",
       "      <td>eng</td>\n",
       "      <td>4.00</td>\n",
       "      <td>43937</td>\n",
       "      <td>46748</td>\n",
       "      <td>2049</td>\n",
       "      <td>645</td>\n",
       "      <td>2318</td>\n",
       "      <td>10382</td>\n",
       "      <td>16665</td>\n",
       "      <td>16738</td>\n",
       "      <td>https://s.gr-assets.com/assets/nophoto/book/11...</td>\n",
       "      <td>https://s.gr-assets.com/assets/nophoto/book/50...</td>\n",
       "    </tr>\n",
       "    <tr>\n",
       "      <th>5</th>\n",
       "      <td>2</td>\n",
       "      <td>26</td>\n",
       "      <td>4</td>\n",
       "      <td>968</td>\n",
       "      <td>968</td>\n",
       "      <td>2982101</td>\n",
       "      <td>350</td>\n",
       "      <td>307277674</td>\n",
       "      <td>9.780307e+12</td>\n",
       "      <td>Dan Brown</td>\n",
       "      <td>2003.0</td>\n",
       "      <td>The Da Vinci Code</td>\n",
       "      <td>The Da Vinci Code (Robert Langdon, #2)</td>\n",
       "      <td>eng</td>\n",
       "      <td>3.79</td>\n",
       "      <td>1447148</td>\n",
       "      <td>1557292</td>\n",
       "      <td>41560</td>\n",
       "      <td>71345</td>\n",
       "      <td>126493</td>\n",
       "      <td>340790</td>\n",
       "      <td>539277</td>\n",
       "      <td>479387</td>\n",
       "      <td>https://images.gr-assets.com/books/1303252999m...</td>\n",
       "      <td>https://images.gr-assets.com/books/1303252999s...</td>\n",
       "    </tr>\n",
       "  </tbody>\n",
       "</table>\n",
       "</div>"
      ],
      "text/plain": [
       "   user_id  book_id  rating  goodreads_book_id  best_book_id  work_id  \\\n",
       "0        1      258       5               1232          1232  3209783   \n",
       "1        2     4081       4                231           231  1005335   \n",
       "2        2      260       5               4865          4865  2370171   \n",
       "4        2     2318       3                998           998     5210   \n",
       "5        2       26       4                968           968  2982101   \n",
       "\n",
       "   books_count       isbn        isbn13                              authors  \\\n",
       "0          279  143034901  9.780143e+12      Carlos Ruiz Zafón, Lucia Graves   \n",
       "1           53  312424442  9.780312e+12                            Tom Wolfe   \n",
       "2          353        NaN  9.780672e+12                        Dale Carnegie   \n",
       "4           43  671015206  9.780671e+12  Thomas J. Stanley, William D. Danko   \n",
       "5          350  307277674  9.780307e+12                            Dan Brown   \n",
       "\n",
       "   original_publication_year  \\\n",
       "0                     2001.0   \n",
       "1                     2004.0   \n",
       "2                     1936.0   \n",
       "4                     1995.0   \n",
       "5                     2003.0   \n",
       "\n",
       "                                      original_title  \\\n",
       "0                               La sombra del viento   \n",
       "1                                                NaN   \n",
       "2            How to Win Friends and Influence People   \n",
       "4  The Millionaire Next Door: The Surprising Secr...   \n",
       "5                                  The Da Vinci Code   \n",
       "\n",
       "                                               title language_code  \\\n",
       "0  The Shadow of the Wind (The Cemetery of Forgot...           eng   \n",
       "1                             I am Charlotte Simmons         en-US   \n",
       "2            How to Win Friends and Influence People           eng   \n",
       "4  The Millionaire Next Door: The Surprising Secr...           eng   \n",
       "5             The Da Vinci Code (Robert Langdon, #2)           eng   \n",
       "\n",
       "   average_rating  ratings_count  work_ratings_count  work_text_reviews_count  \\\n",
       "0            4.24         263685              317554                    24652   \n",
       "1            3.40          19293               21580                     1891   \n",
       "2            4.13         282623              305437                     7909   \n",
       "4            4.00          43937               46748                     2049   \n",
       "5            3.79        1447148             1557292                    41560   \n",
       "\n",
       "   ratings_1  ratings_2  ratings_3  ratings_4  ratings_5  \\\n",
       "0       4789      11769      42214     101612     157170   \n",
       "1       1481       2886       6557       6890       3766   \n",
       "2       6734      13880      50529      94743     139551   \n",
       "4        645       2318      10382      16665      16738   \n",
       "5      71345     126493     340790     539277     479387   \n",
       "\n",
       "                                           image_url  \\\n",
       "0  https://images.gr-assets.com/books/1344545047m...   \n",
       "1  https://s.gr-assets.com/assets/nophoto/book/11...   \n",
       "2  https://images.gr-assets.com/books/1442726934m...   \n",
       "4  https://s.gr-assets.com/assets/nophoto/book/11...   \n",
       "5  https://images.gr-assets.com/books/1303252999m...   \n",
       "\n",
       "                                     small_image_url  \n",
       "0  https://images.gr-assets.com/books/1344545047s...  \n",
       "1  https://s.gr-assets.com/assets/nophoto/book/50...  \n",
       "2  https://images.gr-assets.com/books/1442726934s...  \n",
       "4  https://s.gr-assets.com/assets/nophoto/book/50...  \n",
       "5  https://images.gr-assets.com/books/1303252999s...  "
      ]
     },
     "execution_count": 110,
     "metadata": {},
     "output_type": "execute_result"
    }
   ],
   "source": [
    "en_us = ratings_and_books.loc[(ratings_and_books['language_code'] == 'en-US') | (ratings_and_books['language_code'] == 'eng')]\n",
    "en_us.head()"
   ]
  },
  {
   "cell_type": "code",
   "execution_count": 111,
   "id": "d642f525-b68c-43b0-92d2-8cc0295f266a",
   "metadata": {
    "tags": []
   },
   "outputs": [
    {
     "data": {
      "text/plain": [
       "(5419126, 25)"
      ]
     },
     "execution_count": 111,
     "metadata": {},
     "output_type": "execute_result"
    }
   ],
   "source": [
    "en_us.shape"
   ]
  },
  {
   "cell_type": "markdown",
   "id": "cd6d5ab8-ca59-4103-bfab-0bced674777b",
   "metadata": {},
   "source": [
    "Let's drop unwanted columns:\n",
    "> For recommendation system I only need user_id, rating, and title"
   ]
  },
  {
   "cell_type": "code",
   "execution_count": 112,
   "id": "7a02a50e-1e5f-4bc2-bdc3-20073c0ab730",
   "metadata": {
    "tags": []
   },
   "outputs": [
    {
     "data": {
      "text/html": [
       "<div>\n",
       "<style scoped>\n",
       "    .dataframe tbody tr th:only-of-type {\n",
       "        vertical-align: middle;\n",
       "    }\n",
       "\n",
       "    .dataframe tbody tr th {\n",
       "        vertical-align: top;\n",
       "    }\n",
       "\n",
       "    .dataframe thead th {\n",
       "        text-align: right;\n",
       "    }\n",
       "</style>\n",
       "<table border=\"1\" class=\"dataframe\">\n",
       "  <thead>\n",
       "    <tr style=\"text-align: right;\">\n",
       "      <th></th>\n",
       "      <th>user_id</th>\n",
       "      <th>rating</th>\n",
       "      <th>title</th>\n",
       "    </tr>\n",
       "  </thead>\n",
       "  <tbody>\n",
       "    <tr>\n",
       "      <th>0</th>\n",
       "      <td>1</td>\n",
       "      <td>5</td>\n",
       "      <td>The Shadow of the Wind (The Cemetery of Forgot...</td>\n",
       "    </tr>\n",
       "    <tr>\n",
       "      <th>1</th>\n",
       "      <td>2</td>\n",
       "      <td>4</td>\n",
       "      <td>I am Charlotte Simmons</td>\n",
       "    </tr>\n",
       "    <tr>\n",
       "      <th>2</th>\n",
       "      <td>2</td>\n",
       "      <td>5</td>\n",
       "      <td>How to Win Friends and Influence People</td>\n",
       "    </tr>\n",
       "    <tr>\n",
       "      <th>4</th>\n",
       "      <td>2</td>\n",
       "      <td>3</td>\n",
       "      <td>The Millionaire Next Door: The Surprising Secr...</td>\n",
       "    </tr>\n",
       "    <tr>\n",
       "      <th>5</th>\n",
       "      <td>2</td>\n",
       "      <td>4</td>\n",
       "      <td>The Da Vinci Code (Robert Langdon, #2)</td>\n",
       "    </tr>\n",
       "  </tbody>\n",
       "</table>\n",
       "</div>"
      ],
      "text/plain": [
       "   user_id  rating                                              title\n",
       "0        1       5  The Shadow of the Wind (The Cemetery of Forgot...\n",
       "1        2       4                             I am Charlotte Simmons\n",
       "2        2       5            How to Win Friends and Influence People\n",
       "4        2       3  The Millionaire Next Door: The Surprising Secr...\n",
       "5        2       4             The Da Vinci Code (Robert Langdon, #2)"
      ]
     },
     "execution_count": 112,
     "metadata": {},
     "output_type": "execute_result"
    }
   ],
   "source": [
    "recommend = en_us[['user_id', 'rating', 'title']]\n",
    "recommend.head()"
   ]
  },
  {
   "cell_type": "code",
   "execution_count": 113,
   "id": "7d2e495a-df74-40fa-82cf-fb9347855e73",
   "metadata": {
    "tags": []
   },
   "outputs": [
    {
     "data": {
      "text/plain": [
       "(5419126, 3)"
      ]
     },
     "execution_count": 113,
     "metadata": {},
     "output_type": "execute_result"
    }
   ],
   "source": [
    "recommend.shape"
   ]
  },
  {
   "cell_type": "code",
   "execution_count": 114,
   "id": "cc169d99-84a3-4233-a151-edc850048d55",
   "metadata": {
    "tags": []
   },
   "outputs": [],
   "source": [
    "# recommend.to_csv('ratings_and_books.csv', index=False)"
   ]
  },
  {
   "cell_type": "markdown",
   "id": "efc44517-39b6-4a52-836a-36adcd03f7c9",
   "metadata": {},
   "source": [
    "### Cleaning for Book Rating Predictions:"
   ]
  },
  {
   "cell_type": "code",
   "execution_count": 115,
   "id": "4b0bd8ba-3f20-470a-a5c7-ee77ccb10bdd",
   "metadata": {
    "tags": []
   },
   "outputs": [
    {
     "data": {
      "text/html": [
       "<div>\n",
       "<style scoped>\n",
       "    .dataframe tbody tr th:only-of-type {\n",
       "        vertical-align: middle;\n",
       "    }\n",
       "\n",
       "    .dataframe tbody tr th {\n",
       "        vertical-align: top;\n",
       "    }\n",
       "\n",
       "    .dataframe thead th {\n",
       "        text-align: right;\n",
       "    }\n",
       "</style>\n",
       "<table border=\"1\" class=\"dataframe\">\n",
       "  <thead>\n",
       "    <tr style=\"text-align: right;\">\n",
       "      <th></th>\n",
       "      <th>book_id</th>\n",
       "      <th>goodreads_book_id</th>\n",
       "      <th>best_book_id</th>\n",
       "      <th>work_id</th>\n",
       "      <th>books_count</th>\n",
       "      <th>isbn</th>\n",
       "      <th>isbn13</th>\n",
       "      <th>authors</th>\n",
       "      <th>original_publication_year</th>\n",
       "      <th>original_title</th>\n",
       "      <th>title</th>\n",
       "      <th>language_code</th>\n",
       "      <th>average_rating</th>\n",
       "      <th>ratings_count</th>\n",
       "      <th>work_ratings_count</th>\n",
       "      <th>work_text_reviews_count</th>\n",
       "      <th>ratings_1</th>\n",
       "      <th>ratings_2</th>\n",
       "      <th>ratings_3</th>\n",
       "      <th>ratings_4</th>\n",
       "      <th>ratings_5</th>\n",
       "      <th>image_url</th>\n",
       "      <th>small_image_url</th>\n",
       "    </tr>\n",
       "  </thead>\n",
       "  <tbody>\n",
       "    <tr>\n",
       "      <th>0</th>\n",
       "      <td>1</td>\n",
       "      <td>2767052</td>\n",
       "      <td>2767052</td>\n",
       "      <td>2792775</td>\n",
       "      <td>272</td>\n",
       "      <td>439023483</td>\n",
       "      <td>9.780439e+12</td>\n",
       "      <td>Suzanne Collins</td>\n",
       "      <td>2008.0</td>\n",
       "      <td>The Hunger Games</td>\n",
       "      <td>The Hunger Games (The Hunger Games, #1)</td>\n",
       "      <td>eng</td>\n",
       "      <td>4.34</td>\n",
       "      <td>4780653</td>\n",
       "      <td>4942365</td>\n",
       "      <td>155254</td>\n",
       "      <td>66715</td>\n",
       "      <td>127936</td>\n",
       "      <td>560092</td>\n",
       "      <td>1481305</td>\n",
       "      <td>2706317</td>\n",
       "      <td>https://images.gr-assets.com/books/1447303603m...</td>\n",
       "      <td>https://images.gr-assets.com/books/1447303603s...</td>\n",
       "    </tr>\n",
       "    <tr>\n",
       "      <th>1</th>\n",
       "      <td>2</td>\n",
       "      <td>3</td>\n",
       "      <td>3</td>\n",
       "      <td>4640799</td>\n",
       "      <td>491</td>\n",
       "      <td>439554934</td>\n",
       "      <td>9.780440e+12</td>\n",
       "      <td>J.K. Rowling, Mary GrandPré</td>\n",
       "      <td>1997.0</td>\n",
       "      <td>Harry Potter and the Philosopher's Stone</td>\n",
       "      <td>Harry Potter and the Sorcerer's Stone (Harry P...</td>\n",
       "      <td>eng</td>\n",
       "      <td>4.44</td>\n",
       "      <td>4602479</td>\n",
       "      <td>4800065</td>\n",
       "      <td>75867</td>\n",
       "      <td>75504</td>\n",
       "      <td>101676</td>\n",
       "      <td>455024</td>\n",
       "      <td>1156318</td>\n",
       "      <td>3011543</td>\n",
       "      <td>https://images.gr-assets.com/books/1474154022m...</td>\n",
       "      <td>https://images.gr-assets.com/books/1474154022s...</td>\n",
       "    </tr>\n",
       "    <tr>\n",
       "      <th>2</th>\n",
       "      <td>3</td>\n",
       "      <td>41865</td>\n",
       "      <td>41865</td>\n",
       "      <td>3212258</td>\n",
       "      <td>226</td>\n",
       "      <td>316015849</td>\n",
       "      <td>9.780316e+12</td>\n",
       "      <td>Stephenie Meyer</td>\n",
       "      <td>2005.0</td>\n",
       "      <td>Twilight</td>\n",
       "      <td>Twilight (Twilight, #1)</td>\n",
       "      <td>en-US</td>\n",
       "      <td>3.57</td>\n",
       "      <td>3866839</td>\n",
       "      <td>3916824</td>\n",
       "      <td>95009</td>\n",
       "      <td>456191</td>\n",
       "      <td>436802</td>\n",
       "      <td>793319</td>\n",
       "      <td>875073</td>\n",
       "      <td>1355439</td>\n",
       "      <td>https://images.gr-assets.com/books/1361039443m...</td>\n",
       "      <td>https://images.gr-assets.com/books/1361039443s...</td>\n",
       "    </tr>\n",
       "    <tr>\n",
       "      <th>3</th>\n",
       "      <td>4</td>\n",
       "      <td>2657</td>\n",
       "      <td>2657</td>\n",
       "      <td>3275794</td>\n",
       "      <td>487</td>\n",
       "      <td>61120081</td>\n",
       "      <td>9.780061e+12</td>\n",
       "      <td>Harper Lee</td>\n",
       "      <td>1960.0</td>\n",
       "      <td>To Kill a Mockingbird</td>\n",
       "      <td>To Kill a Mockingbird</td>\n",
       "      <td>eng</td>\n",
       "      <td>4.25</td>\n",
       "      <td>3198671</td>\n",
       "      <td>3340896</td>\n",
       "      <td>72586</td>\n",
       "      <td>60427</td>\n",
       "      <td>117415</td>\n",
       "      <td>446835</td>\n",
       "      <td>1001952</td>\n",
       "      <td>1714267</td>\n",
       "      <td>https://images.gr-assets.com/books/1361975680m...</td>\n",
       "      <td>https://images.gr-assets.com/books/1361975680s...</td>\n",
       "    </tr>\n",
       "    <tr>\n",
       "      <th>4</th>\n",
       "      <td>5</td>\n",
       "      <td>4671</td>\n",
       "      <td>4671</td>\n",
       "      <td>245494</td>\n",
       "      <td>1356</td>\n",
       "      <td>743273567</td>\n",
       "      <td>9.780743e+12</td>\n",
       "      <td>F. Scott Fitzgerald</td>\n",
       "      <td>1925.0</td>\n",
       "      <td>The Great Gatsby</td>\n",
       "      <td>The Great Gatsby</td>\n",
       "      <td>eng</td>\n",
       "      <td>3.89</td>\n",
       "      <td>2683664</td>\n",
       "      <td>2773745</td>\n",
       "      <td>51992</td>\n",
       "      <td>86236</td>\n",
       "      <td>197621</td>\n",
       "      <td>606158</td>\n",
       "      <td>936012</td>\n",
       "      <td>947718</td>\n",
       "      <td>https://images.gr-assets.com/books/1490528560m...</td>\n",
       "      <td>https://images.gr-assets.com/books/1490528560s...</td>\n",
       "    </tr>\n",
       "  </tbody>\n",
       "</table>\n",
       "</div>"
      ],
      "text/plain": [
       "   book_id  goodreads_book_id  best_book_id  work_id  books_count       isbn  \\\n",
       "0        1            2767052       2767052  2792775          272  439023483   \n",
       "1        2                  3             3  4640799          491  439554934   \n",
       "2        3              41865         41865  3212258          226  316015849   \n",
       "3        4               2657          2657  3275794          487   61120081   \n",
       "4        5               4671          4671   245494         1356  743273567   \n",
       "\n",
       "         isbn13                      authors  original_publication_year  \\\n",
       "0  9.780439e+12              Suzanne Collins                     2008.0   \n",
       "1  9.780440e+12  J.K. Rowling, Mary GrandPré                     1997.0   \n",
       "2  9.780316e+12              Stephenie Meyer                     2005.0   \n",
       "3  9.780061e+12                   Harper Lee                     1960.0   \n",
       "4  9.780743e+12          F. Scott Fitzgerald                     1925.0   \n",
       "\n",
       "                             original_title  \\\n",
       "0                          The Hunger Games   \n",
       "1  Harry Potter and the Philosopher's Stone   \n",
       "2                                  Twilight   \n",
       "3                     To Kill a Mockingbird   \n",
       "4                          The Great Gatsby   \n",
       "\n",
       "                                               title language_code  \\\n",
       "0            The Hunger Games (The Hunger Games, #1)           eng   \n",
       "1  Harry Potter and the Sorcerer's Stone (Harry P...           eng   \n",
       "2                            Twilight (Twilight, #1)         en-US   \n",
       "3                              To Kill a Mockingbird           eng   \n",
       "4                                   The Great Gatsby           eng   \n",
       "\n",
       "   average_rating  ratings_count  work_ratings_count  work_text_reviews_count  \\\n",
       "0            4.34        4780653             4942365                   155254   \n",
       "1            4.44        4602479             4800065                    75867   \n",
       "2            3.57        3866839             3916824                    95009   \n",
       "3            4.25        3198671             3340896                    72586   \n",
       "4            3.89        2683664             2773745                    51992   \n",
       "\n",
       "   ratings_1  ratings_2  ratings_3  ratings_4  ratings_5  \\\n",
       "0      66715     127936     560092    1481305    2706317   \n",
       "1      75504     101676     455024    1156318    3011543   \n",
       "2     456191     436802     793319     875073    1355439   \n",
       "3      60427     117415     446835    1001952    1714267   \n",
       "4      86236     197621     606158     936012     947718   \n",
       "\n",
       "                                           image_url  \\\n",
       "0  https://images.gr-assets.com/books/1447303603m...   \n",
       "1  https://images.gr-assets.com/books/1474154022m...   \n",
       "2  https://images.gr-assets.com/books/1361039443m...   \n",
       "3  https://images.gr-assets.com/books/1361975680m...   \n",
       "4  https://images.gr-assets.com/books/1490528560m...   \n",
       "\n",
       "                                     small_image_url  \n",
       "0  https://images.gr-assets.com/books/1447303603s...  \n",
       "1  https://images.gr-assets.com/books/1474154022s...  \n",
       "2  https://images.gr-assets.com/books/1361039443s...  \n",
       "3  https://images.gr-assets.com/books/1361975680s...  \n",
       "4  https://images.gr-assets.com/books/1490528560s...  "
      ]
     },
     "execution_count": 115,
     "metadata": {},
     "output_type": "execute_result"
    }
   ],
   "source": [
    "books.head()"
   ]
  },
  {
   "cell_type": "code",
   "execution_count": 116,
   "id": "fcd3e209-463e-431b-9972-d57319a82905",
   "metadata": {
    "tags": []
   },
   "outputs": [
    {
     "data": {
      "text/plain": [
       "(10000, 23)"
      ]
     },
     "execution_count": 116,
     "metadata": {},
     "output_type": "execute_result"
    }
   ],
   "source": [
    "books.shape"
   ]
  },
  {
   "cell_type": "markdown",
   "id": "95b20079-9051-4d71-9b66-d45b19ac62a4",
   "metadata": {},
   "source": [
    "let's clean out all of the books that are not in english:"
   ]
  },
  {
   "cell_type": "code",
   "execution_count": 117,
   "id": "c8c0e0a4-3bb1-4295-8a1c-be91134c066f",
   "metadata": {
    "tags": []
   },
   "outputs": [
    {
     "data": {
      "text/html": [
       "<div>\n",
       "<style scoped>\n",
       "    .dataframe tbody tr th:only-of-type {\n",
       "        vertical-align: middle;\n",
       "    }\n",
       "\n",
       "    .dataframe tbody tr th {\n",
       "        vertical-align: top;\n",
       "    }\n",
       "\n",
       "    .dataframe thead th {\n",
       "        text-align: right;\n",
       "    }\n",
       "</style>\n",
       "<table border=\"1\" class=\"dataframe\">\n",
       "  <thead>\n",
       "    <tr style=\"text-align: right;\">\n",
       "      <th></th>\n",
       "      <th>book_id</th>\n",
       "      <th>goodreads_book_id</th>\n",
       "      <th>best_book_id</th>\n",
       "      <th>work_id</th>\n",
       "      <th>books_count</th>\n",
       "      <th>isbn</th>\n",
       "      <th>isbn13</th>\n",
       "      <th>authors</th>\n",
       "      <th>original_publication_year</th>\n",
       "      <th>original_title</th>\n",
       "      <th>title</th>\n",
       "      <th>language_code</th>\n",
       "      <th>average_rating</th>\n",
       "      <th>ratings_count</th>\n",
       "      <th>work_ratings_count</th>\n",
       "      <th>work_text_reviews_count</th>\n",
       "      <th>ratings_1</th>\n",
       "      <th>ratings_2</th>\n",
       "      <th>ratings_3</th>\n",
       "      <th>ratings_4</th>\n",
       "      <th>ratings_5</th>\n",
       "      <th>image_url</th>\n",
       "      <th>small_image_url</th>\n",
       "    </tr>\n",
       "  </thead>\n",
       "  <tbody>\n",
       "    <tr>\n",
       "      <th>0</th>\n",
       "      <td>1</td>\n",
       "      <td>2767052</td>\n",
       "      <td>2767052</td>\n",
       "      <td>2792775</td>\n",
       "      <td>272</td>\n",
       "      <td>439023483</td>\n",
       "      <td>9.780439e+12</td>\n",
       "      <td>Suzanne Collins</td>\n",
       "      <td>2008.0</td>\n",
       "      <td>The Hunger Games</td>\n",
       "      <td>The Hunger Games (The Hunger Games, #1)</td>\n",
       "      <td>eng</td>\n",
       "      <td>4.34</td>\n",
       "      <td>4780653</td>\n",
       "      <td>4942365</td>\n",
       "      <td>155254</td>\n",
       "      <td>66715</td>\n",
       "      <td>127936</td>\n",
       "      <td>560092</td>\n",
       "      <td>1481305</td>\n",
       "      <td>2706317</td>\n",
       "      <td>https://images.gr-assets.com/books/1447303603m...</td>\n",
       "      <td>https://images.gr-assets.com/books/1447303603s...</td>\n",
       "    </tr>\n",
       "    <tr>\n",
       "      <th>1</th>\n",
       "      <td>2</td>\n",
       "      <td>3</td>\n",
       "      <td>3</td>\n",
       "      <td>4640799</td>\n",
       "      <td>491</td>\n",
       "      <td>439554934</td>\n",
       "      <td>9.780440e+12</td>\n",
       "      <td>J.K. Rowling, Mary GrandPré</td>\n",
       "      <td>1997.0</td>\n",
       "      <td>Harry Potter and the Philosopher's Stone</td>\n",
       "      <td>Harry Potter and the Sorcerer's Stone (Harry P...</td>\n",
       "      <td>eng</td>\n",
       "      <td>4.44</td>\n",
       "      <td>4602479</td>\n",
       "      <td>4800065</td>\n",
       "      <td>75867</td>\n",
       "      <td>75504</td>\n",
       "      <td>101676</td>\n",
       "      <td>455024</td>\n",
       "      <td>1156318</td>\n",
       "      <td>3011543</td>\n",
       "      <td>https://images.gr-assets.com/books/1474154022m...</td>\n",
       "      <td>https://images.gr-assets.com/books/1474154022s...</td>\n",
       "    </tr>\n",
       "    <tr>\n",
       "      <th>2</th>\n",
       "      <td>3</td>\n",
       "      <td>41865</td>\n",
       "      <td>41865</td>\n",
       "      <td>3212258</td>\n",
       "      <td>226</td>\n",
       "      <td>316015849</td>\n",
       "      <td>9.780316e+12</td>\n",
       "      <td>Stephenie Meyer</td>\n",
       "      <td>2005.0</td>\n",
       "      <td>Twilight</td>\n",
       "      <td>Twilight (Twilight, #1)</td>\n",
       "      <td>en-US</td>\n",
       "      <td>3.57</td>\n",
       "      <td>3866839</td>\n",
       "      <td>3916824</td>\n",
       "      <td>95009</td>\n",
       "      <td>456191</td>\n",
       "      <td>436802</td>\n",
       "      <td>793319</td>\n",
       "      <td>875073</td>\n",
       "      <td>1355439</td>\n",
       "      <td>https://images.gr-assets.com/books/1361039443m...</td>\n",
       "      <td>https://images.gr-assets.com/books/1361039443s...</td>\n",
       "    </tr>\n",
       "    <tr>\n",
       "      <th>3</th>\n",
       "      <td>4</td>\n",
       "      <td>2657</td>\n",
       "      <td>2657</td>\n",
       "      <td>3275794</td>\n",
       "      <td>487</td>\n",
       "      <td>61120081</td>\n",
       "      <td>9.780061e+12</td>\n",
       "      <td>Harper Lee</td>\n",
       "      <td>1960.0</td>\n",
       "      <td>To Kill a Mockingbird</td>\n",
       "      <td>To Kill a Mockingbird</td>\n",
       "      <td>eng</td>\n",
       "      <td>4.25</td>\n",
       "      <td>3198671</td>\n",
       "      <td>3340896</td>\n",
       "      <td>72586</td>\n",
       "      <td>60427</td>\n",
       "      <td>117415</td>\n",
       "      <td>446835</td>\n",
       "      <td>1001952</td>\n",
       "      <td>1714267</td>\n",
       "      <td>https://images.gr-assets.com/books/1361975680m...</td>\n",
       "      <td>https://images.gr-assets.com/books/1361975680s...</td>\n",
       "    </tr>\n",
       "    <tr>\n",
       "      <th>4</th>\n",
       "      <td>5</td>\n",
       "      <td>4671</td>\n",
       "      <td>4671</td>\n",
       "      <td>245494</td>\n",
       "      <td>1356</td>\n",
       "      <td>743273567</td>\n",
       "      <td>9.780743e+12</td>\n",
       "      <td>F. Scott Fitzgerald</td>\n",
       "      <td>1925.0</td>\n",
       "      <td>The Great Gatsby</td>\n",
       "      <td>The Great Gatsby</td>\n",
       "      <td>eng</td>\n",
       "      <td>3.89</td>\n",
       "      <td>2683664</td>\n",
       "      <td>2773745</td>\n",
       "      <td>51992</td>\n",
       "      <td>86236</td>\n",
       "      <td>197621</td>\n",
       "      <td>606158</td>\n",
       "      <td>936012</td>\n",
       "      <td>947718</td>\n",
       "      <td>https://images.gr-assets.com/books/1490528560m...</td>\n",
       "      <td>https://images.gr-assets.com/books/1490528560s...</td>\n",
       "    </tr>\n",
       "  </tbody>\n",
       "</table>\n",
       "</div>"
      ],
      "text/plain": [
       "   book_id  goodreads_book_id  best_book_id  work_id  books_count       isbn  \\\n",
       "0        1            2767052       2767052  2792775          272  439023483   \n",
       "1        2                  3             3  4640799          491  439554934   \n",
       "2        3              41865         41865  3212258          226  316015849   \n",
       "3        4               2657          2657  3275794          487   61120081   \n",
       "4        5               4671          4671   245494         1356  743273567   \n",
       "\n",
       "         isbn13                      authors  original_publication_year  \\\n",
       "0  9.780439e+12              Suzanne Collins                     2008.0   \n",
       "1  9.780440e+12  J.K. Rowling, Mary GrandPré                     1997.0   \n",
       "2  9.780316e+12              Stephenie Meyer                     2005.0   \n",
       "3  9.780061e+12                   Harper Lee                     1960.0   \n",
       "4  9.780743e+12          F. Scott Fitzgerald                     1925.0   \n",
       "\n",
       "                             original_title  \\\n",
       "0                          The Hunger Games   \n",
       "1  Harry Potter and the Philosopher's Stone   \n",
       "2                                  Twilight   \n",
       "3                     To Kill a Mockingbird   \n",
       "4                          The Great Gatsby   \n",
       "\n",
       "                                               title language_code  \\\n",
       "0            The Hunger Games (The Hunger Games, #1)           eng   \n",
       "1  Harry Potter and the Sorcerer's Stone (Harry P...           eng   \n",
       "2                            Twilight (Twilight, #1)         en-US   \n",
       "3                              To Kill a Mockingbird           eng   \n",
       "4                                   The Great Gatsby           eng   \n",
       "\n",
       "   average_rating  ratings_count  work_ratings_count  work_text_reviews_count  \\\n",
       "0            4.34        4780653             4942365                   155254   \n",
       "1            4.44        4602479             4800065                    75867   \n",
       "2            3.57        3866839             3916824                    95009   \n",
       "3            4.25        3198671             3340896                    72586   \n",
       "4            3.89        2683664             2773745                    51992   \n",
       "\n",
       "   ratings_1  ratings_2  ratings_3  ratings_4  ratings_5  \\\n",
       "0      66715     127936     560092    1481305    2706317   \n",
       "1      75504     101676     455024    1156318    3011543   \n",
       "2     456191     436802     793319     875073    1355439   \n",
       "3      60427     117415     446835    1001952    1714267   \n",
       "4      86236     197621     606158     936012     947718   \n",
       "\n",
       "                                           image_url  \\\n",
       "0  https://images.gr-assets.com/books/1447303603m...   \n",
       "1  https://images.gr-assets.com/books/1474154022m...   \n",
       "2  https://images.gr-assets.com/books/1361039443m...   \n",
       "3  https://images.gr-assets.com/books/1361975680m...   \n",
       "4  https://images.gr-assets.com/books/1490528560m...   \n",
       "\n",
       "                                     small_image_url  \n",
       "0  https://images.gr-assets.com/books/1447303603s...  \n",
       "1  https://images.gr-assets.com/books/1474154022s...  \n",
       "2  https://images.gr-assets.com/books/1361039443s...  \n",
       "3  https://images.gr-assets.com/books/1361975680s...  \n",
       "4  https://images.gr-assets.com/books/1490528560s...  "
      ]
     },
     "execution_count": 117,
     "metadata": {},
     "output_type": "execute_result"
    }
   ],
   "source": [
    "eng_books = books.loc[(books['language_code'] == 'en-US') | (books['language_code'] == 'eng')]\n",
    "eng_books.head()"
   ]
  },
  {
   "cell_type": "code",
   "execution_count": 118,
   "id": "40f86d14-fbc5-40d8-afcf-0aef2f006b3a",
   "metadata": {
    "tags": []
   },
   "outputs": [
    {
     "data": {
      "text/plain": [
       "(8411, 23)"
      ]
     },
     "execution_count": 118,
     "metadata": {},
     "output_type": "execute_result"
    }
   ],
   "source": [
    "eng_books.shape"
   ]
  },
  {
   "cell_type": "markdown",
   "id": "faf06df1-84bc-4674-8dd3-27ac591aa192",
   "metadata": {},
   "source": [
    "I want to build a model that I can use on my To Be Read list. The only information that I would have is the Author and Title of the book. I will need a df with just these features:"
   ]
  },
  {
   "cell_type": "code",
   "execution_count": 119,
   "id": "a2cd7888-5695-46fc-b7b7-6b84af626bde",
   "metadata": {
    "tags": []
   },
   "outputs": [
    {
     "data": {
      "text/html": [
       "<div>\n",
       "<style scoped>\n",
       "    .dataframe tbody tr th:only-of-type {\n",
       "        vertical-align: middle;\n",
       "    }\n",
       "\n",
       "    .dataframe tbody tr th {\n",
       "        vertical-align: top;\n",
       "    }\n",
       "\n",
       "    .dataframe thead th {\n",
       "        text-align: right;\n",
       "    }\n",
       "</style>\n",
       "<table border=\"1\" class=\"dataframe\">\n",
       "  <thead>\n",
       "    <tr style=\"text-align: right;\">\n",
       "      <th></th>\n",
       "      <th>authors</th>\n",
       "      <th>title</th>\n",
       "      <th>average_rating</th>\n",
       "    </tr>\n",
       "  </thead>\n",
       "  <tbody>\n",
       "    <tr>\n",
       "      <th>0</th>\n",
       "      <td>Suzanne Collins</td>\n",
       "      <td>The Hunger Games (The Hunger Games, #1)</td>\n",
       "      <td>4.34</td>\n",
       "    </tr>\n",
       "    <tr>\n",
       "      <th>1</th>\n",
       "      <td>J.K. Rowling, Mary GrandPré</td>\n",
       "      <td>Harry Potter and the Sorcerer's Stone (Harry P...</td>\n",
       "      <td>4.44</td>\n",
       "    </tr>\n",
       "    <tr>\n",
       "      <th>2</th>\n",
       "      <td>Stephenie Meyer</td>\n",
       "      <td>Twilight (Twilight, #1)</td>\n",
       "      <td>3.57</td>\n",
       "    </tr>\n",
       "    <tr>\n",
       "      <th>3</th>\n",
       "      <td>Harper Lee</td>\n",
       "      <td>To Kill a Mockingbird</td>\n",
       "      <td>4.25</td>\n",
       "    </tr>\n",
       "    <tr>\n",
       "      <th>4</th>\n",
       "      <td>F. Scott Fitzgerald</td>\n",
       "      <td>The Great Gatsby</td>\n",
       "      <td>3.89</td>\n",
       "    </tr>\n",
       "  </tbody>\n",
       "</table>\n",
       "</div>"
      ],
      "text/plain": [
       "                       authors  \\\n",
       "0              Suzanne Collins   \n",
       "1  J.K. Rowling, Mary GrandPré   \n",
       "2              Stephenie Meyer   \n",
       "3                   Harper Lee   \n",
       "4          F. Scott Fitzgerald   \n",
       "\n",
       "                                               title  average_rating  \n",
       "0            The Hunger Games (The Hunger Games, #1)            4.34  \n",
       "1  Harry Potter and the Sorcerer's Stone (Harry P...            4.44  \n",
       "2                            Twilight (Twilight, #1)            3.57  \n",
       "3                              To Kill a Mockingbird            4.25  \n",
       "4                                   The Great Gatsby            3.89  "
      ]
     },
     "execution_count": 119,
     "metadata": {},
     "output_type": "execute_result"
    }
   ],
   "source": [
    "author_and_title = eng_books[['authors', 'title', 'average_rating']]\n",
    "author_and_title.head()"
   ]
  },
  {
   "cell_type": "code",
   "execution_count": 120,
   "id": "c0e08caf-15ce-4a90-82fd-dfca7548d865",
   "metadata": {
    "tags": []
   },
   "outputs": [
    {
     "data": {
      "text/plain": [
       "3976"
      ]
     },
     "execution_count": 120,
     "metadata": {},
     "output_type": "execute_result"
    }
   ],
   "source": [
    "author_and_title.authors.value_counts().count()"
   ]
  },
  {
   "cell_type": "markdown",
   "id": "5c936355-2c86-418c-b120-a8cf7b89d61a",
   "metadata": {},
   "source": [
    "> 3976 unique authors"
   ]
  },
  {
   "cell_type": "code",
   "execution_count": 121,
   "id": "c563dc83-b70d-47ea-9b19-15e9d42edd07",
   "metadata": {
    "tags": []
   },
   "outputs": [
    {
     "data": {
      "text/plain": [
       "8390"
      ]
     },
     "execution_count": 121,
     "metadata": {},
     "output_type": "execute_result"
    }
   ],
   "source": [
    "author_and_title.title.value_counts().count()"
   ]
  },
  {
   "cell_type": "markdown",
   "id": "3fbc988f-d3ec-4ddd-abf8-4d62da43e948",
   "metadata": {},
   "source": [
    "> 8390 unique titles"
   ]
  },
  {
   "cell_type": "markdown",
   "id": "5b1b9cc2-60cb-4a9e-993f-1dd6544ba438",
   "metadata": {
    "tags": []
   },
   "source": [
    "> When one hot encoded or Count Vectorized, this will equate to MANY features"
   ]
  },
  {
   "cell_type": "code",
   "execution_count": 122,
   "id": "3e9251ec-9c04-4131-a9dc-a6c0cd6a64e4",
   "metadata": {
    "tags": []
   },
   "outputs": [
    {
     "name": "stderr",
     "output_type": "stream",
     "text": [
      "/var/folders/w4/lpzl5f8j3kx7kch0q9wglx4c0000gn/T/ipykernel_44989/2681297264.py:1: SettingWithCopyWarning: \n",
      "A value is trying to be set on a copy of a slice from a DataFrame.\n",
      "Try using .loc[row_indexer,col_indexer] = value instead\n",
      "\n",
      "See the caveats in the documentation: https://pandas.pydata.org/pandas-docs/stable/user_guide/indexing.html#returning-a-view-versus-a-copy\n",
      "  author_and_title.average_rating = author_and_title.average_rating.round()\n"
     ]
    }
   ],
   "source": [
    "author_and_title.average_rating = author_and_title.average_rating.round()"
   ]
  },
  {
   "cell_type": "code",
   "execution_count": 123,
   "id": "61dcf5ba-dd10-483e-9f27-479d3246d807",
   "metadata": {
    "tags": []
   },
   "outputs": [
    {
     "data": {
      "text/html": [
       "<div>\n",
       "<style scoped>\n",
       "    .dataframe tbody tr th:only-of-type {\n",
       "        vertical-align: middle;\n",
       "    }\n",
       "\n",
       "    .dataframe tbody tr th {\n",
       "        vertical-align: top;\n",
       "    }\n",
       "\n",
       "    .dataframe thead th {\n",
       "        text-align: right;\n",
       "    }\n",
       "</style>\n",
       "<table border=\"1\" class=\"dataframe\">\n",
       "  <thead>\n",
       "    <tr style=\"text-align: right;\">\n",
       "      <th></th>\n",
       "      <th>authors</th>\n",
       "      <th>title</th>\n",
       "      <th>average_rating</th>\n",
       "    </tr>\n",
       "  </thead>\n",
       "  <tbody>\n",
       "    <tr>\n",
       "      <th>0</th>\n",
       "      <td>Suzanne Collins</td>\n",
       "      <td>The Hunger Games (The Hunger Games, #1)</td>\n",
       "      <td>4.0</td>\n",
       "    </tr>\n",
       "    <tr>\n",
       "      <th>1</th>\n",
       "      <td>J.K. Rowling, Mary GrandPré</td>\n",
       "      <td>Harry Potter and the Sorcerer's Stone (Harry P...</td>\n",
       "      <td>4.0</td>\n",
       "    </tr>\n",
       "    <tr>\n",
       "      <th>2</th>\n",
       "      <td>Stephenie Meyer</td>\n",
       "      <td>Twilight (Twilight, #1)</td>\n",
       "      <td>4.0</td>\n",
       "    </tr>\n",
       "    <tr>\n",
       "      <th>3</th>\n",
       "      <td>Harper Lee</td>\n",
       "      <td>To Kill a Mockingbird</td>\n",
       "      <td>4.0</td>\n",
       "    </tr>\n",
       "    <tr>\n",
       "      <th>4</th>\n",
       "      <td>F. Scott Fitzgerald</td>\n",
       "      <td>The Great Gatsby</td>\n",
       "      <td>4.0</td>\n",
       "    </tr>\n",
       "  </tbody>\n",
       "</table>\n",
       "</div>"
      ],
      "text/plain": [
       "                       authors  \\\n",
       "0              Suzanne Collins   \n",
       "1  J.K. Rowling, Mary GrandPré   \n",
       "2              Stephenie Meyer   \n",
       "3                   Harper Lee   \n",
       "4          F. Scott Fitzgerald   \n",
       "\n",
       "                                               title  average_rating  \n",
       "0            The Hunger Games (The Hunger Games, #1)             4.0  \n",
       "1  Harry Potter and the Sorcerer's Stone (Harry P...             4.0  \n",
       "2                            Twilight (Twilight, #1)             4.0  \n",
       "3                              To Kill a Mockingbird             4.0  \n",
       "4                                   The Great Gatsby             4.0  "
      ]
     },
     "execution_count": 123,
     "metadata": {},
     "output_type": "execute_result"
    }
   ],
   "source": [
    "author_and_title.head()"
   ]
  },
  {
   "cell_type": "code",
   "execution_count": 124,
   "id": "94c9e0ce-6064-44f3-849b-a52ec4f40766",
   "metadata": {
    "tags": []
   },
   "outputs": [
    {
     "data": {
      "text/plain": [
       "4.0    8031\n",
       "3.0     273\n",
       "5.0     106\n",
       "2.0       1\n",
       "Name: average_rating, dtype: int64"
      ]
     },
     "execution_count": 124,
     "metadata": {},
     "output_type": "execute_result"
    }
   ],
   "source": [
    "author_and_title.average_rating.value_counts()"
   ]
  },
  {
   "cell_type": "code",
   "execution_count": 126,
   "id": "93616459-13e7-43e2-8bc2-0459bc8407cf",
   "metadata": {},
   "outputs": [],
   "source": [
    "# author_and_title.to_csv('authors_and_titles_all.csv', index=False)"
   ]
  },
  {
   "cell_type": "markdown",
   "id": "286c4e1a-0ff2-423e-8f58-5f145d346632",
   "metadata": {},
   "source": [
    " "
   ]
  },
  {
   "cell_type": "markdown",
   "id": "10f9beed-1ab1-4f9a-a650-ed99b600143c",
   "metadata": {},
   "source": [
    "I am first going to make a predictive model off of the top 1,000 most popular books and then increasingly add more data"
   ]
  },
  {
   "cell_type": "code",
   "execution_count": 52,
   "id": "c05c857b-ffec-4d0e-b41e-61e91b4e0633",
   "metadata": {
    "tags": []
   },
   "outputs": [
    {
     "data": {
      "text/html": [
       "<div>\n",
       "<style scoped>\n",
       "    .dataframe tbody tr th:only-of-type {\n",
       "        vertical-align: middle;\n",
       "    }\n",
       "\n",
       "    .dataframe tbody tr th {\n",
       "        vertical-align: top;\n",
       "    }\n",
       "\n",
       "    .dataframe thead th {\n",
       "        text-align: right;\n",
       "    }\n",
       "</style>\n",
       "<table border=\"1\" class=\"dataframe\">\n",
       "  <thead>\n",
       "    <tr style=\"text-align: right;\">\n",
       "      <th></th>\n",
       "      <th>book_id</th>\n",
       "      <th>goodreads_book_id</th>\n",
       "      <th>best_book_id</th>\n",
       "      <th>work_id</th>\n",
       "      <th>books_count</th>\n",
       "      <th>isbn</th>\n",
       "      <th>isbn13</th>\n",
       "      <th>authors</th>\n",
       "      <th>original_publication_year</th>\n",
       "      <th>original_title</th>\n",
       "      <th>title</th>\n",
       "      <th>language_code</th>\n",
       "      <th>average_rating</th>\n",
       "      <th>ratings_count</th>\n",
       "      <th>work_ratings_count</th>\n",
       "      <th>work_text_reviews_count</th>\n",
       "      <th>ratings_1</th>\n",
       "      <th>ratings_2</th>\n",
       "      <th>ratings_3</th>\n",
       "      <th>ratings_4</th>\n",
       "      <th>ratings_5</th>\n",
       "      <th>image_url</th>\n",
       "      <th>small_image_url</th>\n",
       "    </tr>\n",
       "  </thead>\n",
       "  <tbody>\n",
       "    <tr>\n",
       "      <th>0</th>\n",
       "      <td>1</td>\n",
       "      <td>2767052</td>\n",
       "      <td>2767052</td>\n",
       "      <td>2792775</td>\n",
       "      <td>272</td>\n",
       "      <td>439023483</td>\n",
       "      <td>9.780439e+12</td>\n",
       "      <td>Suzanne Collins</td>\n",
       "      <td>2008.0</td>\n",
       "      <td>The Hunger Games</td>\n",
       "      <td>The Hunger Games (The Hunger Games, #1)</td>\n",
       "      <td>eng</td>\n",
       "      <td>4.34</td>\n",
       "      <td>4780653</td>\n",
       "      <td>4942365</td>\n",
       "      <td>155254</td>\n",
       "      <td>66715</td>\n",
       "      <td>127936</td>\n",
       "      <td>560092</td>\n",
       "      <td>1481305</td>\n",
       "      <td>2706317</td>\n",
       "      <td>https://images.gr-assets.com/books/1447303603m...</td>\n",
       "      <td>https://images.gr-assets.com/books/1447303603s...</td>\n",
       "    </tr>\n",
       "    <tr>\n",
       "      <th>1</th>\n",
       "      <td>2</td>\n",
       "      <td>3</td>\n",
       "      <td>3</td>\n",
       "      <td>4640799</td>\n",
       "      <td>491</td>\n",
       "      <td>439554934</td>\n",
       "      <td>9.780440e+12</td>\n",
       "      <td>J.K. Rowling, Mary GrandPré</td>\n",
       "      <td>1997.0</td>\n",
       "      <td>Harry Potter and the Philosopher's Stone</td>\n",
       "      <td>Harry Potter and the Sorcerer's Stone (Harry P...</td>\n",
       "      <td>eng</td>\n",
       "      <td>4.44</td>\n",
       "      <td>4602479</td>\n",
       "      <td>4800065</td>\n",
       "      <td>75867</td>\n",
       "      <td>75504</td>\n",
       "      <td>101676</td>\n",
       "      <td>455024</td>\n",
       "      <td>1156318</td>\n",
       "      <td>3011543</td>\n",
       "      <td>https://images.gr-assets.com/books/1474154022m...</td>\n",
       "      <td>https://images.gr-assets.com/books/1474154022s...</td>\n",
       "    </tr>\n",
       "    <tr>\n",
       "      <th>2</th>\n",
       "      <td>3</td>\n",
       "      <td>41865</td>\n",
       "      <td>41865</td>\n",
       "      <td>3212258</td>\n",
       "      <td>226</td>\n",
       "      <td>316015849</td>\n",
       "      <td>9.780316e+12</td>\n",
       "      <td>Stephenie Meyer</td>\n",
       "      <td>2005.0</td>\n",
       "      <td>Twilight</td>\n",
       "      <td>Twilight (Twilight, #1)</td>\n",
       "      <td>en-US</td>\n",
       "      <td>3.57</td>\n",
       "      <td>3866839</td>\n",
       "      <td>3916824</td>\n",
       "      <td>95009</td>\n",
       "      <td>456191</td>\n",
       "      <td>436802</td>\n",
       "      <td>793319</td>\n",
       "      <td>875073</td>\n",
       "      <td>1355439</td>\n",
       "      <td>https://images.gr-assets.com/books/1361039443m...</td>\n",
       "      <td>https://images.gr-assets.com/books/1361039443s...</td>\n",
       "    </tr>\n",
       "    <tr>\n",
       "      <th>3</th>\n",
       "      <td>4</td>\n",
       "      <td>2657</td>\n",
       "      <td>2657</td>\n",
       "      <td>3275794</td>\n",
       "      <td>487</td>\n",
       "      <td>61120081</td>\n",
       "      <td>9.780061e+12</td>\n",
       "      <td>Harper Lee</td>\n",
       "      <td>1960.0</td>\n",
       "      <td>To Kill a Mockingbird</td>\n",
       "      <td>To Kill a Mockingbird</td>\n",
       "      <td>eng</td>\n",
       "      <td>4.25</td>\n",
       "      <td>3198671</td>\n",
       "      <td>3340896</td>\n",
       "      <td>72586</td>\n",
       "      <td>60427</td>\n",
       "      <td>117415</td>\n",
       "      <td>446835</td>\n",
       "      <td>1001952</td>\n",
       "      <td>1714267</td>\n",
       "      <td>https://images.gr-assets.com/books/1361975680m...</td>\n",
       "      <td>https://images.gr-assets.com/books/1361975680s...</td>\n",
       "    </tr>\n",
       "    <tr>\n",
       "      <th>4</th>\n",
       "      <td>5</td>\n",
       "      <td>4671</td>\n",
       "      <td>4671</td>\n",
       "      <td>245494</td>\n",
       "      <td>1356</td>\n",
       "      <td>743273567</td>\n",
       "      <td>9.780743e+12</td>\n",
       "      <td>F. Scott Fitzgerald</td>\n",
       "      <td>1925.0</td>\n",
       "      <td>The Great Gatsby</td>\n",
       "      <td>The Great Gatsby</td>\n",
       "      <td>eng</td>\n",
       "      <td>3.89</td>\n",
       "      <td>2683664</td>\n",
       "      <td>2773745</td>\n",
       "      <td>51992</td>\n",
       "      <td>86236</td>\n",
       "      <td>197621</td>\n",
       "      <td>606158</td>\n",
       "      <td>936012</td>\n",
       "      <td>947718</td>\n",
       "      <td>https://images.gr-assets.com/books/1490528560m...</td>\n",
       "      <td>https://images.gr-assets.com/books/1490528560s...</td>\n",
       "    </tr>\n",
       "  </tbody>\n",
       "</table>\n",
       "</div>"
      ],
      "text/plain": [
       "   book_id  goodreads_book_id  best_book_id  work_id  books_count       isbn  \\\n",
       "0        1            2767052       2767052  2792775          272  439023483   \n",
       "1        2                  3             3  4640799          491  439554934   \n",
       "2        3              41865         41865  3212258          226  316015849   \n",
       "3        4               2657          2657  3275794          487   61120081   \n",
       "4        5               4671          4671   245494         1356  743273567   \n",
       "\n",
       "         isbn13                      authors  original_publication_year  \\\n",
       "0  9.780439e+12              Suzanne Collins                     2008.0   \n",
       "1  9.780440e+12  J.K. Rowling, Mary GrandPré                     1997.0   \n",
       "2  9.780316e+12              Stephenie Meyer                     2005.0   \n",
       "3  9.780061e+12                   Harper Lee                     1960.0   \n",
       "4  9.780743e+12          F. Scott Fitzgerald                     1925.0   \n",
       "\n",
       "                             original_title  \\\n",
       "0                          The Hunger Games   \n",
       "1  Harry Potter and the Philosopher's Stone   \n",
       "2                                  Twilight   \n",
       "3                     To Kill a Mockingbird   \n",
       "4                          The Great Gatsby   \n",
       "\n",
       "                                               title language_code  \\\n",
       "0            The Hunger Games (The Hunger Games, #1)           eng   \n",
       "1  Harry Potter and the Sorcerer's Stone (Harry P...           eng   \n",
       "2                            Twilight (Twilight, #1)         en-US   \n",
       "3                              To Kill a Mockingbird           eng   \n",
       "4                                   The Great Gatsby           eng   \n",
       "\n",
       "   average_rating  ratings_count  work_ratings_count  work_text_reviews_count  \\\n",
       "0            4.34        4780653             4942365                   155254   \n",
       "1            4.44        4602479             4800065                    75867   \n",
       "2            3.57        3866839             3916824                    95009   \n",
       "3            4.25        3198671             3340896                    72586   \n",
       "4            3.89        2683664             2773745                    51992   \n",
       "\n",
       "   ratings_1  ratings_2  ratings_3  ratings_4  ratings_5  \\\n",
       "0      66715     127936     560092    1481305    2706317   \n",
       "1      75504     101676     455024    1156318    3011543   \n",
       "2     456191     436802     793319     875073    1355439   \n",
       "3      60427     117415     446835    1001952    1714267   \n",
       "4      86236     197621     606158     936012     947718   \n",
       "\n",
       "                                           image_url  \\\n",
       "0  https://images.gr-assets.com/books/1447303603m...   \n",
       "1  https://images.gr-assets.com/books/1474154022m...   \n",
       "2  https://images.gr-assets.com/books/1361039443m...   \n",
       "3  https://images.gr-assets.com/books/1361975680m...   \n",
       "4  https://images.gr-assets.com/books/1490528560m...   \n",
       "\n",
       "                                     small_image_url  \n",
       "0  https://images.gr-assets.com/books/1447303603s...  \n",
       "1  https://images.gr-assets.com/books/1474154022s...  \n",
       "2  https://images.gr-assets.com/books/1361039443s...  \n",
       "3  https://images.gr-assets.com/books/1361975680s...  \n",
       "4  https://images.gr-assets.com/books/1490528560s...  "
      ]
     },
     "execution_count": 52,
     "metadata": {},
     "output_type": "execute_result"
    }
   ],
   "source": [
    "books.head()"
   ]
  },
  {
   "cell_type": "code",
   "execution_count": 54,
   "id": "d1eacfb2-d348-43d8-b014-6227273f9f3f",
   "metadata": {
    "tags": []
   },
   "outputs": [
    {
     "data": {
      "text/html": [
       "<div>\n",
       "<style scoped>\n",
       "    .dataframe tbody tr th:only-of-type {\n",
       "        vertical-align: middle;\n",
       "    }\n",
       "\n",
       "    .dataframe tbody tr th {\n",
       "        vertical-align: top;\n",
       "    }\n",
       "\n",
       "    .dataframe thead th {\n",
       "        text-align: right;\n",
       "    }\n",
       "</style>\n",
       "<table border=\"1\" class=\"dataframe\">\n",
       "  <thead>\n",
       "    <tr style=\"text-align: right;\">\n",
       "      <th></th>\n",
       "      <th>book_id</th>\n",
       "      <th>goodreads_book_id</th>\n",
       "      <th>best_book_id</th>\n",
       "      <th>work_id</th>\n",
       "      <th>books_count</th>\n",
       "      <th>isbn</th>\n",
       "      <th>isbn13</th>\n",
       "      <th>authors</th>\n",
       "      <th>original_publication_year</th>\n",
       "      <th>original_title</th>\n",
       "      <th>title</th>\n",
       "      <th>language_code</th>\n",
       "      <th>average_rating</th>\n",
       "      <th>ratings_count</th>\n",
       "      <th>work_ratings_count</th>\n",
       "      <th>work_text_reviews_count</th>\n",
       "      <th>ratings_1</th>\n",
       "      <th>ratings_2</th>\n",
       "      <th>ratings_3</th>\n",
       "      <th>ratings_4</th>\n",
       "      <th>ratings_5</th>\n",
       "      <th>image_url</th>\n",
       "      <th>small_image_url</th>\n",
       "    </tr>\n",
       "  </thead>\n",
       "  <tbody>\n",
       "    <tr>\n",
       "      <th>0</th>\n",
       "      <td>1</td>\n",
       "      <td>2767052</td>\n",
       "      <td>2767052</td>\n",
       "      <td>2792775</td>\n",
       "      <td>272</td>\n",
       "      <td>439023483</td>\n",
       "      <td>9.780439e+12</td>\n",
       "      <td>Suzanne Collins</td>\n",
       "      <td>2008.0</td>\n",
       "      <td>The Hunger Games</td>\n",
       "      <td>The Hunger Games (The Hunger Games, #1)</td>\n",
       "      <td>eng</td>\n",
       "      <td>4.34</td>\n",
       "      <td>4780653</td>\n",
       "      <td>4942365</td>\n",
       "      <td>155254</td>\n",
       "      <td>66715</td>\n",
       "      <td>127936</td>\n",
       "      <td>560092</td>\n",
       "      <td>1481305</td>\n",
       "      <td>2706317</td>\n",
       "      <td>https://images.gr-assets.com/books/1447303603m...</td>\n",
       "      <td>https://images.gr-assets.com/books/1447303603s...</td>\n",
       "    </tr>\n",
       "    <tr>\n",
       "      <th>1</th>\n",
       "      <td>2</td>\n",
       "      <td>3</td>\n",
       "      <td>3</td>\n",
       "      <td>4640799</td>\n",
       "      <td>491</td>\n",
       "      <td>439554934</td>\n",
       "      <td>9.780440e+12</td>\n",
       "      <td>J.K. Rowling, Mary GrandPré</td>\n",
       "      <td>1997.0</td>\n",
       "      <td>Harry Potter and the Philosopher's Stone</td>\n",
       "      <td>Harry Potter and the Sorcerer's Stone (Harry P...</td>\n",
       "      <td>eng</td>\n",
       "      <td>4.44</td>\n",
       "      <td>4602479</td>\n",
       "      <td>4800065</td>\n",
       "      <td>75867</td>\n",
       "      <td>75504</td>\n",
       "      <td>101676</td>\n",
       "      <td>455024</td>\n",
       "      <td>1156318</td>\n",
       "      <td>3011543</td>\n",
       "      <td>https://images.gr-assets.com/books/1474154022m...</td>\n",
       "      <td>https://images.gr-assets.com/books/1474154022s...</td>\n",
       "    </tr>\n",
       "    <tr>\n",
       "      <th>2</th>\n",
       "      <td>3</td>\n",
       "      <td>41865</td>\n",
       "      <td>41865</td>\n",
       "      <td>3212258</td>\n",
       "      <td>226</td>\n",
       "      <td>316015849</td>\n",
       "      <td>9.780316e+12</td>\n",
       "      <td>Stephenie Meyer</td>\n",
       "      <td>2005.0</td>\n",
       "      <td>Twilight</td>\n",
       "      <td>Twilight (Twilight, #1)</td>\n",
       "      <td>en-US</td>\n",
       "      <td>3.57</td>\n",
       "      <td>3866839</td>\n",
       "      <td>3916824</td>\n",
       "      <td>95009</td>\n",
       "      <td>456191</td>\n",
       "      <td>436802</td>\n",
       "      <td>793319</td>\n",
       "      <td>875073</td>\n",
       "      <td>1355439</td>\n",
       "      <td>https://images.gr-assets.com/books/1361039443m...</td>\n",
       "      <td>https://images.gr-assets.com/books/1361039443s...</td>\n",
       "    </tr>\n",
       "    <tr>\n",
       "      <th>3</th>\n",
       "      <td>4</td>\n",
       "      <td>2657</td>\n",
       "      <td>2657</td>\n",
       "      <td>3275794</td>\n",
       "      <td>487</td>\n",
       "      <td>61120081</td>\n",
       "      <td>9.780061e+12</td>\n",
       "      <td>Harper Lee</td>\n",
       "      <td>1960.0</td>\n",
       "      <td>To Kill a Mockingbird</td>\n",
       "      <td>To Kill a Mockingbird</td>\n",
       "      <td>eng</td>\n",
       "      <td>4.25</td>\n",
       "      <td>3198671</td>\n",
       "      <td>3340896</td>\n",
       "      <td>72586</td>\n",
       "      <td>60427</td>\n",
       "      <td>117415</td>\n",
       "      <td>446835</td>\n",
       "      <td>1001952</td>\n",
       "      <td>1714267</td>\n",
       "      <td>https://images.gr-assets.com/books/1361975680m...</td>\n",
       "      <td>https://images.gr-assets.com/books/1361975680s...</td>\n",
       "    </tr>\n",
       "    <tr>\n",
       "      <th>4</th>\n",
       "      <td>5</td>\n",
       "      <td>4671</td>\n",
       "      <td>4671</td>\n",
       "      <td>245494</td>\n",
       "      <td>1356</td>\n",
       "      <td>743273567</td>\n",
       "      <td>9.780743e+12</td>\n",
       "      <td>F. Scott Fitzgerald</td>\n",
       "      <td>1925.0</td>\n",
       "      <td>The Great Gatsby</td>\n",
       "      <td>The Great Gatsby</td>\n",
       "      <td>eng</td>\n",
       "      <td>3.89</td>\n",
       "      <td>2683664</td>\n",
       "      <td>2773745</td>\n",
       "      <td>51992</td>\n",
       "      <td>86236</td>\n",
       "      <td>197621</td>\n",
       "      <td>606158</td>\n",
       "      <td>936012</td>\n",
       "      <td>947718</td>\n",
       "      <td>https://images.gr-assets.com/books/1490528560m...</td>\n",
       "      <td>https://images.gr-assets.com/books/1490528560s...</td>\n",
       "    </tr>\n",
       "  </tbody>\n",
       "</table>\n",
       "</div>"
      ],
      "text/plain": [
       "   book_id  goodreads_book_id  best_book_id  work_id  books_count       isbn  \\\n",
       "0        1            2767052       2767052  2792775          272  439023483   \n",
       "1        2                  3             3  4640799          491  439554934   \n",
       "2        3              41865         41865  3212258          226  316015849   \n",
       "3        4               2657          2657  3275794          487   61120081   \n",
       "4        5               4671          4671   245494         1356  743273567   \n",
       "\n",
       "         isbn13                      authors  original_publication_year  \\\n",
       "0  9.780439e+12              Suzanne Collins                     2008.0   \n",
       "1  9.780440e+12  J.K. Rowling, Mary GrandPré                     1997.0   \n",
       "2  9.780316e+12              Stephenie Meyer                     2005.0   \n",
       "3  9.780061e+12                   Harper Lee                     1960.0   \n",
       "4  9.780743e+12          F. Scott Fitzgerald                     1925.0   \n",
       "\n",
       "                             original_title  \\\n",
       "0                          The Hunger Games   \n",
       "1  Harry Potter and the Philosopher's Stone   \n",
       "2                                  Twilight   \n",
       "3                     To Kill a Mockingbird   \n",
       "4                          The Great Gatsby   \n",
       "\n",
       "                                               title language_code  \\\n",
       "0            The Hunger Games (The Hunger Games, #1)           eng   \n",
       "1  Harry Potter and the Sorcerer's Stone (Harry P...           eng   \n",
       "2                            Twilight (Twilight, #1)         en-US   \n",
       "3                              To Kill a Mockingbird           eng   \n",
       "4                                   The Great Gatsby           eng   \n",
       "\n",
       "   average_rating  ratings_count  work_ratings_count  work_text_reviews_count  \\\n",
       "0            4.34        4780653             4942365                   155254   \n",
       "1            4.44        4602479             4800065                    75867   \n",
       "2            3.57        3866839             3916824                    95009   \n",
       "3            4.25        3198671             3340896                    72586   \n",
       "4            3.89        2683664             2773745                    51992   \n",
       "\n",
       "   ratings_1  ratings_2  ratings_3  ratings_4  ratings_5  \\\n",
       "0      66715     127936     560092    1481305    2706317   \n",
       "1      75504     101676     455024    1156318    3011543   \n",
       "2     456191     436802     793319     875073    1355439   \n",
       "3      60427     117415     446835    1001952    1714267   \n",
       "4      86236     197621     606158     936012     947718   \n",
       "\n",
       "                                           image_url  \\\n",
       "0  https://images.gr-assets.com/books/1447303603m...   \n",
       "1  https://images.gr-assets.com/books/1474154022m...   \n",
       "2  https://images.gr-assets.com/books/1361039443m...   \n",
       "3  https://images.gr-assets.com/books/1361975680m...   \n",
       "4  https://images.gr-assets.com/books/1490528560m...   \n",
       "\n",
       "                                     small_image_url  \n",
       "0  https://images.gr-assets.com/books/1447303603s...  \n",
       "1  https://images.gr-assets.com/books/1474154022s...  \n",
       "2  https://images.gr-assets.com/books/1361039443s...  \n",
       "3  https://images.gr-assets.com/books/1361975680s...  \n",
       "4  https://images.gr-assets.com/books/1490528560s...  "
      ]
     },
     "execution_count": 54,
     "metadata": {},
     "output_type": "execute_result"
    }
   ],
   "source": [
    "top_1000 = books.loc[books['book_id'] <= 1000]\n",
    "top_1000.head()"
   ]
  },
  {
   "cell_type": "code",
   "execution_count": 56,
   "id": "031fec4c-1189-4c48-b0b7-b4df60fe7e55",
   "metadata": {
    "tags": []
   },
   "outputs": [
    {
     "data": {
      "text/plain": [
       "(1000, 23)"
      ]
     },
     "execution_count": 56,
     "metadata": {},
     "output_type": "execute_result"
    }
   ],
   "source": [
    "top_1000.shape"
   ]
  },
  {
   "cell_type": "code",
   "execution_count": 57,
   "id": "2b7f9c04-263d-4811-9664-6c5c09287ff3",
   "metadata": {
    "tags": []
   },
   "outputs": [
    {
     "data": {
      "text/plain": [
       "(937, 23)"
      ]
     },
     "execution_count": 57,
     "metadata": {},
     "output_type": "execute_result"
    }
   ],
   "source": [
    "top_1000 = top_1000[(top_1000['language_code'] == 'en-US') | (top_1000['language_code'] == 'eng')]\n",
    "top_1000.shape"
   ]
  },
  {
   "cell_type": "code",
   "execution_count": 128,
   "id": "b93ca45f-c72a-4819-8a45-5452aaf60165",
   "metadata": {
    "tags": []
   },
   "outputs": [
    {
     "data": {
      "text/html": [
       "<div>\n",
       "<style scoped>\n",
       "    .dataframe tbody tr th:only-of-type {\n",
       "        vertical-align: middle;\n",
       "    }\n",
       "\n",
       "    .dataframe tbody tr th {\n",
       "        vertical-align: top;\n",
       "    }\n",
       "\n",
       "    .dataframe thead th {\n",
       "        text-align: right;\n",
       "    }\n",
       "</style>\n",
       "<table border=\"1\" class=\"dataframe\">\n",
       "  <thead>\n",
       "    <tr style=\"text-align: right;\">\n",
       "      <th></th>\n",
       "      <th>authors</th>\n",
       "      <th>title</th>\n",
       "      <th>average_rating</th>\n",
       "    </tr>\n",
       "  </thead>\n",
       "  <tbody>\n",
       "    <tr>\n",
       "      <th>0</th>\n",
       "      <td>Suzanne Collins</td>\n",
       "      <td>The Hunger Games (The Hunger Games, #1)</td>\n",
       "      <td>4.34</td>\n",
       "    </tr>\n",
       "    <tr>\n",
       "      <th>1</th>\n",
       "      <td>J.K. Rowling, Mary GrandPré</td>\n",
       "      <td>Harry Potter and the Sorcerer's Stone (Harry P...</td>\n",
       "      <td>4.44</td>\n",
       "    </tr>\n",
       "    <tr>\n",
       "      <th>2</th>\n",
       "      <td>Stephenie Meyer</td>\n",
       "      <td>Twilight (Twilight, #1)</td>\n",
       "      <td>3.57</td>\n",
       "    </tr>\n",
       "    <tr>\n",
       "      <th>3</th>\n",
       "      <td>Harper Lee</td>\n",
       "      <td>To Kill a Mockingbird</td>\n",
       "      <td>4.25</td>\n",
       "    </tr>\n",
       "    <tr>\n",
       "      <th>4</th>\n",
       "      <td>F. Scott Fitzgerald</td>\n",
       "      <td>The Great Gatsby</td>\n",
       "      <td>3.89</td>\n",
       "    </tr>\n",
       "  </tbody>\n",
       "</table>\n",
       "</div>"
      ],
      "text/plain": [
       "                       authors  \\\n",
       "0              Suzanne Collins   \n",
       "1  J.K. Rowling, Mary GrandPré   \n",
       "2              Stephenie Meyer   \n",
       "3                   Harper Lee   \n",
       "4          F. Scott Fitzgerald   \n",
       "\n",
       "                                               title  average_rating  \n",
       "0            The Hunger Games (The Hunger Games, #1)            4.34  \n",
       "1  Harry Potter and the Sorcerer's Stone (Harry P...            4.44  \n",
       "2                            Twilight (Twilight, #1)            3.57  \n",
       "3                              To Kill a Mockingbird            4.25  \n",
       "4                                   The Great Gatsby            3.89  "
      ]
     },
     "execution_count": 128,
     "metadata": {},
     "output_type": "execute_result"
    }
   ],
   "source": [
    "top_1000 = top_1000[['authors', 'title', 'average_rating']]\n",
    "top_1000.head()"
   ]
  },
  {
   "cell_type": "code",
   "execution_count": 129,
   "id": "ed32a108-a408-4f25-8c48-5a17d01db35e",
   "metadata": {
    "tags": []
   },
   "outputs": [
    {
     "name": "stderr",
     "output_type": "stream",
     "text": [
      "/var/folders/w4/lpzl5f8j3kx7kch0q9wglx4c0000gn/T/ipykernel_44989/1716085169.py:1: SettingWithCopyWarning: \n",
      "A value is trying to be set on a copy of a slice from a DataFrame.\n",
      "Try using .loc[row_indexer,col_indexer] = value instead\n",
      "\n",
      "See the caveats in the documentation: https://pandas.pydata.org/pandas-docs/stable/user_guide/indexing.html#returning-a-view-versus-a-copy\n",
      "  top_1000['average_rating'] = top_1000.average_rating.round()\n"
     ]
    }
   ],
   "source": [
    "top_1000['average_rating'] = top_1000.average_rating.round()"
   ]
  },
  {
   "cell_type": "code",
   "execution_count": 130,
   "id": "433a286e-0cc3-4037-bb60-8be016e6e321",
   "metadata": {
    "tags": []
   },
   "outputs": [
    {
     "data": {
      "text/html": [
       "<div>\n",
       "<style scoped>\n",
       "    .dataframe tbody tr th:only-of-type {\n",
       "        vertical-align: middle;\n",
       "    }\n",
       "\n",
       "    .dataframe tbody tr th {\n",
       "        vertical-align: top;\n",
       "    }\n",
       "\n",
       "    .dataframe thead th {\n",
       "        text-align: right;\n",
       "    }\n",
       "</style>\n",
       "<table border=\"1\" class=\"dataframe\">\n",
       "  <thead>\n",
       "    <tr style=\"text-align: right;\">\n",
       "      <th></th>\n",
       "      <th>authors</th>\n",
       "      <th>title</th>\n",
       "      <th>average_rating</th>\n",
       "    </tr>\n",
       "  </thead>\n",
       "  <tbody>\n",
       "    <tr>\n",
       "      <th>0</th>\n",
       "      <td>Suzanne Collins</td>\n",
       "      <td>The Hunger Games (The Hunger Games, #1)</td>\n",
       "      <td>4.0</td>\n",
       "    </tr>\n",
       "    <tr>\n",
       "      <th>1</th>\n",
       "      <td>J.K. Rowling, Mary GrandPré</td>\n",
       "      <td>Harry Potter and the Sorcerer's Stone (Harry P...</td>\n",
       "      <td>4.0</td>\n",
       "    </tr>\n",
       "    <tr>\n",
       "      <th>2</th>\n",
       "      <td>Stephenie Meyer</td>\n",
       "      <td>Twilight (Twilight, #1)</td>\n",
       "      <td>4.0</td>\n",
       "    </tr>\n",
       "    <tr>\n",
       "      <th>3</th>\n",
       "      <td>Harper Lee</td>\n",
       "      <td>To Kill a Mockingbird</td>\n",
       "      <td>4.0</td>\n",
       "    </tr>\n",
       "    <tr>\n",
       "      <th>4</th>\n",
       "      <td>F. Scott Fitzgerald</td>\n",
       "      <td>The Great Gatsby</td>\n",
       "      <td>4.0</td>\n",
       "    </tr>\n",
       "  </tbody>\n",
       "</table>\n",
       "</div>"
      ],
      "text/plain": [
       "                       authors  \\\n",
       "0              Suzanne Collins   \n",
       "1  J.K. Rowling, Mary GrandPré   \n",
       "2              Stephenie Meyer   \n",
       "3                   Harper Lee   \n",
       "4          F. Scott Fitzgerald   \n",
       "\n",
       "                                               title  average_rating  \n",
       "0            The Hunger Games (The Hunger Games, #1)             4.0  \n",
       "1  Harry Potter and the Sorcerer's Stone (Harry P...             4.0  \n",
       "2                            Twilight (Twilight, #1)             4.0  \n",
       "3                              To Kill a Mockingbird             4.0  \n",
       "4                                   The Great Gatsby             4.0  "
      ]
     },
     "execution_count": 130,
     "metadata": {},
     "output_type": "execute_result"
    }
   ],
   "source": [
    "top_1000.head()"
   ]
  },
  {
   "cell_type": "code",
   "execution_count": 131,
   "id": "ab2462fd-3e9c-4f64-925d-3726b97faf74",
   "metadata": {
    "tags": []
   },
   "outputs": [
    {
     "data": {
      "text/plain": [
       "4.0    903\n",
       "5.0     17\n",
       "3.0     17\n",
       "Name: average_rating, dtype: int64"
      ]
     },
     "execution_count": 131,
     "metadata": {},
     "output_type": "execute_result"
    }
   ],
   "source": [
    "top_1000.average_rating.value_counts()"
   ]
  },
  {
   "cell_type": "markdown",
   "id": "9222e54b-0e0d-4df0-998c-cc6ac172323c",
   "metadata": {},
   "source": [
    "After seeing the distirubtion of ratings, I have realized that including the top 1000 books is not going to equate to a fair model because it is not a random sample of the data"
   ]
  },
  {
   "cell_type": "markdown",
   "id": "c904a9a3-32f3-4f46-bd83-3979ca4b262c",
   "metadata": {},
   "source": [
    "Instead, I will randomly sample 1000 books to start:"
   ]
  },
  {
   "cell_type": "code",
   "execution_count": 173,
   "id": "2c154058-397b-4c7a-b26f-0faac1405061",
   "metadata": {
    "tags": []
   },
   "outputs": [
    {
     "data": {
      "text/html": [
       "<div>\n",
       "<style scoped>\n",
       "    .dataframe tbody tr th:only-of-type {\n",
       "        vertical-align: middle;\n",
       "    }\n",
       "\n",
       "    .dataframe tbody tr th {\n",
       "        vertical-align: top;\n",
       "    }\n",
       "\n",
       "    .dataframe thead th {\n",
       "        text-align: right;\n",
       "    }\n",
       "</style>\n",
       "<table border=\"1\" class=\"dataframe\">\n",
       "  <thead>\n",
       "    <tr style=\"text-align: right;\">\n",
       "      <th></th>\n",
       "      <th>book_id</th>\n",
       "      <th>goodreads_book_id</th>\n",
       "      <th>best_book_id</th>\n",
       "      <th>work_id</th>\n",
       "      <th>books_count</th>\n",
       "      <th>isbn</th>\n",
       "      <th>isbn13</th>\n",
       "      <th>authors</th>\n",
       "      <th>original_publication_year</th>\n",
       "      <th>original_title</th>\n",
       "      <th>title</th>\n",
       "      <th>language_code</th>\n",
       "      <th>average_rating</th>\n",
       "      <th>ratings_count</th>\n",
       "      <th>work_ratings_count</th>\n",
       "      <th>work_text_reviews_count</th>\n",
       "      <th>ratings_1</th>\n",
       "      <th>ratings_2</th>\n",
       "      <th>ratings_3</th>\n",
       "      <th>ratings_4</th>\n",
       "      <th>ratings_5</th>\n",
       "      <th>image_url</th>\n",
       "      <th>small_image_url</th>\n",
       "    </tr>\n",
       "  </thead>\n",
       "  <tbody>\n",
       "    <tr>\n",
       "      <th>0</th>\n",
       "      <td>1</td>\n",
       "      <td>2767052</td>\n",
       "      <td>2767052</td>\n",
       "      <td>2792775</td>\n",
       "      <td>272</td>\n",
       "      <td>439023483</td>\n",
       "      <td>9.780439e+12</td>\n",
       "      <td>Suzanne Collins</td>\n",
       "      <td>2008.0</td>\n",
       "      <td>The Hunger Games</td>\n",
       "      <td>The Hunger Games (The Hunger Games, #1)</td>\n",
       "      <td>eng</td>\n",
       "      <td>4.34</td>\n",
       "      <td>4780653</td>\n",
       "      <td>4942365</td>\n",
       "      <td>155254</td>\n",
       "      <td>66715</td>\n",
       "      <td>127936</td>\n",
       "      <td>560092</td>\n",
       "      <td>1481305</td>\n",
       "      <td>2706317</td>\n",
       "      <td>https://images.gr-assets.com/books/1447303603m...</td>\n",
       "      <td>https://images.gr-assets.com/books/1447303603s...</td>\n",
       "    </tr>\n",
       "  </tbody>\n",
       "</table>\n",
       "</div>"
      ],
      "text/plain": [
       "   book_id  goodreads_book_id  best_book_id  work_id  books_count       isbn  \\\n",
       "0        1            2767052       2767052  2792775          272  439023483   \n",
       "\n",
       "         isbn13          authors  original_publication_year    original_title  \\\n",
       "0  9.780439e+12  Suzanne Collins                     2008.0  The Hunger Games   \n",
       "\n",
       "                                     title language_code  average_rating  \\\n",
       "0  The Hunger Games (The Hunger Games, #1)           eng            4.34   \n",
       "\n",
       "   ratings_count  work_ratings_count  work_text_reviews_count  ratings_1  \\\n",
       "0        4780653             4942365                   155254      66715   \n",
       "\n",
       "   ratings_2  ratings_3  ratings_4  ratings_5  \\\n",
       "0     127936     560092    1481305    2706317   \n",
       "\n",
       "                                           image_url  \\\n",
       "0  https://images.gr-assets.com/books/1447303603m...   \n",
       "\n",
       "                                     small_image_url  \n",
       "0  https://images.gr-assets.com/books/1447303603s...  "
      ]
     },
     "execution_count": 173,
     "metadata": {},
     "output_type": "execute_result"
    }
   ],
   "source": [
    "books.head(1)"
   ]
  },
  {
   "cell_type": "code",
   "execution_count": 174,
   "id": "27089eba-d413-44e9-a011-8f627d7b231f",
   "metadata": {
    "tags": []
   },
   "outputs": [],
   "source": [
    "book_sample_1000 = books.sample(n = 1195, replace = False, random_state=1002)"
   ]
  },
  {
   "cell_type": "code",
   "execution_count": 175,
   "id": "92597553-e966-4867-9da6-4205ef155b01",
   "metadata": {
    "tags": []
   },
   "outputs": [
    {
     "data": {
      "text/html": [
       "<div>\n",
       "<style scoped>\n",
       "    .dataframe tbody tr th:only-of-type {\n",
       "        vertical-align: middle;\n",
       "    }\n",
       "\n",
       "    .dataframe tbody tr th {\n",
       "        vertical-align: top;\n",
       "    }\n",
       "\n",
       "    .dataframe thead th {\n",
       "        text-align: right;\n",
       "    }\n",
       "</style>\n",
       "<table border=\"1\" class=\"dataframe\">\n",
       "  <thead>\n",
       "    <tr style=\"text-align: right;\">\n",
       "      <th></th>\n",
       "      <th>book_id</th>\n",
       "      <th>goodreads_book_id</th>\n",
       "      <th>best_book_id</th>\n",
       "      <th>work_id</th>\n",
       "      <th>books_count</th>\n",
       "      <th>isbn</th>\n",
       "      <th>isbn13</th>\n",
       "      <th>authors</th>\n",
       "      <th>original_publication_year</th>\n",
       "      <th>original_title</th>\n",
       "      <th>title</th>\n",
       "      <th>language_code</th>\n",
       "      <th>average_rating</th>\n",
       "      <th>ratings_count</th>\n",
       "      <th>work_ratings_count</th>\n",
       "      <th>work_text_reviews_count</th>\n",
       "      <th>ratings_1</th>\n",
       "      <th>ratings_2</th>\n",
       "      <th>ratings_3</th>\n",
       "      <th>ratings_4</th>\n",
       "      <th>ratings_5</th>\n",
       "      <th>image_url</th>\n",
       "      <th>small_image_url</th>\n",
       "    </tr>\n",
       "  </thead>\n",
       "  <tbody>\n",
       "    <tr>\n",
       "      <th>7545</th>\n",
       "      <td>7546</td>\n",
       "      <td>22192</td>\n",
       "      <td>22192</td>\n",
       "      <td>1588093</td>\n",
       "      <td>48</td>\n",
       "      <td>316912123</td>\n",
       "      <td>9.780317e+12</td>\n",
       "      <td>Cecily von Ziegesar</td>\n",
       "      <td>2003.0</td>\n",
       "      <td>All I Want Is Everything</td>\n",
       "      <td>All I Want is Everything (Gossip Girl, #3)</td>\n",
       "      <td>eng</td>\n",
       "      <td>3.56</td>\n",
       "      <td>15467</td>\n",
       "      <td>16076</td>\n",
       "      <td>422</td>\n",
       "      <td>433</td>\n",
       "      <td>1879</td>\n",
       "      <td>5728</td>\n",
       "      <td>4270</td>\n",
       "      <td>3766</td>\n",
       "      <td>https://s.gr-assets.com/assets/nophoto/book/11...</td>\n",
       "      <td>https://s.gr-assets.com/assets/nophoto/book/50...</td>\n",
       "    </tr>\n",
       "    <tr>\n",
       "      <th>8923</th>\n",
       "      <td>8924</td>\n",
       "      <td>833550</td>\n",
       "      <td>833550</td>\n",
       "      <td>819179</td>\n",
       "      <td>29</td>\n",
       "      <td>067088278X</td>\n",
       "      <td>9.780671e+12</td>\n",
       "      <td>Janet Ahlberg, Allan Ahlberg</td>\n",
       "      <td>1978.0</td>\n",
       "      <td>Each Peach Pear Plum</td>\n",
       "      <td>Each Peach Pear Plum</td>\n",
       "      <td>eng</td>\n",
       "      <td>4.24</td>\n",
       "      <td>12747</td>\n",
       "      <td>13148</td>\n",
       "      <td>431</td>\n",
       "      <td>161</td>\n",
       "      <td>479</td>\n",
       "      <td>2196</td>\n",
       "      <td>3564</td>\n",
       "      <td>6748</td>\n",
       "      <td>https://images.gr-assets.com/books/1367225641m...</td>\n",
       "      <td>https://images.gr-assets.com/books/1367225641s...</td>\n",
       "    </tr>\n",
       "    <tr>\n",
       "      <th>3926</th>\n",
       "      <td>3927</td>\n",
       "      <td>18108281</td>\n",
       "      <td>18108281</td>\n",
       "      <td>24749971</td>\n",
       "      <td>39</td>\n",
       "      <td>NaN</td>\n",
       "      <td>NaN</td>\n",
       "      <td>J.R. Ward</td>\n",
       "      <td>2014.0</td>\n",
       "      <td>The King</td>\n",
       "      <td>The King (Black Dagger Brotherhood, #12)</td>\n",
       "      <td>eng</td>\n",
       "      <td>4.37</td>\n",
       "      <td>17398</td>\n",
       "      <td>38218</td>\n",
       "      <td>4240</td>\n",
       "      <td>265</td>\n",
       "      <td>957</td>\n",
       "      <td>4500</td>\n",
       "      <td>11290</td>\n",
       "      <td>21206</td>\n",
       "      <td>https://images.gr-assets.com/books/1371919011m...</td>\n",
       "      <td>https://images.gr-assets.com/books/1371919011s...</td>\n",
       "    </tr>\n",
       "    <tr>\n",
       "      <th>9923</th>\n",
       "      <td>9924</td>\n",
       "      <td>24769</td>\n",
       "      <td>24769</td>\n",
       "      <td>25576</td>\n",
       "      <td>33</td>\n",
       "      <td>60519592</td>\n",
       "      <td>9.780061e+12</td>\n",
       "      <td>Scott Westerfeld</td>\n",
       "      <td>2006.0</td>\n",
       "      <td>Blue Noon (Midnighters, #3)</td>\n",
       "      <td>Blue Noon (Midnighters, #3)</td>\n",
       "      <td>eng</td>\n",
       "      <td>3.85</td>\n",
       "      <td>14053</td>\n",
       "      <td>15120</td>\n",
       "      <td>830</td>\n",
       "      <td>204</td>\n",
       "      <td>958</td>\n",
       "      <td>4140</td>\n",
       "      <td>5370</td>\n",
       "      <td>4448</td>\n",
       "      <td>https://images.gr-assets.com/books/1315537301m...</td>\n",
       "      <td>https://images.gr-assets.com/books/1315537301s...</td>\n",
       "    </tr>\n",
       "    <tr>\n",
       "      <th>4763</th>\n",
       "      <td>4764</td>\n",
       "      <td>17314410</td>\n",
       "      <td>17314410</td>\n",
       "      <td>23981204</td>\n",
       "      <td>10</td>\n",
       "      <td>NaN</td>\n",
       "      <td>NaN</td>\n",
       "      <td>Georgia Cates</td>\n",
       "      <td>2013.0</td>\n",
       "      <td>Beauty from Surrender</td>\n",
       "      <td>Beauty from Surrender (Beauty, #2)</td>\n",
       "      <td>eng</td>\n",
       "      <td>4.13</td>\n",
       "      <td>31623</td>\n",
       "      <td>34393</td>\n",
       "      <td>2028</td>\n",
       "      <td>401</td>\n",
       "      <td>1331</td>\n",
       "      <td>6108</td>\n",
       "      <td>12239</td>\n",
       "      <td>14314</td>\n",
       "      <td>https://images.gr-assets.com/books/1367294723m...</td>\n",
       "      <td>https://images.gr-assets.com/books/1367294723s...</td>\n",
       "    </tr>\n",
       "  </tbody>\n",
       "</table>\n",
       "</div>"
      ],
      "text/plain": [
       "      book_id  goodreads_book_id  best_book_id   work_id  books_count  \\\n",
       "7545     7546              22192         22192   1588093           48   \n",
       "8923     8924             833550        833550    819179           29   \n",
       "3926     3927           18108281      18108281  24749971           39   \n",
       "9923     9924              24769         24769     25576           33   \n",
       "4763     4764           17314410      17314410  23981204           10   \n",
       "\n",
       "            isbn        isbn13                       authors  \\\n",
       "7545   316912123  9.780317e+12           Cecily von Ziegesar   \n",
       "8923  067088278X  9.780671e+12  Janet Ahlberg, Allan Ahlberg   \n",
       "3926         NaN           NaN                     J.R. Ward   \n",
       "9923    60519592  9.780061e+12              Scott Westerfeld   \n",
       "4763         NaN           NaN                 Georgia Cates   \n",
       "\n",
       "      original_publication_year               original_title  \\\n",
       "7545                     2003.0     All I Want Is Everything   \n",
       "8923                     1978.0         Each Peach Pear Plum   \n",
       "3926                     2014.0                     The King   \n",
       "9923                     2006.0  Blue Noon (Midnighters, #3)   \n",
       "4763                     2013.0        Beauty from Surrender   \n",
       "\n",
       "                                           title language_code  \\\n",
       "7545  All I Want is Everything (Gossip Girl, #3)           eng   \n",
       "8923                        Each Peach Pear Plum           eng   \n",
       "3926    The King (Black Dagger Brotherhood, #12)           eng   \n",
       "9923                 Blue Noon (Midnighters, #3)           eng   \n",
       "4763          Beauty from Surrender (Beauty, #2)           eng   \n",
       "\n",
       "      average_rating  ratings_count  work_ratings_count  \\\n",
       "7545            3.56          15467               16076   \n",
       "8923            4.24          12747               13148   \n",
       "3926            4.37          17398               38218   \n",
       "9923            3.85          14053               15120   \n",
       "4763            4.13          31623               34393   \n",
       "\n",
       "      work_text_reviews_count  ratings_1  ratings_2  ratings_3  ratings_4  \\\n",
       "7545                      422        433       1879       5728       4270   \n",
       "8923                      431        161        479       2196       3564   \n",
       "3926                     4240        265        957       4500      11290   \n",
       "9923                      830        204        958       4140       5370   \n",
       "4763                     2028        401       1331       6108      12239   \n",
       "\n",
       "      ratings_5                                          image_url  \\\n",
       "7545       3766  https://s.gr-assets.com/assets/nophoto/book/11...   \n",
       "8923       6748  https://images.gr-assets.com/books/1367225641m...   \n",
       "3926      21206  https://images.gr-assets.com/books/1371919011m...   \n",
       "9923       4448  https://images.gr-assets.com/books/1315537301m...   \n",
       "4763      14314  https://images.gr-assets.com/books/1367294723m...   \n",
       "\n",
       "                                        small_image_url  \n",
       "7545  https://s.gr-assets.com/assets/nophoto/book/50...  \n",
       "8923  https://images.gr-assets.com/books/1367225641s...  \n",
       "3926  https://images.gr-assets.com/books/1371919011s...  \n",
       "9923  https://images.gr-assets.com/books/1315537301s...  \n",
       "4763  https://images.gr-assets.com/books/1367294723s...  "
      ]
     },
     "execution_count": 175,
     "metadata": {},
     "output_type": "execute_result"
    }
   ],
   "source": [
    "book_sample_1000.head()"
   ]
  },
  {
   "cell_type": "code",
   "execution_count": 176,
   "id": "fd44bfce-af9b-4d0a-99f2-3d50d6bc7175",
   "metadata": {
    "tags": []
   },
   "outputs": [
    {
     "data": {
      "text/plain": [
       "(1195, 23)"
      ]
     },
     "execution_count": 176,
     "metadata": {},
     "output_type": "execute_result"
    }
   ],
   "source": [
    "book_sample_1000.shape"
   ]
  },
  {
   "cell_type": "code",
   "execution_count": 177,
   "id": "e2fd83d4-7b02-44f5-afd0-e0d12fac589d",
   "metadata": {
    "tags": []
   },
   "outputs": [
    {
     "data": {
      "text/plain": [
       "(1001, 23)"
      ]
     },
     "execution_count": 177,
     "metadata": {},
     "output_type": "execute_result"
    }
   ],
   "source": [
    "book_sample_1000 = book_sample_1000[(book_sample_1000['language_code'] == 'en-US') | (book_sample_1000['language_code'] == 'eng')]\n",
    "book_sample_1000.shape"
   ]
  },
  {
   "cell_type": "code",
   "execution_count": 178,
   "id": "85692868-4859-4234-a3b3-f8a984fee5ff",
   "metadata": {
    "tags": []
   },
   "outputs": [
    {
     "data": {
      "text/html": [
       "<div>\n",
       "<style scoped>\n",
       "    .dataframe tbody tr th:only-of-type {\n",
       "        vertical-align: middle;\n",
       "    }\n",
       "\n",
       "    .dataframe tbody tr th {\n",
       "        vertical-align: top;\n",
       "    }\n",
       "\n",
       "    .dataframe thead th {\n",
       "        text-align: right;\n",
       "    }\n",
       "</style>\n",
       "<table border=\"1\" class=\"dataframe\">\n",
       "  <thead>\n",
       "    <tr style=\"text-align: right;\">\n",
       "      <th></th>\n",
       "      <th>authors</th>\n",
       "      <th>title</th>\n",
       "      <th>average_rating</th>\n",
       "    </tr>\n",
       "  </thead>\n",
       "  <tbody>\n",
       "    <tr>\n",
       "      <th>7545</th>\n",
       "      <td>Cecily von Ziegesar</td>\n",
       "      <td>All I Want is Everything (Gossip Girl, #3)</td>\n",
       "      <td>3.56</td>\n",
       "    </tr>\n",
       "    <tr>\n",
       "      <th>8923</th>\n",
       "      <td>Janet Ahlberg, Allan Ahlberg</td>\n",
       "      <td>Each Peach Pear Plum</td>\n",
       "      <td>4.24</td>\n",
       "    </tr>\n",
       "    <tr>\n",
       "      <th>3926</th>\n",
       "      <td>J.R. Ward</td>\n",
       "      <td>The King (Black Dagger Brotherhood, #12)</td>\n",
       "      <td>4.37</td>\n",
       "    </tr>\n",
       "    <tr>\n",
       "      <th>9923</th>\n",
       "      <td>Scott Westerfeld</td>\n",
       "      <td>Blue Noon (Midnighters, #3)</td>\n",
       "      <td>3.85</td>\n",
       "    </tr>\n",
       "    <tr>\n",
       "      <th>4763</th>\n",
       "      <td>Georgia Cates</td>\n",
       "      <td>Beauty from Surrender (Beauty, #2)</td>\n",
       "      <td>4.13</td>\n",
       "    </tr>\n",
       "  </tbody>\n",
       "</table>\n",
       "</div>"
      ],
      "text/plain": [
       "                           authors  \\\n",
       "7545           Cecily von Ziegesar   \n",
       "8923  Janet Ahlberg, Allan Ahlberg   \n",
       "3926                     J.R. Ward   \n",
       "9923              Scott Westerfeld   \n",
       "4763                 Georgia Cates   \n",
       "\n",
       "                                           title  average_rating  \n",
       "7545  All I Want is Everything (Gossip Girl, #3)            3.56  \n",
       "8923                        Each Peach Pear Plum            4.24  \n",
       "3926    The King (Black Dagger Brotherhood, #12)            4.37  \n",
       "9923                 Blue Noon (Midnighters, #3)            3.85  \n",
       "4763          Beauty from Surrender (Beauty, #2)            4.13  "
      ]
     },
     "execution_count": 178,
     "metadata": {},
     "output_type": "execute_result"
    }
   ],
   "source": [
    "book_sample_1000 = book_sample_1000[['authors', 'title', 'average_rating']]\n",
    "book_sample_1000.head()"
   ]
  },
  {
   "cell_type": "code",
   "execution_count": 181,
   "id": "e7a3c23b-7e13-4c6e-a752-94b2daca7be8",
   "metadata": {
    "tags": []
   },
   "outputs": [],
   "source": [
    "# book_sample_1000.average_rating.value_counts().sort_index()"
   ]
  },
  {
   "cell_type": "markdown",
   "id": "89742e64-cd98-4326-9d7e-00d2522afa0e",
   "metadata": {},
   "source": [
    "> No ratings below 3"
   ]
  },
  {
   "cell_type": "code",
   "execution_count": 182,
   "id": "0556e6ae-0776-45e8-abea-e7e15ac908c5",
   "metadata": {
    "tags": []
   },
   "outputs": [],
   "source": [
    "book_sample_1000['average_rating'] = book_sample_1000['average_rating'].round()"
   ]
  },
  {
   "cell_type": "code",
   "execution_count": 183,
   "id": "0df9ef9f-3873-47f0-9a3c-96b5b2787126",
   "metadata": {
    "tags": []
   },
   "outputs": [
    {
     "data": {
      "text/plain": [
       "4.0    972\n",
       "3.0     20\n",
       "5.0      9\n",
       "Name: average_rating, dtype: int64"
      ]
     },
     "execution_count": 183,
     "metadata": {},
     "output_type": "execute_result"
    }
   ],
   "source": [
    "book_sample_1000.average_rating.value_counts()"
   ]
  },
  {
   "cell_type": "code",
   "execution_count": 184,
   "id": "53cc778a-bb07-45c1-8676-7a4e3a7ecc43",
   "metadata": {
    "tags": []
   },
   "outputs": [
    {
     "data": {
      "text/html": [
       "<div>\n",
       "<style scoped>\n",
       "    .dataframe tbody tr th:only-of-type {\n",
       "        vertical-align: middle;\n",
       "    }\n",
       "\n",
       "    .dataframe tbody tr th {\n",
       "        vertical-align: top;\n",
       "    }\n",
       "\n",
       "    .dataframe thead th {\n",
       "        text-align: right;\n",
       "    }\n",
       "</style>\n",
       "<table border=\"1\" class=\"dataframe\">\n",
       "  <thead>\n",
       "    <tr style=\"text-align: right;\">\n",
       "      <th></th>\n",
       "      <th>authors</th>\n",
       "      <th>title</th>\n",
       "      <th>average_rating</th>\n",
       "    </tr>\n",
       "  </thead>\n",
       "  <tbody>\n",
       "    <tr>\n",
       "      <th>7545</th>\n",
       "      <td>Cecily von Ziegesar</td>\n",
       "      <td>All I Want is Everything (Gossip Girl, #3)</td>\n",
       "      <td>4.0</td>\n",
       "    </tr>\n",
       "    <tr>\n",
       "      <th>8923</th>\n",
       "      <td>Janet Ahlberg, Allan Ahlberg</td>\n",
       "      <td>Each Peach Pear Plum</td>\n",
       "      <td>4.0</td>\n",
       "    </tr>\n",
       "    <tr>\n",
       "      <th>3926</th>\n",
       "      <td>J.R. Ward</td>\n",
       "      <td>The King (Black Dagger Brotherhood, #12)</td>\n",
       "      <td>4.0</td>\n",
       "    </tr>\n",
       "    <tr>\n",
       "      <th>9923</th>\n",
       "      <td>Scott Westerfeld</td>\n",
       "      <td>Blue Noon (Midnighters, #3)</td>\n",
       "      <td>4.0</td>\n",
       "    </tr>\n",
       "    <tr>\n",
       "      <th>4763</th>\n",
       "      <td>Georgia Cates</td>\n",
       "      <td>Beauty from Surrender (Beauty, #2)</td>\n",
       "      <td>4.0</td>\n",
       "    </tr>\n",
       "  </tbody>\n",
       "</table>\n",
       "</div>"
      ],
      "text/plain": [
       "                           authors  \\\n",
       "7545           Cecily von Ziegesar   \n",
       "8923  Janet Ahlberg, Allan Ahlberg   \n",
       "3926                     J.R. Ward   \n",
       "9923              Scott Westerfeld   \n",
       "4763                 Georgia Cates   \n",
       "\n",
       "                                           title  average_rating  \n",
       "7545  All I Want is Everything (Gossip Girl, #3)             4.0  \n",
       "8923                        Each Peach Pear Plum             4.0  \n",
       "3926    The King (Black Dagger Brotherhood, #12)             4.0  \n",
       "9923                 Blue Noon (Midnighters, #3)             4.0  \n",
       "4763          Beauty from Surrender (Beauty, #2)             4.0  "
      ]
     },
     "execution_count": 184,
     "metadata": {},
     "output_type": "execute_result"
    }
   ],
   "source": [
    "book_sample_1000.head()"
   ]
  },
  {
   "cell_type": "code",
   "execution_count": 188,
   "id": "34f29afe-71c5-4545-9710-baa9d659441b",
   "metadata": {
    "tags": []
   },
   "outputs": [
    {
     "data": {
      "text/plain": [
       "787"
      ]
     },
     "execution_count": 188,
     "metadata": {},
     "output_type": "execute_result"
    }
   ],
   "source": [
    "book_sample_1000.authors.value_counts().count()"
   ]
  },
  {
   "cell_type": "code",
   "execution_count": 190,
   "id": "d9dea0c3-016c-4ce7-a5c5-c1ba79a49e91",
   "metadata": {
    "tags": []
   },
   "outputs": [
    {
     "data": {
      "text/plain": [
       "1001"
      ]
     },
     "execution_count": 190,
     "metadata": {},
     "output_type": "execute_result"
    }
   ],
   "source": [
    "book_sample_1000.title.value_counts().count()"
   ]
  },
  {
   "cell_type": "code",
   "execution_count": 186,
   "id": "8f628c6b-4770-4e20-9516-b94d5f4228a6",
   "metadata": {
    "tags": []
   },
   "outputs": [],
   "source": [
    "# book_sample_1000.to_csv('book_sample_1000.csv', index=False)"
   ]
  },
  {
   "cell_type": "markdown",
   "id": "7d014b06-f73c-4e49-9d91-807b0b1b2f7b",
   "metadata": {},
   "source": [
    "#### Creating a df for additional models:"
   ]
  },
  {
   "cell_type": "code",
   "execution_count": 195,
   "id": "468b4789-5518-49ea-9c97-5598b62a6229",
   "metadata": {
    "tags": []
   },
   "outputs": [
    {
     "data": {
      "text/html": [
       "<div>\n",
       "<style scoped>\n",
       "    .dataframe tbody tr th:only-of-type {\n",
       "        vertical-align: middle;\n",
       "    }\n",
       "\n",
       "    .dataframe tbody tr th {\n",
       "        vertical-align: top;\n",
       "    }\n",
       "\n",
       "    .dataframe thead th {\n",
       "        text-align: right;\n",
       "    }\n",
       "</style>\n",
       "<table border=\"1\" class=\"dataframe\">\n",
       "  <thead>\n",
       "    <tr style=\"text-align: right;\">\n",
       "      <th></th>\n",
       "      <th>book_id</th>\n",
       "      <th>goodreads_book_id</th>\n",
       "      <th>best_book_id</th>\n",
       "      <th>work_id</th>\n",
       "      <th>books_count</th>\n",
       "      <th>isbn</th>\n",
       "      <th>isbn13</th>\n",
       "      <th>authors</th>\n",
       "      <th>original_publication_year</th>\n",
       "      <th>original_title</th>\n",
       "      <th>title</th>\n",
       "      <th>language_code</th>\n",
       "      <th>average_rating</th>\n",
       "      <th>ratings_count</th>\n",
       "      <th>work_ratings_count</th>\n",
       "      <th>work_text_reviews_count</th>\n",
       "      <th>ratings_1</th>\n",
       "      <th>ratings_2</th>\n",
       "      <th>ratings_3</th>\n",
       "      <th>ratings_4</th>\n",
       "      <th>ratings_5</th>\n",
       "      <th>image_url</th>\n",
       "      <th>small_image_url</th>\n",
       "    </tr>\n",
       "  </thead>\n",
       "  <tbody>\n",
       "    <tr>\n",
       "      <th>0</th>\n",
       "      <td>1</td>\n",
       "      <td>2767052</td>\n",
       "      <td>2767052</td>\n",
       "      <td>2792775</td>\n",
       "      <td>272</td>\n",
       "      <td>439023483</td>\n",
       "      <td>9.780439e+12</td>\n",
       "      <td>Suzanne Collins</td>\n",
       "      <td>2008.0</td>\n",
       "      <td>The Hunger Games</td>\n",
       "      <td>The Hunger Games (The Hunger Games, #1)</td>\n",
       "      <td>eng</td>\n",
       "      <td>4.34</td>\n",
       "      <td>4780653</td>\n",
       "      <td>4942365</td>\n",
       "      <td>155254</td>\n",
       "      <td>66715</td>\n",
       "      <td>127936</td>\n",
       "      <td>560092</td>\n",
       "      <td>1481305</td>\n",
       "      <td>2706317</td>\n",
       "      <td>https://images.gr-assets.com/books/1447303603m...</td>\n",
       "      <td>https://images.gr-assets.com/books/1447303603s...</td>\n",
       "    </tr>\n",
       "    <tr>\n",
       "      <th>1</th>\n",
       "      <td>2</td>\n",
       "      <td>3</td>\n",
       "      <td>3</td>\n",
       "      <td>4640799</td>\n",
       "      <td>491</td>\n",
       "      <td>439554934</td>\n",
       "      <td>9.780440e+12</td>\n",
       "      <td>J.K. Rowling, Mary GrandPré</td>\n",
       "      <td>1997.0</td>\n",
       "      <td>Harry Potter and the Philosopher's Stone</td>\n",
       "      <td>Harry Potter and the Sorcerer's Stone (Harry P...</td>\n",
       "      <td>eng</td>\n",
       "      <td>4.44</td>\n",
       "      <td>4602479</td>\n",
       "      <td>4800065</td>\n",
       "      <td>75867</td>\n",
       "      <td>75504</td>\n",
       "      <td>101676</td>\n",
       "      <td>455024</td>\n",
       "      <td>1156318</td>\n",
       "      <td>3011543</td>\n",
       "      <td>https://images.gr-assets.com/books/1474154022m...</td>\n",
       "      <td>https://images.gr-assets.com/books/1474154022s...</td>\n",
       "    </tr>\n",
       "    <tr>\n",
       "      <th>2</th>\n",
       "      <td>3</td>\n",
       "      <td>41865</td>\n",
       "      <td>41865</td>\n",
       "      <td>3212258</td>\n",
       "      <td>226</td>\n",
       "      <td>316015849</td>\n",
       "      <td>9.780316e+12</td>\n",
       "      <td>Stephenie Meyer</td>\n",
       "      <td>2005.0</td>\n",
       "      <td>Twilight</td>\n",
       "      <td>Twilight (Twilight, #1)</td>\n",
       "      <td>en-US</td>\n",
       "      <td>3.57</td>\n",
       "      <td>3866839</td>\n",
       "      <td>3916824</td>\n",
       "      <td>95009</td>\n",
       "      <td>456191</td>\n",
       "      <td>436802</td>\n",
       "      <td>793319</td>\n",
       "      <td>875073</td>\n",
       "      <td>1355439</td>\n",
       "      <td>https://images.gr-assets.com/books/1361039443m...</td>\n",
       "      <td>https://images.gr-assets.com/books/1361039443s...</td>\n",
       "    </tr>\n",
       "    <tr>\n",
       "      <th>3</th>\n",
       "      <td>4</td>\n",
       "      <td>2657</td>\n",
       "      <td>2657</td>\n",
       "      <td>3275794</td>\n",
       "      <td>487</td>\n",
       "      <td>61120081</td>\n",
       "      <td>9.780061e+12</td>\n",
       "      <td>Harper Lee</td>\n",
       "      <td>1960.0</td>\n",
       "      <td>To Kill a Mockingbird</td>\n",
       "      <td>To Kill a Mockingbird</td>\n",
       "      <td>eng</td>\n",
       "      <td>4.25</td>\n",
       "      <td>3198671</td>\n",
       "      <td>3340896</td>\n",
       "      <td>72586</td>\n",
       "      <td>60427</td>\n",
       "      <td>117415</td>\n",
       "      <td>446835</td>\n",
       "      <td>1001952</td>\n",
       "      <td>1714267</td>\n",
       "      <td>https://images.gr-assets.com/books/1361975680m...</td>\n",
       "      <td>https://images.gr-assets.com/books/1361975680s...</td>\n",
       "    </tr>\n",
       "    <tr>\n",
       "      <th>4</th>\n",
       "      <td>5</td>\n",
       "      <td>4671</td>\n",
       "      <td>4671</td>\n",
       "      <td>245494</td>\n",
       "      <td>1356</td>\n",
       "      <td>743273567</td>\n",
       "      <td>9.780743e+12</td>\n",
       "      <td>F. Scott Fitzgerald</td>\n",
       "      <td>1925.0</td>\n",
       "      <td>The Great Gatsby</td>\n",
       "      <td>The Great Gatsby</td>\n",
       "      <td>eng</td>\n",
       "      <td>3.89</td>\n",
       "      <td>2683664</td>\n",
       "      <td>2773745</td>\n",
       "      <td>51992</td>\n",
       "      <td>86236</td>\n",
       "      <td>197621</td>\n",
       "      <td>606158</td>\n",
       "      <td>936012</td>\n",
       "      <td>947718</td>\n",
       "      <td>https://images.gr-assets.com/books/1490528560m...</td>\n",
       "      <td>https://images.gr-assets.com/books/1490528560s...</td>\n",
       "    </tr>\n",
       "  </tbody>\n",
       "</table>\n",
       "</div>"
      ],
      "text/plain": [
       "   book_id  goodreads_book_id  best_book_id  work_id  books_count       isbn  \\\n",
       "0        1            2767052       2767052  2792775          272  439023483   \n",
       "1        2                  3             3  4640799          491  439554934   \n",
       "2        3              41865         41865  3212258          226  316015849   \n",
       "3        4               2657          2657  3275794          487   61120081   \n",
       "4        5               4671          4671   245494         1356  743273567   \n",
       "\n",
       "         isbn13                      authors  original_publication_year  \\\n",
       "0  9.780439e+12              Suzanne Collins                     2008.0   \n",
       "1  9.780440e+12  J.K. Rowling, Mary GrandPré                     1997.0   \n",
       "2  9.780316e+12              Stephenie Meyer                     2005.0   \n",
       "3  9.780061e+12                   Harper Lee                     1960.0   \n",
       "4  9.780743e+12          F. Scott Fitzgerald                     1925.0   \n",
       "\n",
       "                             original_title  \\\n",
       "0                          The Hunger Games   \n",
       "1  Harry Potter and the Philosopher's Stone   \n",
       "2                                  Twilight   \n",
       "3                     To Kill a Mockingbird   \n",
       "4                          The Great Gatsby   \n",
       "\n",
       "                                               title language_code  \\\n",
       "0            The Hunger Games (The Hunger Games, #1)           eng   \n",
       "1  Harry Potter and the Sorcerer's Stone (Harry P...           eng   \n",
       "2                            Twilight (Twilight, #1)         en-US   \n",
       "3                              To Kill a Mockingbird           eng   \n",
       "4                                   The Great Gatsby           eng   \n",
       "\n",
       "   average_rating  ratings_count  work_ratings_count  work_text_reviews_count  \\\n",
       "0            4.34        4780653             4942365                   155254   \n",
       "1            4.44        4602479             4800065                    75867   \n",
       "2            3.57        3866839             3916824                    95009   \n",
       "3            4.25        3198671             3340896                    72586   \n",
       "4            3.89        2683664             2773745                    51992   \n",
       "\n",
       "   ratings_1  ratings_2  ratings_3  ratings_4  ratings_5  \\\n",
       "0      66715     127936     560092    1481305    2706317   \n",
       "1      75504     101676     455024    1156318    3011543   \n",
       "2     456191     436802     793319     875073    1355439   \n",
       "3      60427     117415     446835    1001952    1714267   \n",
       "4      86236     197621     606158     936012     947718   \n",
       "\n",
       "                                           image_url  \\\n",
       "0  https://images.gr-assets.com/books/1447303603m...   \n",
       "1  https://images.gr-assets.com/books/1474154022m...   \n",
       "2  https://images.gr-assets.com/books/1361039443m...   \n",
       "3  https://images.gr-assets.com/books/1361975680m...   \n",
       "4  https://images.gr-assets.com/books/1490528560m...   \n",
       "\n",
       "                                     small_image_url  \n",
       "0  https://images.gr-assets.com/books/1447303603s...  \n",
       "1  https://images.gr-assets.com/books/1474154022s...  \n",
       "2  https://images.gr-assets.com/books/1361039443s...  \n",
       "3  https://images.gr-assets.com/books/1361975680s...  \n",
       "4  https://images.gr-assets.com/books/1490528560s...  "
      ]
     },
     "execution_count": 195,
     "metadata": {},
     "output_type": "execute_result"
    }
   ],
   "source": [
    "books.head()"
   ]
  },
  {
   "cell_type": "code",
   "execution_count": 197,
   "id": "5986d619-6850-4150-a496-7bb38485ed69",
   "metadata": {
    "tags": []
   },
   "outputs": [
    {
     "data": {
      "text/html": [
       "<div>\n",
       "<style scoped>\n",
       "    .dataframe tbody tr th:only-of-type {\n",
       "        vertical-align: middle;\n",
       "    }\n",
       "\n",
       "    .dataframe tbody tr th {\n",
       "        vertical-align: top;\n",
       "    }\n",
       "\n",
       "    .dataframe thead th {\n",
       "        text-align: right;\n",
       "    }\n",
       "</style>\n",
       "<table border=\"1\" class=\"dataframe\">\n",
       "  <thead>\n",
       "    <tr style=\"text-align: right;\">\n",
       "      <th></th>\n",
       "      <th>isbn</th>\n",
       "      <th>original_publication_year</th>\n",
       "      <th>language_code</th>\n",
       "      <th>average_rating</th>\n",
       "      <th>ratings_count</th>\n",
       "      <th>ratings_1</th>\n",
       "      <th>ratings_2</th>\n",
       "      <th>ratings_3</th>\n",
       "      <th>ratings_4</th>\n",
       "      <th>ratings_5</th>\n",
       "    </tr>\n",
       "  </thead>\n",
       "  <tbody>\n",
       "    <tr>\n",
       "      <th>0</th>\n",
       "      <td>439023483</td>\n",
       "      <td>2008.0</td>\n",
       "      <td>eng</td>\n",
       "      <td>4.34</td>\n",
       "      <td>4780653</td>\n",
       "      <td>66715</td>\n",
       "      <td>127936</td>\n",
       "      <td>560092</td>\n",
       "      <td>1481305</td>\n",
       "      <td>2706317</td>\n",
       "    </tr>\n",
       "    <tr>\n",
       "      <th>1</th>\n",
       "      <td>439554934</td>\n",
       "      <td>1997.0</td>\n",
       "      <td>eng</td>\n",
       "      <td>4.44</td>\n",
       "      <td>4602479</td>\n",
       "      <td>75504</td>\n",
       "      <td>101676</td>\n",
       "      <td>455024</td>\n",
       "      <td>1156318</td>\n",
       "      <td>3011543</td>\n",
       "    </tr>\n",
       "    <tr>\n",
       "      <th>2</th>\n",
       "      <td>316015849</td>\n",
       "      <td>2005.0</td>\n",
       "      <td>en-US</td>\n",
       "      <td>3.57</td>\n",
       "      <td>3866839</td>\n",
       "      <td>456191</td>\n",
       "      <td>436802</td>\n",
       "      <td>793319</td>\n",
       "      <td>875073</td>\n",
       "      <td>1355439</td>\n",
       "    </tr>\n",
       "    <tr>\n",
       "      <th>3</th>\n",
       "      <td>61120081</td>\n",
       "      <td>1960.0</td>\n",
       "      <td>eng</td>\n",
       "      <td>4.25</td>\n",
       "      <td>3198671</td>\n",
       "      <td>60427</td>\n",
       "      <td>117415</td>\n",
       "      <td>446835</td>\n",
       "      <td>1001952</td>\n",
       "      <td>1714267</td>\n",
       "    </tr>\n",
       "    <tr>\n",
       "      <th>4</th>\n",
       "      <td>743273567</td>\n",
       "      <td>1925.0</td>\n",
       "      <td>eng</td>\n",
       "      <td>3.89</td>\n",
       "      <td>2683664</td>\n",
       "      <td>86236</td>\n",
       "      <td>197621</td>\n",
       "      <td>606158</td>\n",
       "      <td>936012</td>\n",
       "      <td>947718</td>\n",
       "    </tr>\n",
       "  </tbody>\n",
       "</table>\n",
       "</div>"
      ],
      "text/plain": [
       "        isbn  original_publication_year language_code  average_rating  \\\n",
       "0  439023483                     2008.0           eng            4.34   \n",
       "1  439554934                     1997.0           eng            4.44   \n",
       "2  316015849                     2005.0         en-US            3.57   \n",
       "3   61120081                     1960.0           eng            4.25   \n",
       "4  743273567                     1925.0           eng            3.89   \n",
       "\n",
       "   ratings_count  ratings_1  ratings_2  ratings_3  ratings_4  ratings_5  \n",
       "0        4780653      66715     127936     560092    1481305    2706317  \n",
       "1        4602479      75504     101676     455024    1156318    3011543  \n",
       "2        3866839     456191     436802     793319     875073    1355439  \n",
       "3        3198671      60427     117415     446835    1001952    1714267  \n",
       "4        2683664      86236     197621     606158     936012     947718  "
      ]
     },
     "execution_count": 197,
     "metadata": {},
     "output_type": "execute_result"
    }
   ],
   "source": [
    "books_by_isbn = books[['isbn', 'original_publication_year', 'language_code', 'average_rating', 'ratings_count', 'ratings_1' ,'ratings_2', 'ratings_3', 'ratings_4', 'ratings_5']]\n",
    "books_by_isbn.head()"
   ]
  },
  {
   "cell_type": "code",
   "execution_count": 198,
   "id": "5ecca97f-36b6-4304-8b3e-bbc2d47b92a1",
   "metadata": {
    "tags": []
   },
   "outputs": [
    {
     "name": "stdout",
     "output_type": "stream",
     "text": [
      "<class 'pandas.core.frame.DataFrame'>\n",
      "RangeIndex: 10000 entries, 0 to 9999\n",
      "Data columns (total 10 columns):\n",
      " #   Column                     Non-Null Count  Dtype  \n",
      "---  ------                     --------------  -----  \n",
      " 0   isbn                       9300 non-null   object \n",
      " 1   original_publication_year  9979 non-null   float64\n",
      " 2   language_code              8916 non-null   object \n",
      " 3   average_rating             10000 non-null  float64\n",
      " 4   ratings_count              10000 non-null  int64  \n",
      " 5   ratings_1                  10000 non-null  int64  \n",
      " 6   ratings_2                  10000 non-null  int64  \n",
      " 7   ratings_3                  10000 non-null  int64  \n",
      " 8   ratings_4                  10000 non-null  int64  \n",
      " 9   ratings_5                  10000 non-null  int64  \n",
      "dtypes: float64(2), int64(6), object(2)\n",
      "memory usage: 781.4+ KB\n"
     ]
    }
   ],
   "source": [
    "books_by_isbn.info()"
   ]
  },
  {
   "cell_type": "code",
   "execution_count": 199,
   "id": "f7fff106-aa73-43a4-9af5-f795e212191e",
   "metadata": {
    "tags": []
   },
   "outputs": [
    {
     "data": {
      "text/html": [
       "<div>\n",
       "<style scoped>\n",
       "    .dataframe tbody tr th:only-of-type {\n",
       "        vertical-align: middle;\n",
       "    }\n",
       "\n",
       "    .dataframe tbody tr th {\n",
       "        vertical-align: top;\n",
       "    }\n",
       "\n",
       "    .dataframe thead th {\n",
       "        text-align: right;\n",
       "    }\n",
       "</style>\n",
       "<table border=\"1\" class=\"dataframe\">\n",
       "  <thead>\n",
       "    <tr style=\"text-align: right;\">\n",
       "      <th></th>\n",
       "      <th>isbn</th>\n",
       "      <th>original_publication_year</th>\n",
       "      <th>language_code</th>\n",
       "      <th>average_rating</th>\n",
       "      <th>ratings_count</th>\n",
       "      <th>ratings_1</th>\n",
       "      <th>ratings_2</th>\n",
       "      <th>ratings_3</th>\n",
       "      <th>ratings_4</th>\n",
       "      <th>ratings_5</th>\n",
       "    </tr>\n",
       "  </thead>\n",
       "  <tbody>\n",
       "    <tr>\n",
       "      <th>0</th>\n",
       "      <td>439023483</td>\n",
       "      <td>2008.0</td>\n",
       "      <td>eng</td>\n",
       "      <td>4.34</td>\n",
       "      <td>4780653</td>\n",
       "      <td>66715</td>\n",
       "      <td>127936</td>\n",
       "      <td>560092</td>\n",
       "      <td>1481305</td>\n",
       "      <td>2706317</td>\n",
       "    </tr>\n",
       "    <tr>\n",
       "      <th>1</th>\n",
       "      <td>439554934</td>\n",
       "      <td>1997.0</td>\n",
       "      <td>eng</td>\n",
       "      <td>4.44</td>\n",
       "      <td>4602479</td>\n",
       "      <td>75504</td>\n",
       "      <td>101676</td>\n",
       "      <td>455024</td>\n",
       "      <td>1156318</td>\n",
       "      <td>3011543</td>\n",
       "    </tr>\n",
       "    <tr>\n",
       "      <th>2</th>\n",
       "      <td>316015849</td>\n",
       "      <td>2005.0</td>\n",
       "      <td>en-US</td>\n",
       "      <td>3.57</td>\n",
       "      <td>3866839</td>\n",
       "      <td>456191</td>\n",
       "      <td>436802</td>\n",
       "      <td>793319</td>\n",
       "      <td>875073</td>\n",
       "      <td>1355439</td>\n",
       "    </tr>\n",
       "    <tr>\n",
       "      <th>3</th>\n",
       "      <td>61120081</td>\n",
       "      <td>1960.0</td>\n",
       "      <td>eng</td>\n",
       "      <td>4.25</td>\n",
       "      <td>3198671</td>\n",
       "      <td>60427</td>\n",
       "      <td>117415</td>\n",
       "      <td>446835</td>\n",
       "      <td>1001952</td>\n",
       "      <td>1714267</td>\n",
       "    </tr>\n",
       "    <tr>\n",
       "      <th>4</th>\n",
       "      <td>743273567</td>\n",
       "      <td>1925.0</td>\n",
       "      <td>eng</td>\n",
       "      <td>3.89</td>\n",
       "      <td>2683664</td>\n",
       "      <td>86236</td>\n",
       "      <td>197621</td>\n",
       "      <td>606158</td>\n",
       "      <td>936012</td>\n",
       "      <td>947718</td>\n",
       "    </tr>\n",
       "  </tbody>\n",
       "</table>\n",
       "</div>"
      ],
      "text/plain": [
       "        isbn  original_publication_year language_code  average_rating  \\\n",
       "0  439023483                     2008.0           eng            4.34   \n",
       "1  439554934                     1997.0           eng            4.44   \n",
       "2  316015849                     2005.0         en-US            3.57   \n",
       "3   61120081                     1960.0           eng            4.25   \n",
       "4  743273567                     1925.0           eng            3.89   \n",
       "\n",
       "   ratings_count  ratings_1  ratings_2  ratings_3  ratings_4  ratings_5  \n",
       "0        4780653      66715     127936     560092    1481305    2706317  \n",
       "1        4602479      75504     101676     455024    1156318    3011543  \n",
       "2        3866839     456191     436802     793319     875073    1355439  \n",
       "3        3198671      60427     117415     446835    1001952    1714267  \n",
       "4        2683664      86236     197621     606158     936012     947718  "
      ]
     },
     "execution_count": 199,
     "metadata": {},
     "output_type": "execute_result"
    }
   ],
   "source": [
    "books_by_isbn = books_by_isbn.loc[(books_by_isbn['language_code'] == 'en-US') | (books_by_isbn['language_code'] == 'eng')]\n",
    "books_by_isbn.head()"
   ]
  },
  {
   "cell_type": "code",
   "execution_count": 200,
   "id": "640a90ee-36d4-480c-a740-86dbb3e503e2",
   "metadata": {
    "tags": []
   },
   "outputs": [
    {
     "name": "stdout",
     "output_type": "stream",
     "text": [
      "<class 'pandas.core.frame.DataFrame'>\n",
      "Int64Index: 8411 entries, 0 to 9998\n",
      "Data columns (total 10 columns):\n",
      " #   Column                     Non-Null Count  Dtype  \n",
      "---  ------                     --------------  -----  \n",
      " 0   isbn                       7864 non-null   object \n",
      " 1   original_publication_year  8396 non-null   float64\n",
      " 2   language_code              8411 non-null   object \n",
      " 3   average_rating             8411 non-null   float64\n",
      " 4   ratings_count              8411 non-null   int64  \n",
      " 5   ratings_1                  8411 non-null   int64  \n",
      " 6   ratings_2                  8411 non-null   int64  \n",
      " 7   ratings_3                  8411 non-null   int64  \n",
      " 8   ratings_4                  8411 non-null   int64  \n",
      " 9   ratings_5                  8411 non-null   int64  \n",
      "dtypes: float64(2), int64(6), object(2)\n",
      "memory usage: 722.8+ KB\n"
     ]
    }
   ],
   "source": [
    "books_by_isbn.info()"
   ]
  },
  {
   "cell_type": "code",
   "execution_count": 204,
   "id": "c4e7dd10-debd-480f-b042-6aff1e54bc87",
   "metadata": {
    "tags": []
   },
   "outputs": [],
   "source": [
    "books_by_isbn = books_by_isbn.dropna()"
   ]
  },
  {
   "cell_type": "code",
   "execution_count": 205,
   "id": "1775801c-a1ff-4577-8d69-2a44d612843c",
   "metadata": {
    "tags": []
   },
   "outputs": [
    {
     "name": "stdout",
     "output_type": "stream",
     "text": [
      "<class 'pandas.core.frame.DataFrame'>\n",
      "Int64Index: 7851 entries, 0 to 9998\n",
      "Data columns (total 10 columns):\n",
      " #   Column                     Non-Null Count  Dtype  \n",
      "---  ------                     --------------  -----  \n",
      " 0   isbn                       7851 non-null   object \n",
      " 1   original_publication_year  7851 non-null   float64\n",
      " 2   language_code              7851 non-null   object \n",
      " 3   average_rating             7851 non-null   float64\n",
      " 4   ratings_count              7851 non-null   int64  \n",
      " 5   ratings_1                  7851 non-null   int64  \n",
      " 6   ratings_2                  7851 non-null   int64  \n",
      " 7   ratings_3                  7851 non-null   int64  \n",
      " 8   ratings_4                  7851 non-null   int64  \n",
      " 9   ratings_5                  7851 non-null   int64  \n",
      "dtypes: float64(2), int64(6), object(2)\n",
      "memory usage: 674.7+ KB\n"
     ]
    }
   ],
   "source": [
    "books_by_isbn.info()"
   ]
  },
  {
   "cell_type": "code",
   "execution_count": 206,
   "id": "670e8d56-9833-443e-b0f6-e5d2ceae879e",
   "metadata": {
    "tags": []
   },
   "outputs": [],
   "source": [
    "books_by_isbn.average_rating = books_by_isbn.average_rating.round()"
   ]
  },
  {
   "cell_type": "code",
   "execution_count": 207,
   "id": "6cc85c82-7f9b-483b-9ffc-45aec77aaf87",
   "metadata": {
    "tags": []
   },
   "outputs": [
    {
     "data": {
      "text/html": [
       "<div>\n",
       "<style scoped>\n",
       "    .dataframe tbody tr th:only-of-type {\n",
       "        vertical-align: middle;\n",
       "    }\n",
       "\n",
       "    .dataframe tbody tr th {\n",
       "        vertical-align: top;\n",
       "    }\n",
       "\n",
       "    .dataframe thead th {\n",
       "        text-align: right;\n",
       "    }\n",
       "</style>\n",
       "<table border=\"1\" class=\"dataframe\">\n",
       "  <thead>\n",
       "    <tr style=\"text-align: right;\">\n",
       "      <th></th>\n",
       "      <th>isbn</th>\n",
       "      <th>original_publication_year</th>\n",
       "      <th>language_code</th>\n",
       "      <th>average_rating</th>\n",
       "      <th>ratings_count</th>\n",
       "      <th>ratings_1</th>\n",
       "      <th>ratings_2</th>\n",
       "      <th>ratings_3</th>\n",
       "      <th>ratings_4</th>\n",
       "      <th>ratings_5</th>\n",
       "    </tr>\n",
       "  </thead>\n",
       "  <tbody>\n",
       "    <tr>\n",
       "      <th>0</th>\n",
       "      <td>439023483</td>\n",
       "      <td>2008.0</td>\n",
       "      <td>eng</td>\n",
       "      <td>4.0</td>\n",
       "      <td>4780653</td>\n",
       "      <td>66715</td>\n",
       "      <td>127936</td>\n",
       "      <td>560092</td>\n",
       "      <td>1481305</td>\n",
       "      <td>2706317</td>\n",
       "    </tr>\n",
       "    <tr>\n",
       "      <th>1</th>\n",
       "      <td>439554934</td>\n",
       "      <td>1997.0</td>\n",
       "      <td>eng</td>\n",
       "      <td>4.0</td>\n",
       "      <td>4602479</td>\n",
       "      <td>75504</td>\n",
       "      <td>101676</td>\n",
       "      <td>455024</td>\n",
       "      <td>1156318</td>\n",
       "      <td>3011543</td>\n",
       "    </tr>\n",
       "    <tr>\n",
       "      <th>2</th>\n",
       "      <td>316015849</td>\n",
       "      <td>2005.0</td>\n",
       "      <td>en-US</td>\n",
       "      <td>4.0</td>\n",
       "      <td>3866839</td>\n",
       "      <td>456191</td>\n",
       "      <td>436802</td>\n",
       "      <td>793319</td>\n",
       "      <td>875073</td>\n",
       "      <td>1355439</td>\n",
       "    </tr>\n",
       "    <tr>\n",
       "      <th>3</th>\n",
       "      <td>61120081</td>\n",
       "      <td>1960.0</td>\n",
       "      <td>eng</td>\n",
       "      <td>4.0</td>\n",
       "      <td>3198671</td>\n",
       "      <td>60427</td>\n",
       "      <td>117415</td>\n",
       "      <td>446835</td>\n",
       "      <td>1001952</td>\n",
       "      <td>1714267</td>\n",
       "    </tr>\n",
       "    <tr>\n",
       "      <th>4</th>\n",
       "      <td>743273567</td>\n",
       "      <td>1925.0</td>\n",
       "      <td>eng</td>\n",
       "      <td>4.0</td>\n",
       "      <td>2683664</td>\n",
       "      <td>86236</td>\n",
       "      <td>197621</td>\n",
       "      <td>606158</td>\n",
       "      <td>936012</td>\n",
       "      <td>947718</td>\n",
       "    </tr>\n",
       "  </tbody>\n",
       "</table>\n",
       "</div>"
      ],
      "text/plain": [
       "        isbn  original_publication_year language_code  average_rating  \\\n",
       "0  439023483                     2008.0           eng             4.0   \n",
       "1  439554934                     1997.0           eng             4.0   \n",
       "2  316015849                     2005.0         en-US             4.0   \n",
       "3   61120081                     1960.0           eng             4.0   \n",
       "4  743273567                     1925.0           eng             4.0   \n",
       "\n",
       "   ratings_count  ratings_1  ratings_2  ratings_3  ratings_4  ratings_5  \n",
       "0        4780653      66715     127936     560092    1481305    2706317  \n",
       "1        4602479      75504     101676     455024    1156318    3011543  \n",
       "2        3866839     456191     436802     793319     875073    1355439  \n",
       "3        3198671      60427     117415     446835    1001952    1714267  \n",
       "4        2683664      86236     197621     606158     936012     947718  "
      ]
     },
     "execution_count": 207,
     "metadata": {},
     "output_type": "execute_result"
    }
   ],
   "source": [
    "books_by_isbn.head()"
   ]
  },
  {
   "cell_type": "code",
   "execution_count": 208,
   "id": "07cd6019-5302-4678-9840-58f24e5e2df7",
   "metadata": {
    "tags": []
   },
   "outputs": [
    {
     "data": {
      "text/plain": [
       "4.0    7493\n",
       "3.0     264\n",
       "5.0      93\n",
       "2.0       1\n",
       "Name: average_rating, dtype: int64"
      ]
     },
     "execution_count": 208,
     "metadata": {},
     "output_type": "execute_result"
    }
   ],
   "source": [
    "books_by_isbn.average_rating.value_counts()"
   ]
  },
  {
   "cell_type": "code",
   "execution_count": 209,
   "id": "4a241a82-82f8-4883-944c-4763c087a7f5",
   "metadata": {
    "tags": []
   },
   "outputs": [
    {
     "data": {
      "text/plain": [
       "(7851, 10)"
      ]
     },
     "execution_count": 209,
     "metadata": {},
     "output_type": "execute_result"
    }
   ],
   "source": [
    "books_by_isbn.shape"
   ]
  },
  {
   "cell_type": "code",
   "execution_count": 211,
   "id": "76b5325d-dc1e-439e-90bf-cbb8616b65cd",
   "metadata": {
    "tags": []
   },
   "outputs": [],
   "source": [
    "# books_by_isbn.to_csv('books_by_isbn.csv', index=False)"
   ]
  },
  {
   "cell_type": "markdown",
   "id": "8ce7e3b9-31d8-4eb6-9e29-2780789e851d",
   "metadata": {},
   "source": [
    "# Cleaning for Binary Classification:"
   ]
  },
  {
   "cell_type": "code",
   "execution_count": 5,
   "id": "79b556fb-690d-4f69-b66c-98e8a1e8e99e",
   "metadata": {
    "tags": []
   },
   "outputs": [
    {
     "name": "stdout",
     "output_type": "stream",
     "text": [
      "<class 'pandas.core.frame.DataFrame'>\n",
      "RangeIndex: 10000 entries, 0 to 9999\n",
      "Data columns (total 23 columns):\n",
      " #   Column                     Non-Null Count  Dtype  \n",
      "---  ------                     --------------  -----  \n",
      " 0   book_id                    10000 non-null  int64  \n",
      " 1   goodreads_book_id          10000 non-null  int64  \n",
      " 2   best_book_id               10000 non-null  int64  \n",
      " 3   work_id                    10000 non-null  int64  \n",
      " 4   books_count                10000 non-null  int64  \n",
      " 5   isbn                       9300 non-null   object \n",
      " 6   isbn13                     9415 non-null   float64\n",
      " 7   authors                    10000 non-null  object \n",
      " 8   original_publication_year  9979 non-null   float64\n",
      " 9   original_title             9415 non-null   object \n",
      " 10  title                      10000 non-null  object \n",
      " 11  language_code              8916 non-null   object \n",
      " 12  average_rating             10000 non-null  float64\n",
      " 13  ratings_count              10000 non-null  int64  \n",
      " 14  work_ratings_count         10000 non-null  int64  \n",
      " 15  work_text_reviews_count    10000 non-null  int64  \n",
      " 16  ratings_1                  10000 non-null  int64  \n",
      " 17  ratings_2                  10000 non-null  int64  \n",
      " 18  ratings_3                  10000 non-null  int64  \n",
      " 19  ratings_4                  10000 non-null  int64  \n",
      " 20  ratings_5                  10000 non-null  int64  \n",
      " 21  image_url                  10000 non-null  object \n",
      " 22  small_image_url            10000 non-null  object \n",
      "dtypes: float64(3), int64(13), object(7)\n",
      "memory usage: 1.8+ MB\n"
     ]
    }
   ],
   "source": [
    "books.info()"
   ]
  },
  {
   "cell_type": "code",
   "execution_count": 7,
   "id": "6ffd8b13-e89e-4ec3-b41e-348940f372f5",
   "metadata": {
    "tags": []
   },
   "outputs": [],
   "source": [
    "books.language_code.fillna('unknown', inplace=True)"
   ]
  },
  {
   "cell_type": "code",
   "execution_count": 8,
   "id": "aacc7360-3d0f-43e5-ba53-eb507917d902",
   "metadata": {
    "tags": []
   },
   "outputs": [],
   "source": [
    "books = books.loc[(books['language_code'] == 'en-US') | (books['language_code'] == 'eng')]"
   ]
  },
  {
   "cell_type": "code",
   "execution_count": 9,
   "id": "d390eefb-2024-4720-b630-f7828e9bac7f",
   "metadata": {
    "tags": []
   },
   "outputs": [
    {
     "data": {
      "text/plain": [
       "(8411, 23)"
      ]
     },
     "execution_count": 9,
     "metadata": {},
     "output_type": "execute_result"
    }
   ],
   "source": [
    "books.shape"
   ]
  },
  {
   "cell_type": "code",
   "execution_count": 11,
   "id": "9967f299-a586-4470-8cec-b167fd71eba0",
   "metadata": {
    "tags": []
   },
   "outputs": [
    {
     "name": "stdout",
     "output_type": "stream",
     "text": [
      "<class 'pandas.core.frame.DataFrame'>\n",
      "Int64Index: 8411 entries, 0 to 9998\n",
      "Data columns (total 23 columns):\n",
      " #   Column                     Non-Null Count  Dtype  \n",
      "---  ------                     --------------  -----  \n",
      " 0   book_id                    8411 non-null   int64  \n",
      " 1   goodreads_book_id          8411 non-null   int64  \n",
      " 2   best_book_id               8411 non-null   int64  \n",
      " 3   work_id                    8411 non-null   int64  \n",
      " 4   books_count                8411 non-null   int64  \n",
      " 5   isbn                       7864 non-null   object \n",
      " 6   isbn13                     7940 non-null   float64\n",
      " 7   authors                    8411 non-null   object \n",
      " 8   original_publication_year  8396 non-null   float64\n",
      " 9   original_title             7948 non-null   object \n",
      " 10  title                      8411 non-null   object \n",
      " 11  language_code              8411 non-null   object \n",
      " 12  average_rating             8411 non-null   float64\n",
      " 13  ratings_count              8411 non-null   int64  \n",
      " 14  work_ratings_count         8411 non-null   int64  \n",
      " 15  work_text_reviews_count    8411 non-null   int64  \n",
      " 16  ratings_1                  8411 non-null   int64  \n",
      " 17  ratings_2                  8411 non-null   int64  \n",
      " 18  ratings_3                  8411 non-null   int64  \n",
      " 19  ratings_4                  8411 non-null   int64  \n",
      " 20  ratings_5                  8411 non-null   int64  \n",
      " 21  image_url                  8411 non-null   object \n",
      " 22  small_image_url            8411 non-null   object \n",
      "dtypes: float64(3), int64(13), object(7)\n",
      "memory usage: 1.5+ MB\n"
     ]
    }
   ],
   "source": [
    "books.info()"
   ]
  },
  {
   "cell_type": "code",
   "execution_count": 12,
   "id": "38a56223-3320-4105-8165-c507965172e1",
   "metadata": {
    "tags": []
   },
   "outputs": [
    {
     "data": {
      "text/html": [
       "<div>\n",
       "<style scoped>\n",
       "    .dataframe tbody tr th:only-of-type {\n",
       "        vertical-align: middle;\n",
       "    }\n",
       "\n",
       "    .dataframe tbody tr th {\n",
       "        vertical-align: top;\n",
       "    }\n",
       "\n",
       "    .dataframe thead th {\n",
       "        text-align: right;\n",
       "    }\n",
       "</style>\n",
       "<table border=\"1\" class=\"dataframe\">\n",
       "  <thead>\n",
       "    <tr style=\"text-align: right;\">\n",
       "      <th></th>\n",
       "      <th>book_id</th>\n",
       "      <th>goodreads_book_id</th>\n",
       "      <th>best_book_id</th>\n",
       "      <th>work_id</th>\n",
       "      <th>books_count</th>\n",
       "      <th>isbn</th>\n",
       "      <th>isbn13</th>\n",
       "      <th>authors</th>\n",
       "      <th>original_publication_year</th>\n",
       "      <th>original_title</th>\n",
       "      <th>title</th>\n",
       "      <th>language_code</th>\n",
       "      <th>average_rating</th>\n",
       "      <th>ratings_count</th>\n",
       "      <th>work_ratings_count</th>\n",
       "      <th>work_text_reviews_count</th>\n",
       "      <th>ratings_1</th>\n",
       "      <th>ratings_2</th>\n",
       "      <th>ratings_3</th>\n",
       "      <th>ratings_4</th>\n",
       "      <th>ratings_5</th>\n",
       "      <th>image_url</th>\n",
       "      <th>small_image_url</th>\n",
       "    </tr>\n",
       "  </thead>\n",
       "  <tbody>\n",
       "    <tr>\n",
       "      <th>0</th>\n",
       "      <td>1</td>\n",
       "      <td>2767052</td>\n",
       "      <td>2767052</td>\n",
       "      <td>2792775</td>\n",
       "      <td>272</td>\n",
       "      <td>439023483</td>\n",
       "      <td>9.780439e+12</td>\n",
       "      <td>Suzanne Collins</td>\n",
       "      <td>2008.0</td>\n",
       "      <td>The Hunger Games</td>\n",
       "      <td>The Hunger Games (The Hunger Games, #1)</td>\n",
       "      <td>eng</td>\n",
       "      <td>4.34</td>\n",
       "      <td>4780653</td>\n",
       "      <td>4942365</td>\n",
       "      <td>155254</td>\n",
       "      <td>66715</td>\n",
       "      <td>127936</td>\n",
       "      <td>560092</td>\n",
       "      <td>1481305</td>\n",
       "      <td>2706317</td>\n",
       "      <td>https://images.gr-assets.com/books/1447303603m...</td>\n",
       "      <td>https://images.gr-assets.com/books/1447303603s...</td>\n",
       "    </tr>\n",
       "    <tr>\n",
       "      <th>1</th>\n",
       "      <td>2</td>\n",
       "      <td>3</td>\n",
       "      <td>3</td>\n",
       "      <td>4640799</td>\n",
       "      <td>491</td>\n",
       "      <td>439554934</td>\n",
       "      <td>9.780440e+12</td>\n",
       "      <td>J.K. Rowling, Mary GrandPré</td>\n",
       "      <td>1997.0</td>\n",
       "      <td>Harry Potter and the Philosopher's Stone</td>\n",
       "      <td>Harry Potter and the Sorcerer's Stone (Harry P...</td>\n",
       "      <td>eng</td>\n",
       "      <td>4.44</td>\n",
       "      <td>4602479</td>\n",
       "      <td>4800065</td>\n",
       "      <td>75867</td>\n",
       "      <td>75504</td>\n",
       "      <td>101676</td>\n",
       "      <td>455024</td>\n",
       "      <td>1156318</td>\n",
       "      <td>3011543</td>\n",
       "      <td>https://images.gr-assets.com/books/1474154022m...</td>\n",
       "      <td>https://images.gr-assets.com/books/1474154022s...</td>\n",
       "    </tr>\n",
       "    <tr>\n",
       "      <th>2</th>\n",
       "      <td>3</td>\n",
       "      <td>41865</td>\n",
       "      <td>41865</td>\n",
       "      <td>3212258</td>\n",
       "      <td>226</td>\n",
       "      <td>316015849</td>\n",
       "      <td>9.780316e+12</td>\n",
       "      <td>Stephenie Meyer</td>\n",
       "      <td>2005.0</td>\n",
       "      <td>Twilight</td>\n",
       "      <td>Twilight (Twilight, #1)</td>\n",
       "      <td>en-US</td>\n",
       "      <td>3.57</td>\n",
       "      <td>3866839</td>\n",
       "      <td>3916824</td>\n",
       "      <td>95009</td>\n",
       "      <td>456191</td>\n",
       "      <td>436802</td>\n",
       "      <td>793319</td>\n",
       "      <td>875073</td>\n",
       "      <td>1355439</td>\n",
       "      <td>https://images.gr-assets.com/books/1361039443m...</td>\n",
       "      <td>https://images.gr-assets.com/books/1361039443s...</td>\n",
       "    </tr>\n",
       "    <tr>\n",
       "      <th>3</th>\n",
       "      <td>4</td>\n",
       "      <td>2657</td>\n",
       "      <td>2657</td>\n",
       "      <td>3275794</td>\n",
       "      <td>487</td>\n",
       "      <td>61120081</td>\n",
       "      <td>9.780061e+12</td>\n",
       "      <td>Harper Lee</td>\n",
       "      <td>1960.0</td>\n",
       "      <td>To Kill a Mockingbird</td>\n",
       "      <td>To Kill a Mockingbird</td>\n",
       "      <td>eng</td>\n",
       "      <td>4.25</td>\n",
       "      <td>3198671</td>\n",
       "      <td>3340896</td>\n",
       "      <td>72586</td>\n",
       "      <td>60427</td>\n",
       "      <td>117415</td>\n",
       "      <td>446835</td>\n",
       "      <td>1001952</td>\n",
       "      <td>1714267</td>\n",
       "      <td>https://images.gr-assets.com/books/1361975680m...</td>\n",
       "      <td>https://images.gr-assets.com/books/1361975680s...</td>\n",
       "    </tr>\n",
       "    <tr>\n",
       "      <th>4</th>\n",
       "      <td>5</td>\n",
       "      <td>4671</td>\n",
       "      <td>4671</td>\n",
       "      <td>245494</td>\n",
       "      <td>1356</td>\n",
       "      <td>743273567</td>\n",
       "      <td>9.780743e+12</td>\n",
       "      <td>F. Scott Fitzgerald</td>\n",
       "      <td>1925.0</td>\n",
       "      <td>The Great Gatsby</td>\n",
       "      <td>The Great Gatsby</td>\n",
       "      <td>eng</td>\n",
       "      <td>3.89</td>\n",
       "      <td>2683664</td>\n",
       "      <td>2773745</td>\n",
       "      <td>51992</td>\n",
       "      <td>86236</td>\n",
       "      <td>197621</td>\n",
       "      <td>606158</td>\n",
       "      <td>936012</td>\n",
       "      <td>947718</td>\n",
       "      <td>https://images.gr-assets.com/books/1490528560m...</td>\n",
       "      <td>https://images.gr-assets.com/books/1490528560s...</td>\n",
       "    </tr>\n",
       "  </tbody>\n",
       "</table>\n",
       "</div>"
      ],
      "text/plain": [
       "   book_id  goodreads_book_id  best_book_id  work_id  books_count       isbn  \\\n",
       "0        1            2767052       2767052  2792775          272  439023483   \n",
       "1        2                  3             3  4640799          491  439554934   \n",
       "2        3              41865         41865  3212258          226  316015849   \n",
       "3        4               2657          2657  3275794          487   61120081   \n",
       "4        5               4671          4671   245494         1356  743273567   \n",
       "\n",
       "         isbn13                      authors  original_publication_year  \\\n",
       "0  9.780439e+12              Suzanne Collins                     2008.0   \n",
       "1  9.780440e+12  J.K. Rowling, Mary GrandPré                     1997.0   \n",
       "2  9.780316e+12              Stephenie Meyer                     2005.0   \n",
       "3  9.780061e+12                   Harper Lee                     1960.0   \n",
       "4  9.780743e+12          F. Scott Fitzgerald                     1925.0   \n",
       "\n",
       "                             original_title  \\\n",
       "0                          The Hunger Games   \n",
       "1  Harry Potter and the Philosopher's Stone   \n",
       "2                                  Twilight   \n",
       "3                     To Kill a Mockingbird   \n",
       "4                          The Great Gatsby   \n",
       "\n",
       "                                               title language_code  \\\n",
       "0            The Hunger Games (The Hunger Games, #1)           eng   \n",
       "1  Harry Potter and the Sorcerer's Stone (Harry P...           eng   \n",
       "2                            Twilight (Twilight, #1)         en-US   \n",
       "3                              To Kill a Mockingbird           eng   \n",
       "4                                   The Great Gatsby           eng   \n",
       "\n",
       "   average_rating  ratings_count  work_ratings_count  work_text_reviews_count  \\\n",
       "0            4.34        4780653             4942365                   155254   \n",
       "1            4.44        4602479             4800065                    75867   \n",
       "2            3.57        3866839             3916824                    95009   \n",
       "3            4.25        3198671             3340896                    72586   \n",
       "4            3.89        2683664             2773745                    51992   \n",
       "\n",
       "   ratings_1  ratings_2  ratings_3  ratings_4  ratings_5  \\\n",
       "0      66715     127936     560092    1481305    2706317   \n",
       "1      75504     101676     455024    1156318    3011543   \n",
       "2     456191     436802     793319     875073    1355439   \n",
       "3      60427     117415     446835    1001952    1714267   \n",
       "4      86236     197621     606158     936012     947718   \n",
       "\n",
       "                                           image_url  \\\n",
       "0  https://images.gr-assets.com/books/1447303603m...   \n",
       "1  https://images.gr-assets.com/books/1474154022m...   \n",
       "2  https://images.gr-assets.com/books/1361039443m...   \n",
       "3  https://images.gr-assets.com/books/1361975680m...   \n",
       "4  https://images.gr-assets.com/books/1490528560m...   \n",
       "\n",
       "                                     small_image_url  \n",
       "0  https://images.gr-assets.com/books/1447303603s...  \n",
       "1  https://images.gr-assets.com/books/1474154022s...  \n",
       "2  https://images.gr-assets.com/books/1361039443s...  \n",
       "3  https://images.gr-assets.com/books/1361975680s...  \n",
       "4  https://images.gr-assets.com/books/1490528560s...  "
      ]
     },
     "execution_count": 12,
     "metadata": {},
     "output_type": "execute_result"
    }
   ],
   "source": [
    "books.head()"
   ]
  },
  {
   "cell_type": "code",
   "execution_count": 13,
   "id": "ec931381-07b8-4da0-9a67-9b5e99f41bdd",
   "metadata": {
    "tags": []
   },
   "outputs": [],
   "source": [
    "books = books[['isbn', 'authors', 'original_publication_year', 'title', 'average_rating', 'ratings_count', 'ratings_1', 'ratings_2' , 'ratings_3', 'ratings_4', 'ratings_5']]"
   ]
  },
  {
   "cell_type": "code",
   "execution_count": 14,
   "id": "37b593a7-4b7f-4a34-a374-4ac1f6f12fb9",
   "metadata": {
    "tags": []
   },
   "outputs": [
    {
     "name": "stdout",
     "output_type": "stream",
     "text": [
      "<class 'pandas.core.frame.DataFrame'>\n",
      "Int64Index: 8411 entries, 0 to 9998\n",
      "Data columns (total 11 columns):\n",
      " #   Column                     Non-Null Count  Dtype  \n",
      "---  ------                     --------------  -----  \n",
      " 0   isbn                       7864 non-null   object \n",
      " 1   authors                    8411 non-null   object \n",
      " 2   original_publication_year  8396 non-null   float64\n",
      " 3   title                      8411 non-null   object \n",
      " 4   average_rating             8411 non-null   float64\n",
      " 5   ratings_count              8411 non-null   int64  \n",
      " 6   ratings_1                  8411 non-null   int64  \n",
      " 7   ratings_2                  8411 non-null   int64  \n",
      " 8   ratings_3                  8411 non-null   int64  \n",
      " 9   ratings_4                  8411 non-null   int64  \n",
      " 10  ratings_5                  8411 non-null   int64  \n",
      "dtypes: float64(2), int64(6), object(3)\n",
      "memory usage: 788.5+ KB\n"
     ]
    }
   ],
   "source": [
    "books.info()"
   ]
  },
  {
   "cell_type": "code",
   "execution_count": 24,
   "id": "082e9854-0dd3-469c-a54e-a4dc66921606",
   "metadata": {
    "tags": []
   },
   "outputs": [
    {
     "name": "stderr",
     "output_type": "stream",
     "text": [
      "/var/folders/w4/lpzl5f8j3kx7kch0q9wglx4c0000gn/T/ipykernel_54526/1394615522.py:7: SettingWithCopyWarning: \n",
      "A value is trying to be set on a copy of a slice from a DataFrame.\n",
      "Try using .loc[row_indexer,col_indexer] = value instead\n",
      "\n",
      "See the caveats in the documentation: https://pandas.pydata.org/pandas-docs/stable/user_guide/indexing.html#returning-a-view-versus-a-copy\n",
      "  books['should_i_read'] = books['average_rating'].apply(map_avg)\n"
     ]
    }
   ],
   "source": [
    "def map_avg(avg):\n",
    "    if avg >= 4:\n",
    "        return 1 #Yes\n",
    "    else:\n",
    "        return 0 #No\n",
    "    \n",
    "books['should_i_read'] = books['average_rating'].apply(map_avg)"
   ]
  },
  {
   "cell_type": "code",
   "execution_count": 25,
   "id": "2c7d4370-4f4c-4ff4-8c81-8aa75af46fa2",
   "metadata": {
    "tags": []
   },
   "outputs": [
    {
     "data": {
      "text/html": [
       "<div>\n",
       "<style scoped>\n",
       "    .dataframe tbody tr th:only-of-type {\n",
       "        vertical-align: middle;\n",
       "    }\n",
       "\n",
       "    .dataframe tbody tr th {\n",
       "        vertical-align: top;\n",
       "    }\n",
       "\n",
       "    .dataframe thead th {\n",
       "        text-align: right;\n",
       "    }\n",
       "</style>\n",
       "<table border=\"1\" class=\"dataframe\">\n",
       "  <thead>\n",
       "    <tr style=\"text-align: right;\">\n",
       "      <th></th>\n",
       "      <th>isbn</th>\n",
       "      <th>authors</th>\n",
       "      <th>original_publication_year</th>\n",
       "      <th>title</th>\n",
       "      <th>average_rating</th>\n",
       "      <th>ratings_count</th>\n",
       "      <th>ratings_1</th>\n",
       "      <th>ratings_2</th>\n",
       "      <th>ratings_3</th>\n",
       "      <th>ratings_4</th>\n",
       "      <th>ratings_5</th>\n",
       "      <th>should_i_read</th>\n",
       "    </tr>\n",
       "  </thead>\n",
       "  <tbody>\n",
       "    <tr>\n",
       "      <th>0</th>\n",
       "      <td>439023483</td>\n",
       "      <td>Suzanne Collins</td>\n",
       "      <td>2008.0</td>\n",
       "      <td>The Hunger Games (The Hunger Games, #1)</td>\n",
       "      <td>4.34</td>\n",
       "      <td>4780653</td>\n",
       "      <td>66715</td>\n",
       "      <td>127936</td>\n",
       "      <td>560092</td>\n",
       "      <td>1481305</td>\n",
       "      <td>2706317</td>\n",
       "      <td>1</td>\n",
       "    </tr>\n",
       "    <tr>\n",
       "      <th>1</th>\n",
       "      <td>439554934</td>\n",
       "      <td>J.K. Rowling, Mary GrandPré</td>\n",
       "      <td>1997.0</td>\n",
       "      <td>Harry Potter and the Sorcerer's Stone (Harry P...</td>\n",
       "      <td>4.44</td>\n",
       "      <td>4602479</td>\n",
       "      <td>75504</td>\n",
       "      <td>101676</td>\n",
       "      <td>455024</td>\n",
       "      <td>1156318</td>\n",
       "      <td>3011543</td>\n",
       "      <td>1</td>\n",
       "    </tr>\n",
       "    <tr>\n",
       "      <th>2</th>\n",
       "      <td>316015849</td>\n",
       "      <td>Stephenie Meyer</td>\n",
       "      <td>2005.0</td>\n",
       "      <td>Twilight (Twilight, #1)</td>\n",
       "      <td>3.57</td>\n",
       "      <td>3866839</td>\n",
       "      <td>456191</td>\n",
       "      <td>436802</td>\n",
       "      <td>793319</td>\n",
       "      <td>875073</td>\n",
       "      <td>1355439</td>\n",
       "      <td>0</td>\n",
       "    </tr>\n",
       "    <tr>\n",
       "      <th>3</th>\n",
       "      <td>61120081</td>\n",
       "      <td>Harper Lee</td>\n",
       "      <td>1960.0</td>\n",
       "      <td>To Kill a Mockingbird</td>\n",
       "      <td>4.25</td>\n",
       "      <td>3198671</td>\n",
       "      <td>60427</td>\n",
       "      <td>117415</td>\n",
       "      <td>446835</td>\n",
       "      <td>1001952</td>\n",
       "      <td>1714267</td>\n",
       "      <td>1</td>\n",
       "    </tr>\n",
       "    <tr>\n",
       "      <th>4</th>\n",
       "      <td>743273567</td>\n",
       "      <td>F. Scott Fitzgerald</td>\n",
       "      <td>1925.0</td>\n",
       "      <td>The Great Gatsby</td>\n",
       "      <td>3.89</td>\n",
       "      <td>2683664</td>\n",
       "      <td>86236</td>\n",
       "      <td>197621</td>\n",
       "      <td>606158</td>\n",
       "      <td>936012</td>\n",
       "      <td>947718</td>\n",
       "      <td>0</td>\n",
       "    </tr>\n",
       "  </tbody>\n",
       "</table>\n",
       "</div>"
      ],
      "text/plain": [
       "        isbn                      authors  original_publication_year  \\\n",
       "0  439023483              Suzanne Collins                     2008.0   \n",
       "1  439554934  J.K. Rowling, Mary GrandPré                     1997.0   \n",
       "2  316015849              Stephenie Meyer                     2005.0   \n",
       "3   61120081                   Harper Lee                     1960.0   \n",
       "4  743273567          F. Scott Fitzgerald                     1925.0   \n",
       "\n",
       "                                               title  average_rating  \\\n",
       "0            The Hunger Games (The Hunger Games, #1)            4.34   \n",
       "1  Harry Potter and the Sorcerer's Stone (Harry P...            4.44   \n",
       "2                            Twilight (Twilight, #1)            3.57   \n",
       "3                              To Kill a Mockingbird            4.25   \n",
       "4                                   The Great Gatsby            3.89   \n",
       "\n",
       "   ratings_count  ratings_1  ratings_2  ratings_3  ratings_4  ratings_5  \\\n",
       "0        4780653      66715     127936     560092    1481305    2706317   \n",
       "1        4602479      75504     101676     455024    1156318    3011543   \n",
       "2        3866839     456191     436802     793319     875073    1355439   \n",
       "3        3198671      60427     117415     446835    1001952    1714267   \n",
       "4        2683664      86236     197621     606158     936012     947718   \n",
       "\n",
       "   should_i_read  \n",
       "0              1  \n",
       "1              1  \n",
       "2              0  \n",
       "3              1  \n",
       "4              0  "
      ]
     },
     "execution_count": 25,
     "metadata": {},
     "output_type": "execute_result"
    }
   ],
   "source": [
    "books.head()"
   ]
  },
  {
   "cell_type": "code",
   "execution_count": 26,
   "id": "56152bf3-1179-40a2-8226-96c3a03174c1",
   "metadata": {
    "tags": []
   },
   "outputs": [
    {
     "data": {
      "text/plain": [
       "1    4497\n",
       "0    3914\n",
       "Name: should_i_read, dtype: int64"
      ]
     },
     "execution_count": 26,
     "metadata": {},
     "output_type": "execute_result"
    }
   ],
   "source": [
    "books.should_i_read.value_counts()"
   ]
  },
  {
   "cell_type": "code",
   "execution_count": 30,
   "id": "8f327833-9f89-4406-8cef-39b3812d64e5",
   "metadata": {
    "tags": []
   },
   "outputs": [
    {
     "data": {
      "text/plain": [
       "isbn                         547\n",
       "authors                        0\n",
       "original_publication_year     15\n",
       "title                          0\n",
       "average_rating                 0\n",
       "ratings_count                  0\n",
       "ratings_1                      0\n",
       "ratings_2                      0\n",
       "ratings_3                      0\n",
       "ratings_4                      0\n",
       "ratings_5                      0\n",
       "should_i_read                  0\n",
       "dtype: int64"
      ]
     },
     "execution_count": 30,
     "metadata": {},
     "output_type": "execute_result"
    }
   ],
   "source": [
    "books.isna().sum()"
   ]
  },
  {
   "cell_type": "code",
   "execution_count": 31,
   "id": "8421a299-9995-4e5f-b4f6-51e970e3590a",
   "metadata": {
    "tags": []
   },
   "outputs": [
    {
     "name": "stderr",
     "output_type": "stream",
     "text": [
      "/var/folders/w4/lpzl5f8j3kx7kch0q9wglx4c0000gn/T/ipykernel_54526/2979460607.py:1: SettingWithCopyWarning: \n",
      "A value is trying to be set on a copy of a slice from a DataFrame\n",
      "\n",
      "See the caveats in the documentation: https://pandas.pydata.org/pandas-docs/stable/user_guide/indexing.html#returning-a-view-versus-a-copy\n",
      "  books.dropna(inplace=True)\n"
     ]
    }
   ],
   "source": [
    "books.dropna(inplace=True)"
   ]
  },
  {
   "cell_type": "code",
   "execution_count": 32,
   "id": "893fb6fd-6ee9-4eea-bc39-b8d339690c4c",
   "metadata": {
    "tags": []
   },
   "outputs": [
    {
     "data": {
      "text/plain": [
       "isbn                         0\n",
       "authors                      0\n",
       "original_publication_year    0\n",
       "title                        0\n",
       "average_rating               0\n",
       "ratings_count                0\n",
       "ratings_1                    0\n",
       "ratings_2                    0\n",
       "ratings_3                    0\n",
       "ratings_4                    0\n",
       "ratings_5                    0\n",
       "should_i_read                0\n",
       "dtype: int64"
      ]
     },
     "execution_count": 32,
     "metadata": {},
     "output_type": "execute_result"
    }
   ],
   "source": [
    "books.isna().sum()"
   ]
  },
  {
   "cell_type": "code",
   "execution_count": 33,
   "id": "f7c958b5-d6cc-4cad-b937-06b0dd3b6dc2",
   "metadata": {
    "tags": []
   },
   "outputs": [
    {
     "data": {
      "text/plain": [
       "(7851, 12)"
      ]
     },
     "execution_count": 33,
     "metadata": {},
     "output_type": "execute_result"
    }
   ],
   "source": [
    "books.shape"
   ]
  },
  {
   "cell_type": "code",
   "execution_count": 35,
   "id": "f78ad336-7ae9-4e36-9c0f-c7d1f5823f4e",
   "metadata": {
    "tags": []
   },
   "outputs": [],
   "source": [
    "# books.to_csv('books_for_binary_classification.csv', index=False)"
   ]
  },
  {
   "cell_type": "code",
   "execution_count": null,
   "id": "8aa25497-1145-4e38-bc29-90b6bd759859",
   "metadata": {},
   "outputs": [],
   "source": []
  }
 ],
 "metadata": {
  "kernelspec": {
   "display_name": "Python 3 (ipykernel)",
   "language": "python",
   "name": "python3"
  },
  "language_info": {
   "codemirror_mode": {
    "name": "ipython",
    "version": 3
   },
   "file_extension": ".py",
   "mimetype": "text/x-python",
   "name": "python",
   "nbconvert_exporter": "python",
   "pygments_lexer": "ipython3",
   "version": "3.11.4"
  }
 },
 "nbformat": 4,
 "nbformat_minor": 5
}
