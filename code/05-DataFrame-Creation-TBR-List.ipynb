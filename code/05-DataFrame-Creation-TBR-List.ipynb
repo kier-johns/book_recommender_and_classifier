{
 "cells": [
  {
   "cell_type": "markdown",
   "id": "b363fef4-0f2f-4401-911a-197fd887d493",
   "metadata": {},
   "source": [
    "# Imports:"
   ]
  },
  {
   "cell_type": "code",
   "execution_count": 12,
   "id": "0adb6134-7a12-41e3-8b7a-7a22ec859e83",
   "metadata": {
    "tags": []
   },
   "outputs": [],
   "source": [
    "import pandas as pd"
   ]
  },
  {
   "cell_type": "markdown",
   "id": "c8392e6c-6d52-458c-aecf-d1b028809d7e",
   "metadata": {},
   "source": [
    "#### Create a df of all books on my 'to be read' list:"
   ]
  },
  {
   "cell_type": "code",
   "execution_count": 13,
   "id": "538936fa-b0a1-4c00-bee9-3e70c0386f37",
   "metadata": {
    "tags": []
   },
   "outputs": [],
   "source": [
    "data = [\n",
    "    {'author': 'Diana Gabaldon', 'title': 'Drangonfly in Amber'},\n",
    "    {'author': 'Caroline Peckham', 'title': 'The Awakening'},\n",
    "    {'author': 'Jennifer L. Armentrout', 'title': 'From Blood and Ash'},\n",
    "    {'author': 'Jon Krakauer', 'title': 'Under the Banner of Heaven: A Story of Violent Faith'},\n",
    "    {'author': 'Georgia Hunter', 'title': 'We Were the Lucky Ones'},\n",
    "    {'author': 'Hotel del Coronado Heritage Department', 'title': 'Beautiful Stranger: The Ghost Of Kate Morgan And The Hotel Del Coronado'},\n",
    "    {'author': 'Gene Miller', 'title': '83 Hours Till Dawn'},\n",
    "    {'author': 'Claudia Oshry', 'title': 'Girl With No Job: The Crazy Beautiful Life of an Instagram Thirst Monster'},\n",
    "    {'author': 'Andrew E. Kaufman', 'title': 'The Lion, The Lamb, The Hunted'},\n",
    "    {'author': 'Micheal Connelly', 'title': 'The Lincoln Lawyer'},\n",
    "    {'author': 'Laura Hillenbrand', 'title': 'Unbroken: A World War II Story of Survival, Resilience and Redemption'},\n",
    "    {'author': 'Jojo Moyes', 'title': 'Me Before You'},\n",
    "    {'author': 'Arthur C. Clarke', 'title': \"Childhood's End\"},\n",
    "    {'author': 'Justin Cronin', 'title': 'The Passage'},\n",
    "    {'author': 'Chad Thumann', 'title': 'The Undesirables'},\n",
    "    {'author': 'Stacy Willingham', 'title': 'A Flicker in the Dark'},\n",
    "    {'author': 'Miranda Cowley Heller', 'title': 'The Paper Palace'},\n",
    "    {'author': 'Simone St. James', 'title': 'The Book of Cold Cases'},\n",
    "    {'author': 'Casey McQuiston', 'title': 'Red, White & Royal Blue'},\n",
    "    {'author': 'Paul Hawkins', 'title': 'Into the Water'},\n",
    "    {'author': 'Pierce Brown', 'title': 'Red Rising'},\n",
    "    {'author': 'Katee Robert', 'title': 'Neon Gods'},\n",
    "    {'author': 'Scarlett St. Clair', 'title': 'A Touch of Darkness'},\n",
    "    {'author': 'Stacey Marie Brown', 'title': 'Savage Lands'},\n",
    "    {'author': 'Rebecca Ross', 'title': 'A River Enchanted'},\n",
    "    {'author': 'Brandon Sanderson', 'title': 'The Final Empire'},\n",
    "    {'author': 'Maggie Stiefvater', 'title': 'Shiver'},\n",
    "    {'author': 'Alex Aster', 'title': 'Lightlark'}\n",
    "]"
   ]
  },
  {
   "cell_type": "code",
   "execution_count": 14,
   "id": "3415336f-9487-429f-be15-4c54ddf35caa",
   "metadata": {
    "tags": []
   },
   "outputs": [],
   "source": [
    "authors_and_titles_tbr = pd.DataFrame(data)"
   ]
  },
  {
   "cell_type": "code",
   "execution_count": 15,
   "id": "927a2724-e637-4a36-9eca-cfbc39d97667",
   "metadata": {
    "tags": []
   },
   "outputs": [
    {
     "data": {
      "text/html": [
       "<div>\n",
       "<style scoped>\n",
       "    .dataframe tbody tr th:only-of-type {\n",
       "        vertical-align: middle;\n",
       "    }\n",
       "\n",
       "    .dataframe tbody tr th {\n",
       "        vertical-align: top;\n",
       "    }\n",
       "\n",
       "    .dataframe thead th {\n",
       "        text-align: right;\n",
       "    }\n",
       "</style>\n",
       "<table border=\"1\" class=\"dataframe\">\n",
       "  <thead>\n",
       "    <tr style=\"text-align: right;\">\n",
       "      <th></th>\n",
       "      <th>author</th>\n",
       "      <th>title</th>\n",
       "    </tr>\n",
       "  </thead>\n",
       "  <tbody>\n",
       "    <tr>\n",
       "      <th>0</th>\n",
       "      <td>Diana Gabaldon</td>\n",
       "      <td>Drangonfly in Amber</td>\n",
       "    </tr>\n",
       "    <tr>\n",
       "      <th>1</th>\n",
       "      <td>Caroline Peckham</td>\n",
       "      <td>The Awakening</td>\n",
       "    </tr>\n",
       "    <tr>\n",
       "      <th>2</th>\n",
       "      <td>Jennifer L. Armentrout</td>\n",
       "      <td>From Blood and Ash</td>\n",
       "    </tr>\n",
       "    <tr>\n",
       "      <th>3</th>\n",
       "      <td>Jon Krakauer</td>\n",
       "      <td>Under the Banner of Heaven: A Story of Violent...</td>\n",
       "    </tr>\n",
       "    <tr>\n",
       "      <th>4</th>\n",
       "      <td>Georgia Hunter</td>\n",
       "      <td>We Were the Lucky Ones</td>\n",
       "    </tr>\n",
       "  </tbody>\n",
       "</table>\n",
       "</div>"
      ],
      "text/plain": [
       "                   author                                              title\n",
       "0          Diana Gabaldon                                Drangonfly in Amber\n",
       "1        Caroline Peckham                                      The Awakening\n",
       "2  Jennifer L. Armentrout                                 From Blood and Ash\n",
       "3            Jon Krakauer  Under the Banner of Heaven: A Story of Violent...\n",
       "4          Georgia Hunter                             We Were the Lucky Ones"
      ]
     },
     "execution_count": 15,
     "metadata": {},
     "output_type": "execute_result"
    }
   ],
   "source": [
    "authors_and_titles_tbr.head()"
   ]
  },
  {
   "cell_type": "code",
   "execution_count": 16,
   "id": "3566df10-7ae8-4b7d-92c8-5c196ca4dce3",
   "metadata": {
    "tags": []
   },
   "outputs": [
    {
     "name": "stdout",
     "output_type": "stream",
     "text": [
      "<class 'pandas.core.frame.DataFrame'>\n",
      "RangeIndex: 28 entries, 0 to 27\n",
      "Data columns (total 2 columns):\n",
      " #   Column  Non-Null Count  Dtype \n",
      "---  ------  --------------  ----- \n",
      " 0   author  28 non-null     object\n",
      " 1   title   28 non-null     object\n",
      "dtypes: object(2)\n",
      "memory usage: 580.0+ bytes\n"
     ]
    }
   ],
   "source": [
    "authors_and_titles_tbr.info()"
   ]
  },
  {
   "cell_type": "code",
   "execution_count": 17,
   "id": "5b73c2bd-9d7b-47bd-a2de-0facad5447c5",
   "metadata": {
    "tags": []
   },
   "outputs": [],
   "source": [
    "# authors_and_titles_tbr.to_csv('authors_and_titles_tbr.csv', index=False)"
   ]
  },
  {
   "cell_type": "markdown",
   "id": "9ff90ef5-b681-4869-b205-e4ef58aef6b3",
   "metadata": {},
   "source": [
    "#### Create a df of other book info to include:\n",
    "- isbn\n",
    "- publication date\n",
    "- ratings count (total)\n",
    "- ratings count (of each star)"
   ]
  },
  {
   "cell_type": "code",
   "execution_count": 18,
   "id": "15f49b54-ed5d-4da5-88a1-466e228e5d29",
   "metadata": {
    "tags": []
   },
   "outputs": [],
   "source": [
    "data = [\n",
    "    {'isbn': '440215625', 'original_publication_year': 1992, 'ratings_count': 347569, 'ratings_1': 2241, 'ratings_2': 7552, 'ratings_3': 42197, 'ratings_4': 114917, 'ratings_5': 180662},\n",
    "    {'isbn': '914425022', 'original_publication_year': 2019, 'ratings_count': 127605, 'ratings_1': 3946, 'ratings_2': 7343, 'ratings_3': 28740, 'ratings_4': 44885, 'ratings_5': 42691},\n",
    "    {'isbn': '952457769', 'original_publication_year': 2020, 'ratings_count': 492577, 'ratings_1': 10670, 'ratings_2': 19053, 'ratings_3': 60622, 'ratings_4': 150507, 'ratings_5': 251725},\n",
    "    {'isbn': '330419129', 'original_publication_year': 2004, 'ratings_count': 14047, 'ratings_1': 3348, 'ratings_2': 8245, 'ratings_3': 39207, 'ratings_4': 85126, 'ratings_5': 66662},\n",
    "    {'isbn': '399563083', 'original_publication_year': 2017, 'ratings_count': 142715, 'ratings_1': 1062, 'ratings_2': 2124, 'ratings_3': 12669, 'ratings_4': 48620, 'ratings_5': 78240},\n",
    "    {'isbn': '91625173X', 'original_publication_year': 2002, 'ratings_count': 74, 'ratings_1': 2, 'ratings_2': 0, 'ratings_3': 26, 'ratings_4': 33, 'ratings_5': 13},\n",
    "    {'isbn': '385045980', 'original_publication_year': 1971, 'ratings_count': 90, 'ratings_1': 2, 'ratings_2': 5, 'ratings_3': 30, 'ratings_4': 28, 'ratings_5': 25},\n",
    "    {'isbn': '982142863', 'original_publication_year': 2021, 'ratings_count': 16712, 'ratings_1': 294, 'ratings_2': 1179, 'ratings_3': 4202, 'ratings_4': 5277, 'ratings_5': 5760},\n",
    "    {'isbn': '611099749', 'original_publication_year': 2013, 'ratings_count': 7659, 'ratings_1': 202, 'ratings_2': 537, 'ratings_3': 2025, 'ratings_4': 2895, 'ratings_5': 2000},\n",
    "    {'isbn': '455536482', 'original_publication_year': 2018, 'ratings_count': 230669, 'ratings_1': 1765, 'ratings_2': 4824, 'ratings_3': 34617, 'ratings_4': 93393, 'ratings_5': 96070},\n",
    "    {'isbn': '400064163', 'original_publication_year': 2010, 'ratings_count': 916216, 'ratings_1': 22580, 'ratings_2': 25190, 'ratings_3': 83479, 'ratings_4': 238974, 'ratings_5': 545993},\n",
    "    {'isbn': '143124544', 'original_publication_year': 2013, 'ratings_count': 1568826, 'ratings_1': 23214, 'ratings_2': 48203, 'ratings_3': 203876, 'ratings_4': 519734, 'ratings_5': 773799},\n",
    "    {'isbn': '345444051', 'original_publication_year': 1987, 'ratings_count': 155967, 'ratings_1': 1661, 'ratings_2': 5521, 'ratings_3': 27604, 'ratings_4': 59043, 'ratings_5': 62138},\n",
    "    {'isbn': '345504968', 'original_publication_year': 2010, 'ratings_count': 209027, 'ratings_1': 5122, 'ratings_2': 11260, 'ratings_3': 34884, 'ratings_4': 76214, 'ratings_5': 81547},\n",
    "    {'isbn': '503939967', 'original_publication_year': 2016, 'ratings_count': 1087, 'ratings_1': 13, 'ratings_2': 45, 'ratings_3': 231, 'ratings_4': 431, 'ratings_5': 367},\n",
    "    {'isbn': '250803829', 'original_publication_year': 2022, 'ratings_count': 323492, 'ratings_1': 2326, 'ratings_2': 11288, 'ratings_3': 66339, 'ratings_4': 146996, 'ratings_5': 96543},\n",
    "    {'isbn': '59332983X', 'original_publication_year': 2021, 'ratings_count': 298331, 'ratings_1': 6761, 'ratings_2': 18641, 'ratings_3': 72192, 'ratings_4': 123025, 'ratings_5': 77712},\n",
    "    {'isbn': '440000211', 'original_publication_year': 2022, 'ratings_count': 104011, 'ratings_1': 887, 'ratings_2': 5558, 'ratings_3': 29388, 'ratings_4': 46821, 'ratings_5': 21357},\n",
    "    {'isbn': '250316774', 'original_publication_year': 2019, 'ratings_count': 893344, 'ratings_1': 17887, 'ratings_2': 43968, 'ratings_3': 150061, 'ratings_4': 295922, 'ratings_5': 385506},\n",
    "    {'isbn': '735211205', 'original_publication_year': 2017, 'ratings_count': 378127, 'ratings_1': 9434, 'ratings_2': 34044, 'ratings_3': 127285, 'ratings_4': 137251, 'ratings_5': 70113},\n",
    "    {'isbn': '34553980X', 'original_publication_year': 2014, 'ratings_count': 382845, 'ratings_1': 6504, 'ratings_2': 13072, 'ratings_3': 45962, 'ratings_4': 124621, 'ratings_5': 192686},\n",
    "    {'isbn': '728231736', 'original_publication_year': 2021, 'ratings_count': 205319, 'ratings_1': 6797, 'ratings_2': 18752, 'ratings_3': 54859, 'ratings_4': 70528, 'ratings_5': 54383},\n",
    "    {'isbn': '728258456', 'original_publication_year': 2020, 'ratings_count': 256187, 'ratings_1': 7478, 'ratings_2': 19891, 'ratings_3': 60292, 'ratings_4': 89217, 'ratings_5': 79309},\n",
    "    {'isbn': '956600329', 'original_publication_year': 2020, 'ratings_count': 27438, 'ratings_1': 453, 'ratings_2': 1074, 'ratings_3': 4301, 'ratings_4': 10214, 'ratings_5': 11386},\n",
    "    {'isbn': '063055988', 'original_publication_year': 2022, 'ratings_count': 37728, 'ratings_1': 224, 'ratings_2': 1202, 'ratings_3': 6308, 'ratings_4': 16148, 'ratings_5': 13846},\n",
    "    {'isbn': '765311788', 'original_publication_year': 2006, 'ratings_count': 638924, 'ratings_1': 4751, 'ratings_2': 9493, 'ratings_3': 47921, 'ratings_4': 191800, 'ratings_5': 384959},\n",
    "    {'isbn': '545123267', 'original_publication_year': 2009, 'ratings_count': 475684, 'ratings_1': 23084, 'ratings_2': 45475, 'ratings_3': 112676, 'ratings_4': 134952, 'ratings_5': 159497},\n",
    "    {'isbn': '419760866', 'original_publication_year': 2022, 'ratings_count': 48202, 'ratings_1': 2809, 'ratings_2': 4165, 'ratings_3': 10576, 'ratings_4': 15516, 'ratings_5': 15136}\n",
    "]"
   ]
  },
  {
   "cell_type": "code",
   "execution_count": 19,
   "id": "096c16ce-eeca-4a3e-9e87-93a77b3b367c",
   "metadata": {
    "tags": []
   },
   "outputs": [],
   "source": [
    "books_by_isbn_tbr = pd.DataFrame(data)"
   ]
  },
  {
   "cell_type": "code",
   "execution_count": 20,
   "id": "7778ebe5-4878-4a39-8f41-1c85f3b2e899",
   "metadata": {
    "tags": []
   },
   "outputs": [
    {
     "data": {
      "text/html": [
       "<div>\n",
       "<style scoped>\n",
       "    .dataframe tbody tr th:only-of-type {\n",
       "        vertical-align: middle;\n",
       "    }\n",
       "\n",
       "    .dataframe tbody tr th {\n",
       "        vertical-align: top;\n",
       "    }\n",
       "\n",
       "    .dataframe thead th {\n",
       "        text-align: right;\n",
       "    }\n",
       "</style>\n",
       "<table border=\"1\" class=\"dataframe\">\n",
       "  <thead>\n",
       "    <tr style=\"text-align: right;\">\n",
       "      <th></th>\n",
       "      <th>isbn</th>\n",
       "      <th>original_publication_year</th>\n",
       "      <th>ratings_count</th>\n",
       "      <th>ratings_1</th>\n",
       "      <th>ratings_2</th>\n",
       "      <th>ratings_3</th>\n",
       "      <th>ratings_4</th>\n",
       "      <th>ratings_5</th>\n",
       "    </tr>\n",
       "  </thead>\n",
       "  <tbody>\n",
       "    <tr>\n",
       "      <th>0</th>\n",
       "      <td>440215625</td>\n",
       "      <td>1992</td>\n",
       "      <td>347569</td>\n",
       "      <td>2241</td>\n",
       "      <td>7552</td>\n",
       "      <td>42197</td>\n",
       "      <td>114917</td>\n",
       "      <td>180662</td>\n",
       "    </tr>\n",
       "    <tr>\n",
       "      <th>1</th>\n",
       "      <td>914425022</td>\n",
       "      <td>2019</td>\n",
       "      <td>127605</td>\n",
       "      <td>3946</td>\n",
       "      <td>7343</td>\n",
       "      <td>28740</td>\n",
       "      <td>44885</td>\n",
       "      <td>42691</td>\n",
       "    </tr>\n",
       "    <tr>\n",
       "      <th>2</th>\n",
       "      <td>952457769</td>\n",
       "      <td>2020</td>\n",
       "      <td>492577</td>\n",
       "      <td>10670</td>\n",
       "      <td>19053</td>\n",
       "      <td>60622</td>\n",
       "      <td>150507</td>\n",
       "      <td>251725</td>\n",
       "    </tr>\n",
       "    <tr>\n",
       "      <th>3</th>\n",
       "      <td>330419129</td>\n",
       "      <td>2004</td>\n",
       "      <td>14047</td>\n",
       "      <td>3348</td>\n",
       "      <td>8245</td>\n",
       "      <td>39207</td>\n",
       "      <td>85126</td>\n",
       "      <td>66662</td>\n",
       "    </tr>\n",
       "    <tr>\n",
       "      <th>4</th>\n",
       "      <td>399563083</td>\n",
       "      <td>2017</td>\n",
       "      <td>142715</td>\n",
       "      <td>1062</td>\n",
       "      <td>2124</td>\n",
       "      <td>12669</td>\n",
       "      <td>48620</td>\n",
       "      <td>78240</td>\n",
       "    </tr>\n",
       "  </tbody>\n",
       "</table>\n",
       "</div>"
      ],
      "text/plain": [
       "        isbn  original_publication_year  ratings_count  ratings_1  ratings_2  \\\n",
       "0  440215625                       1992         347569       2241       7552   \n",
       "1  914425022                       2019         127605       3946       7343   \n",
       "2  952457769                       2020         492577      10670      19053   \n",
       "3  330419129                       2004          14047       3348       8245   \n",
       "4  399563083                       2017         142715       1062       2124   \n",
       "\n",
       "   ratings_3  ratings_4  ratings_5  \n",
       "0      42197     114917     180662  \n",
       "1      28740      44885      42691  \n",
       "2      60622     150507     251725  \n",
       "3      39207      85126      66662  \n",
       "4      12669      48620      78240  "
      ]
     },
     "execution_count": 20,
     "metadata": {},
     "output_type": "execute_result"
    }
   ],
   "source": [
    "books_by_isbn_tbr.head()"
   ]
  },
  {
   "cell_type": "code",
   "execution_count": 21,
   "id": "08c98346-6ba4-4c19-9bde-75344ba683fa",
   "metadata": {
    "tags": []
   },
   "outputs": [
    {
     "name": "stdout",
     "output_type": "stream",
     "text": [
      "<class 'pandas.core.frame.DataFrame'>\n",
      "RangeIndex: 28 entries, 0 to 27\n",
      "Data columns (total 8 columns):\n",
      " #   Column                     Non-Null Count  Dtype \n",
      "---  ------                     --------------  ----- \n",
      " 0   isbn                       28 non-null     object\n",
      " 1   original_publication_year  28 non-null     int64 \n",
      " 2   ratings_count              28 non-null     int64 \n",
      " 3   ratings_1                  28 non-null     int64 \n",
      " 4   ratings_2                  28 non-null     int64 \n",
      " 5   ratings_3                  28 non-null     int64 \n",
      " 6   ratings_4                  28 non-null     int64 \n",
      " 7   ratings_5                  28 non-null     int64 \n",
      "dtypes: int64(7), object(1)\n",
      "memory usage: 1.9+ KB\n"
     ]
    }
   ],
   "source": [
    "books_by_isbn_tbr.info()"
   ]
  },
  {
   "cell_type": "code",
   "execution_count": 22,
   "id": "2b4c5f99-6017-44ba-bb7b-f960ac6632b9",
   "metadata": {
    "tags": []
   },
   "outputs": [],
   "source": [
    "test = pd.read_csv('../scrap/books_by_isbn.csv')"
   ]
  },
  {
   "cell_type": "code",
   "execution_count": 23,
   "id": "7e3f9433-4d19-41c3-b898-a39119fcb9b1",
   "metadata": {
    "tags": []
   },
   "outputs": [
    {
     "name": "stdout",
     "output_type": "stream",
     "text": [
      "<class 'pandas.core.frame.DataFrame'>\n",
      "RangeIndex: 7851 entries, 0 to 7850\n",
      "Data columns (total 10 columns):\n",
      " #   Column                     Non-Null Count  Dtype  \n",
      "---  ------                     --------------  -----  \n",
      " 0   isbn                       7851 non-null   object \n",
      " 1   original_publication_year  7851 non-null   float64\n",
      " 2   language_code              7851 non-null   object \n",
      " 3   average_rating             7851 non-null   float64\n",
      " 4   ratings_count              7851 non-null   int64  \n",
      " 5   ratings_1                  7851 non-null   int64  \n",
      " 6   ratings_2                  7851 non-null   int64  \n",
      " 7   ratings_3                  7851 non-null   int64  \n",
      " 8   ratings_4                  7851 non-null   int64  \n",
      " 9   ratings_5                  7851 non-null   int64  \n",
      "dtypes: float64(2), int64(6), object(2)\n",
      "memory usage: 613.5+ KB\n"
     ]
    }
   ],
   "source": [
    "test.info()"
   ]
  },
  {
   "cell_type": "markdown",
   "id": "ca6899cc-ba76-47cc-9408-32defce23856",
   "metadata": {},
   "source": [
    "I need dtypes to match and right now publication year does not match"
   ]
  },
  {
   "cell_type": "code",
   "execution_count": 24,
   "id": "7dd11383-1c1f-4f9e-a1a0-bc45b00a004e",
   "metadata": {
    "tags": []
   },
   "outputs": [],
   "source": [
    "books_by_isbn_tbr['original_publication_year'] = books_by_isbn_tbr['original_publication_year'].astype(float)"
   ]
  },
  {
   "cell_type": "code",
   "execution_count": 25,
   "id": "0bf13ef0-0e33-4e83-b689-2580db1a7d6b",
   "metadata": {
    "tags": []
   },
   "outputs": [
    {
     "name": "stdout",
     "output_type": "stream",
     "text": [
      "<class 'pandas.core.frame.DataFrame'>\n",
      "RangeIndex: 28 entries, 0 to 27\n",
      "Data columns (total 8 columns):\n",
      " #   Column                     Non-Null Count  Dtype  \n",
      "---  ------                     --------------  -----  \n",
      " 0   isbn                       28 non-null     object \n",
      " 1   original_publication_year  28 non-null     float64\n",
      " 2   ratings_count              28 non-null     int64  \n",
      " 3   ratings_1                  28 non-null     int64  \n",
      " 4   ratings_2                  28 non-null     int64  \n",
      " 5   ratings_3                  28 non-null     int64  \n",
      " 6   ratings_4                  28 non-null     int64  \n",
      " 7   ratings_5                  28 non-null     int64  \n",
      "dtypes: float64(1), int64(6), object(1)\n",
      "memory usage: 1.9+ KB\n"
     ]
    }
   ],
   "source": [
    "books_by_isbn_tbr.info()"
   ]
  },
  {
   "cell_type": "code",
   "execution_count": 26,
   "id": "eca298ed-f469-450d-b073-8d37c8cceed0",
   "metadata": {
    "tags": []
   },
   "outputs": [],
   "source": [
    "# books_by_isbn_tbr.to_csv('books_by_isbn_tbr.csv', index=False)"
   ]
  },
  {
   "cell_type": "markdown",
   "id": "8a7d8d84-04d5-4d36-9909-c09b75e3d5ce",
   "metadata": {},
   "source": [
    "#### Create a df with a combo of both df's above:"
   ]
  },
  {
   "cell_type": "code",
   "execution_count": 27,
   "id": "d6b350b1-c894-4b61-91ad-d30929a2aac8",
   "metadata": {
    "tags": []
   },
   "outputs": [],
   "source": [
    "data = [\n",
    "    {'author': 'Diana Gabaldon', 'title': 'Drangonfly in Amber', 'isbn': '440215625', 'original_publication_year': 1992, 'ratings_count': 347569, 'ratings_1': 2241, 'ratings_2': 7552, 'ratings_3': 42197, 'ratings_4': 114917, 'ratings_5': 180662},\n",
    "    {'author': 'Caroline Peckham', 'title': 'The Awakening', 'isbn': '914425022', 'original_publication_year': 2019, 'ratings_count': 127605, 'ratings_1': 3946, 'ratings_2': 7343, 'ratings_3': 28740, 'ratings_4': 44885, 'ratings_5': 42691},\n",
    "    {'author': 'Jennifer L. Armentrout', 'title': 'From Blood and Ash', 'isbn': '952457769', 'original_publication_year': 2020, 'ratings_count': 492577, 'ratings_1': 10670, 'ratings_2': 19053, 'ratings_3': 60622, 'ratings_4': 150507, 'ratings_5': 251725},\n",
    "    {'author': 'Jon Krakauer', 'title': 'Under the Banner of Heaven: A Story of Violent Faith', 'isbn': '330419129', 'original_publication_year': 2004, 'ratings_count': 202595, 'ratings_1': 3348, 'ratings_2': 8245, 'ratings_3': 39207, 'ratings_4': 85127, 'ratings_5': 66669},\n",
    "    {'author': 'Georgia Hunter', 'title': 'We Were the Lucky Ones', 'isbn': '399563083', 'original_publication_year': 2017, 'ratings_count': 142715, 'ratings_1': 1062, 'ratings_2': 2124, 'ratings_3': 12669, 'ratings_4': 48620, 'ratings_5': 78240},\n",
    "    {'author': 'Hotel del Coronado Heritage Department', 'title': 'Beautiful Stranger: The Ghost Of Kate Morgan And The Hotel Del Coronado', 'isbn': '91625173X', 'original_publication_year': 2002, 'ratings_count': 74, 'ratings_1': 2, 'ratings_2': 0, 'ratings_3': 26, 'ratings_4': 33, 'ratings_5': 13},\n",
    "    {'author': 'Gene Miller', 'title': '83 Hours Till Dawn', 'isbn': '385045980', 'original_publication_year': 1971, 'ratings_count': 90, 'ratings_1': 2, 'ratings_2': 5, 'ratings_3': 30, 'ratings_4': 28, 'ratings_5': 25},\n",
    "    {'author': 'Claudia Oshry', 'title': 'Girl With No Job: The Crazy Beautiful Life of an Instagram Thirst Monster', 'isbn': '982142863', 'original_publication_year': 2021, 'ratings_count': 16712, 'ratings_1': 294, 'ratings_2': 1179, 'ratings_3': 4202, 'ratings_4': 5277, 'ratings_5': 5760},\n",
    "    {'author': 'Andrew E. Kaufman', 'title': 'The Lion, The Lamb, The Hunted', 'isbn': '611099749', 'original_publication_year': 2013, 'ratings_count': 7659, 'ratings_1': 202, 'ratings_2': 537, 'ratings_3': 2025, 'ratings_4': 2895, 'ratings_5': 2000},\n",
    "    {'author': 'Micheal Connelly', 'title': 'The Lincoln Lawyer', 'isbn': '455536482', 'original_publication_year': 2018, 'ratings_count': 230669, 'ratings_1': 1765, 'ratings_2': 4824, 'ratings_3': 34617, 'ratings_4': 93393, 'ratings_5': 96070},\n",
    "    {'author': 'Laura Hillenbrand', 'title': 'Unbroken: A World War II Story of Survival, Resilience and Redemption', 'isbn': '400064163', 'original_publication_year': 2010, 'ratings_count': 916216, 'ratings_1': 22580, 'ratings_2': 25190, 'ratings_3': 83479, 'ratings_4': 238974, 'ratings_5': 545993},\n",
    "    {'author': 'Jojo Moyes', 'title': 'Me Before You', 'isbn': '143124544', 'original_publication_year': 2013, 'ratings_count': 1568826, 'ratings_1': 23214, 'ratings_2': 48203, 'ratings_3': 203876, 'ratings_4': 519734, 'ratings_5': 773799},\n",
    "    {'author': 'Arthur C. Clarke', 'title': \"Childhood's End\", 'isbn': '345444051', 'original_publication_year': 1987, 'ratings_count': 155967, 'ratings_1': 1661, 'ratings_2': 5521, 'ratings_3': 27604, 'ratings_4': 59043, 'ratings_5': 62138},\n",
    "    {'author': 'Justin Cronin', 'title': 'The Passage', 'isbn': '345504968', 'original_publication_year': 2010, 'ratings_count': 209027, 'ratings_1': 5122, 'ratings_2': 11260, 'ratings_3': 34884, 'ratings_4': 76214, 'ratings_5': 81547},\n",
    "    {'author': 'Chad Thumann', 'title': 'The Undesirables', 'isbn': '503939967', 'original_publication_year': 2016, 'ratings_count': 1087, 'ratings_1': 13, 'ratings_2': 45, 'ratings_3': 231, 'ratings_4': 431, 'ratings_5': 367},\n",
    "    {'author': 'Stacy Willingham', 'title': 'A Flicker in the Dark', 'isbn': '250803829', 'original_publication_year': 2022, 'ratings_count': 323492, 'ratings_1': 2326, 'ratings_2': 11288, 'ratings_3': 66339, 'ratings_4': 146996, 'ratings_5': 96543},\n",
    "    {'author': 'Miranda Cowley Heller', 'title': 'The Paper Palace', 'isbn': '59332983X', 'original_publication_year': 2021, 'ratings_count': 298331, 'ratings_1': 6761, 'ratings_2': 18641, 'ratings_3': 72192, 'ratings_4': 123025, 'ratings_5': 77712},\n",
    "    {'author': 'Simone St. James', 'title': 'The Book of Cold Cases', 'isbn': '440000211', 'original_publication_year': 2022, 'ratings_count': 104011, 'ratings_1': 887, 'ratings_2': 5558, 'ratings_3': 29388, 'ratings_4': 46821, 'ratings_5': 21357},\n",
    "    {'author': 'Casey McQuiston', 'title': 'Red, White & Royal Blue', 'isbn': '250316774', 'original_publication_year': 2019, 'ratings_count': 893344, 'ratings_1': 17887, 'ratings_2': 43968, 'ratings_3': 150061, 'ratings_4': 295922, 'ratings_5': 385506},\n",
    "    {'author': 'Paul Hawkins', 'title': 'Into the Water', 'isbn': '735211205', 'original_publication_year': 2017, 'ratings_count': 378127, 'ratings_1': 9434, 'ratings_2': 34044, 'ratings_3': 127285, 'ratings_4': 137251, 'ratings_5': 70113},\n",
    "    {'author': 'Pierce Brown', 'title': 'Red Rising', 'isbn': '34553980X', 'original_publication_year': 2014, 'ratings_count': 382845, 'ratings_1': 6504, 'ratings_2': 13072, 'ratings_3': 45962, 'ratings_4': 124621, 'ratings_5': 192686},\n",
    "    {'author': 'Katee Robert', 'title': 'Neon Gods', 'isbn': '728231736', 'original_publication_year': 2021, 'ratings_count': 205319, 'ratings_1': 6797, 'ratings_2': 18752, 'ratings_3': 54859, 'ratings_4': 70528, 'ratings_5': 54383},\n",
    "    {'author': 'Scarlett St. Clair', 'title': 'A Touch of Darkness', 'isbn': '728258456', 'original_publication_year': 2020, 'ratings_count': 256187, 'ratings_1': 7478, 'ratings_2': 19891, 'ratings_3': 60292, 'ratings_4': 89217, 'ratings_5': 79309},\n",
    "    {'author': 'Stacey Marie Brown', 'title': 'Savage Lands', 'isbn': '956600329', 'original_publication_year': 2020, 'ratings_count': 27438, 'ratings_1': 453, 'ratings_2': 1074, 'ratings_3': 4301, 'ratings_4': 10214, 'ratings_5': 11386},\n",
    "    {'author': 'Rebecca Ross', 'title': 'A River Enchanted', 'isbn': '063055988', 'original_publication_year': 2022, 'ratings_count': 37728, 'ratings_1': 224, 'ratings_2': 1202, 'ratings_3': 6308, 'ratings_4': 16148, 'ratings_5': 13846},\n",
    "    {'author': 'Brandon Sanderson', 'title': 'The Final Empire', 'isbn': '765311788', 'original_publication_year': 2006, 'ratings_count': 638924, 'ratings_1': 4751, 'ratings_2': 9493, 'ratings_3': 47921, 'ratings_4': 191800, 'ratings_5': 384959},\n",
    "    {'author': 'Maggie Stiefvater', 'title': 'Shiver', 'isbn': '545123267', 'original_publication_year': 2009, 'ratings_count': 475684, 'ratings_1': 23084, 'ratings_2': 45475, 'ratings_3': 112676, 'ratings_4': 134952, 'ratings_5': 159497},\n",
    "    {'author': 'Alex Aster', 'title': 'Lightlark', 'isbn': '419760866', 'original_publication_year': 2022, 'ratings_count': 48202, 'ratings_1': 2809, 'ratings_2': 4165, 'ratings_3': 10576, 'ratings_4': 15516, 'ratings_5': 15136}\n",
    "]"
   ]
  },
  {
   "cell_type": "code",
   "execution_count": 28,
   "id": "a87d4e94-c2af-4402-a38c-de62918f73ed",
   "metadata": {
    "tags": []
   },
   "outputs": [],
   "source": [
    "tbr_list = pd.DataFrame(data)"
   ]
  },
  {
   "cell_type": "code",
   "execution_count": 29,
   "id": "ad1f3ba6-3c4e-4496-9090-012975db8b2a",
   "metadata": {
    "tags": []
   },
   "outputs": [
    {
     "data": {
      "text/html": [
       "<div>\n",
       "<style scoped>\n",
       "    .dataframe tbody tr th:only-of-type {\n",
       "        vertical-align: middle;\n",
       "    }\n",
       "\n",
       "    .dataframe tbody tr th {\n",
       "        vertical-align: top;\n",
       "    }\n",
       "\n",
       "    .dataframe thead th {\n",
       "        text-align: right;\n",
       "    }\n",
       "</style>\n",
       "<table border=\"1\" class=\"dataframe\">\n",
       "  <thead>\n",
       "    <tr style=\"text-align: right;\">\n",
       "      <th></th>\n",
       "      <th>author</th>\n",
       "      <th>title</th>\n",
       "      <th>isbn</th>\n",
       "      <th>original_publication_year</th>\n",
       "      <th>ratings_count</th>\n",
       "      <th>ratings_1</th>\n",
       "      <th>ratings_2</th>\n",
       "      <th>ratings_3</th>\n",
       "      <th>ratings_4</th>\n",
       "      <th>ratings_5</th>\n",
       "    </tr>\n",
       "  </thead>\n",
       "  <tbody>\n",
       "    <tr>\n",
       "      <th>0</th>\n",
       "      <td>Diana Gabaldon</td>\n",
       "      <td>Drangonfly in Amber</td>\n",
       "      <td>440215625</td>\n",
       "      <td>1992</td>\n",
       "      <td>347569</td>\n",
       "      <td>2241</td>\n",
       "      <td>7552</td>\n",
       "      <td>42197</td>\n",
       "      <td>114917</td>\n",
       "      <td>180662</td>\n",
       "    </tr>\n",
       "    <tr>\n",
       "      <th>1</th>\n",
       "      <td>Caroline Peckham</td>\n",
       "      <td>The Awakening</td>\n",
       "      <td>914425022</td>\n",
       "      <td>2019</td>\n",
       "      <td>127605</td>\n",
       "      <td>3946</td>\n",
       "      <td>7343</td>\n",
       "      <td>28740</td>\n",
       "      <td>44885</td>\n",
       "      <td>42691</td>\n",
       "    </tr>\n",
       "    <tr>\n",
       "      <th>2</th>\n",
       "      <td>Jennifer L. Armentrout</td>\n",
       "      <td>From Blood and Ash</td>\n",
       "      <td>952457769</td>\n",
       "      <td>2020</td>\n",
       "      <td>492577</td>\n",
       "      <td>10670</td>\n",
       "      <td>19053</td>\n",
       "      <td>60622</td>\n",
       "      <td>150507</td>\n",
       "      <td>251725</td>\n",
       "    </tr>\n",
       "    <tr>\n",
       "      <th>3</th>\n",
       "      <td>Jon Krakauer</td>\n",
       "      <td>Under the Banner of Heaven: A Story of Violent...</td>\n",
       "      <td>330419129</td>\n",
       "      <td>2004</td>\n",
       "      <td>202595</td>\n",
       "      <td>3348</td>\n",
       "      <td>8245</td>\n",
       "      <td>39207</td>\n",
       "      <td>85127</td>\n",
       "      <td>66669</td>\n",
       "    </tr>\n",
       "    <tr>\n",
       "      <th>4</th>\n",
       "      <td>Georgia Hunter</td>\n",
       "      <td>We Were the Lucky Ones</td>\n",
       "      <td>399563083</td>\n",
       "      <td>2017</td>\n",
       "      <td>142715</td>\n",
       "      <td>1062</td>\n",
       "      <td>2124</td>\n",
       "      <td>12669</td>\n",
       "      <td>48620</td>\n",
       "      <td>78240</td>\n",
       "    </tr>\n",
       "  </tbody>\n",
       "</table>\n",
       "</div>"
      ],
      "text/plain": [
       "                   author                                              title  \\\n",
       "0          Diana Gabaldon                                Drangonfly in Amber   \n",
       "1        Caroline Peckham                                      The Awakening   \n",
       "2  Jennifer L. Armentrout                                 From Blood and Ash   \n",
       "3            Jon Krakauer  Under the Banner of Heaven: A Story of Violent...   \n",
       "4          Georgia Hunter                             We Were the Lucky Ones   \n",
       "\n",
       "        isbn  original_publication_year  ratings_count  ratings_1  ratings_2  \\\n",
       "0  440215625                       1992         347569       2241       7552   \n",
       "1  914425022                       2019         127605       3946       7343   \n",
       "2  952457769                       2020         492577      10670      19053   \n",
       "3  330419129                       2004         202595       3348       8245   \n",
       "4  399563083                       2017         142715       1062       2124   \n",
       "\n",
       "   ratings_3  ratings_4  ratings_5  \n",
       "0      42197     114917     180662  \n",
       "1      28740      44885      42691  \n",
       "2      60622     150507     251725  \n",
       "3      39207      85127      66669  \n",
       "4      12669      48620      78240  "
      ]
     },
     "execution_count": 29,
     "metadata": {},
     "output_type": "execute_result"
    }
   ],
   "source": [
    "tbr_list.head()"
   ]
  },
  {
   "cell_type": "code",
   "execution_count": 30,
   "id": "0a583881-edce-4512-83ef-e2955854cc40",
   "metadata": {
    "tags": []
   },
   "outputs": [],
   "source": [
    "tbr_list['average_rating'] = (tbr_list['ratings_1']*1 + tbr_list['ratings_2']*2 + tbr_list['ratings_3']*3 + tbr_list['ratings_4']*4 + tbr_list['ratings_5']*5) / (tbr_list['ratings_count'])"
   ]
  },
  {
   "cell_type": "code",
   "execution_count": 31,
   "id": "b5227bfe-ad7a-44a9-906c-bfc4beb06c7a",
   "metadata": {
    "tags": []
   },
   "outputs": [
    {
     "data": {
      "text/html": [
       "<div>\n",
       "<style scoped>\n",
       "    .dataframe tbody tr th:only-of-type {\n",
       "        vertical-align: middle;\n",
       "    }\n",
       "\n",
       "    .dataframe tbody tr th {\n",
       "        vertical-align: top;\n",
       "    }\n",
       "\n",
       "    .dataframe thead th {\n",
       "        text-align: right;\n",
       "    }\n",
       "</style>\n",
       "<table border=\"1\" class=\"dataframe\">\n",
       "  <thead>\n",
       "    <tr style=\"text-align: right;\">\n",
       "      <th></th>\n",
       "      <th>author</th>\n",
       "      <th>title</th>\n",
       "      <th>isbn</th>\n",
       "      <th>original_publication_year</th>\n",
       "      <th>ratings_count</th>\n",
       "      <th>ratings_1</th>\n",
       "      <th>ratings_2</th>\n",
       "      <th>ratings_3</th>\n",
       "      <th>ratings_4</th>\n",
       "      <th>ratings_5</th>\n",
       "      <th>average_rating</th>\n",
       "    </tr>\n",
       "  </thead>\n",
       "  <tbody>\n",
       "    <tr>\n",
       "      <th>0</th>\n",
       "      <td>Diana Gabaldon</td>\n",
       "      <td>Drangonfly in Amber</td>\n",
       "      <td>440215625</td>\n",
       "      <td>1992</td>\n",
       "      <td>347569</td>\n",
       "      <td>2241</td>\n",
       "      <td>7552</td>\n",
       "      <td>42197</td>\n",
       "      <td>114917</td>\n",
       "      <td>180662</td>\n",
       "      <td>4.335582</td>\n",
       "    </tr>\n",
       "    <tr>\n",
       "      <th>1</th>\n",
       "      <td>Caroline Peckham</td>\n",
       "      <td>The Awakening</td>\n",
       "      <td>914425022</td>\n",
       "      <td>2019</td>\n",
       "      <td>127605</td>\n",
       "      <td>3946</td>\n",
       "      <td>7343</td>\n",
       "      <td>28740</td>\n",
       "      <td>44885</td>\n",
       "      <td>42691</td>\n",
       "      <td>3.901469</td>\n",
       "    </tr>\n",
       "    <tr>\n",
       "      <th>2</th>\n",
       "      <td>Jennifer L. Armentrout</td>\n",
       "      <td>From Blood and Ash</td>\n",
       "      <td>952457769</td>\n",
       "      <td>2020</td>\n",
       "      <td>492577</td>\n",
       "      <td>10670</td>\n",
       "      <td>19053</td>\n",
       "      <td>60622</td>\n",
       "      <td>150507</td>\n",
       "      <td>251725</td>\n",
       "      <td>4.245620</td>\n",
       "    </tr>\n",
       "    <tr>\n",
       "      <th>3</th>\n",
       "      <td>Jon Krakauer</td>\n",
       "      <td>Under the Banner of Heaven: A Story of Violent...</td>\n",
       "      <td>330419129</td>\n",
       "      <td>2004</td>\n",
       "      <td>202595</td>\n",
       "      <td>3348</td>\n",
       "      <td>8245</td>\n",
       "      <td>39207</td>\n",
       "      <td>85127</td>\n",
       "      <td>66669</td>\n",
       "      <td>4.004600</td>\n",
       "    </tr>\n",
       "    <tr>\n",
       "      <th>4</th>\n",
       "      <td>Georgia Hunter</td>\n",
       "      <td>We Were the Lucky Ones</td>\n",
       "      <td>399563083</td>\n",
       "      <td>2017</td>\n",
       "      <td>142715</td>\n",
       "      <td>1062</td>\n",
       "      <td>2124</td>\n",
       "      <td>12669</td>\n",
       "      <td>48620</td>\n",
       "      <td>78240</td>\n",
       "      <td>4.407364</td>\n",
       "    </tr>\n",
       "  </tbody>\n",
       "</table>\n",
       "</div>"
      ],
      "text/plain": [
       "                   author                                              title  \\\n",
       "0          Diana Gabaldon                                Drangonfly in Amber   \n",
       "1        Caroline Peckham                                      The Awakening   \n",
       "2  Jennifer L. Armentrout                                 From Blood and Ash   \n",
       "3            Jon Krakauer  Under the Banner of Heaven: A Story of Violent...   \n",
       "4          Georgia Hunter                             We Were the Lucky Ones   \n",
       "\n",
       "        isbn  original_publication_year  ratings_count  ratings_1  ratings_2  \\\n",
       "0  440215625                       1992         347569       2241       7552   \n",
       "1  914425022                       2019         127605       3946       7343   \n",
       "2  952457769                       2020         492577      10670      19053   \n",
       "3  330419129                       2004         202595       3348       8245   \n",
       "4  399563083                       2017         142715       1062       2124   \n",
       "\n",
       "   ratings_3  ratings_4  ratings_5  average_rating  \n",
       "0      42197     114917     180662        4.335582  \n",
       "1      28740      44885      42691        3.901469  \n",
       "2      60622     150507     251725        4.245620  \n",
       "3      39207      85127      66669        4.004600  \n",
       "4      12669      48620      78240        4.407364  "
      ]
     },
     "execution_count": 31,
     "metadata": {},
     "output_type": "execute_result"
    }
   ],
   "source": [
    "tbr_list.head()"
   ]
  },
  {
   "cell_type": "code",
   "execution_count": 32,
   "id": "97f9e0eb-6926-4855-a721-6f333836cf10",
   "metadata": {
    "tags": []
   },
   "outputs": [
    {
     "name": "stdout",
     "output_type": "stream",
     "text": [
      "<class 'pandas.core.frame.DataFrame'>\n",
      "RangeIndex: 7851 entries, 0 to 7850\n",
      "Data columns (total 10 columns):\n",
      " #   Column                     Non-Null Count  Dtype  \n",
      "---  ------                     --------------  -----  \n",
      " 0   isbn                       7851 non-null   object \n",
      " 1   original_publication_year  7851 non-null   float64\n",
      " 2   language_code              7851 non-null   object \n",
      " 3   average_rating             7851 non-null   float64\n",
      " 4   ratings_count              7851 non-null   int64  \n",
      " 5   ratings_1                  7851 non-null   int64  \n",
      " 6   ratings_2                  7851 non-null   int64  \n",
      " 7   ratings_3                  7851 non-null   int64  \n",
      " 8   ratings_4                  7851 non-null   int64  \n",
      " 9   ratings_5                  7851 non-null   int64  \n",
      "dtypes: float64(2), int64(6), object(2)\n",
      "memory usage: 613.5+ KB\n"
     ]
    }
   ],
   "source": [
    "test.info()"
   ]
  },
  {
   "cell_type": "code",
   "execution_count": 33,
   "id": "7758c30f-4049-4193-9562-f224f75487a0",
   "metadata": {
    "tags": []
   },
   "outputs": [
    {
     "name": "stdout",
     "output_type": "stream",
     "text": [
      "<class 'pandas.core.frame.DataFrame'>\n",
      "RangeIndex: 28 entries, 0 to 27\n",
      "Data columns (total 11 columns):\n",
      " #   Column                     Non-Null Count  Dtype  \n",
      "---  ------                     --------------  -----  \n",
      " 0   author                     28 non-null     object \n",
      " 1   title                      28 non-null     object \n",
      " 2   isbn                       28 non-null     object \n",
      " 3   original_publication_year  28 non-null     int64  \n",
      " 4   ratings_count              28 non-null     int64  \n",
      " 5   ratings_1                  28 non-null     int64  \n",
      " 6   ratings_2                  28 non-null     int64  \n",
      " 7   ratings_3                  28 non-null     int64  \n",
      " 8   ratings_4                  28 non-null     int64  \n",
      " 9   ratings_5                  28 non-null     int64  \n",
      " 10  average_rating             28 non-null     float64\n",
      "dtypes: float64(1), int64(7), object(3)\n",
      "memory usage: 2.5+ KB\n"
     ]
    }
   ],
   "source": [
    "tbr_list.info()"
   ]
  },
  {
   "cell_type": "code",
   "execution_count": 34,
   "id": "b123872e-d728-4214-b037-b75ed9616c55",
   "metadata": {
    "tags": []
   },
   "outputs": [],
   "source": [
    "tbr_list['original_publication_year'] = tbr_list['original_publication_year'].astype(float)"
   ]
  },
  {
   "cell_type": "code",
   "execution_count": 35,
   "id": "5962c671-746a-4d63-ad71-6ad462993aaf",
   "metadata": {
    "tags": []
   },
   "outputs": [
    {
     "name": "stdout",
     "output_type": "stream",
     "text": [
      "<class 'pandas.core.frame.DataFrame'>\n",
      "RangeIndex: 28 entries, 0 to 27\n",
      "Data columns (total 11 columns):\n",
      " #   Column                     Non-Null Count  Dtype  \n",
      "---  ------                     --------------  -----  \n",
      " 0   author                     28 non-null     object \n",
      " 1   title                      28 non-null     object \n",
      " 2   isbn                       28 non-null     object \n",
      " 3   original_publication_year  28 non-null     float64\n",
      " 4   ratings_count              28 non-null     int64  \n",
      " 5   ratings_1                  28 non-null     int64  \n",
      " 6   ratings_2                  28 non-null     int64  \n",
      " 7   ratings_3                  28 non-null     int64  \n",
      " 8   ratings_4                  28 non-null     int64  \n",
      " 9   ratings_5                  28 non-null     int64  \n",
      " 10  average_rating             28 non-null     float64\n",
      "dtypes: float64(2), int64(6), object(3)\n",
      "memory usage: 2.5+ KB\n"
     ]
    }
   ],
   "source": [
    "tbr_list.info()"
   ]
  },
  {
   "cell_type": "code",
   "execution_count": 36,
   "id": "271119b5-1dfd-4d0e-adee-81f514258f2e",
   "metadata": {
    "tags": []
   },
   "outputs": [],
   "source": [
    "def map_avg(avg):\n",
    "    if avg >= 4:\n",
    "        return 1 #Yes\n",
    "    else:\n",
    "        return 0 #No\n",
    "    \n",
    "tbr_list['should_i_read'] = tbr_list['average_rating'].apply(map_avg)"
   ]
  },
  {
   "cell_type": "code",
   "execution_count": 37,
   "id": "e3ed0ef5-2da7-426c-b23c-5ff73d62fa76",
   "metadata": {
    "tags": []
   },
   "outputs": [
    {
     "data": {
      "text/html": [
       "<div>\n",
       "<style scoped>\n",
       "    .dataframe tbody tr th:only-of-type {\n",
       "        vertical-align: middle;\n",
       "    }\n",
       "\n",
       "    .dataframe tbody tr th {\n",
       "        vertical-align: top;\n",
       "    }\n",
       "\n",
       "    .dataframe thead th {\n",
       "        text-align: right;\n",
       "    }\n",
       "</style>\n",
       "<table border=\"1\" class=\"dataframe\">\n",
       "  <thead>\n",
       "    <tr style=\"text-align: right;\">\n",
       "      <th></th>\n",
       "      <th>author</th>\n",
       "      <th>title</th>\n",
       "      <th>isbn</th>\n",
       "      <th>original_publication_year</th>\n",
       "      <th>ratings_count</th>\n",
       "      <th>ratings_1</th>\n",
       "      <th>ratings_2</th>\n",
       "      <th>ratings_3</th>\n",
       "      <th>ratings_4</th>\n",
       "      <th>ratings_5</th>\n",
       "      <th>average_rating</th>\n",
       "      <th>should_i_read</th>\n",
       "    </tr>\n",
       "  </thead>\n",
       "  <tbody>\n",
       "    <tr>\n",
       "      <th>0</th>\n",
       "      <td>Diana Gabaldon</td>\n",
       "      <td>Drangonfly in Amber</td>\n",
       "      <td>440215625</td>\n",
       "      <td>1992.0</td>\n",
       "      <td>347569</td>\n",
       "      <td>2241</td>\n",
       "      <td>7552</td>\n",
       "      <td>42197</td>\n",
       "      <td>114917</td>\n",
       "      <td>180662</td>\n",
       "      <td>4.335582</td>\n",
       "      <td>1</td>\n",
       "    </tr>\n",
       "    <tr>\n",
       "      <th>1</th>\n",
       "      <td>Caroline Peckham</td>\n",
       "      <td>The Awakening</td>\n",
       "      <td>914425022</td>\n",
       "      <td>2019.0</td>\n",
       "      <td>127605</td>\n",
       "      <td>3946</td>\n",
       "      <td>7343</td>\n",
       "      <td>28740</td>\n",
       "      <td>44885</td>\n",
       "      <td>42691</td>\n",
       "      <td>3.901469</td>\n",
       "      <td>0</td>\n",
       "    </tr>\n",
       "    <tr>\n",
       "      <th>2</th>\n",
       "      <td>Jennifer L. Armentrout</td>\n",
       "      <td>From Blood and Ash</td>\n",
       "      <td>952457769</td>\n",
       "      <td>2020.0</td>\n",
       "      <td>492577</td>\n",
       "      <td>10670</td>\n",
       "      <td>19053</td>\n",
       "      <td>60622</td>\n",
       "      <td>150507</td>\n",
       "      <td>251725</td>\n",
       "      <td>4.245620</td>\n",
       "      <td>1</td>\n",
       "    </tr>\n",
       "    <tr>\n",
       "      <th>3</th>\n",
       "      <td>Jon Krakauer</td>\n",
       "      <td>Under the Banner of Heaven: A Story of Violent...</td>\n",
       "      <td>330419129</td>\n",
       "      <td>2004.0</td>\n",
       "      <td>202595</td>\n",
       "      <td>3348</td>\n",
       "      <td>8245</td>\n",
       "      <td>39207</td>\n",
       "      <td>85127</td>\n",
       "      <td>66669</td>\n",
       "      <td>4.004600</td>\n",
       "      <td>1</td>\n",
       "    </tr>\n",
       "    <tr>\n",
       "      <th>4</th>\n",
       "      <td>Georgia Hunter</td>\n",
       "      <td>We Were the Lucky Ones</td>\n",
       "      <td>399563083</td>\n",
       "      <td>2017.0</td>\n",
       "      <td>142715</td>\n",
       "      <td>1062</td>\n",
       "      <td>2124</td>\n",
       "      <td>12669</td>\n",
       "      <td>48620</td>\n",
       "      <td>78240</td>\n",
       "      <td>4.407364</td>\n",
       "      <td>1</td>\n",
       "    </tr>\n",
       "  </tbody>\n",
       "</table>\n",
       "</div>"
      ],
      "text/plain": [
       "                   author                                              title  \\\n",
       "0          Diana Gabaldon                                Drangonfly in Amber   \n",
       "1        Caroline Peckham                                      The Awakening   \n",
       "2  Jennifer L. Armentrout                                 From Blood and Ash   \n",
       "3            Jon Krakauer  Under the Banner of Heaven: A Story of Violent...   \n",
       "4          Georgia Hunter                             We Were the Lucky Ones   \n",
       "\n",
       "        isbn  original_publication_year  ratings_count  ratings_1  ratings_2  \\\n",
       "0  440215625                     1992.0         347569       2241       7552   \n",
       "1  914425022                     2019.0         127605       3946       7343   \n",
       "2  952457769                     2020.0         492577      10670      19053   \n",
       "3  330419129                     2004.0         202595       3348       8245   \n",
       "4  399563083                     2017.0         142715       1062       2124   \n",
       "\n",
       "   ratings_3  ratings_4  ratings_5  average_rating  should_i_read  \n",
       "0      42197     114917     180662        4.335582              1  \n",
       "1      28740      44885      42691        3.901469              0  \n",
       "2      60622     150507     251725        4.245620              1  \n",
       "3      39207      85127      66669        4.004600              1  \n",
       "4      12669      48620      78240        4.407364              1  "
      ]
     },
     "execution_count": 37,
     "metadata": {},
     "output_type": "execute_result"
    }
   ],
   "source": [
    "tbr_list.head()"
   ]
  },
  {
   "cell_type": "code",
   "execution_count": 38,
   "id": "8fc10d37-1fee-49d2-ab34-b5d0de6df3c0",
   "metadata": {
    "tags": []
   },
   "outputs": [],
   "source": [
    "# tbr_list.to_csv('tbr_list.csv', index=False)"
   ]
  },
  {
   "cell_type": "code",
   "execution_count": null,
   "id": "1620a201-610d-4f7a-8c96-1ae928e03732",
   "metadata": {},
   "outputs": [],
   "source": []
  }
 ],
 "metadata": {
  "kernelspec": {
   "display_name": "Python 3 (ipykernel)",
   "language": "python",
   "name": "python3"
  },
  "language_info": {
   "codemirror_mode": {
    "name": "ipython",
    "version": 3
   },
   "file_extension": ".py",
   "mimetype": "text/x-python",
   "name": "python",
   "nbconvert_exporter": "python",
   "pygments_lexer": "ipython3",
   "version": "3.11.4"
  }
 },
 "nbformat": 4,
 "nbformat_minor": 5
}
