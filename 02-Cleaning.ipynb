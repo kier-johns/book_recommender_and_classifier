{
 "cells": [
  {
   "cell_type": "markdown",
   "id": "e2736f84-e774-44f7-a6bb-b50f3f5ab8ef",
   "metadata": {},
   "source": [
    "# Imports:"
   ]
  },
  {
   "cell_type": "code",
   "execution_count": 130,
   "id": "60933d79-40b5-472a-9c19-afb5f4b1cc2b",
   "metadata": {
    "tags": []
   },
   "outputs": [],
   "source": [
    "import numpy as np\n",
    "import pandas as pd\n",
    "import matplotlib.pyplot as plt\n",
    "import seaborn as sns"
   ]
  },
  {
   "cell_type": "code",
   "execution_count": 131,
   "id": "b0661048-ce17-4a3b-ab39-962c4850d14c",
   "metadata": {
    "tags": []
   },
   "outputs": [],
   "source": [
    "pd.set_option('display.max_columns', None)\n",
    "pd.set_option('display.max_rows', None)"
   ]
  },
  {
   "cell_type": "markdown",
   "id": "0f5e027d-39db-40c2-ba18-3bfe28ef53e4",
   "metadata": {},
   "source": [
    "#### Read in the data:"
   ]
  },
  {
   "cell_type": "code",
   "execution_count": 132,
   "id": "1c330c63-2679-4248-bb29-c0b8f07f4f82",
   "metadata": {
    "tags": []
   },
   "outputs": [],
   "source": [
    "book_tags = pd.read_csv('ignore/book_tags.csv')\n",
    "books = pd.read_csv('ignore/books.csv')\n",
    "ratings = pd.read_csv('ignore/ratings.csv')\n",
    "tags = pd.read_csv('ignore/tags.csv')\n",
    "to_read = pd.read_csv('ignore/to_read.csv')"
   ]
  },
  {
   "cell_type": "code",
   "execution_count": 133,
   "id": "28f11211-fbab-4758-bcc1-703674df3823",
   "metadata": {
    "tags": []
   },
   "outputs": [
    {
     "name": "stdout",
     "output_type": "stream",
     "text": [
      "(999912, 3)\n",
      "(10000, 23)\n",
      "(5976479, 3)\n",
      "(34252, 2)\n",
      "(912705, 2)\n"
     ]
    }
   ],
   "source": [
    "print(book_tags.shape)\n",
    "print(books.shape)\n",
    "print(ratings.shape)\n",
    "print(tags.shape)\n",
    "print(to_read.shape)"
   ]
  },
  {
   "cell_type": "markdown",
   "id": "ab5c5f19-dd92-4165-ab49-bf12dac8a147",
   "metadata": {},
   "source": [
    " "
   ]
  },
  {
   "cell_type": "markdown",
   "id": "b48d6dd4-7411-4274-9e80-cc15df3c6e02",
   "metadata": {},
   "source": [
    "### Cleaning for Recommender System:"
   ]
  },
  {
   "cell_type": "markdown",
   "id": "82d5c87a-bc53-42bb-9c5e-22324f982e43",
   "metadata": {},
   "source": [
    "While more data is better... for the purpose of memory usage for this project I am going to randomly pick 50,000 data points from the over 5 million data points in the ratings.csv"
   ]
  },
  {
   "cell_type": "code",
   "execution_count": 134,
   "id": "520eb114-a981-4144-980e-cfc2003fae97",
   "metadata": {
    "tags": []
   },
   "outputs": [
    {
     "data": {
      "text/plain": [
       "user_id    0\n",
       "book_id    0\n",
       "rating     0\n",
       "dtype: int64"
      ]
     },
     "execution_count": 134,
     "metadata": {},
     "output_type": "execute_result"
    }
   ],
   "source": [
    "ratings.isna().sum()"
   ]
  },
  {
   "cell_type": "markdown",
   "id": "981bd333-0025-480d-94c7-08397af8802c",
   "metadata": {},
   "source": [
    "> There are no missing values, so I cannot just delete null items"
   ]
  },
  {
   "cell_type": "code",
   "execution_count": 135,
   "id": "c9a9a4e7-de60-4647-bc83-0de2db9c4191",
   "metadata": {
    "tags": []
   },
   "outputs": [
    {
     "data": {
      "text/plain": [
       "53424"
      ]
     },
     "execution_count": 135,
     "metadata": {},
     "output_type": "execute_result"
    }
   ],
   "source": [
    "ratings.user_id.value_counts().count()"
   ]
  },
  {
   "cell_type": "markdown",
   "id": "fff943a1-6d42-4377-84c2-48cd48f5dc0c",
   "metadata": {},
   "source": [
    "> 53,424 unique users"
   ]
  },
  {
   "cell_type": "code",
   "execution_count": 136,
   "id": "5efae171-3844-4622-9d51-9ed7df86bde1",
   "metadata": {
    "tags": []
   },
   "outputs": [
    {
     "data": {
      "text/plain": [
       "10000"
      ]
     },
     "execution_count": 136,
     "metadata": {},
     "output_type": "execute_result"
    }
   ],
   "source": [
    "ratings.book_id.value_counts().count()"
   ]
  },
  {
   "cell_type": "markdown",
   "id": "26266604-9190-4304-afe9-bc0436a5be29",
   "metadata": {},
   "source": [
    "> 10,000 unique books"
   ]
  },
  {
   "cell_type": "code",
   "execution_count": 137,
   "id": "3006bcc3-2278-4590-b668-b2be1ad444ae",
   "metadata": {
    "tags": []
   },
   "outputs": [],
   "source": [
    "ratings_sample = ratings.sample(n = 50000, replace = False)"
   ]
  },
  {
   "cell_type": "code",
   "execution_count": 138,
   "id": "3ebcb5b4-0679-4d51-8970-55d0fd7a837e",
   "metadata": {
    "tags": []
   },
   "outputs": [
    {
     "data": {
      "text/html": [
       "<div>\n",
       "<style scoped>\n",
       "    .dataframe tbody tr th:only-of-type {\n",
       "        vertical-align: middle;\n",
       "    }\n",
       "\n",
       "    .dataframe tbody tr th {\n",
       "        vertical-align: top;\n",
       "    }\n",
       "\n",
       "    .dataframe thead th {\n",
       "        text-align: right;\n",
       "    }\n",
       "</style>\n",
       "<table border=\"1\" class=\"dataframe\">\n",
       "  <thead>\n",
       "    <tr style=\"text-align: right;\">\n",
       "      <th></th>\n",
       "      <th>user_id</th>\n",
       "      <th>book_id</th>\n",
       "      <th>rating</th>\n",
       "    </tr>\n",
       "  </thead>\n",
       "  <tbody>\n",
       "    <tr>\n",
       "      <th>4843805</th>\n",
       "      <td>30551</td>\n",
       "      <td>3673</td>\n",
       "      <td>5</td>\n",
       "    </tr>\n",
       "    <tr>\n",
       "      <th>5474624</th>\n",
       "      <td>46330</td>\n",
       "      <td>1022</td>\n",
       "      <td>4</td>\n",
       "    </tr>\n",
       "    <tr>\n",
       "      <th>5555146</th>\n",
       "      <td>47003</td>\n",
       "      <td>6588</td>\n",
       "      <td>3</td>\n",
       "    </tr>\n",
       "    <tr>\n",
       "      <th>74080</th>\n",
       "      <td>2321</td>\n",
       "      <td>1797</td>\n",
       "      <td>4</td>\n",
       "    </tr>\n",
       "    <tr>\n",
       "      <th>3670960</th>\n",
       "      <td>42923</td>\n",
       "      <td>99</td>\n",
       "      <td>2</td>\n",
       "    </tr>\n",
       "  </tbody>\n",
       "</table>\n",
       "</div>"
      ],
      "text/plain": [
       "         user_id  book_id  rating\n",
       "4843805    30551     3673       5\n",
       "5474624    46330     1022       4\n",
       "5555146    47003     6588       3\n",
       "74080       2321     1797       4\n",
       "3670960    42923       99       2"
      ]
     },
     "execution_count": 138,
     "metadata": {},
     "output_type": "execute_result"
    }
   ],
   "source": [
    "ratings_sample.head()"
   ]
  },
  {
   "cell_type": "code",
   "execution_count": 139,
   "id": "ad90190c-5179-44c5-99fd-b15e5dc03f45",
   "metadata": {
    "tags": []
   },
   "outputs": [
    {
     "data": {
      "text/plain": [
       "user_id    0\n",
       "book_id    0\n",
       "rating     0\n",
       "dtype: int64"
      ]
     },
     "execution_count": 139,
     "metadata": {},
     "output_type": "execute_result"
    }
   ],
   "source": [
    "ratings_sample.isna().sum()"
   ]
  },
  {
   "cell_type": "code",
   "execution_count": 140,
   "id": "202ca849-febe-402e-8413-d8d106b20f59",
   "metadata": {
    "tags": []
   },
   "outputs": [
    {
     "data": {
      "text/plain": [
       "31967"
      ]
     },
     "execution_count": 140,
     "metadata": {},
     "output_type": "execute_result"
    }
   ],
   "source": [
    "ratings_sample.user_id.value_counts().count()"
   ]
  },
  {
   "cell_type": "markdown",
   "id": "18a039bc-b39c-4964-a83c-c2a1240579fe",
   "metadata": {},
   "source": [
    "32,009 unique users in this sample, with some repeats"
   ]
  },
  {
   "cell_type": "code",
   "execution_count": 141,
   "id": "63b8c49d-963a-478e-b3ff-219bbf3bc64a",
   "metadata": {
    "tags": []
   },
   "outputs": [
    {
     "data": {
      "text/plain": [
       "8447"
      ]
     },
     "execution_count": 141,
     "metadata": {},
     "output_type": "execute_result"
    }
   ],
   "source": [
    "ratings_sample.book_id.value_counts().count()"
   ]
  },
  {
   "cell_type": "markdown",
   "id": "e87023c5-c26f-48db-a4cf-f877eb282499",
   "metadata": {},
   "source": [
    "> 8,393 unique books... I want all 10,000 books included so I may re-sample"
   ]
  },
  {
   "cell_type": "code",
   "execution_count": 142,
   "id": "7765c017-5e42-4a8c-8d04-1cd837e9e492",
   "metadata": {
    "tags": []
   },
   "outputs": [
    {
     "data": {
      "text/plain": [
       "5"
      ]
     },
     "execution_count": 142,
     "metadata": {},
     "output_type": "execute_result"
    }
   ],
   "source": [
    "ratings_sample.rating.value_counts().count()"
   ]
  },
  {
   "cell_type": "markdown",
   "id": "125790db-05d3-4e86-bdd6-82f8499e45d7",
   "metadata": {},
   "source": [
    "> All 5 different ratings are represented"
   ]
  },
  {
   "cell_type": "markdown",
   "id": "7df37d6e-d2d9-42ee-947f-3774fd4826cc",
   "metadata": {},
   "source": [
    "Let's try a resample with 100,000 instead..."
   ]
  },
  {
   "cell_type": "code",
   "execution_count": 143,
   "id": "523dd02a-d949-416f-b641-6a93cdbdbefc",
   "metadata": {
    "tags": []
   },
   "outputs": [],
   "source": [
    "ratings_sample = ratings.sample(n = 100000, replace = False, random_state=1002)"
   ]
  },
  {
   "cell_type": "code",
   "execution_count": 144,
   "id": "a743d177-e408-4ac6-be24-3b8a509f7302",
   "metadata": {
    "tags": []
   },
   "outputs": [
    {
     "data": {
      "text/html": [
       "<div>\n",
       "<style scoped>\n",
       "    .dataframe tbody tr th:only-of-type {\n",
       "        vertical-align: middle;\n",
       "    }\n",
       "\n",
       "    .dataframe tbody tr th {\n",
       "        vertical-align: top;\n",
       "    }\n",
       "\n",
       "    .dataframe thead th {\n",
       "        text-align: right;\n",
       "    }\n",
       "</style>\n",
       "<table border=\"1\" class=\"dataframe\">\n",
       "  <thead>\n",
       "    <tr style=\"text-align: right;\">\n",
       "      <th></th>\n",
       "      <th>user_id</th>\n",
       "      <th>book_id</th>\n",
       "      <th>rating</th>\n",
       "    </tr>\n",
       "  </thead>\n",
       "  <tbody>\n",
       "    <tr>\n",
       "      <th>2186601</th>\n",
       "      <td>29403</td>\n",
       "      <td>102</td>\n",
       "      <td>5</td>\n",
       "    </tr>\n",
       "    <tr>\n",
       "      <th>2858642</th>\n",
       "      <td>36128</td>\n",
       "      <td>4663</td>\n",
       "      <td>4</td>\n",
       "    </tr>\n",
       "    <tr>\n",
       "      <th>4280792</th>\n",
       "      <td>37112</td>\n",
       "      <td>25</td>\n",
       "      <td>5</td>\n",
       "    </tr>\n",
       "    <tr>\n",
       "      <th>1026306</th>\n",
       "      <td>16114</td>\n",
       "      <td>693</td>\n",
       "      <td>4</td>\n",
       "    </tr>\n",
       "    <tr>\n",
       "      <th>5672837</th>\n",
       "      <td>50684</td>\n",
       "      <td>1731</td>\n",
       "      <td>4</td>\n",
       "    </tr>\n",
       "  </tbody>\n",
       "</table>\n",
       "</div>"
      ],
      "text/plain": [
       "         user_id  book_id  rating\n",
       "2186601    29403      102       5\n",
       "2858642    36128     4663       4\n",
       "4280792    37112       25       5\n",
       "1026306    16114      693       4\n",
       "5672837    50684     1731       4"
      ]
     },
     "execution_count": 144,
     "metadata": {},
     "output_type": "execute_result"
    }
   ],
   "source": [
    "ratings_sample.head()"
   ]
  },
  {
   "cell_type": "code",
   "execution_count": 145,
   "id": "ffdce1b0-af47-4274-9793-2f5fbc331628",
   "metadata": {
    "tags": []
   },
   "outputs": [
    {
     "data": {
      "text/plain": [
       "user_id    0\n",
       "book_id    0\n",
       "rating     0\n",
       "dtype: int64"
      ]
     },
     "execution_count": 145,
     "metadata": {},
     "output_type": "execute_result"
    }
   ],
   "source": [
    "ratings_sample.isna().sum()"
   ]
  },
  {
   "cell_type": "code",
   "execution_count": 146,
   "id": "c7a7439b-9a34-4350-a527-17178f2ebddb",
   "metadata": {
    "tags": []
   },
   "outputs": [
    {
     "data": {
      "text/plain": [
       "44364"
      ]
     },
     "execution_count": 146,
     "metadata": {},
     "output_type": "execute_result"
    }
   ],
   "source": [
    "ratings_sample.user_id.value_counts().count()"
   ]
  },
  {
   "cell_type": "markdown",
   "id": "46953e96-decc-4c93-9db7-95c36a62e08a",
   "metadata": {},
   "source": [
    "> 44,364 unique users"
   ]
  },
  {
   "cell_type": "code",
   "execution_count": 147,
   "id": "941f8dd0-cfed-455c-8fb9-45741992d60c",
   "metadata": {
    "tags": []
   },
   "outputs": [
    {
     "data": {
      "text/plain": [
       "9523"
      ]
     },
     "execution_count": 147,
     "metadata": {},
     "output_type": "execute_result"
    }
   ],
   "source": [
    "ratings_sample.book_id.value_counts().count()"
   ]
  },
  {
   "cell_type": "markdown",
   "id": "d89c99e6-eea8-402b-8abd-69ad19ccb037",
   "metadata": {},
   "source": [
    "> 9523 unique books... this is not the full 10,000 but close enough for my liking"
   ]
  },
  {
   "cell_type": "code",
   "execution_count": 148,
   "id": "57d5bef3-ca4f-440a-98e1-a9eb00da86b6",
   "metadata": {
    "tags": []
   },
   "outputs": [],
   "source": [
    "# Checking to make sure that some of my favorite books are included in this sample... because what would a good recommender system be if it doesn't include my favorites\n",
    "# ratings_sample.loc[ratings_sample['book_id'] == 30]"
   ]
  },
  {
   "cell_type": "code",
   "execution_count": 179,
   "id": "5261391f-f52d-4a23-8b0d-e13cf09ee91b",
   "metadata": {
    "tags": []
   },
   "outputs": [
    {
     "data": {
      "text/plain": [
       "(100000, 3)"
      ]
     },
     "execution_count": 179,
     "metadata": {},
     "output_type": "execute_result"
    }
   ],
   "source": [
    "ratings_sample.shape"
   ]
  },
  {
   "cell_type": "markdown",
   "id": "6852eea2-b423-4a81-b35c-3eeb770fcdcf",
   "metadata": {},
   "source": [
    "Now, let's merge the book df with it"
   ]
  },
  {
   "cell_type": "code",
   "execution_count": 157,
   "id": "036892e7-225d-45a3-9b40-939683e06f3a",
   "metadata": {
    "tags": []
   },
   "outputs": [
    {
     "data": {
      "text/html": [
       "<div>\n",
       "<style scoped>\n",
       "    .dataframe tbody tr th:only-of-type {\n",
       "        vertical-align: middle;\n",
       "    }\n",
       "\n",
       "    .dataframe tbody tr th {\n",
       "        vertical-align: top;\n",
       "    }\n",
       "\n",
       "    .dataframe thead th {\n",
       "        text-align: right;\n",
       "    }\n",
       "</style>\n",
       "<table border=\"1\" class=\"dataframe\">\n",
       "  <thead>\n",
       "    <tr style=\"text-align: right;\">\n",
       "      <th></th>\n",
       "      <th>user_id</th>\n",
       "      <th>book_id</th>\n",
       "      <th>rating</th>\n",
       "      <th>goodreads_book_id</th>\n",
       "      <th>best_book_id</th>\n",
       "      <th>work_id</th>\n",
       "      <th>books_count</th>\n",
       "      <th>isbn</th>\n",
       "      <th>isbn13</th>\n",
       "      <th>authors</th>\n",
       "      <th>original_publication_year</th>\n",
       "      <th>original_title</th>\n",
       "      <th>title</th>\n",
       "      <th>language_code</th>\n",
       "      <th>average_rating</th>\n",
       "      <th>ratings_count</th>\n",
       "      <th>work_ratings_count</th>\n",
       "      <th>work_text_reviews_count</th>\n",
       "      <th>ratings_1</th>\n",
       "      <th>ratings_2</th>\n",
       "      <th>ratings_3</th>\n",
       "      <th>ratings_4</th>\n",
       "      <th>ratings_5</th>\n",
       "      <th>image_url</th>\n",
       "      <th>small_image_url</th>\n",
       "    </tr>\n",
       "  </thead>\n",
       "  <tbody>\n",
       "    <tr>\n",
       "      <th>0</th>\n",
       "      <td>29403</td>\n",
       "      <td>102</td>\n",
       "      <td>5</td>\n",
       "      <td>19543</td>\n",
       "      <td>19543</td>\n",
       "      <td>3020535</td>\n",
       "      <td>110</td>\n",
       "      <td>99408392</td>\n",
       "      <td>9.780099e+12</td>\n",
       "      <td>Maurice Sendak</td>\n",
       "      <td>1963.0</td>\n",
       "      <td>Where the Wild Things Are</td>\n",
       "      <td>Where the Wild Things Are</td>\n",
       "      <td>eng</td>\n",
       "      <td>4.22</td>\n",
       "      <td>620618</td>\n",
       "      <td>636061</td>\n",
       "      <td>9102</td>\n",
       "      <td>15392</td>\n",
       "      <td>27532</td>\n",
       "      <td>93700</td>\n",
       "      <td>167043</td>\n",
       "      <td>332394</td>\n",
       "      <td>https://images.gr-assets.com/books/1384434560m...</td>\n",
       "      <td>https://images.gr-assets.com/books/1384434560s...</td>\n",
       "    </tr>\n",
       "    <tr>\n",
       "      <th>1</th>\n",
       "      <td>36128</td>\n",
       "      <td>4663</td>\n",
       "      <td>4</td>\n",
       "      <td>64081</td>\n",
       "      <td>64081</td>\n",
       "      <td>2827103</td>\n",
       "      <td>19</td>\n",
       "      <td>310266300</td>\n",
       "      <td>9.780310e+12</td>\n",
       "      <td>Shane Claiborne</td>\n",
       "      <td>2006.0</td>\n",
       "      <td>The Irresistible Revolution: Living as an Ordi...</td>\n",
       "      <td>The Irresistible Revolution: Living as an Ordi...</td>\n",
       "      <td>NaN</td>\n",
       "      <td>4.07</td>\n",
       "      <td>18566</td>\n",
       "      <td>19186</td>\n",
       "      <td>953</td>\n",
       "      <td>409</td>\n",
       "      <td>977</td>\n",
       "      <td>3435</td>\n",
       "      <td>6486</td>\n",
       "      <td>7879</td>\n",
       "      <td>https://s.gr-assets.com/assets/nophoto/book/11...</td>\n",
       "      <td>https://s.gr-assets.com/assets/nophoto/book/50...</td>\n",
       "    </tr>\n",
       "    <tr>\n",
       "      <th>2</th>\n",
       "      <td>37112</td>\n",
       "      <td>25</td>\n",
       "      <td>5</td>\n",
       "      <td>136251</td>\n",
       "      <td>136251</td>\n",
       "      <td>2963218</td>\n",
       "      <td>263</td>\n",
       "      <td>545010225</td>\n",
       "      <td>9.780545e+12</td>\n",
       "      <td>J.K. Rowling, Mary GrandPré</td>\n",
       "      <td>2007.0</td>\n",
       "      <td>Harry Potter and the Deathly Hallows</td>\n",
       "      <td>Harry Potter and the Deathly Hallows (Harry Po...</td>\n",
       "      <td>eng</td>\n",
       "      <td>4.61</td>\n",
       "      <td>1746574</td>\n",
       "      <td>1847395</td>\n",
       "      <td>51942</td>\n",
       "      <td>9363</td>\n",
       "      <td>22245</td>\n",
       "      <td>113646</td>\n",
       "      <td>383914</td>\n",
       "      <td>1318227</td>\n",
       "      <td>https://images.gr-assets.com/books/1474171184m...</td>\n",
       "      <td>https://images.gr-assets.com/books/1474171184s...</td>\n",
       "    </tr>\n",
       "    <tr>\n",
       "      <th>3</th>\n",
       "      <td>16114</td>\n",
       "      <td>693</td>\n",
       "      <td>4</td>\n",
       "      <td>455373</td>\n",
       "      <td>455373</td>\n",
       "      <td>2651694</td>\n",
       "      <td>122</td>\n",
       "      <td>345418972</td>\n",
       "      <td>9.780345e+12</td>\n",
       "      <td>Michael Crichton</td>\n",
       "      <td>1987.0</td>\n",
       "      <td>Sphere</td>\n",
       "      <td>Sphere</td>\n",
       "      <td>eng</td>\n",
       "      <td>3.77</td>\n",
       "      <td>128244</td>\n",
       "      <td>135005</td>\n",
       "      <td>2313</td>\n",
       "      <td>1851</td>\n",
       "      <td>9728</td>\n",
       "      <td>40085</td>\n",
       "      <td>49513</td>\n",
       "      <td>33828</td>\n",
       "      <td>https://s.gr-assets.com/assets/nophoto/book/11...</td>\n",
       "      <td>https://s.gr-assets.com/assets/nophoto/book/50...</td>\n",
       "    </tr>\n",
       "    <tr>\n",
       "      <th>4</th>\n",
       "      <td>50684</td>\n",
       "      <td>1731</td>\n",
       "      <td>4</td>\n",
       "      <td>6736971</td>\n",
       "      <td>6736971</td>\n",
       "      <td>6527274</td>\n",
       "      <td>37</td>\n",
       "      <td>345503813</td>\n",
       "      <td>9.780346e+12</td>\n",
       "      <td>Peter V. Brett</td>\n",
       "      <td>2010.0</td>\n",
       "      <td>The Desert Spear</td>\n",
       "      <td>The Desert Spear (Demon Cycle, #2)</td>\n",
       "      <td>eng</td>\n",
       "      <td>4.24</td>\n",
       "      <td>53143</td>\n",
       "      <td>58608</td>\n",
       "      <td>1927</td>\n",
       "      <td>555</td>\n",
       "      <td>1691</td>\n",
       "      <td>7805</td>\n",
       "      <td>21853</td>\n",
       "      <td>26704</td>\n",
       "      <td>https://s.gr-assets.com/assets/nophoto/book/11...</td>\n",
       "      <td>https://s.gr-assets.com/assets/nophoto/book/50...</td>\n",
       "    </tr>\n",
       "  </tbody>\n",
       "</table>\n",
       "</div>"
      ],
      "text/plain": [
       "   user_id  book_id  rating  goodreads_book_id  best_book_id  work_id  \\\n",
       "0    29403      102       5              19543         19543  3020535   \n",
       "1    36128     4663       4              64081         64081  2827103   \n",
       "2    37112       25       5             136251        136251  2963218   \n",
       "3    16114      693       4             455373        455373  2651694   \n",
       "4    50684     1731       4            6736971       6736971  6527274   \n",
       "\n",
       "   books_count       isbn        isbn13                      authors  \\\n",
       "0          110   99408392  9.780099e+12               Maurice Sendak   \n",
       "1           19  310266300  9.780310e+12              Shane Claiborne   \n",
       "2          263  545010225  9.780545e+12  J.K. Rowling, Mary GrandPré   \n",
       "3          122  345418972  9.780345e+12             Michael Crichton   \n",
       "4           37  345503813  9.780346e+12               Peter V. Brett   \n",
       "\n",
       "   original_publication_year  \\\n",
       "0                     1963.0   \n",
       "1                     2006.0   \n",
       "2                     2007.0   \n",
       "3                     1987.0   \n",
       "4                     2010.0   \n",
       "\n",
       "                                      original_title  \\\n",
       "0                          Where the Wild Things Are   \n",
       "1  The Irresistible Revolution: Living as an Ordi...   \n",
       "2               Harry Potter and the Deathly Hallows   \n",
       "3                                             Sphere   \n",
       "4                                   The Desert Spear   \n",
       "\n",
       "                                               title language_code  \\\n",
       "0                          Where the Wild Things Are           eng   \n",
       "1  The Irresistible Revolution: Living as an Ordi...           NaN   \n",
       "2  Harry Potter and the Deathly Hallows (Harry Po...           eng   \n",
       "3                                             Sphere           eng   \n",
       "4                 The Desert Spear (Demon Cycle, #2)           eng   \n",
       "\n",
       "   average_rating  ratings_count  work_ratings_count  work_text_reviews_count  \\\n",
       "0            4.22         620618              636061                     9102   \n",
       "1            4.07          18566               19186                      953   \n",
       "2            4.61        1746574             1847395                    51942   \n",
       "3            3.77         128244              135005                     2313   \n",
       "4            4.24          53143               58608                     1927   \n",
       "\n",
       "   ratings_1  ratings_2  ratings_3  ratings_4  ratings_5  \\\n",
       "0      15392      27532      93700     167043     332394   \n",
       "1        409        977       3435       6486       7879   \n",
       "2       9363      22245     113646     383914    1318227   \n",
       "3       1851       9728      40085      49513      33828   \n",
       "4        555       1691       7805      21853      26704   \n",
       "\n",
       "                                           image_url  \\\n",
       "0  https://images.gr-assets.com/books/1384434560m...   \n",
       "1  https://s.gr-assets.com/assets/nophoto/book/11...   \n",
       "2  https://images.gr-assets.com/books/1474171184m...   \n",
       "3  https://s.gr-assets.com/assets/nophoto/book/11...   \n",
       "4  https://s.gr-assets.com/assets/nophoto/book/11...   \n",
       "\n",
       "                                     small_image_url  \n",
       "0  https://images.gr-assets.com/books/1384434560s...  \n",
       "1  https://s.gr-assets.com/assets/nophoto/book/50...  \n",
       "2  https://images.gr-assets.com/books/1474171184s...  \n",
       "3  https://s.gr-assets.com/assets/nophoto/book/50...  \n",
       "4  https://s.gr-assets.com/assets/nophoto/book/50...  "
      ]
     },
     "execution_count": 157,
     "metadata": {},
     "output_type": "execute_result"
    }
   ],
   "source": [
    "ratings_and_books = pd.merge(ratings_sample, books, how='left', on='book_id')\n",
    "ratings_and_books.head()"
   ]
  },
  {
   "cell_type": "markdown",
   "id": "48ae68f4-0b9f-4a47-bbd3-91be528e0d30",
   "metadata": {},
   "source": [
    "Make sure the counts are all the same..."
   ]
  },
  {
   "cell_type": "code",
   "execution_count": 158,
   "id": "1a5228d7-6ae1-4f18-804a-bfe3c1df9323",
   "metadata": {
    "tags": []
   },
   "outputs": [
    {
     "data": {
      "text/plain": [
       "(100000, 25)"
      ]
     },
     "execution_count": 158,
     "metadata": {},
     "output_type": "execute_result"
    }
   ],
   "source": [
    "ratings_and_books.shape"
   ]
  },
  {
   "cell_type": "code",
   "execution_count": 159,
   "id": "70344d9f-ac9d-4fb0-a9c9-ac77671b4d43",
   "metadata": {
    "tags": []
   },
   "outputs": [
    {
     "data": {
      "text/plain": [
       "44364"
      ]
     },
     "execution_count": 159,
     "metadata": {},
     "output_type": "execute_result"
    }
   ],
   "source": [
    "ratings_and_books.user_id.value_counts().count()"
   ]
  },
  {
   "cell_type": "code",
   "execution_count": 160,
   "id": "1d1973b0-fbe8-4400-8f77-f9e3d96ddd0b",
   "metadata": {
    "tags": []
   },
   "outputs": [
    {
     "data": {
      "text/plain": [
       "9523"
      ]
     },
     "execution_count": 160,
     "metadata": {},
     "output_type": "execute_result"
    }
   ],
   "source": [
    "ratings_and_books.book_id.value_counts().count()"
   ]
  },
  {
   "cell_type": "markdown",
   "id": "fbf232e3-12b4-4b7a-9e8f-020be06095c8",
   "metadata": {},
   "source": [
    "I only want books with an english language code"
   ]
  },
  {
   "cell_type": "code",
   "execution_count": 161,
   "id": "a8576afe-e0d3-4d73-9337-abf866e56e6b",
   "metadata": {
    "tags": []
   },
   "outputs": [
    {
     "data": {
      "text/plain": [
       "eng      70983\n",
       "en-US    19678\n",
       "en-GB     1911\n",
       "en-CA      771\n",
       "spa        391\n",
       "ara        182\n",
       "fre        178\n",
       "ger         57\n",
       "ind         38\n",
       "en          26\n",
       "jpn         25\n",
       "pol         23\n",
       "nor         18\n",
       "por         15\n",
       "nl          14\n",
       "per         10\n",
       "ita          8\n",
       "dan          7\n",
       "vie          5\n",
       "mul          3\n",
       "rum          3\n",
       "fil          2\n",
       "swe          1\n",
       "tur          1\n",
       "Name: language_code, dtype: int64"
      ]
     },
     "execution_count": 161,
     "metadata": {},
     "output_type": "execute_result"
    }
   ],
   "source": [
    "ratings_and_books.language_code.value_counts()"
   ]
  },
  {
   "cell_type": "code",
   "execution_count": 173,
   "id": "17b9d22a-d6f9-412c-9375-5233c6497d4f",
   "metadata": {
    "tags": []
   },
   "outputs": [
    {
     "data": {
      "text/html": [
       "<div>\n",
       "<style scoped>\n",
       "    .dataframe tbody tr th:only-of-type {\n",
       "        vertical-align: middle;\n",
       "    }\n",
       "\n",
       "    .dataframe tbody tr th {\n",
       "        vertical-align: top;\n",
       "    }\n",
       "\n",
       "    .dataframe thead th {\n",
       "        text-align: right;\n",
       "    }\n",
       "</style>\n",
       "<table border=\"1\" class=\"dataframe\">\n",
       "  <thead>\n",
       "    <tr style=\"text-align: right;\">\n",
       "      <th></th>\n",
       "      <th>user_id</th>\n",
       "      <th>book_id</th>\n",
       "      <th>rating</th>\n",
       "      <th>goodreads_book_id</th>\n",
       "      <th>best_book_id</th>\n",
       "      <th>work_id</th>\n",
       "      <th>books_count</th>\n",
       "      <th>isbn</th>\n",
       "      <th>isbn13</th>\n",
       "      <th>authors</th>\n",
       "      <th>original_publication_year</th>\n",
       "      <th>original_title</th>\n",
       "      <th>title</th>\n",
       "      <th>language_code</th>\n",
       "      <th>average_rating</th>\n",
       "      <th>ratings_count</th>\n",
       "      <th>work_ratings_count</th>\n",
       "      <th>work_text_reviews_count</th>\n",
       "      <th>ratings_1</th>\n",
       "      <th>ratings_2</th>\n",
       "      <th>ratings_3</th>\n",
       "      <th>ratings_4</th>\n",
       "      <th>ratings_5</th>\n",
       "      <th>image_url</th>\n",
       "      <th>small_image_url</th>\n",
       "    </tr>\n",
       "  </thead>\n",
       "  <tbody>\n",
       "    <tr>\n",
       "      <th>0</th>\n",
       "      <td>29403</td>\n",
       "      <td>102</td>\n",
       "      <td>5</td>\n",
       "      <td>19543</td>\n",
       "      <td>19543</td>\n",
       "      <td>3020535</td>\n",
       "      <td>110</td>\n",
       "      <td>99408392</td>\n",
       "      <td>9.780099e+12</td>\n",
       "      <td>Maurice Sendak</td>\n",
       "      <td>1963.0</td>\n",
       "      <td>Where the Wild Things Are</td>\n",
       "      <td>Where the Wild Things Are</td>\n",
       "      <td>eng</td>\n",
       "      <td>4.22</td>\n",
       "      <td>620618</td>\n",
       "      <td>636061</td>\n",
       "      <td>9102</td>\n",
       "      <td>15392</td>\n",
       "      <td>27532</td>\n",
       "      <td>93700</td>\n",
       "      <td>167043</td>\n",
       "      <td>332394</td>\n",
       "      <td>https://images.gr-assets.com/books/1384434560m...</td>\n",
       "      <td>https://images.gr-assets.com/books/1384434560s...</td>\n",
       "    </tr>\n",
       "    <tr>\n",
       "      <th>2</th>\n",
       "      <td>37112</td>\n",
       "      <td>25</td>\n",
       "      <td>5</td>\n",
       "      <td>136251</td>\n",
       "      <td>136251</td>\n",
       "      <td>2963218</td>\n",
       "      <td>263</td>\n",
       "      <td>545010225</td>\n",
       "      <td>9.780545e+12</td>\n",
       "      <td>J.K. Rowling, Mary GrandPré</td>\n",
       "      <td>2007.0</td>\n",
       "      <td>Harry Potter and the Deathly Hallows</td>\n",
       "      <td>Harry Potter and the Deathly Hallows (Harry Po...</td>\n",
       "      <td>eng</td>\n",
       "      <td>4.61</td>\n",
       "      <td>1746574</td>\n",
       "      <td>1847395</td>\n",
       "      <td>51942</td>\n",
       "      <td>9363</td>\n",
       "      <td>22245</td>\n",
       "      <td>113646</td>\n",
       "      <td>383914</td>\n",
       "      <td>1318227</td>\n",
       "      <td>https://images.gr-assets.com/books/1474171184m...</td>\n",
       "      <td>https://images.gr-assets.com/books/1474171184s...</td>\n",
       "    </tr>\n",
       "    <tr>\n",
       "      <th>3</th>\n",
       "      <td>16114</td>\n",
       "      <td>693</td>\n",
       "      <td>4</td>\n",
       "      <td>455373</td>\n",
       "      <td>455373</td>\n",
       "      <td>2651694</td>\n",
       "      <td>122</td>\n",
       "      <td>345418972</td>\n",
       "      <td>9.780345e+12</td>\n",
       "      <td>Michael Crichton</td>\n",
       "      <td>1987.0</td>\n",
       "      <td>Sphere</td>\n",
       "      <td>Sphere</td>\n",
       "      <td>eng</td>\n",
       "      <td>3.77</td>\n",
       "      <td>128244</td>\n",
       "      <td>135005</td>\n",
       "      <td>2313</td>\n",
       "      <td>1851</td>\n",
       "      <td>9728</td>\n",
       "      <td>40085</td>\n",
       "      <td>49513</td>\n",
       "      <td>33828</td>\n",
       "      <td>https://s.gr-assets.com/assets/nophoto/book/11...</td>\n",
       "      <td>https://s.gr-assets.com/assets/nophoto/book/50...</td>\n",
       "    </tr>\n",
       "    <tr>\n",
       "      <th>4</th>\n",
       "      <td>50684</td>\n",
       "      <td>1731</td>\n",
       "      <td>4</td>\n",
       "      <td>6736971</td>\n",
       "      <td>6736971</td>\n",
       "      <td>6527274</td>\n",
       "      <td>37</td>\n",
       "      <td>345503813</td>\n",
       "      <td>9.780346e+12</td>\n",
       "      <td>Peter V. Brett</td>\n",
       "      <td>2010.0</td>\n",
       "      <td>The Desert Spear</td>\n",
       "      <td>The Desert Spear (Demon Cycle, #2)</td>\n",
       "      <td>eng</td>\n",
       "      <td>4.24</td>\n",
       "      <td>53143</td>\n",
       "      <td>58608</td>\n",
       "      <td>1927</td>\n",
       "      <td>555</td>\n",
       "      <td>1691</td>\n",
       "      <td>7805</td>\n",
       "      <td>21853</td>\n",
       "      <td>26704</td>\n",
       "      <td>https://s.gr-assets.com/assets/nophoto/book/11...</td>\n",
       "      <td>https://s.gr-assets.com/assets/nophoto/book/50...</td>\n",
       "    </tr>\n",
       "    <tr>\n",
       "      <th>6</th>\n",
       "      <td>43944</td>\n",
       "      <td>1199</td>\n",
       "      <td>3</td>\n",
       "      <td>156534</td>\n",
       "      <td>156534</td>\n",
       "      <td>151061</td>\n",
       "      <td>19</td>\n",
       "      <td>1563899809</td>\n",
       "      <td>9.781564e+12</td>\n",
       "      <td>Brian K. Vaughan, Pia Guerra, José Marzán Jr.</td>\n",
       "      <td>2003.0</td>\n",
       "      <td>Y: The Last Man, Vol. 1: Unmanned</td>\n",
       "      <td>Y: The Last Man, Vol. 1: Unmanned</td>\n",
       "      <td>eng</td>\n",
       "      <td>4.12</td>\n",
       "      <td>81326</td>\n",
       "      <td>82315</td>\n",
       "      <td>2434</td>\n",
       "      <td>2462</td>\n",
       "      <td>3478</td>\n",
       "      <td>12272</td>\n",
       "      <td>27613</td>\n",
       "      <td>36490</td>\n",
       "      <td>https://s.gr-assets.com/assets/nophoto/book/11...</td>\n",
       "      <td>https://s.gr-assets.com/assets/nophoto/book/50...</td>\n",
       "    </tr>\n",
       "  </tbody>\n",
       "</table>\n",
       "</div>"
      ],
      "text/plain": [
       "   user_id  book_id  rating  goodreads_book_id  best_book_id  work_id  \\\n",
       "0    29403      102       5              19543         19543  3020535   \n",
       "2    37112       25       5             136251        136251  2963218   \n",
       "3    16114      693       4             455373        455373  2651694   \n",
       "4    50684     1731       4            6736971       6736971  6527274   \n",
       "6    43944     1199       3             156534        156534   151061   \n",
       "\n",
       "   books_count        isbn        isbn13  \\\n",
       "0          110    99408392  9.780099e+12   \n",
       "2          263   545010225  9.780545e+12   \n",
       "3          122   345418972  9.780345e+12   \n",
       "4           37   345503813  9.780346e+12   \n",
       "6           19  1563899809  9.781564e+12   \n",
       "\n",
       "                                         authors  original_publication_year  \\\n",
       "0                                 Maurice Sendak                     1963.0   \n",
       "2                    J.K. Rowling, Mary GrandPré                     2007.0   \n",
       "3                               Michael Crichton                     1987.0   \n",
       "4                                 Peter V. Brett                     2010.0   \n",
       "6  Brian K. Vaughan, Pia Guerra, José Marzán Jr.                     2003.0   \n",
       "\n",
       "                         original_title  \\\n",
       "0             Where the Wild Things Are   \n",
       "2  Harry Potter and the Deathly Hallows   \n",
       "3                                Sphere   \n",
       "4                      The Desert Spear   \n",
       "6     Y: The Last Man, Vol. 1: Unmanned   \n",
       "\n",
       "                                               title language_code  \\\n",
       "0                          Where the Wild Things Are           eng   \n",
       "2  Harry Potter and the Deathly Hallows (Harry Po...           eng   \n",
       "3                                             Sphere           eng   \n",
       "4                 The Desert Spear (Demon Cycle, #2)           eng   \n",
       "6                  Y: The Last Man, Vol. 1: Unmanned           eng   \n",
       "\n",
       "   average_rating  ratings_count  work_ratings_count  work_text_reviews_count  \\\n",
       "0            4.22         620618              636061                     9102   \n",
       "2            4.61        1746574             1847395                    51942   \n",
       "3            3.77         128244              135005                     2313   \n",
       "4            4.24          53143               58608                     1927   \n",
       "6            4.12          81326               82315                     2434   \n",
       "\n",
       "   ratings_1  ratings_2  ratings_3  ratings_4  ratings_5  \\\n",
       "0      15392      27532      93700     167043     332394   \n",
       "2       9363      22245     113646     383914    1318227   \n",
       "3       1851       9728      40085      49513      33828   \n",
       "4        555       1691       7805      21853      26704   \n",
       "6       2462       3478      12272      27613      36490   \n",
       "\n",
       "                                           image_url  \\\n",
       "0  https://images.gr-assets.com/books/1384434560m...   \n",
       "2  https://images.gr-assets.com/books/1474171184m...   \n",
       "3  https://s.gr-assets.com/assets/nophoto/book/11...   \n",
       "4  https://s.gr-assets.com/assets/nophoto/book/11...   \n",
       "6  https://s.gr-assets.com/assets/nophoto/book/11...   \n",
       "\n",
       "                                     small_image_url  \n",
       "0  https://images.gr-assets.com/books/1384434560s...  \n",
       "2  https://images.gr-assets.com/books/1474171184s...  \n",
       "3  https://s.gr-assets.com/assets/nophoto/book/50...  \n",
       "4  https://s.gr-assets.com/assets/nophoto/book/50...  \n",
       "6  https://s.gr-assets.com/assets/nophoto/book/50...  "
      ]
     },
     "execution_count": 173,
     "metadata": {},
     "output_type": "execute_result"
    }
   ],
   "source": [
    "en_us = ratings_and_books.loc[(ratings_and_books['language_code'] == 'en-US') | (ratings_and_books['language_code'] == 'eng')]\n",
    "en_us.head()"
   ]
  },
  {
   "cell_type": "code",
   "execution_count": 174,
   "id": "7b35c2d7-0492-4d4c-9e53-4608ba7f660d",
   "metadata": {
    "tags": []
   },
   "outputs": [
    {
     "data": {
      "text/plain": [
       "(90661, 25)"
      ]
     },
     "execution_count": 174,
     "metadata": {},
     "output_type": "execute_result"
    }
   ],
   "source": [
    "en_us.shape"
   ]
  },
  {
   "cell_type": "markdown",
   "id": "de0025b6-aa7b-47b7-ac88-73b8e1858020",
   "metadata": {},
   "source": [
    "Let's drop unwanted columns:\n",
    "> For recommendation system I only need user_id, rating, and title"
   ]
  },
  {
   "cell_type": "code",
   "execution_count": 175,
   "id": "0f50548d-a50f-4351-8096-2eb3bef10ba1",
   "metadata": {
    "tags": []
   },
   "outputs": [
    {
     "data": {
      "text/html": [
       "<div>\n",
       "<style scoped>\n",
       "    .dataframe tbody tr th:only-of-type {\n",
       "        vertical-align: middle;\n",
       "    }\n",
       "\n",
       "    .dataframe tbody tr th {\n",
       "        vertical-align: top;\n",
       "    }\n",
       "\n",
       "    .dataframe thead th {\n",
       "        text-align: right;\n",
       "    }\n",
       "</style>\n",
       "<table border=\"1\" class=\"dataframe\">\n",
       "  <thead>\n",
       "    <tr style=\"text-align: right;\">\n",
       "      <th></th>\n",
       "      <th>user_id</th>\n",
       "      <th>rating</th>\n",
       "      <th>title</th>\n",
       "    </tr>\n",
       "  </thead>\n",
       "  <tbody>\n",
       "    <tr>\n",
       "      <th>0</th>\n",
       "      <td>29403</td>\n",
       "      <td>5</td>\n",
       "      <td>Where the Wild Things Are</td>\n",
       "    </tr>\n",
       "    <tr>\n",
       "      <th>2</th>\n",
       "      <td>37112</td>\n",
       "      <td>5</td>\n",
       "      <td>Harry Potter and the Deathly Hallows (Harry Po...</td>\n",
       "    </tr>\n",
       "    <tr>\n",
       "      <th>3</th>\n",
       "      <td>16114</td>\n",
       "      <td>4</td>\n",
       "      <td>Sphere</td>\n",
       "    </tr>\n",
       "    <tr>\n",
       "      <th>4</th>\n",
       "      <td>50684</td>\n",
       "      <td>4</td>\n",
       "      <td>The Desert Spear (Demon Cycle, #2)</td>\n",
       "    </tr>\n",
       "    <tr>\n",
       "      <th>6</th>\n",
       "      <td>43944</td>\n",
       "      <td>3</td>\n",
       "      <td>Y: The Last Man, Vol. 1: Unmanned</td>\n",
       "    </tr>\n",
       "  </tbody>\n",
       "</table>\n",
       "</div>"
      ],
      "text/plain": [
       "   user_id  rating                                              title\n",
       "0    29403       5                          Where the Wild Things Are\n",
       "2    37112       5  Harry Potter and the Deathly Hallows (Harry Po...\n",
       "3    16114       4                                             Sphere\n",
       "4    50684       4                 The Desert Spear (Demon Cycle, #2)\n",
       "6    43944       3                  Y: The Last Man, Vol. 1: Unmanned"
      ]
     },
     "execution_count": 175,
     "metadata": {},
     "output_type": "execute_result"
    }
   ],
   "source": [
    "recommend = en_us[['user_id', 'rating', 'title']]\n",
    "recommend.head()"
   ]
  },
  {
   "cell_type": "code",
   "execution_count": 176,
   "id": "fdb9f4eb-142b-41e0-914b-eb6f8b7b00d9",
   "metadata": {
    "tags": []
   },
   "outputs": [
    {
     "data": {
      "text/plain": [
       "(90661, 3)"
      ]
     },
     "execution_count": 176,
     "metadata": {},
     "output_type": "execute_result"
    }
   ],
   "source": [
    "recommend.shape"
   ]
  },
  {
   "cell_type": "code",
   "execution_count": 178,
   "id": "25eb494e-94d0-4edb-86ea-44079c9f268e",
   "metadata": {
    "tags": []
   },
   "outputs": [],
   "source": [
    "# recommend.to_csv('recommend.csv', index=False)"
   ]
  },
  {
   "cell_type": "code",
   "execution_count": null,
   "id": "ab0ec2b4-e2ba-49ba-8e64-61cf40c3f4bc",
   "metadata": {},
   "outputs": [],
   "source": []
  }
 ],
 "metadata": {
  "kernelspec": {
   "display_name": "Python 3 (ipykernel)",
   "language": "python",
   "name": "python3"
  },
  "language_info": {
   "codemirror_mode": {
    "name": "ipython",
    "version": 3
   },
   "file_extension": ".py",
   "mimetype": "text/x-python",
   "name": "python",
   "nbconvert_exporter": "python",
   "pygments_lexer": "ipython3",
   "version": "3.11.4"
  }
 },
 "nbformat": 4,
 "nbformat_minor": 5
}
