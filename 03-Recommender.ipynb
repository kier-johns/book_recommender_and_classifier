{
 "cells": [
  {
   "cell_type": "markdown",
   "id": "678f61dc-3aff-42f0-b331-620de22e4f78",
   "metadata": {},
   "source": [
    "# Imports:"
   ]
  },
  {
   "cell_type": "code",
   "execution_count": 2,
   "id": "321f655b-a3b3-4cca-9545-b5a608ba651c",
   "metadata": {
    "tags": []
   },
   "outputs": [],
   "source": [
    "import numpy as np\n",
    "import pandas as pd \n",
    "\n",
    "from scipy import sparse\n",
    "from sklearn.metrics.pairwise import pairwise_distances, cosine_distances"
   ]
  },
  {
   "cell_type": "markdown",
   "id": "3db98370-35f5-4293-85ca-743d046dcaa3",
   "metadata": {},
   "source": [
    "**Read in the data:**"
   ]
  },
  {
   "cell_type": "code",
   "execution_count": 3,
   "id": "463abb7f-af9d-4cff-aca2-67e84cdf3f7b",
   "metadata": {
    "tags": []
   },
   "outputs": [],
   "source": [
    "recommend = pd.read_csv('data/recommend.csv')"
   ]
  },
  {
   "cell_type": "code",
   "execution_count": 4,
   "id": "21872d82-78fe-479a-bf5e-7497b8fe964e",
   "metadata": {
    "tags": []
   },
   "outputs": [
    {
     "data": {
      "text/html": [
       "<div>\n",
       "<style scoped>\n",
       "    .dataframe tbody tr th:only-of-type {\n",
       "        vertical-align: middle;\n",
       "    }\n",
       "\n",
       "    .dataframe tbody tr th {\n",
       "        vertical-align: top;\n",
       "    }\n",
       "\n",
       "    .dataframe thead th {\n",
       "        text-align: right;\n",
       "    }\n",
       "</style>\n",
       "<table border=\"1\" class=\"dataframe\">\n",
       "  <thead>\n",
       "    <tr style=\"text-align: right;\">\n",
       "      <th></th>\n",
       "      <th>user_id</th>\n",
       "      <th>rating</th>\n",
       "      <th>title</th>\n",
       "    </tr>\n",
       "  </thead>\n",
       "  <tbody>\n",
       "    <tr>\n",
       "      <th>0</th>\n",
       "      <td>29403</td>\n",
       "      <td>5</td>\n",
       "      <td>Where the Wild Things Are</td>\n",
       "    </tr>\n",
       "    <tr>\n",
       "      <th>1</th>\n",
       "      <td>37112</td>\n",
       "      <td>5</td>\n",
       "      <td>Harry Potter and the Deathly Hallows (Harry Po...</td>\n",
       "    </tr>\n",
       "    <tr>\n",
       "      <th>2</th>\n",
       "      <td>16114</td>\n",
       "      <td>4</td>\n",
       "      <td>Sphere</td>\n",
       "    </tr>\n",
       "    <tr>\n",
       "      <th>3</th>\n",
       "      <td>50684</td>\n",
       "      <td>4</td>\n",
       "      <td>The Desert Spear (Demon Cycle, #2)</td>\n",
       "    </tr>\n",
       "    <tr>\n",
       "      <th>4</th>\n",
       "      <td>43944</td>\n",
       "      <td>3</td>\n",
       "      <td>Y: The Last Man, Vol. 1: Unmanned</td>\n",
       "    </tr>\n",
       "  </tbody>\n",
       "</table>\n",
       "</div>"
      ],
      "text/plain": [
       "   user_id  rating                                              title\n",
       "0    29403       5                          Where the Wild Things Are\n",
       "1    37112       5  Harry Potter and the Deathly Hallows (Harry Po...\n",
       "2    16114       4                                             Sphere\n",
       "3    50684       4                 The Desert Spear (Demon Cycle, #2)\n",
       "4    43944       3                  Y: The Last Man, Vol. 1: Unmanned"
      ]
     },
     "execution_count": 4,
     "metadata": {},
     "output_type": "execute_result"
    }
   ],
   "source": [
    "recommend.head()"
   ]
  },
  {
   "cell_type": "markdown",
   "id": "3a0f732e-da92-42bb-9c97-8722d15f6201",
   "metadata": {},
   "source": [
    "I am creating an item-based (the books) collaborative recommender. I will set up my pivot table in the following way:\n",
    "\n",
    "- The title will be the index\n",
    "- The user_id will be the column\n",
    "- The rating will be the value"
   ]
  },
  {
   "cell_type": "code",
   "execution_count": 5,
   "id": "59df9b07-24d0-4c28-9bfb-c7383d396a40",
   "metadata": {
    "tags": []
   },
   "outputs": [
    {
     "data": {
      "text/html": [
       "<div>\n",
       "<style scoped>\n",
       "    .dataframe tbody tr th:only-of-type {\n",
       "        vertical-align: middle;\n",
       "    }\n",
       "\n",
       "    .dataframe tbody tr th {\n",
       "        vertical-align: top;\n",
       "    }\n",
       "\n",
       "    .dataframe thead th {\n",
       "        text-align: right;\n",
       "    }\n",
       "</style>\n",
       "<table border=\"1\" class=\"dataframe\">\n",
       "  <thead>\n",
       "    <tr style=\"text-align: right;\">\n",
       "      <th>user_id</th>\n",
       "      <th>1</th>\n",
       "      <th>2</th>\n",
       "      <th>3</th>\n",
       "      <th>4</th>\n",
       "      <th>5</th>\n",
       "      <th>7</th>\n",
       "      <th>8</th>\n",
       "      <th>9</th>\n",
       "      <th>10</th>\n",
       "      <th>11</th>\n",
       "      <th>...</th>\n",
       "      <th>53413</th>\n",
       "      <th>53414</th>\n",
       "      <th>53415</th>\n",
       "      <th>53416</th>\n",
       "      <th>53417</th>\n",
       "      <th>53418</th>\n",
       "      <th>53419</th>\n",
       "      <th>53421</th>\n",
       "      <th>53422</th>\n",
       "      <th>53423</th>\n",
       "    </tr>\n",
       "    <tr>\n",
       "      <th>title</th>\n",
       "      <th></th>\n",
       "      <th></th>\n",
       "      <th></th>\n",
       "      <th></th>\n",
       "      <th></th>\n",
       "      <th></th>\n",
       "      <th></th>\n",
       "      <th></th>\n",
       "      <th></th>\n",
       "      <th></th>\n",
       "      <th></th>\n",
       "      <th></th>\n",
       "      <th></th>\n",
       "      <th></th>\n",
       "      <th></th>\n",
       "      <th></th>\n",
       "      <th></th>\n",
       "      <th></th>\n",
       "      <th></th>\n",
       "      <th></th>\n",
       "      <th></th>\n",
       "    </tr>\n",
       "  </thead>\n",
       "  <tbody>\n",
       "    <tr>\n",
       "      <th>Angels (Walsh Family, #3)</th>\n",
       "      <td>0</td>\n",
       "      <td>0</td>\n",
       "      <td>0</td>\n",
       "      <td>0</td>\n",
       "      <td>0</td>\n",
       "      <td>0</td>\n",
       "      <td>0</td>\n",
       "      <td>0</td>\n",
       "      <td>0</td>\n",
       "      <td>0</td>\n",
       "      <td>...</td>\n",
       "      <td>0</td>\n",
       "      <td>0</td>\n",
       "      <td>0</td>\n",
       "      <td>0</td>\n",
       "      <td>0</td>\n",
       "      <td>0</td>\n",
       "      <td>0</td>\n",
       "      <td>0</td>\n",
       "      <td>0</td>\n",
       "      <td>0</td>\n",
       "    </tr>\n",
       "    <tr>\n",
       "      <th>#GIRLBOSS</th>\n",
       "      <td>0</td>\n",
       "      <td>0</td>\n",
       "      <td>0</td>\n",
       "      <td>0</td>\n",
       "      <td>0</td>\n",
       "      <td>0</td>\n",
       "      <td>0</td>\n",
       "      <td>0</td>\n",
       "      <td>0</td>\n",
       "      <td>0</td>\n",
       "      <td>...</td>\n",
       "      <td>0</td>\n",
       "      <td>0</td>\n",
       "      <td>0</td>\n",
       "      <td>0</td>\n",
       "      <td>0</td>\n",
       "      <td>0</td>\n",
       "      <td>0</td>\n",
       "      <td>0</td>\n",
       "      <td>0</td>\n",
       "      <td>0</td>\n",
       "    </tr>\n",
       "    <tr>\n",
       "      <th>'Salem's Lot</th>\n",
       "      <td>0</td>\n",
       "      <td>0</td>\n",
       "      <td>0</td>\n",
       "      <td>0</td>\n",
       "      <td>0</td>\n",
       "      <td>0</td>\n",
       "      <td>0</td>\n",
       "      <td>0</td>\n",
       "      <td>0</td>\n",
       "      <td>0</td>\n",
       "      <td>...</td>\n",
       "      <td>0</td>\n",
       "      <td>0</td>\n",
       "      <td>0</td>\n",
       "      <td>0</td>\n",
       "      <td>0</td>\n",
       "      <td>0</td>\n",
       "      <td>0</td>\n",
       "      <td>0</td>\n",
       "      <td>0</td>\n",
       "      <td>0</td>\n",
       "    </tr>\n",
       "    <tr>\n",
       "      <th>'Tis (Frank McCourt, #2)</th>\n",
       "      <td>0</td>\n",
       "      <td>0</td>\n",
       "      <td>0</td>\n",
       "      <td>0</td>\n",
       "      <td>0</td>\n",
       "      <td>0</td>\n",
       "      <td>0</td>\n",
       "      <td>0</td>\n",
       "      <td>0</td>\n",
       "      <td>0</td>\n",
       "      <td>...</td>\n",
       "      <td>0</td>\n",
       "      <td>0</td>\n",
       "      <td>0</td>\n",
       "      <td>0</td>\n",
       "      <td>0</td>\n",
       "      <td>0</td>\n",
       "      <td>0</td>\n",
       "      <td>0</td>\n",
       "      <td>0</td>\n",
       "      <td>0</td>\n",
       "    </tr>\n",
       "    <tr>\n",
       "      <th>10% Happier: How I Tamed the Voice in My Head, Reduced Stress Without Losing My Edge, and Found Self-Help That Actually Works</th>\n",
       "      <td>0</td>\n",
       "      <td>0</td>\n",
       "      <td>0</td>\n",
       "      <td>0</td>\n",
       "      <td>0</td>\n",
       "      <td>0</td>\n",
       "      <td>0</td>\n",
       "      <td>0</td>\n",
       "      <td>0</td>\n",
       "      <td>0</td>\n",
       "      <td>...</td>\n",
       "      <td>0</td>\n",
       "      <td>0</td>\n",
       "      <td>0</td>\n",
       "      <td>0</td>\n",
       "      <td>0</td>\n",
       "      <td>0</td>\n",
       "      <td>0</td>\n",
       "      <td>0</td>\n",
       "      <td>0</td>\n",
       "      <td>0</td>\n",
       "    </tr>\n",
       "  </tbody>\n",
       "</table>\n",
       "<p>5 rows × 42659 columns</p>\n",
       "</div>"
      ],
      "text/plain": [
       "user_id                                             1      2      3      \\\n",
       "title                                                                     \n",
       " Angels (Walsh Family, #3)                              0      0      0   \n",
       "#GIRLBOSS                                               0      0      0   \n",
       "'Salem's Lot                                            0      0      0   \n",
       "'Tis (Frank McCourt, #2)                                0      0      0   \n",
       "10% Happier: How I Tamed the Voice in My Head, ...      0      0      0   \n",
       "\n",
       "user_id                                             4      5      7      \\\n",
       "title                                                                     \n",
       " Angels (Walsh Family, #3)                              0      0      0   \n",
       "#GIRLBOSS                                               0      0      0   \n",
       "'Salem's Lot                                            0      0      0   \n",
       "'Tis (Frank McCourt, #2)                                0      0      0   \n",
       "10% Happier: How I Tamed the Voice in My Head, ...      0      0      0   \n",
       "\n",
       "user_id                                             8      9      10     \\\n",
       "title                                                                     \n",
       " Angels (Walsh Family, #3)                              0      0      0   \n",
       "#GIRLBOSS                                               0      0      0   \n",
       "'Salem's Lot                                            0      0      0   \n",
       "'Tis (Frank McCourt, #2)                                0      0      0   \n",
       "10% Happier: How I Tamed the Voice in My Head, ...      0      0      0   \n",
       "\n",
       "user_id                                             11     ...  53413  53414  \\\n",
       "title                                                      ...                 \n",
       " Angels (Walsh Family, #3)                              0  ...      0      0   \n",
       "#GIRLBOSS                                               0  ...      0      0   \n",
       "'Salem's Lot                                            0  ...      0      0   \n",
       "'Tis (Frank McCourt, #2)                                0  ...      0      0   \n",
       "10% Happier: How I Tamed the Voice in My Head, ...      0  ...      0      0   \n",
       "\n",
       "user_id                                             53415  53416  53417  \\\n",
       "title                                                                     \n",
       " Angels (Walsh Family, #3)                              0      0      0   \n",
       "#GIRLBOSS                                               0      0      0   \n",
       "'Salem's Lot                                            0      0      0   \n",
       "'Tis (Frank McCourt, #2)                                0      0      0   \n",
       "10% Happier: How I Tamed the Voice in My Head, ...      0      0      0   \n",
       "\n",
       "user_id                                             53418  53419  53421  \\\n",
       "title                                                                     \n",
       " Angels (Walsh Family, #3)                              0      0      0   \n",
       "#GIRLBOSS                                               0      0      0   \n",
       "'Salem's Lot                                            0      0      0   \n",
       "'Tis (Frank McCourt, #2)                                0      0      0   \n",
       "10% Happier: How I Tamed the Voice in My Head, ...      0      0      0   \n",
       "\n",
       "user_id                                             53422  53423  \n",
       "title                                                             \n",
       " Angels (Walsh Family, #3)                              0      0  \n",
       "#GIRLBOSS                                               0      0  \n",
       "'Salem's Lot                                            0      0  \n",
       "'Tis (Frank McCourt, #2)                                0      0  \n",
       "10% Happier: How I Tamed the Voice in My Head, ...      0      0  \n",
       "\n",
       "[5 rows x 42659 columns]"
      ]
     },
     "execution_count": 5,
     "metadata": {},
     "output_type": "execute_result"
    }
   ],
   "source": [
    "recommend_piv = pd.pivot_table(\n",
    "    recommend,\n",
    "    values='rating',\n",
    "    index='title',\n",
    "    columns='user_id',\n",
    "    fill_value=0\n",
    ")\n",
    "\n",
    "recommend_piv.head()"
   ]
  },
  {
   "cell_type": "code",
   "execution_count": 6,
   "id": "88c2b5d5-b056-4cb5-b254-08d66529f39b",
   "metadata": {
    "tags": []
   },
   "outputs": [
    {
     "data": {
      "text/plain": [
       "(8018, 42659)"
      ]
     },
     "execution_count": 6,
     "metadata": {},
     "output_type": "execute_result"
    }
   ],
   "source": [
    "recommend_piv.shape"
   ]
  },
  {
   "cell_type": "markdown",
   "id": "2eaa26d2-de14-40b0-96fe-4b8279594a50",
   "metadata": {},
   "source": [
    "Create a sparse matrix:"
   ]
  },
  {
   "cell_type": "code",
   "execution_count": 7,
   "id": "13839c40-a13c-417e-85d5-3de354504915",
   "metadata": {
    "tags": []
   },
   "outputs": [],
   "source": [
    "recommend_sparse = sparse.csr_matrix(recommend_piv)"
   ]
  },
  {
   "cell_type": "markdown",
   "id": "cf62996b-9441-45de-91f0-64f94cad6a3a",
   "metadata": {},
   "source": [
    "Calculate Cosine Similarity:"
   ]
  },
  {
   "cell_type": "code",
   "execution_count": 8,
   "id": "16e8d8d0-45d1-4204-a628-e9314609c300",
   "metadata": {
    "tags": []
   },
   "outputs": [],
   "source": [
    "# Remember - a distance of 1 is a similarity of 0.\n",
    "distance = pairwise_distances(recommend_sparse, metric='cosine')"
   ]
  },
  {
   "cell_type": "code",
   "execution_count": 9,
   "id": "a18f6711-9f70-4431-8e66-fe9362d93aaf",
   "metadata": {
    "tags": []
   },
   "outputs": [
    {
     "data": {
      "text/plain": [
       "(8018, 8018)"
      ]
     },
     "execution_count": 9,
     "metadata": {},
     "output_type": "execute_result"
    }
   ],
   "source": [
    "distance.shape"
   ]
  },
  {
   "cell_type": "code",
   "execution_count": 10,
   "id": "f6cef5ff-31be-4197-930c-1166e28531be",
   "metadata": {
    "tags": []
   },
   "outputs": [
    {
     "data": {
      "text/plain": [
       "array([[0., 1., 1., 1., 1., 1., 1., 1., 1., 1.],\n",
       "       [1., 0., 1., 1., 1., 1., 1., 1., 1., 1.],\n",
       "       [1., 1., 0., 1., 1., 1., 1., 1., 1., 1.],\n",
       "       [1., 1., 1., 0., 1., 1., 1., 1., 1., 1.],\n",
       "       [1., 1., 1., 1., 0., 1., 1., 1., 1., 1.],\n",
       "       [1., 1., 1., 1., 1., 0., 1., 1., 1., 1.],\n",
       "       [1., 1., 1., 1., 1., 1., 0., 1., 1., 1.],\n",
       "       [1., 1., 1., 1., 1., 1., 1., 0., 1., 1.],\n",
       "       [1., 1., 1., 1., 1., 1., 1., 1., 0., 1.],\n",
       "       [1., 1., 1., 1., 1., 1., 1., 1., 1., 0.]])"
      ]
     },
     "execution_count": 10,
     "metadata": {},
     "output_type": "execute_result"
    }
   ],
   "source": [
    "np.round(distance[:10, :10], 2)"
   ]
  },
  {
   "cell_type": "markdown",
   "id": "ba9524c1-8f1b-42ce-831a-358bcd5dc96c",
   "metadata": {},
   "source": [
    "Create the recommender DataFrame"
   ]
  },
  {
   "cell_type": "code",
   "execution_count": 11,
   "id": "d4d47d7e-3e5b-403d-aadc-75b4e301762a",
   "metadata": {
    "tags": []
   },
   "outputs": [
    {
     "data": {
      "text/plain": [
       "Index([' Angels (Walsh Family, #3)', '#GIRLBOSS', ''Salem's Lot',\n",
       "       ''Tis (Frank McCourt, #2)',\n",
       "       '10% Happier: How I Tamed the Voice in My Head, Reduced Stress Without Losing My Edge, and Found Self-Help That Actually Works',\n",
       "       '100 Bullets, Vol. 1: First Shot, Last Call', '100 Love Sonnets',\n",
       "       '100 Selected Poems', '10th Anniversary (Women's Murder Club, #10)',\n",
       "       '11 Birthdays (Willow Falls, #1)',\n",
       "       ...\n",
       "       'Zero to One: Notes on Startups, or How to Build the Future',\n",
       "       'Zita the Spacegirl (Zita the Spacegirl, #1)', 'Zodiac', 'Zone One',\n",
       "       'Zorba the Greek', 'Zorro',\n",
       "       'for colored girls who have considered suicide/when the rainbow is enuf',\n",
       "       'god is Not Great: How Religion Poisons Everything',\n",
       "       'ttyl (Internet Girls, #1)', 'xxxHolic, Vol. 1 (xxxHOLiC, #1)'],\n",
       "      dtype='object', name='title', length=8018)"
      ]
     },
     "execution_count": 11,
     "metadata": {},
     "output_type": "execute_result"
    }
   ],
   "source": [
    "titles = recommend_piv.index\n",
    "titles"
   ]
  },
  {
   "cell_type": "code",
   "execution_count": 12,
   "id": "9e62a291-4e50-4167-907a-d0b5ad8748a3",
   "metadata": {
    "tags": []
   },
   "outputs": [
    {
     "data": {
      "text/html": [
       "<div>\n",
       "<style scoped>\n",
       "    .dataframe tbody tr th:only-of-type {\n",
       "        vertical-align: middle;\n",
       "    }\n",
       "\n",
       "    .dataframe tbody tr th {\n",
       "        vertical-align: top;\n",
       "    }\n",
       "\n",
       "    .dataframe thead th {\n",
       "        text-align: right;\n",
       "    }\n",
       "</style>\n",
       "<table border=\"1\" class=\"dataframe\">\n",
       "  <thead>\n",
       "    <tr style=\"text-align: right;\">\n",
       "      <th>title</th>\n",
       "      <th>Angels (Walsh Family, #3)</th>\n",
       "      <th>#GIRLBOSS</th>\n",
       "      <th>'Salem's Lot</th>\n",
       "      <th>'Tis (Frank McCourt, #2)</th>\n",
       "      <th>10% Happier: How I Tamed the Voice in My Head, Reduced Stress Without Losing My Edge, and Found Self-Help That Actually Works</th>\n",
       "      <th>100 Bullets, Vol. 1: First Shot, Last Call</th>\n",
       "      <th>100 Love Sonnets</th>\n",
       "      <th>100 Selected Poems</th>\n",
       "      <th>10th Anniversary (Women's Murder Club, #10)</th>\n",
       "      <th>11 Birthdays (Willow Falls, #1)</th>\n",
       "      <th>...</th>\n",
       "      <th>Zero to One: Notes on Startups, or How to Build the Future</th>\n",
       "      <th>Zita the Spacegirl (Zita the Spacegirl, #1)</th>\n",
       "      <th>Zodiac</th>\n",
       "      <th>Zone One</th>\n",
       "      <th>Zorba the Greek</th>\n",
       "      <th>Zorro</th>\n",
       "      <th>for colored girls who have considered suicide/when the rainbow is enuf</th>\n",
       "      <th>god is Not Great: How Religion Poisons Everything</th>\n",
       "      <th>ttyl (Internet Girls, #1)</th>\n",
       "      <th>xxxHolic, Vol. 1 (xxxHOLiC, #1)</th>\n",
       "    </tr>\n",
       "    <tr>\n",
       "      <th>title</th>\n",
       "      <th></th>\n",
       "      <th></th>\n",
       "      <th></th>\n",
       "      <th></th>\n",
       "      <th></th>\n",
       "      <th></th>\n",
       "      <th></th>\n",
       "      <th></th>\n",
       "      <th></th>\n",
       "      <th></th>\n",
       "      <th></th>\n",
       "      <th></th>\n",
       "      <th></th>\n",
       "      <th></th>\n",
       "      <th></th>\n",
       "      <th></th>\n",
       "      <th></th>\n",
       "      <th></th>\n",
       "      <th></th>\n",
       "      <th></th>\n",
       "      <th></th>\n",
       "    </tr>\n",
       "  </thead>\n",
       "  <tbody>\n",
       "    <tr>\n",
       "      <th>Angels (Walsh Family, #3)</th>\n",
       "      <td>0.0</td>\n",
       "      <td>1.0</td>\n",
       "      <td>1.0</td>\n",
       "      <td>1.0</td>\n",
       "      <td>1.0</td>\n",
       "      <td>1.0</td>\n",
       "      <td>1.0</td>\n",
       "      <td>1.0</td>\n",
       "      <td>1.0</td>\n",
       "      <td>1.0</td>\n",
       "      <td>...</td>\n",
       "      <td>1.0</td>\n",
       "      <td>1.0</td>\n",
       "      <td>1.0</td>\n",
       "      <td>1.0</td>\n",
       "      <td>1.0</td>\n",
       "      <td>1.0</td>\n",
       "      <td>1.0</td>\n",
       "      <td>1.0</td>\n",
       "      <td>1.0</td>\n",
       "      <td>1.0</td>\n",
       "    </tr>\n",
       "    <tr>\n",
       "      <th>#GIRLBOSS</th>\n",
       "      <td>1.0</td>\n",
       "      <td>0.0</td>\n",
       "      <td>1.0</td>\n",
       "      <td>1.0</td>\n",
       "      <td>1.0</td>\n",
       "      <td>1.0</td>\n",
       "      <td>1.0</td>\n",
       "      <td>1.0</td>\n",
       "      <td>1.0</td>\n",
       "      <td>1.0</td>\n",
       "      <td>...</td>\n",
       "      <td>1.0</td>\n",
       "      <td>1.0</td>\n",
       "      <td>1.0</td>\n",
       "      <td>1.0</td>\n",
       "      <td>1.0</td>\n",
       "      <td>1.0</td>\n",
       "      <td>1.0</td>\n",
       "      <td>1.0</td>\n",
       "      <td>1.0</td>\n",
       "      <td>1.0</td>\n",
       "    </tr>\n",
       "    <tr>\n",
       "      <th>'Salem's Lot</th>\n",
       "      <td>1.0</td>\n",
       "      <td>1.0</td>\n",
       "      <td>0.0</td>\n",
       "      <td>1.0</td>\n",
       "      <td>1.0</td>\n",
       "      <td>1.0</td>\n",
       "      <td>1.0</td>\n",
       "      <td>1.0</td>\n",
       "      <td>1.0</td>\n",
       "      <td>1.0</td>\n",
       "      <td>...</td>\n",
       "      <td>1.0</td>\n",
       "      <td>1.0</td>\n",
       "      <td>1.0</td>\n",
       "      <td>1.0</td>\n",
       "      <td>1.0</td>\n",
       "      <td>1.0</td>\n",
       "      <td>1.0</td>\n",
       "      <td>1.0</td>\n",
       "      <td>1.0</td>\n",
       "      <td>1.0</td>\n",
       "    </tr>\n",
       "    <tr>\n",
       "      <th>'Tis (Frank McCourt, #2)</th>\n",
       "      <td>1.0</td>\n",
       "      <td>1.0</td>\n",
       "      <td>1.0</td>\n",
       "      <td>0.0</td>\n",
       "      <td>1.0</td>\n",
       "      <td>1.0</td>\n",
       "      <td>1.0</td>\n",
       "      <td>1.0</td>\n",
       "      <td>1.0</td>\n",
       "      <td>1.0</td>\n",
       "      <td>...</td>\n",
       "      <td>1.0</td>\n",
       "      <td>1.0</td>\n",
       "      <td>1.0</td>\n",
       "      <td>1.0</td>\n",
       "      <td>1.0</td>\n",
       "      <td>1.0</td>\n",
       "      <td>1.0</td>\n",
       "      <td>1.0</td>\n",
       "      <td>1.0</td>\n",
       "      <td>1.0</td>\n",
       "    </tr>\n",
       "    <tr>\n",
       "      <th>10% Happier: How I Tamed the Voice in My Head, Reduced Stress Without Losing My Edge, and Found Self-Help That Actually Works</th>\n",
       "      <td>1.0</td>\n",
       "      <td>1.0</td>\n",
       "      <td>1.0</td>\n",
       "      <td>1.0</td>\n",
       "      <td>0.0</td>\n",
       "      <td>1.0</td>\n",
       "      <td>1.0</td>\n",
       "      <td>1.0</td>\n",
       "      <td>1.0</td>\n",
       "      <td>1.0</td>\n",
       "      <td>...</td>\n",
       "      <td>1.0</td>\n",
       "      <td>1.0</td>\n",
       "      <td>1.0</td>\n",
       "      <td>1.0</td>\n",
       "      <td>1.0</td>\n",
       "      <td>1.0</td>\n",
       "      <td>1.0</td>\n",
       "      <td>1.0</td>\n",
       "      <td>1.0</td>\n",
       "      <td>1.0</td>\n",
       "    </tr>\n",
       "  </tbody>\n",
       "</table>\n",
       "<p>5 rows × 8018 columns</p>\n",
       "</div>"
      ],
      "text/plain": [
       "title                                                Angels (Walsh Family, #3)  \\\n",
       "title                                                                            \n",
       " Angels (Walsh Family, #3)                                                 0.0   \n",
       "#GIRLBOSS                                                                  1.0   \n",
       "'Salem's Lot                                                               1.0   \n",
       "'Tis (Frank McCourt, #2)                                                   1.0   \n",
       "10% Happier: How I Tamed the Voice in My Head, ...                         1.0   \n",
       "\n",
       "title                                               #GIRLBOSS  'Salem's Lot  \\\n",
       "title                                                                         \n",
       " Angels (Walsh Family, #3)                                1.0           1.0   \n",
       "#GIRLBOSS                                                 0.0           1.0   \n",
       "'Salem's Lot                                              1.0           0.0   \n",
       "'Tis (Frank McCourt, #2)                                  1.0           1.0   \n",
       "10% Happier: How I Tamed the Voice in My Head, ...        1.0           1.0   \n",
       "\n",
       "title                                               'Tis (Frank McCourt, #2)  \\\n",
       "title                                                                          \n",
       " Angels (Walsh Family, #3)                                               1.0   \n",
       "#GIRLBOSS                                                                1.0   \n",
       "'Salem's Lot                                                             1.0   \n",
       "'Tis (Frank McCourt, #2)                                                 0.0   \n",
       "10% Happier: How I Tamed the Voice in My Head, ...                       1.0   \n",
       "\n",
       "title                                               10% Happier: How I Tamed the Voice in My Head, Reduced Stress Without Losing My Edge, and Found Self-Help That Actually Works  \\\n",
       "title                                                                                                                                                                               \n",
       " Angels (Walsh Family, #3)                                                                        1.0                                                                               \n",
       "#GIRLBOSS                                                                                         1.0                                                                               \n",
       "'Salem's Lot                                                                                      1.0                                                                               \n",
       "'Tis (Frank McCourt, #2)                                                                          1.0                                                                               \n",
       "10% Happier: How I Tamed the Voice in My Head, ...                                                0.0                                                                               \n",
       "\n",
       "title                                               100 Bullets, Vol. 1: First Shot, Last Call  \\\n",
       "title                                                                                            \n",
       " Angels (Walsh Family, #3)                                                                 1.0   \n",
       "#GIRLBOSS                                                                                  1.0   \n",
       "'Salem's Lot                                                                               1.0   \n",
       "'Tis (Frank McCourt, #2)                                                                   1.0   \n",
       "10% Happier: How I Tamed the Voice in My Head, ...                                         1.0   \n",
       "\n",
       "title                                               100 Love Sonnets  \\\n",
       "title                                                                  \n",
       " Angels (Walsh Family, #3)                                       1.0   \n",
       "#GIRLBOSS                                                        1.0   \n",
       "'Salem's Lot                                                     1.0   \n",
       "'Tis (Frank McCourt, #2)                                         1.0   \n",
       "10% Happier: How I Tamed the Voice in My Head, ...               1.0   \n",
       "\n",
       "title                                               100 Selected Poems  \\\n",
       "title                                                                    \n",
       " Angels (Walsh Family, #3)                                         1.0   \n",
       "#GIRLBOSS                                                          1.0   \n",
       "'Salem's Lot                                                       1.0   \n",
       "'Tis (Frank McCourt, #2)                                           1.0   \n",
       "10% Happier: How I Tamed the Voice in My Head, ...                 1.0   \n",
       "\n",
       "title                                               10th Anniversary (Women's Murder Club, #10)  \\\n",
       "title                                                                                             \n",
       " Angels (Walsh Family, #3)                                                                  1.0   \n",
       "#GIRLBOSS                                                                                   1.0   \n",
       "'Salem's Lot                                                                                1.0   \n",
       "'Tis (Frank McCourt, #2)                                                                    1.0   \n",
       "10% Happier: How I Tamed the Voice in My Head, ...                                          1.0   \n",
       "\n",
       "title                                               11 Birthdays (Willow Falls, #1)  \\\n",
       "title                                                                                 \n",
       " Angels (Walsh Family, #3)                                                      1.0   \n",
       "#GIRLBOSS                                                                       1.0   \n",
       "'Salem's Lot                                                                    1.0   \n",
       "'Tis (Frank McCourt, #2)                                                        1.0   \n",
       "10% Happier: How I Tamed the Voice in My Head, ...                              1.0   \n",
       "\n",
       "title                                               ...  \\\n",
       "title                                               ...   \n",
       " Angels (Walsh Family, #3)                          ...   \n",
       "#GIRLBOSS                                           ...   \n",
       "'Salem's Lot                                        ...   \n",
       "'Tis (Frank McCourt, #2)                            ...   \n",
       "10% Happier: How I Tamed the Voice in My Head, ...  ...   \n",
       "\n",
       "title                                               Zero to One: Notes on Startups, or How to Build the Future  \\\n",
       "title                                                                                                            \n",
       " Angels (Walsh Family, #3)                                                                        1.0            \n",
       "#GIRLBOSS                                                                                         1.0            \n",
       "'Salem's Lot                                                                                      1.0            \n",
       "'Tis (Frank McCourt, #2)                                                                          1.0            \n",
       "10% Happier: How I Tamed the Voice in My Head, ...                                                1.0            \n",
       "\n",
       "title                                               Zita the Spacegirl (Zita the Spacegirl, #1)  \\\n",
       "title                                                                                             \n",
       " Angels (Walsh Family, #3)                                                                  1.0   \n",
       "#GIRLBOSS                                                                                   1.0   \n",
       "'Salem's Lot                                                                                1.0   \n",
       "'Tis (Frank McCourt, #2)                                                                    1.0   \n",
       "10% Happier: How I Tamed the Voice in My Head, ...                                          1.0   \n",
       "\n",
       "title                                               Zodiac  Zone One  \\\n",
       "title                                                                  \n",
       " Angels (Walsh Family, #3)                             1.0       1.0   \n",
       "#GIRLBOSS                                              1.0       1.0   \n",
       "'Salem's Lot                                           1.0       1.0   \n",
       "'Tis (Frank McCourt, #2)                               1.0       1.0   \n",
       "10% Happier: How I Tamed the Voice in My Head, ...     1.0       1.0   \n",
       "\n",
       "title                                               Zorba the Greek  Zorro  \\\n",
       "title                                                                        \n",
       " Angels (Walsh Family, #3)                                      1.0    1.0   \n",
       "#GIRLBOSS                                                       1.0    1.0   \n",
       "'Salem's Lot                                                    1.0    1.0   \n",
       "'Tis (Frank McCourt, #2)                                        1.0    1.0   \n",
       "10% Happier: How I Tamed the Voice in My Head, ...              1.0    1.0   \n",
       "\n",
       "title                                               for colored girls who have considered suicide/when the rainbow is enuf  \\\n",
       "title                                                                                                                        \n",
       " Angels (Walsh Family, #3)                                                                        1.0                        \n",
       "#GIRLBOSS                                                                                         1.0                        \n",
       "'Salem's Lot                                                                                      1.0                        \n",
       "'Tis (Frank McCourt, #2)                                                                          1.0                        \n",
       "10% Happier: How I Tamed the Voice in My Head, ...                                                1.0                        \n",
       "\n",
       "title                                               god is Not Great: How Religion Poisons Everything  \\\n",
       "title                                                                                                   \n",
       " Angels (Walsh Family, #3)                                                                        1.0   \n",
       "#GIRLBOSS                                                                                         1.0   \n",
       "'Salem's Lot                                                                                      1.0   \n",
       "'Tis (Frank McCourt, #2)                                                                          1.0   \n",
       "10% Happier: How I Tamed the Voice in My Head, ...                                                1.0   \n",
       "\n",
       "title                                               ttyl (Internet Girls, #1)  \\\n",
       "title                                                                           \n",
       " Angels (Walsh Family, #3)                                                1.0   \n",
       "#GIRLBOSS                                                                 1.0   \n",
       "'Salem's Lot                                                              1.0   \n",
       "'Tis (Frank McCourt, #2)                                                  1.0   \n",
       "10% Happier: How I Tamed the Voice in My Head, ...                        1.0   \n",
       "\n",
       "title                                               xxxHolic, Vol. 1 (xxxHOLiC, #1)  \n",
       "title                                                                                \n",
       " Angels (Walsh Family, #3)                                                      1.0  \n",
       "#GIRLBOSS                                                                       1.0  \n",
       "'Salem's Lot                                                                    1.0  \n",
       "'Tis (Frank McCourt, #2)                                                        1.0  \n",
       "10% Happier: How I Tamed the Voice in My Head, ...                              1.0  \n",
       "\n",
       "[5 rows x 8018 columns]"
      ]
     },
     "execution_count": 12,
     "metadata": {},
     "output_type": "execute_result"
    }
   ],
   "source": [
    "recommend_df = pd.DataFrame(distance, columns=titles, index=titles)\n",
    "recommend_df.head()"
   ]
  },
  {
   "cell_type": "markdown",
   "id": "fe5995b1-c0a8-4678-a092-325e84e4c0c1",
   "metadata": {},
   "source": [
    "Try it out..."
   ]
  },
  {
   "cell_type": "code",
   "execution_count": 13,
   "id": "c83489c8-c0f1-4461-ada4-fbde1156b919",
   "metadata": {
    "tags": []
   },
   "outputs": [
    {
     "data": {
      "text/plain": [
       "Index(['A Court of Mist and Fury (A Court of Thorns and Roses, #2)',\n",
       "       'A Court of Thorns and Roses (A Court of Thorns and Roses, #1)',\n",
       "       'A Court of Wings and Ruin (A Court of Thorns and Roses, #3)'],\n",
       "      dtype='object', name='title')"
      ]
     },
     "execution_count": 13,
     "metadata": {},
     "output_type": "execute_result"
    }
   ],
   "source": [
    "titles[titles.str.lower().str.contains('a court of')]"
   ]
  },
  {
   "cell_type": "code",
   "execution_count": 14,
   "id": "44df3a83-4055-4884-9852-631a34970e6e",
   "metadata": {
    "tags": []
   },
   "outputs": [
    {
     "data": {
      "text/plain": [
       "title\n",
       "A Court of Thorns and Roses (A Court of Thorns and Roses, #1)           0.000000\n",
       "Dawn of the Dreadfuls (Pride and Prejudice and Zombies, #0.5)           0.822441\n",
       "Percy Jackson's Greek Gods (A Percy Jackson and the Olympians Guide)    0.847277\n",
       "Nimona                                                                  0.890388\n",
       "A Gathering of Shadows (Shades of Magic, #2)                            0.895949\n",
       "The Crown of Embers (Fire and Thorns, #2)                               0.899734\n",
       "Name: A Court of Thorns and Roses (A Court of Thorns and Roses, #1), dtype: float64"
      ]
     },
     "execution_count": 14,
     "metadata": {},
     "output_type": "execute_result"
    }
   ],
   "source": [
    "recommend_df['A Court of Thorns and Roses (A Court of Thorns and Roses, #1)'].sort_values().head(6)"
   ]
  },
  {
   "cell_type": "code",
   "execution_count": 15,
   "id": "2c326a77-c760-41b3-bce9-aee4ec184bc9",
   "metadata": {
    "tags": []
   },
   "outputs": [
    {
     "data": {
      "text/plain": [
       "title\n",
       "A Court of Mist and Fury (A Court of Thorns and Roses, #2)    0.000000\n",
       "Maybe Not (Maybe, #1.5)                                       0.817848\n",
       "Alice's Adventures in Wonderland & Other Stories              0.846415\n",
       "Origin (Lux, #4)                                              0.892237\n",
       "Lumberjanes, Vol. 1: Beware the Kitten Holy                   0.902381\n",
       "Spell Bound (Hex Hall, #3)                                    0.925400\n",
       "Name: A Court of Mist and Fury (A Court of Thorns and Roses, #2), dtype: float64"
      ]
     },
     "execution_count": 15,
     "metadata": {},
     "output_type": "execute_result"
    }
   ],
   "source": [
    "recommend_df['A Court of Mist and Fury (A Court of Thorns and Roses, #2)'].sort_values().head(6)"
   ]
  },
  {
   "cell_type": "code",
   "execution_count": 3,
   "id": "a8447ae3-ef61-45bf-a065-c01f21ed7e52",
   "metadata": {
    "tags": []
   },
   "outputs": [],
   "source": [
    "# titles[titles.str.lower().str.contains('harry')]"
   ]
  },
  {
   "cell_type": "code",
   "execution_count": 17,
   "id": "a91f2c25-dce9-4681-a383-5f2771e4fb1f",
   "metadata": {
    "tags": []
   },
   "outputs": [
    {
     "data": {
      "text/plain": [
       "title\n",
       "Harry Potter and the Sorcerer's Stone (Harry Potter, #1)    0.000000\n",
       "Zita the Spacegirl (Zita the Spacegirl, #1)                 0.913395\n",
       "Nigella Express: Good Food, Fast                            0.938139\n",
       "The Alexandria Link (Cotton Malone, #2)                     0.941637\n",
       "Child of the Prophecy (Sevenwaters, #3)                     0.946955\n",
       "The Expats                                                  0.950512\n",
       "Name: Harry Potter and the Sorcerer's Stone (Harry Potter, #1), dtype: float64"
      ]
     },
     "execution_count": 17,
     "metadata": {},
     "output_type": "execute_result"
    }
   ],
   "source": [
    "recommend_df[\"Harry Potter and the Sorcerer's Stone (Harry Potter, #1)\"].sort_values().head(6)"
   ]
  },
  {
   "cell_type": "code",
   "execution_count": 18,
   "id": "bff95e6f-445b-487b-8881-b22fdd5f15a9",
   "metadata": {
    "tags": []
   },
   "outputs": [
    {
     "data": {
      "text/plain": [
       "Index(['A Breath of Snow and Ashes (Outlander, #6)',\n",
       "       'An Echo in the Bone (Outlander, #7)',\n",
       "       'Dragonfly in Amber (Outlander, #2)', 'Drums of Autumn (Outlander, #4)',\n",
       "       'Outlander (Outlander, #1)', 'The Fiery Cross (Outlander, #5)',\n",
       "       'The Space Between (Outlander, #7.5)', 'Voyager (Outlander, #3)',\n",
       "       'Written in My Own Heart's Blood (Outlander, #8)'],\n",
       "      dtype='object', name='title')"
      ]
     },
     "execution_count": 18,
     "metadata": {},
     "output_type": "execute_result"
    }
   ],
   "source": [
    "titles[titles.str.lower().str.contains('outlander')]"
   ]
  },
  {
   "cell_type": "code",
   "execution_count": 19,
   "id": "c7048c72-8a3b-45ba-86c9-17b6457847db",
   "metadata": {
    "tags": []
   },
   "outputs": [
    {
     "data": {
      "text/plain": [
       "title\n",
       "Outlander (Outlander, #1)                                                                                    0.000000\n",
       "The Commitments                                                                                              0.891255\n",
       "Proper Gauge (Wool, #2)                                                                                      0.903882\n",
       "Feeling Good: The New Mood Therapy                                                                           0.906752\n",
       "The Mermaids Singing (Tony Hill & Carol Jordan, #1)                                                          0.915084\n",
       "InuYasha: Turning Back Time (InuYasha, #1)                                                                   0.924944\n",
       "The Eight (The Eight #1)                                                                                     0.937216\n",
       "Morning, Noon & Night                                                                                        0.937812\n",
       "These Is My Words: The Diary of Sarah Agnes Prine, 1881-1901, Arizona Territories (Sarah Agnes Prine, #1)    0.938717\n",
       "White Fire (Pendergast, #13)                                                                                 0.939955\n",
       "Name: Outlander (Outlander, #1), dtype: float64"
      ]
     },
     "execution_count": 19,
     "metadata": {},
     "output_type": "execute_result"
    }
   ],
   "source": [
    "recommend_df[\"Outlander (Outlander, #1)\"].sort_values().head(10)"
   ]
  },
  {
   "cell_type": "markdown",
   "id": "cfff5e2f-981e-441b-a5d4-1402c1115cf0",
   "metadata": {},
   "source": [
    " \n"
   ]
  },
  {
   "cell_type": "markdown",
   "id": "4736848f-f3a6-4150-ba70-cd46eed0d200",
   "metadata": {},
   "source": [
    "These distances aren't very close... will they improve if we use more data?"
   ]
  },
  {
   "cell_type": "code",
   "execution_count": 20,
   "id": "69c8b21a-e8eb-47fb-9375-cd9dd6f21a0b",
   "metadata": {
    "tags": []
   },
   "outputs": [],
   "source": [
    "recommend = pd.read_csv('data/recommend_big.csv')"
   ]
  },
  {
   "cell_type": "code",
   "execution_count": 21,
   "id": "6ee6a7ef-9bea-46fe-ac49-cb21b8b7075b",
   "metadata": {
    "tags": []
   },
   "outputs": [
    {
     "data": {
      "text/html": [
       "<div>\n",
       "<style scoped>\n",
       "    .dataframe tbody tr th:only-of-type {\n",
       "        vertical-align: middle;\n",
       "    }\n",
       "\n",
       "    .dataframe tbody tr th {\n",
       "        vertical-align: top;\n",
       "    }\n",
       "\n",
       "    .dataframe thead th {\n",
       "        text-align: right;\n",
       "    }\n",
       "</style>\n",
       "<table border=\"1\" class=\"dataframe\">\n",
       "  <thead>\n",
       "    <tr style=\"text-align: right;\">\n",
       "      <th></th>\n",
       "      <th>user_id</th>\n",
       "      <th>rating</th>\n",
       "      <th>title</th>\n",
       "    </tr>\n",
       "  </thead>\n",
       "  <tbody>\n",
       "    <tr>\n",
       "      <th>0</th>\n",
       "      <td>29403</td>\n",
       "      <td>5</td>\n",
       "      <td>Where the Wild Things Are</td>\n",
       "    </tr>\n",
       "    <tr>\n",
       "      <th>1</th>\n",
       "      <td>37112</td>\n",
       "      <td>5</td>\n",
       "      <td>Harry Potter and the Deathly Hallows (Harry Po...</td>\n",
       "    </tr>\n",
       "    <tr>\n",
       "      <th>2</th>\n",
       "      <td>16114</td>\n",
       "      <td>4</td>\n",
       "      <td>Sphere</td>\n",
       "    </tr>\n",
       "    <tr>\n",
       "      <th>3</th>\n",
       "      <td>50684</td>\n",
       "      <td>4</td>\n",
       "      <td>The Desert Spear (Demon Cycle, #2)</td>\n",
       "    </tr>\n",
       "    <tr>\n",
       "      <th>4</th>\n",
       "      <td>43944</td>\n",
       "      <td>3</td>\n",
       "      <td>Y: The Last Man, Vol. 1: Unmanned</td>\n",
       "    </tr>\n",
       "  </tbody>\n",
       "</table>\n",
       "</div>"
      ],
      "text/plain": [
       "   user_id  rating                                              title\n",
       "0    29403       5                          Where the Wild Things Are\n",
       "1    37112       5  Harry Potter and the Deathly Hallows (Harry Po...\n",
       "2    16114       4                                             Sphere\n",
       "3    50684       4                 The Desert Spear (Demon Cycle, #2)\n",
       "4    43944       3                  Y: The Last Man, Vol. 1: Unmanned"
      ]
     },
     "execution_count": 21,
     "metadata": {},
     "output_type": "execute_result"
    }
   ],
   "source": [
    "recommend.head()"
   ]
  },
  {
   "cell_type": "markdown",
   "id": "39087e94-7b29-40cd-8575-0229af90d2d9",
   "metadata": {},
   "source": [
    "I am creating an item-based (the books) collaborative recommender. I will set up my pivot table in the following way:\n",
    "\n",
    "- The title will be the index\n",
    "- The user_id will be the column\n",
    "- The rating will be the value"
   ]
  },
  {
   "cell_type": "code",
   "execution_count": 22,
   "id": "83bb5730-025b-4de3-bd6e-4c87e677bb88",
   "metadata": {
    "tags": []
   },
   "outputs": [
    {
     "data": {
      "text/html": [
       "<div>\n",
       "<style scoped>\n",
       "    .dataframe tbody tr th:only-of-type {\n",
       "        vertical-align: middle;\n",
       "    }\n",
       "\n",
       "    .dataframe tbody tr th {\n",
       "        vertical-align: top;\n",
       "    }\n",
       "\n",
       "    .dataframe thead th {\n",
       "        text-align: right;\n",
       "    }\n",
       "</style>\n",
       "<table border=\"1\" class=\"dataframe\">\n",
       "  <thead>\n",
       "    <tr style=\"text-align: right;\">\n",
       "      <th>user_id</th>\n",
       "      <th>1</th>\n",
       "      <th>2</th>\n",
       "      <th>3</th>\n",
       "      <th>4</th>\n",
       "      <th>5</th>\n",
       "      <th>6</th>\n",
       "      <th>7</th>\n",
       "      <th>8</th>\n",
       "      <th>9</th>\n",
       "      <th>10</th>\n",
       "      <th>...</th>\n",
       "      <th>53415</th>\n",
       "      <th>53416</th>\n",
       "      <th>53417</th>\n",
       "      <th>53418</th>\n",
       "      <th>53419</th>\n",
       "      <th>53420</th>\n",
       "      <th>53421</th>\n",
       "      <th>53422</th>\n",
       "      <th>53423</th>\n",
       "      <th>53424</th>\n",
       "    </tr>\n",
       "    <tr>\n",
       "      <th>title</th>\n",
       "      <th></th>\n",
       "      <th></th>\n",
       "      <th></th>\n",
       "      <th></th>\n",
       "      <th></th>\n",
       "      <th></th>\n",
       "      <th></th>\n",
       "      <th></th>\n",
       "      <th></th>\n",
       "      <th></th>\n",
       "      <th></th>\n",
       "      <th></th>\n",
       "      <th></th>\n",
       "      <th></th>\n",
       "      <th></th>\n",
       "      <th></th>\n",
       "      <th></th>\n",
       "      <th></th>\n",
       "      <th></th>\n",
       "      <th></th>\n",
       "      <th></th>\n",
       "    </tr>\n",
       "  </thead>\n",
       "  <tbody>\n",
       "    <tr>\n",
       "      <th>Angels (Walsh Family, #3)</th>\n",
       "      <td>0</td>\n",
       "      <td>0</td>\n",
       "      <td>0</td>\n",
       "      <td>0</td>\n",
       "      <td>0</td>\n",
       "      <td>0</td>\n",
       "      <td>0</td>\n",
       "      <td>0</td>\n",
       "      <td>0</td>\n",
       "      <td>0</td>\n",
       "      <td>...</td>\n",
       "      <td>0</td>\n",
       "      <td>0</td>\n",
       "      <td>0</td>\n",
       "      <td>0</td>\n",
       "      <td>0</td>\n",
       "      <td>0</td>\n",
       "      <td>0</td>\n",
       "      <td>0</td>\n",
       "      <td>0</td>\n",
       "      <td>0</td>\n",
       "    </tr>\n",
       "    <tr>\n",
       "      <th>#GIRLBOSS</th>\n",
       "      <td>0</td>\n",
       "      <td>0</td>\n",
       "      <td>0</td>\n",
       "      <td>0</td>\n",
       "      <td>0</td>\n",
       "      <td>0</td>\n",
       "      <td>0</td>\n",
       "      <td>0</td>\n",
       "      <td>0</td>\n",
       "      <td>0</td>\n",
       "      <td>...</td>\n",
       "      <td>0</td>\n",
       "      <td>0</td>\n",
       "      <td>0</td>\n",
       "      <td>0</td>\n",
       "      <td>0</td>\n",
       "      <td>0</td>\n",
       "      <td>0</td>\n",
       "      <td>0</td>\n",
       "      <td>0</td>\n",
       "      <td>0</td>\n",
       "    </tr>\n",
       "    <tr>\n",
       "      <th>'Salem's Lot</th>\n",
       "      <td>0</td>\n",
       "      <td>0</td>\n",
       "      <td>0</td>\n",
       "      <td>0</td>\n",
       "      <td>0</td>\n",
       "      <td>0</td>\n",
       "      <td>0</td>\n",
       "      <td>0</td>\n",
       "      <td>0</td>\n",
       "      <td>0</td>\n",
       "      <td>...</td>\n",
       "      <td>0</td>\n",
       "      <td>0</td>\n",
       "      <td>0</td>\n",
       "      <td>0</td>\n",
       "      <td>0</td>\n",
       "      <td>0</td>\n",
       "      <td>0</td>\n",
       "      <td>0</td>\n",
       "      <td>0</td>\n",
       "      <td>0</td>\n",
       "    </tr>\n",
       "    <tr>\n",
       "      <th>'Tis (Frank McCourt, #2)</th>\n",
       "      <td>0</td>\n",
       "      <td>0</td>\n",
       "      <td>0</td>\n",
       "      <td>0</td>\n",
       "      <td>0</td>\n",
       "      <td>0</td>\n",
       "      <td>0</td>\n",
       "      <td>0</td>\n",
       "      <td>0</td>\n",
       "      <td>0</td>\n",
       "      <td>...</td>\n",
       "      <td>0</td>\n",
       "      <td>0</td>\n",
       "      <td>0</td>\n",
       "      <td>0</td>\n",
       "      <td>0</td>\n",
       "      <td>0</td>\n",
       "      <td>0</td>\n",
       "      <td>0</td>\n",
       "      <td>0</td>\n",
       "      <td>0</td>\n",
       "    </tr>\n",
       "    <tr>\n",
       "      <th>10% Happier: How I Tamed the Voice in My Head, Reduced Stress Without Losing My Edge, and Found Self-Help That Actually Works</th>\n",
       "      <td>0</td>\n",
       "      <td>0</td>\n",
       "      <td>0</td>\n",
       "      <td>0</td>\n",
       "      <td>0</td>\n",
       "      <td>0</td>\n",
       "      <td>0</td>\n",
       "      <td>0</td>\n",
       "      <td>0</td>\n",
       "      <td>0</td>\n",
       "      <td>...</td>\n",
       "      <td>0</td>\n",
       "      <td>0</td>\n",
       "      <td>0</td>\n",
       "      <td>0</td>\n",
       "      <td>0</td>\n",
       "      <td>0</td>\n",
       "      <td>0</td>\n",
       "      <td>0</td>\n",
       "      <td>0</td>\n",
       "      <td>0</td>\n",
       "    </tr>\n",
       "  </tbody>\n",
       "</table>\n",
       "<p>5 rows × 53357 columns</p>\n",
       "</div>"
      ],
      "text/plain": [
       "user_id                                             1      2      3      \\\n",
       "title                                                                     \n",
       " Angels (Walsh Family, #3)                              0      0      0   \n",
       "#GIRLBOSS                                               0      0      0   \n",
       "'Salem's Lot                                            0      0      0   \n",
       "'Tis (Frank McCourt, #2)                                0      0      0   \n",
       "10% Happier: How I Tamed the Voice in My Head, ...      0      0      0   \n",
       "\n",
       "user_id                                             4      5      6      \\\n",
       "title                                                                     \n",
       " Angels (Walsh Family, #3)                              0      0      0   \n",
       "#GIRLBOSS                                               0      0      0   \n",
       "'Salem's Lot                                            0      0      0   \n",
       "'Tis (Frank McCourt, #2)                                0      0      0   \n",
       "10% Happier: How I Tamed the Voice in My Head, ...      0      0      0   \n",
       "\n",
       "user_id                                             7      8      9      \\\n",
       "title                                                                     \n",
       " Angels (Walsh Family, #3)                              0      0      0   \n",
       "#GIRLBOSS                                               0      0      0   \n",
       "'Salem's Lot                                            0      0      0   \n",
       "'Tis (Frank McCourt, #2)                                0      0      0   \n",
       "10% Happier: How I Tamed the Voice in My Head, ...      0      0      0   \n",
       "\n",
       "user_id                                             10     ...  53415  53416  \\\n",
       "title                                                      ...                 \n",
       " Angels (Walsh Family, #3)                              0  ...      0      0   \n",
       "#GIRLBOSS                                               0  ...      0      0   \n",
       "'Salem's Lot                                            0  ...      0      0   \n",
       "'Tis (Frank McCourt, #2)                                0  ...      0      0   \n",
       "10% Happier: How I Tamed the Voice in My Head, ...      0  ...      0      0   \n",
       "\n",
       "user_id                                             53417  53418  53419  \\\n",
       "title                                                                     \n",
       " Angels (Walsh Family, #3)                              0      0      0   \n",
       "#GIRLBOSS                                               0      0      0   \n",
       "'Salem's Lot                                            0      0      0   \n",
       "'Tis (Frank McCourt, #2)                                0      0      0   \n",
       "10% Happier: How I Tamed the Voice in My Head, ...      0      0      0   \n",
       "\n",
       "user_id                                             53420  53421  53422  \\\n",
       "title                                                                     \n",
       " Angels (Walsh Family, #3)                              0      0      0   \n",
       "#GIRLBOSS                                               0      0      0   \n",
       "'Salem's Lot                                            0      0      0   \n",
       "'Tis (Frank McCourt, #2)                                0      0      0   \n",
       "10% Happier: How I Tamed the Voice in My Head, ...      0      0      0   \n",
       "\n",
       "user_id                                             53423  53424  \n",
       "title                                                             \n",
       " Angels (Walsh Family, #3)                              0      0  \n",
       "#GIRLBOSS                                               0      0  \n",
       "'Salem's Lot                                            0      0  \n",
       "'Tis (Frank McCourt, #2)                                0      0  \n",
       "10% Happier: How I Tamed the Voice in My Head, ...      0      0  \n",
       "\n",
       "[5 rows x 53357 columns]"
      ]
     },
     "execution_count": 22,
     "metadata": {},
     "output_type": "execute_result"
    }
   ],
   "source": [
    "recommend_piv = pd.pivot_table(\n",
    "    recommend,\n",
    "    values='rating',\n",
    "    index='title',\n",
    "    columns='user_id',\n",
    "    fill_value=0\n",
    ")\n",
    "\n",
    "recommend_piv.head()"
   ]
  },
  {
   "cell_type": "code",
   "execution_count": 23,
   "id": "ca19fcb8-1303-4278-8202-6b105cce9fb0",
   "metadata": {
    "tags": []
   },
   "outputs": [
    {
     "data": {
      "text/plain": [
       "(8390, 53357)"
      ]
     },
     "execution_count": 23,
     "metadata": {},
     "output_type": "execute_result"
    }
   ],
   "source": [
    "recommend_piv.shape"
   ]
  },
  {
   "cell_type": "markdown",
   "id": "ca2da44b-b6a3-4ac4-b638-7251015246e3",
   "metadata": {},
   "source": [
    "Create a sparse matrix:"
   ]
  },
  {
   "cell_type": "code",
   "execution_count": 24,
   "id": "4eba55ff-dd0c-4e61-8857-092788834913",
   "metadata": {
    "tags": []
   },
   "outputs": [],
   "source": [
    "recommend_sparse = sparse.csr_matrix(recommend_piv)"
   ]
  },
  {
   "cell_type": "markdown",
   "id": "46f595b1-db7d-4008-9a3e-5dfd796a45be",
   "metadata": {},
   "source": [
    "Calculate Cosine Similarity:"
   ]
  },
  {
   "cell_type": "code",
   "execution_count": 25,
   "id": "59b3c079-f897-495a-bda8-9ed514278651",
   "metadata": {
    "tags": []
   },
   "outputs": [],
   "source": [
    "# Remember - a distance of 1 is a similarity of 0.\n",
    "distance = pairwise_distances(recommend_sparse, metric='cosine')"
   ]
  },
  {
   "cell_type": "code",
   "execution_count": 26,
   "id": "e701c59a-6b60-41e6-9b40-0e3d98160209",
   "metadata": {
    "tags": []
   },
   "outputs": [
    {
     "data": {
      "text/plain": [
       "(8390, 8390)"
      ]
     },
     "execution_count": 26,
     "metadata": {},
     "output_type": "execute_result"
    }
   ],
   "source": [
    "distance.shape"
   ]
  },
  {
   "cell_type": "code",
   "execution_count": 27,
   "id": "97af5121-b816-43f2-8ccc-d89261e023c9",
   "metadata": {
    "tags": []
   },
   "outputs": [
    {
     "data": {
      "text/plain": [
       "array([[0.  , 1.  , 1.  , 1.  , 1.  , 1.  , 1.  , 1.  , 1.  , 1.  ],\n",
       "       [1.  , 0.  , 1.  , 1.  , 1.  , 1.  , 1.  , 1.  , 1.  , 1.  ],\n",
       "       [1.  , 1.  , 0.  , 0.99, 1.  , 1.  , 1.  , 0.99, 0.99, 1.  ],\n",
       "       [1.  , 1.  , 0.99, 0.  , 0.98, 1.  , 1.  , 1.  , 1.  , 1.  ],\n",
       "       [1.  , 1.  , 1.  , 0.98, 0.  , 1.  , 1.  , 1.  , 1.  , 1.  ],\n",
       "       [1.  , 1.  , 1.  , 1.  , 1.  , 0.  , 1.  , 1.  , 1.  , 1.  ],\n",
       "       [1.  , 1.  , 1.  , 1.  , 1.  , 1.  , 0.  , 0.97, 1.  , 1.  ],\n",
       "       [1.  , 1.  , 0.99, 1.  , 1.  , 1.  , 0.97, 0.  , 1.  , 1.  ],\n",
       "       [1.  , 1.  , 0.99, 1.  , 1.  , 1.  , 1.  , 1.  , 0.  , 1.  ],\n",
       "       [1.  , 1.  , 1.  , 1.  , 1.  , 1.  , 1.  , 1.  , 1.  , 0.  ]])"
      ]
     },
     "execution_count": 27,
     "metadata": {},
     "output_type": "execute_result"
    }
   ],
   "source": [
    "np.round(distance[:10, :10], 2)"
   ]
  },
  {
   "cell_type": "markdown",
   "id": "7dc3b7f6-019d-416c-a14e-9326f95f424b",
   "metadata": {},
   "source": [
    "Create the recommender DataFrame"
   ]
  },
  {
   "cell_type": "code",
   "execution_count": 28,
   "id": "53e57732-ca57-474f-ae5a-9c1c70d5caf2",
   "metadata": {
    "tags": []
   },
   "outputs": [
    {
     "data": {
      "text/plain": [
       "Index([' Angels (Walsh Family, #3)', '#GIRLBOSS', ''Salem's Lot',\n",
       "       ''Tis (Frank McCourt, #2)',\n",
       "       '10% Happier: How I Tamed the Voice in My Head, Reduced Stress Without Losing My Edge, and Found Self-Help That Actually Works',\n",
       "       '100 Bullets, Vol. 1: First Shot, Last Call', '100 Love Sonnets',\n",
       "       '100 Selected Poems', '10th Anniversary (Women's Murder Club, #10)',\n",
       "       '11 Birthdays (Willow Falls, #1)',\n",
       "       ...\n",
       "       'Zodiac', 'Zoe's Tale (Old Man's War, #4)', 'Zone One',\n",
       "       'Zorba the Greek', 'Zorro',\n",
       "       'for colored girls who have considered suicide/when the rainbow is enuf',\n",
       "       'god is Not Great: How Religion Poisons Everything', 'sTORI Telling',\n",
       "       'ttyl (Internet Girls, #1)', 'xxxHolic, Vol. 1 (xxxHOLiC, #1)'],\n",
       "      dtype='object', name='title', length=8390)"
      ]
     },
     "execution_count": 28,
     "metadata": {},
     "output_type": "execute_result"
    }
   ],
   "source": [
    "titles = recommend_piv.index\n",
    "titles"
   ]
  },
  {
   "cell_type": "code",
   "execution_count": 29,
   "id": "8d3f11e7-b2a8-4666-af9a-88eb181c01ce",
   "metadata": {
    "tags": []
   },
   "outputs": [
    {
     "data": {
      "text/html": [
       "<div>\n",
       "<style scoped>\n",
       "    .dataframe tbody tr th:only-of-type {\n",
       "        vertical-align: middle;\n",
       "    }\n",
       "\n",
       "    .dataframe tbody tr th {\n",
       "        vertical-align: top;\n",
       "    }\n",
       "\n",
       "    .dataframe thead th {\n",
       "        text-align: right;\n",
       "    }\n",
       "</style>\n",
       "<table border=\"1\" class=\"dataframe\">\n",
       "  <thead>\n",
       "    <tr style=\"text-align: right;\">\n",
       "      <th>title</th>\n",
       "      <th>Angels (Walsh Family, #3)</th>\n",
       "      <th>#GIRLBOSS</th>\n",
       "      <th>'Salem's Lot</th>\n",
       "      <th>'Tis (Frank McCourt, #2)</th>\n",
       "      <th>10% Happier: How I Tamed the Voice in My Head, Reduced Stress Without Losing My Edge, and Found Self-Help That Actually Works</th>\n",
       "      <th>100 Bullets, Vol. 1: First Shot, Last Call</th>\n",
       "      <th>100 Love Sonnets</th>\n",
       "      <th>100 Selected Poems</th>\n",
       "      <th>10th Anniversary (Women's Murder Club, #10)</th>\n",
       "      <th>11 Birthdays (Willow Falls, #1)</th>\n",
       "      <th>...</th>\n",
       "      <th>Zodiac</th>\n",
       "      <th>Zoe's Tale (Old Man's War, #4)</th>\n",
       "      <th>Zone One</th>\n",
       "      <th>Zorba the Greek</th>\n",
       "      <th>Zorro</th>\n",
       "      <th>for colored girls who have considered suicide/when the rainbow is enuf</th>\n",
       "      <th>god is Not Great: How Religion Poisons Everything</th>\n",
       "      <th>sTORI Telling</th>\n",
       "      <th>ttyl (Internet Girls, #1)</th>\n",
       "      <th>xxxHolic, Vol. 1 (xxxHOLiC, #1)</th>\n",
       "    </tr>\n",
       "    <tr>\n",
       "      <th>title</th>\n",
       "      <th></th>\n",
       "      <th></th>\n",
       "      <th></th>\n",
       "      <th></th>\n",
       "      <th></th>\n",
       "      <th></th>\n",
       "      <th></th>\n",
       "      <th></th>\n",
       "      <th></th>\n",
       "      <th></th>\n",
       "      <th></th>\n",
       "      <th></th>\n",
       "      <th></th>\n",
       "      <th></th>\n",
       "      <th></th>\n",
       "      <th></th>\n",
       "      <th></th>\n",
       "      <th></th>\n",
       "      <th></th>\n",
       "      <th></th>\n",
       "      <th></th>\n",
       "    </tr>\n",
       "  </thead>\n",
       "  <tbody>\n",
       "    <tr>\n",
       "      <th>Angels (Walsh Family, #3)</th>\n",
       "      <td>0.0</td>\n",
       "      <td>1.0</td>\n",
       "      <td>1.000000</td>\n",
       "      <td>1.000000</td>\n",
       "      <td>1.000000</td>\n",
       "      <td>1.0</td>\n",
       "      <td>1.0</td>\n",
       "      <td>1.000000</td>\n",
       "      <td>1.00000</td>\n",
       "      <td>1.0</td>\n",
       "      <td>...</td>\n",
       "      <td>1.0</td>\n",
       "      <td>1.0</td>\n",
       "      <td>1.0</td>\n",
       "      <td>1.0</td>\n",
       "      <td>1.0</td>\n",
       "      <td>1.0</td>\n",
       "      <td>1.0</td>\n",
       "      <td>1.0</td>\n",
       "      <td>1.0</td>\n",
       "      <td>1.0</td>\n",
       "    </tr>\n",
       "    <tr>\n",
       "      <th>#GIRLBOSS</th>\n",
       "      <td>1.0</td>\n",
       "      <td>0.0</td>\n",
       "      <td>1.000000</td>\n",
       "      <td>1.000000</td>\n",
       "      <td>1.000000</td>\n",
       "      <td>1.0</td>\n",
       "      <td>1.0</td>\n",
       "      <td>1.000000</td>\n",
       "      <td>1.00000</td>\n",
       "      <td>1.0</td>\n",
       "      <td>...</td>\n",
       "      <td>1.0</td>\n",
       "      <td>1.0</td>\n",
       "      <td>1.0</td>\n",
       "      <td>1.0</td>\n",
       "      <td>1.0</td>\n",
       "      <td>1.0</td>\n",
       "      <td>1.0</td>\n",
       "      <td>1.0</td>\n",
       "      <td>1.0</td>\n",
       "      <td>1.0</td>\n",
       "    </tr>\n",
       "    <tr>\n",
       "      <th>'Salem's Lot</th>\n",
       "      <td>1.0</td>\n",
       "      <td>1.0</td>\n",
       "      <td>0.000000</td>\n",
       "      <td>0.994075</td>\n",
       "      <td>1.000000</td>\n",
       "      <td>1.0</td>\n",
       "      <td>1.0</td>\n",
       "      <td>0.989595</td>\n",
       "      <td>0.98636</td>\n",
       "      <td>1.0</td>\n",
       "      <td>...</td>\n",
       "      <td>1.0</td>\n",
       "      <td>1.0</td>\n",
       "      <td>1.0</td>\n",
       "      <td>1.0</td>\n",
       "      <td>1.0</td>\n",
       "      <td>1.0</td>\n",
       "      <td>1.0</td>\n",
       "      <td>1.0</td>\n",
       "      <td>1.0</td>\n",
       "      <td>1.0</td>\n",
       "    </tr>\n",
       "    <tr>\n",
       "      <th>'Tis (Frank McCourt, #2)</th>\n",
       "      <td>1.0</td>\n",
       "      <td>1.0</td>\n",
       "      <td>0.994075</td>\n",
       "      <td>0.000000</td>\n",
       "      <td>0.979876</td>\n",
       "      <td>1.0</td>\n",
       "      <td>1.0</td>\n",
       "      <td>1.000000</td>\n",
       "      <td>1.00000</td>\n",
       "      <td>1.0</td>\n",
       "      <td>...</td>\n",
       "      <td>1.0</td>\n",
       "      <td>1.0</td>\n",
       "      <td>1.0</td>\n",
       "      <td>1.0</td>\n",
       "      <td>1.0</td>\n",
       "      <td>1.0</td>\n",
       "      <td>1.0</td>\n",
       "      <td>1.0</td>\n",
       "      <td>1.0</td>\n",
       "      <td>1.0</td>\n",
       "    </tr>\n",
       "    <tr>\n",
       "      <th>10% Happier: How I Tamed the Voice in My Head, Reduced Stress Without Losing My Edge, and Found Self-Help That Actually Works</th>\n",
       "      <td>1.0</td>\n",
       "      <td>1.0</td>\n",
       "      <td>1.000000</td>\n",
       "      <td>0.979876</td>\n",
       "      <td>0.000000</td>\n",
       "      <td>1.0</td>\n",
       "      <td>1.0</td>\n",
       "      <td>1.000000</td>\n",
       "      <td>1.00000</td>\n",
       "      <td>1.0</td>\n",
       "      <td>...</td>\n",
       "      <td>1.0</td>\n",
       "      <td>1.0</td>\n",
       "      <td>1.0</td>\n",
       "      <td>1.0</td>\n",
       "      <td>1.0</td>\n",
       "      <td>1.0</td>\n",
       "      <td>1.0</td>\n",
       "      <td>1.0</td>\n",
       "      <td>1.0</td>\n",
       "      <td>1.0</td>\n",
       "    </tr>\n",
       "  </tbody>\n",
       "</table>\n",
       "<p>5 rows × 8390 columns</p>\n",
       "</div>"
      ],
      "text/plain": [
       "title                                                Angels (Walsh Family, #3)  \\\n",
       "title                                                                            \n",
       " Angels (Walsh Family, #3)                                                 0.0   \n",
       "#GIRLBOSS                                                                  1.0   \n",
       "'Salem's Lot                                                               1.0   \n",
       "'Tis (Frank McCourt, #2)                                                   1.0   \n",
       "10% Happier: How I Tamed the Voice in My Head, ...                         1.0   \n",
       "\n",
       "title                                               #GIRLBOSS  'Salem's Lot  \\\n",
       "title                                                                         \n",
       " Angels (Walsh Family, #3)                                1.0      1.000000   \n",
       "#GIRLBOSS                                                 0.0      1.000000   \n",
       "'Salem's Lot                                              1.0      0.000000   \n",
       "'Tis (Frank McCourt, #2)                                  1.0      0.994075   \n",
       "10% Happier: How I Tamed the Voice in My Head, ...        1.0      1.000000   \n",
       "\n",
       "title                                               'Tis (Frank McCourt, #2)  \\\n",
       "title                                                                          \n",
       " Angels (Walsh Family, #3)                                          1.000000   \n",
       "#GIRLBOSS                                                           1.000000   \n",
       "'Salem's Lot                                                        0.994075   \n",
       "'Tis (Frank McCourt, #2)                                            0.000000   \n",
       "10% Happier: How I Tamed the Voice in My Head, ...                  0.979876   \n",
       "\n",
       "title                                               10% Happier: How I Tamed the Voice in My Head, Reduced Stress Without Losing My Edge, and Found Self-Help That Actually Works  \\\n",
       "title                                                                                                                                                                               \n",
       " Angels (Walsh Family, #3)                                                                   1.000000                                                                               \n",
       "#GIRLBOSS                                                                                    1.000000                                                                               \n",
       "'Salem's Lot                                                                                 1.000000                                                                               \n",
       "'Tis (Frank McCourt, #2)                                                                     0.979876                                                                               \n",
       "10% Happier: How I Tamed the Voice in My Head, ...                                           0.000000                                                                               \n",
       "\n",
       "title                                               100 Bullets, Vol. 1: First Shot, Last Call  \\\n",
       "title                                                                                            \n",
       " Angels (Walsh Family, #3)                                                                 1.0   \n",
       "#GIRLBOSS                                                                                  1.0   \n",
       "'Salem's Lot                                                                               1.0   \n",
       "'Tis (Frank McCourt, #2)                                                                   1.0   \n",
       "10% Happier: How I Tamed the Voice in My Head, ...                                         1.0   \n",
       "\n",
       "title                                               100 Love Sonnets  \\\n",
       "title                                                                  \n",
       " Angels (Walsh Family, #3)                                       1.0   \n",
       "#GIRLBOSS                                                        1.0   \n",
       "'Salem's Lot                                                     1.0   \n",
       "'Tis (Frank McCourt, #2)                                         1.0   \n",
       "10% Happier: How I Tamed the Voice in My Head, ...               1.0   \n",
       "\n",
       "title                                               100 Selected Poems  \\\n",
       "title                                                                    \n",
       " Angels (Walsh Family, #3)                                    1.000000   \n",
       "#GIRLBOSS                                                     1.000000   \n",
       "'Salem's Lot                                                  0.989595   \n",
       "'Tis (Frank McCourt, #2)                                      1.000000   \n",
       "10% Happier: How I Tamed the Voice in My Head, ...            1.000000   \n",
       "\n",
       "title                                               10th Anniversary (Women's Murder Club, #10)  \\\n",
       "title                                                                                             \n",
       " Angels (Walsh Family, #3)                                                              1.00000   \n",
       "#GIRLBOSS                                                                               1.00000   \n",
       "'Salem's Lot                                                                            0.98636   \n",
       "'Tis (Frank McCourt, #2)                                                                1.00000   \n",
       "10% Happier: How I Tamed the Voice in My Head, ...                                      1.00000   \n",
       "\n",
       "title                                               11 Birthdays (Willow Falls, #1)  \\\n",
       "title                                                                                 \n",
       " Angels (Walsh Family, #3)                                                      1.0   \n",
       "#GIRLBOSS                                                                       1.0   \n",
       "'Salem's Lot                                                                    1.0   \n",
       "'Tis (Frank McCourt, #2)                                                        1.0   \n",
       "10% Happier: How I Tamed the Voice in My Head, ...                              1.0   \n",
       "\n",
       "title                                               ...  Zodiac  \\\n",
       "title                                               ...           \n",
       " Angels (Walsh Family, #3)                          ...     1.0   \n",
       "#GIRLBOSS                                           ...     1.0   \n",
       "'Salem's Lot                                        ...     1.0   \n",
       "'Tis (Frank McCourt, #2)                            ...     1.0   \n",
       "10% Happier: How I Tamed the Voice in My Head, ...  ...     1.0   \n",
       "\n",
       "title                                               Zoe's Tale (Old Man's War, #4)  \\\n",
       "title                                                                                \n",
       " Angels (Walsh Family, #3)                                                     1.0   \n",
       "#GIRLBOSS                                                                      1.0   \n",
       "'Salem's Lot                                                                   1.0   \n",
       "'Tis (Frank McCourt, #2)                                                       1.0   \n",
       "10% Happier: How I Tamed the Voice in My Head, ...                             1.0   \n",
       "\n",
       "title                                               Zone One  Zorba the Greek  \\\n",
       "title                                                                           \n",
       " Angels (Walsh Family, #3)                               1.0              1.0   \n",
       "#GIRLBOSS                                                1.0              1.0   \n",
       "'Salem's Lot                                             1.0              1.0   \n",
       "'Tis (Frank McCourt, #2)                                 1.0              1.0   \n",
       "10% Happier: How I Tamed the Voice in My Head, ...       1.0              1.0   \n",
       "\n",
       "title                                               Zorro  \\\n",
       "title                                                       \n",
       " Angels (Walsh Family, #3)                            1.0   \n",
       "#GIRLBOSS                                             1.0   \n",
       "'Salem's Lot                                          1.0   \n",
       "'Tis (Frank McCourt, #2)                              1.0   \n",
       "10% Happier: How I Tamed the Voice in My Head, ...    1.0   \n",
       "\n",
       "title                                               for colored girls who have considered suicide/when the rainbow is enuf  \\\n",
       "title                                                                                                                        \n",
       " Angels (Walsh Family, #3)                                                                        1.0                        \n",
       "#GIRLBOSS                                                                                         1.0                        \n",
       "'Salem's Lot                                                                                      1.0                        \n",
       "'Tis (Frank McCourt, #2)                                                                          1.0                        \n",
       "10% Happier: How I Tamed the Voice in My Head, ...                                                1.0                        \n",
       "\n",
       "title                                               god is Not Great: How Religion Poisons Everything  \\\n",
       "title                                                                                                   \n",
       " Angels (Walsh Family, #3)                                                                        1.0   \n",
       "#GIRLBOSS                                                                                         1.0   \n",
       "'Salem's Lot                                                                                      1.0   \n",
       "'Tis (Frank McCourt, #2)                                                                          1.0   \n",
       "10% Happier: How I Tamed the Voice in My Head, ...                                                1.0   \n",
       "\n",
       "title                                               sTORI Telling  \\\n",
       "title                                                               \n",
       " Angels (Walsh Family, #3)                                    1.0   \n",
       "#GIRLBOSS                                                     1.0   \n",
       "'Salem's Lot                                                  1.0   \n",
       "'Tis (Frank McCourt, #2)                                      1.0   \n",
       "10% Happier: How I Tamed the Voice in My Head, ...            1.0   \n",
       "\n",
       "title                                               ttyl (Internet Girls, #1)  \\\n",
       "title                                                                           \n",
       " Angels (Walsh Family, #3)                                                1.0   \n",
       "#GIRLBOSS                                                                 1.0   \n",
       "'Salem's Lot                                                              1.0   \n",
       "'Tis (Frank McCourt, #2)                                                  1.0   \n",
       "10% Happier: How I Tamed the Voice in My Head, ...                        1.0   \n",
       "\n",
       "title                                               xxxHolic, Vol. 1 (xxxHOLiC, #1)  \n",
       "title                                                                                \n",
       " Angels (Walsh Family, #3)                                                      1.0  \n",
       "#GIRLBOSS                                                                       1.0  \n",
       "'Salem's Lot                                                                    1.0  \n",
       "'Tis (Frank McCourt, #2)                                                        1.0  \n",
       "10% Happier: How I Tamed the Voice in My Head, ...                              1.0  \n",
       "\n",
       "[5 rows x 8390 columns]"
      ]
     },
     "execution_count": 29,
     "metadata": {},
     "output_type": "execute_result"
    }
   ],
   "source": [
    "recommend_df = pd.DataFrame(distance, columns=titles, index=titles)\n",
    "recommend_df.head()"
   ]
  },
  {
   "cell_type": "markdown",
   "id": "20e321ab-6bba-4321-98be-2674ce776238",
   "metadata": {},
   "source": [
    "Try it out..."
   ]
  },
  {
   "cell_type": "code",
   "execution_count": 31,
   "id": "c4c3c2c7-ee68-436c-9568-c1cbbdc166ed",
   "metadata": {
    "tags": []
   },
   "outputs": [
    {
     "data": {
      "text/plain": [
       "title\n",
       "A Court of Thorns and Roses (A Court of Thorns and Roses, #1)    0.000000\n",
       "A Court of Mist and Fury (A Court of Thorns and Roses, #2)       0.885106\n",
       "The Heart of Betrayal (The Remnant Chronicles, #2)               0.886706\n",
       "Heir of Fire (Throne of Glass, #3)                               0.893655\n",
       "Red Queen (Red Queen, #1)                                        0.895211\n",
       "The Wrath and the Dawn (The Wrath and the Dawn, #1)              0.911957\n",
       "Name: A Court of Thorns and Roses (A Court of Thorns and Roses, #1), dtype: float64"
      ]
     },
     "execution_count": 31,
     "metadata": {},
     "output_type": "execute_result"
    }
   ],
   "source": [
    "recommend_df['A Court of Thorns and Roses (A Court of Thorns and Roses, #1)'].sort_values().head(6)"
   ]
  },
  {
   "cell_type": "code",
   "execution_count": 32,
   "id": "1ce06f11-361b-4b19-a98a-5a70b6fc571b",
   "metadata": {
    "tags": []
   },
   "outputs": [
    {
     "data": {
      "text/plain": [
       "title\n",
       "A Court of Mist and Fury (A Court of Thorns and Roses, #2)       0.000000\n",
       "A Court of Thorns and Roses (A Court of Thorns and Roses, #1)    0.885106\n",
       "Red Queen (Red Queen, #1)                                        0.893751\n",
       "The Assassin's Blade (Throne of Glass, #0.1-0.5)                 0.896288\n",
       "Heir of Fire (Throne of Glass, #3)                               0.897353\n",
       "Empire of Storms (Throne of Glass, #5)                           0.907076\n",
       "Name: A Court of Mist and Fury (A Court of Thorns and Roses, #2), dtype: float64"
      ]
     },
     "execution_count": 32,
     "metadata": {},
     "output_type": "execute_result"
    }
   ],
   "source": [
    "recommend_df['A Court of Mist and Fury (A Court of Thorns and Roses, #2)'].sort_values().head(6)"
   ]
  },
  {
   "cell_type": "code",
   "execution_count": 34,
   "id": "36551406-ef78-4eea-b0f1-c44d1cb22585",
   "metadata": {
    "tags": []
   },
   "outputs": [
    {
     "data": {
      "text/plain": [
       "title\n",
       "Harry Potter and the Sorcerer's Stone (Harry Potter, #1)        0.000000\n",
       "Harry Potter and the Chamber of Secrets (Harry Potter, #2)      0.881504\n",
       "Harry Potter and the Goblet of Fire (Harry Potter, #4)          0.888212\n",
       "Harry Potter and the Order of the Phoenix (Harry Potter, #5)    0.890310\n",
       "Harry Potter and the Half-Blood Prince (Harry Potter, #6)       0.891420\n",
       "Harry Potter and the Prisoner of Azkaban (Harry Potter, #3)     0.891526\n",
       "Name: Harry Potter and the Sorcerer's Stone (Harry Potter, #1), dtype: float64"
      ]
     },
     "execution_count": 34,
     "metadata": {},
     "output_type": "execute_result"
    }
   ],
   "source": [
    "recommend_df[\"Harry Potter and the Sorcerer's Stone (Harry Potter, #1)\"].sort_values().head(6)"
   ]
  },
  {
   "cell_type": "code",
   "execution_count": 37,
   "id": "982d2443-0ead-4259-827c-4218b6fcb086",
   "metadata": {
    "tags": []
   },
   "outputs": [
    {
     "data": {
      "text/plain": [
       "title\n",
       "Outlander (Outlander, #1)                     0.000000\n",
       "Dragonfly in Amber (Outlander, #2)            0.892600\n",
       "The Fiery Cross (Outlander, #5)               0.900507\n",
       "A Breath of Snow and Ashes (Outlander, #6)    0.905510\n",
       "Voyager (Outlander, #3)                       0.915457\n",
       "An Echo in the Bone (Outlander, #7)           0.919807\n",
       "Name: Outlander (Outlander, #1), dtype: float64"
      ]
     },
     "execution_count": 37,
     "metadata": {},
     "output_type": "execute_result"
    }
   ],
   "source": [
    "recommend_df[\"Outlander (Outlander, #1)\"].sort_values().head(6)"
   ]
  },
  {
   "cell_type": "code",
   "execution_count": 37,
   "id": "7576a4de",
   "metadata": {
    "tags": []
   },
   "outputs": [
    {
     "data": {
      "text/plain": [
       "title\n",
       "Outlander (Outlander, #1)                     0.000000\n",
       "Dragonfly in Amber (Outlander, #2)            0.892600\n",
       "The Fiery Cross (Outlander, #5)               0.900507\n",
       "A Breath of Snow and Ashes (Outlander, #6)    0.905510\n",
       "Voyager (Outlander, #3)                       0.915457\n",
       "An Echo in the Bone (Outlander, #7)           0.919807\n",
       "Name: Outlander (Outlander, #1), dtype: float64"
      ]
     },
     "execution_count": 37,
     "metadata": {},
     "output_type": "execute_result"
    }
   ],
   "source": [
    "recommend_df[\"Outlander (Outlander, #1)\"].sort_values().head(6)"
   ]
  },
  {
   "cell_type": "markdown",
   "id": "8fda50f9-7953-439a-9da9-0a42f8e9a567",
   "metadata": {},
   "source": [
    " "
   ]
  }
 ],
 "metadata": {
  "kernelspec": {
   "display_name": "Python 3 (ipykernel)",
   "language": "python",
   "name": "python3"
  },
  "language_info": {
   "codemirror_mode": {
    "name": "ipython",
    "version": 3
   },
   "file_extension": ".py",
   "mimetype": "text/x-python",
   "name": "python",
   "nbconvert_exporter": "python",
   "pygments_lexer": "ipython3",
   "version": "3.11.4"
  }
 },
 "nbformat": 4,
 "nbformat_minor": 5
}
