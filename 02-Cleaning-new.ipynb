{
 "cells": [
  {
   "cell_type": "markdown",
   "id": "e7d186a8-9f20-4412-8c72-d7676ff4e51d",
   "metadata": {},
   "source": [
    "# Imports:"
   ]
  },
  {
   "cell_type": "code",
   "execution_count": 1,
   "id": "0387f5c8-e99f-4b7b-af36-c636a56ab4f7",
   "metadata": {
    "tags": []
   },
   "outputs": [],
   "source": [
    "import numpy as np\n",
    "import pandas as pd\n",
    "import matplotlib.pyplot as plt\n",
    "import seaborn as sns"
   ]
  },
  {
   "cell_type": "code",
   "execution_count": 2,
   "id": "7cd9dc67-17d6-4b88-8fe5-99eb02631852",
   "metadata": {
    "tags": []
   },
   "outputs": [],
   "source": [
    "pd.set_option('display.max_columns', None)\n",
    "pd.set_option('display.max_rows', None)"
   ]
  },
  {
   "cell_type": "markdown",
   "id": "9d3d1fd4-677c-4ac9-9ae0-987d73f07e59",
   "metadata": {},
   "source": [
    "#### Read in the data:"
   ]
  },
  {
   "cell_type": "code",
   "execution_count": 3,
   "id": "7d59707c-0bfb-4747-8af1-9a6a29b39d20",
   "metadata": {
    "tags": []
   },
   "outputs": [],
   "source": [
    "book_tags = pd.read_csv('ignore/book_tags.csv')\n",
    "books = pd.read_csv('ignore/books.csv')\n",
    "ratings = pd.read_csv('ignore/ratings.csv')\n",
    "tags = pd.read_csv('ignore/tags.csv')\n",
    "to_read = pd.read_csv('ignore/to_read.csv')"
   ]
  },
  {
   "cell_type": "code",
   "execution_count": 4,
   "id": "56601c3b-593a-420b-8665-08f4cfc7b2d4",
   "metadata": {
    "tags": []
   },
   "outputs": [
    {
     "name": "stdout",
     "output_type": "stream",
     "text": [
      "(999912, 3)\n",
      "(10000, 23)\n",
      "(5976479, 3)\n",
      "(34252, 2)\n",
      "(912705, 2)\n"
     ]
    }
   ],
   "source": [
    "print(book_tags.shape)\n",
    "print(books.shape)\n",
    "print(ratings.shape)\n",
    "print(tags.shape)\n",
    "print(to_read.shape)"
   ]
  },
  {
   "cell_type": "markdown",
   "id": "401f0c9d-c523-445c-86a9-c3d23bdbd57b",
   "metadata": {},
   "source": [
    " "
   ]
  },
  {
   "cell_type": "markdown",
   "id": "8b8e499e-b773-4742-9468-7e9e09712882",
   "metadata": {},
   "source": [
    "While more data is better... for the purpose of memory usage for this project I am going to randomly pick 50,000 data points from the over 5 million data points in the ratings.csv"
   ]
  },
  {
   "cell_type": "code",
   "execution_count": 5,
   "id": "0c35d313-2447-4594-ae7a-82846a074170",
   "metadata": {
    "tags": []
   },
   "outputs": [
    {
     "data": {
      "text/plain": [
       "user_id    0\n",
       "book_id    0\n",
       "rating     0\n",
       "dtype: int64"
      ]
     },
     "execution_count": 5,
     "metadata": {},
     "output_type": "execute_result"
    }
   ],
   "source": [
    "ratings.isna().sum()"
   ]
  },
  {
   "cell_type": "markdown",
   "id": "d21ed322-ea9b-45c5-99d2-de34f8590a86",
   "metadata": {},
   "source": [
    "> There are no missing values, so I cannot just delete null items"
   ]
  },
  {
   "cell_type": "code",
   "execution_count": 14,
   "id": "e3d78112-7861-4d95-bcdf-af7dffc6f0bc",
   "metadata": {
    "tags": []
   },
   "outputs": [
    {
     "data": {
      "text/plain": [
       "53424"
      ]
     },
     "execution_count": 14,
     "metadata": {},
     "output_type": "execute_result"
    }
   ],
   "source": [
    "ratings.user_id.value_counts().count()"
   ]
  },
  {
   "cell_type": "markdown",
   "id": "2390d4bc-76cd-45ae-bab4-f1eb6d3b68b3",
   "metadata": {},
   "source": [
    "> 53,424 unique users"
   ]
  },
  {
   "cell_type": "code",
   "execution_count": 15,
   "id": "bf9c5d7e-5cf2-47d3-9d40-fe4ec7413285",
   "metadata": {
    "tags": []
   },
   "outputs": [
    {
     "data": {
      "text/plain": [
       "10000"
      ]
     },
     "execution_count": 15,
     "metadata": {},
     "output_type": "execute_result"
    }
   ],
   "source": [
    "ratings.book_id.value_counts().count()"
   ]
  },
  {
   "cell_type": "markdown",
   "id": "665e2c8c-4251-45c3-82df-6e18a121951b",
   "metadata": {},
   "source": [
    "> 10,000 unique books"
   ]
  },
  {
   "cell_type": "code",
   "execution_count": 17,
   "id": "ff0795ea-2145-470d-a295-fc863c4e9162",
   "metadata": {
    "tags": []
   },
   "outputs": [],
   "source": [
    "ratings_sample = ratings.sample(n = 50000, replace = False)"
   ]
  },
  {
   "cell_type": "code",
   "execution_count": 18,
   "id": "261b0723-4e74-47e4-a837-677e109e3196",
   "metadata": {
    "tags": []
   },
   "outputs": [
    {
     "data": {
      "text/html": [
       "<div>\n",
       "<style scoped>\n",
       "    .dataframe tbody tr th:only-of-type {\n",
       "        vertical-align: middle;\n",
       "    }\n",
       "\n",
       "    .dataframe tbody tr th {\n",
       "        vertical-align: top;\n",
       "    }\n",
       "\n",
       "    .dataframe thead th {\n",
       "        text-align: right;\n",
       "    }\n",
       "</style>\n",
       "<table border=\"1\" class=\"dataframe\">\n",
       "  <thead>\n",
       "    <tr style=\"text-align: right;\">\n",
       "      <th></th>\n",
       "      <th>user_id</th>\n",
       "      <th>book_id</th>\n",
       "      <th>rating</th>\n",
       "    </tr>\n",
       "  </thead>\n",
       "  <tbody>\n",
       "    <tr>\n",
       "      <th>4798877</th>\n",
       "      <td>4034</td>\n",
       "      <td>1876</td>\n",
       "      <td>2</td>\n",
       "    </tr>\n",
       "    <tr>\n",
       "      <th>4809559</th>\n",
       "      <td>107</td>\n",
       "      <td>8649</td>\n",
       "      <td>2</td>\n",
       "    </tr>\n",
       "    <tr>\n",
       "      <th>1249425</th>\n",
       "      <td>18457</td>\n",
       "      <td>6398</td>\n",
       "      <td>5</td>\n",
       "    </tr>\n",
       "    <tr>\n",
       "      <th>4397630</th>\n",
       "      <td>3583</td>\n",
       "      <td>8184</td>\n",
       "      <td>5</td>\n",
       "    </tr>\n",
       "    <tr>\n",
       "      <th>381270</th>\n",
       "      <td>7994</td>\n",
       "      <td>154</td>\n",
       "      <td>2</td>\n",
       "    </tr>\n",
       "  </tbody>\n",
       "</table>\n",
       "</div>"
      ],
      "text/plain": [
       "         user_id  book_id  rating\n",
       "4798877     4034     1876       2\n",
       "4809559      107     8649       2\n",
       "1249425    18457     6398       5\n",
       "4397630     3583     8184       5\n",
       "381270      7994      154       2"
      ]
     },
     "execution_count": 18,
     "metadata": {},
     "output_type": "execute_result"
    }
   ],
   "source": [
    "ratings_sample.head()"
   ]
  },
  {
   "cell_type": "code",
   "execution_count": 19,
   "id": "1dc01daa-ca8e-4ade-82ad-e1230e0699b7",
   "metadata": {
    "tags": []
   },
   "outputs": [
    {
     "data": {
      "text/plain": [
       "user_id    0\n",
       "book_id    0\n",
       "rating     0\n",
       "dtype: int64"
      ]
     },
     "execution_count": 19,
     "metadata": {},
     "output_type": "execute_result"
    }
   ],
   "source": [
    "ratings_sample.isna().sum()"
   ]
  },
  {
   "cell_type": "code",
   "execution_count": 34,
   "id": "a6389b44-5b26-4008-8d7a-c83765910872",
   "metadata": {
    "tags": []
   },
   "outputs": [
    {
     "data": {
      "text/plain": [
       "32009"
      ]
     },
     "execution_count": 34,
     "metadata": {},
     "output_type": "execute_result"
    }
   ],
   "source": [
    "ratings_sample.user_id.value_counts().count()"
   ]
  },
  {
   "cell_type": "markdown",
   "id": "bb8763b5-87c9-4a4d-99d7-53536084a2e2",
   "metadata": {},
   "source": [
    "32,009 unique users in this sample, with some repeats"
   ]
  },
  {
   "cell_type": "code",
   "execution_count": 35,
   "id": "d83ea9a9-31b5-4fd0-8e8a-89958a38e9e9",
   "metadata": {
    "tags": []
   },
   "outputs": [
    {
     "data": {
      "text/plain": [
       "8393"
      ]
     },
     "execution_count": 35,
     "metadata": {},
     "output_type": "execute_result"
    }
   ],
   "source": [
    "ratings_sample.book_id.value_counts().count()"
   ]
  },
  {
   "cell_type": "markdown",
   "id": "cda3913f-4da4-40b7-9cfb-18391ff93d4a",
   "metadata": {},
   "source": [
    "> 8,393 unique books... I want all 10,000 books included so I may re-sample"
   ]
  },
  {
   "cell_type": "code",
   "execution_count": 36,
   "id": "513ec7be-6159-466f-9b37-b635196ac379",
   "metadata": {
    "tags": []
   },
   "outputs": [
    {
     "data": {
      "text/plain": [
       "5"
      ]
     },
     "execution_count": 36,
     "metadata": {},
     "output_type": "execute_result"
    }
   ],
   "source": [
    "ratings_sample.rating.value_counts().count()"
   ]
  },
  {
   "cell_type": "markdown",
   "id": "b938f5d8-cfe0-4fdd-8775-6daceb1707bd",
   "metadata": {},
   "source": [
    "> All 5 different ratings are represented"
   ]
  },
  {
   "cell_type": "markdown",
   "id": "9aedd146-f4d3-4f72-b34b-ef32509cd861",
   "metadata": {},
   "source": [
    "Let's try a resample with 100,000 instead..."
   ]
  },
  {
   "cell_type": "code",
   "execution_count": 57,
   "id": "2ffb5593-f06b-427a-9fe6-95d98c6b3162",
   "metadata": {
    "tags": []
   },
   "outputs": [],
   "source": [
    "ratings_sample = ratings.sample(n = 100000, replace = False, random_state=1002)"
   ]
  },
  {
   "cell_type": "code",
   "execution_count": 58,
   "id": "b268b14e-f369-4fac-8a35-ff9da351d059",
   "metadata": {
    "tags": []
   },
   "outputs": [
    {
     "data": {
      "text/html": [
       "<div>\n",
       "<style scoped>\n",
       "    .dataframe tbody tr th:only-of-type {\n",
       "        vertical-align: middle;\n",
       "    }\n",
       "\n",
       "    .dataframe tbody tr th {\n",
       "        vertical-align: top;\n",
       "    }\n",
       "\n",
       "    .dataframe thead th {\n",
       "        text-align: right;\n",
       "    }\n",
       "</style>\n",
       "<table border=\"1\" class=\"dataframe\">\n",
       "  <thead>\n",
       "    <tr style=\"text-align: right;\">\n",
       "      <th></th>\n",
       "      <th>user_id</th>\n",
       "      <th>book_id</th>\n",
       "      <th>rating</th>\n",
       "    </tr>\n",
       "  </thead>\n",
       "  <tbody>\n",
       "    <tr>\n",
       "      <th>2186601</th>\n",
       "      <td>29403</td>\n",
       "      <td>102</td>\n",
       "      <td>5</td>\n",
       "    </tr>\n",
       "    <tr>\n",
       "      <th>2858642</th>\n",
       "      <td>36128</td>\n",
       "      <td>4663</td>\n",
       "      <td>4</td>\n",
       "    </tr>\n",
       "    <tr>\n",
       "      <th>4280792</th>\n",
       "      <td>37112</td>\n",
       "      <td>25</td>\n",
       "      <td>5</td>\n",
       "    </tr>\n",
       "    <tr>\n",
       "      <th>1026306</th>\n",
       "      <td>16114</td>\n",
       "      <td>693</td>\n",
       "      <td>4</td>\n",
       "    </tr>\n",
       "    <tr>\n",
       "      <th>5672837</th>\n",
       "      <td>50684</td>\n",
       "      <td>1731</td>\n",
       "      <td>4</td>\n",
       "    </tr>\n",
       "  </tbody>\n",
       "</table>\n",
       "</div>"
      ],
      "text/plain": [
       "         user_id  book_id  rating\n",
       "2186601    29403      102       5\n",
       "2858642    36128     4663       4\n",
       "4280792    37112       25       5\n",
       "1026306    16114      693       4\n",
       "5672837    50684     1731       4"
      ]
     },
     "execution_count": 58,
     "metadata": {},
     "output_type": "execute_result"
    }
   ],
   "source": [
    "ratings_sample.head()"
   ]
  },
  {
   "cell_type": "code",
   "execution_count": 59,
   "id": "7e930d9a-dc32-4743-833f-da074ca99801",
   "metadata": {
    "tags": []
   },
   "outputs": [
    {
     "data": {
      "text/plain": [
       "user_id    0\n",
       "book_id    0\n",
       "rating     0\n",
       "dtype: int64"
      ]
     },
     "execution_count": 59,
     "metadata": {},
     "output_type": "execute_result"
    }
   ],
   "source": [
    "ratings_sample.isna().sum()"
   ]
  },
  {
   "cell_type": "code",
   "execution_count": 60,
   "id": "ef6d994e-67fd-4e8a-931f-06d36d4320cb",
   "metadata": {
    "tags": []
   },
   "outputs": [
    {
     "data": {
      "text/plain": [
       "44364"
      ]
     },
     "execution_count": 60,
     "metadata": {},
     "output_type": "execute_result"
    }
   ],
   "source": [
    "ratings_sample.user_id.value_counts().count()"
   ]
  },
  {
   "cell_type": "markdown",
   "id": "aa064480-118a-4eed-bc74-767b5b0e5866",
   "metadata": {},
   "source": [
    "> 44,364 unique users"
   ]
  },
  {
   "cell_type": "code",
   "execution_count": 61,
   "id": "7135e01a-1247-4cd2-a534-c1d1dfe7a3ea",
   "metadata": {
    "tags": []
   },
   "outputs": [
    {
     "data": {
      "text/plain": [
       "9523"
      ]
     },
     "execution_count": 61,
     "metadata": {},
     "output_type": "execute_result"
    }
   ],
   "source": [
    "ratings_sample.book_id.value_counts().count()"
   ]
  },
  {
   "cell_type": "markdown",
   "id": "a74adee6-c273-4323-934c-f69f0032749d",
   "metadata": {},
   "source": [
    "> 9523 unique books... this is not the full 10,000 but close enough for my liking"
   ]
  },
  {
   "cell_type": "code",
   "execution_count": 82,
   "id": "8b8def09-f219-4363-baf6-cc903bb5651b",
   "metadata": {
    "tags": []
   },
   "outputs": [],
   "source": [
    "# Checking to make sure that some of my favorite books are included in this sample... because what would a good recommender system be if it doesn't include my favorites\n",
    "# ratings_sample.loc[ratings_sample['book_id'] == 30]"
   ]
  },
  {
   "cell_type": "code",
   "execution_count": 83,
   "id": "34d38d45-6dbe-40d3-b6ea-ba9b79dddb2c",
   "metadata": {
    "tags": []
   },
   "outputs": [],
   "source": [
    "ratings_sample.to_csv('ratings_sample.csv', index=False)"
   ]
  },
  {
   "cell_type": "code",
   "execution_count": 84,
   "id": "5261391f-f52d-4a23-8b0d-e13cf09ee91b",
   "metadata": {
    "tags": []
   },
   "outputs": [
    {
     "data": {
      "text/plain": [
       "(100000, 3)"
      ]
     },
     "execution_count": 84,
     "metadata": {},
     "output_type": "execute_result"
    }
   ],
   "source": [
    "ratings_sample.shape"
   ]
  },
  {
   "cell_type": "markdown",
   "id": "a7b13a58-a08c-4387-b464-443e4dc2e83d",
   "metadata": {},
   "source": [
    "Now, let's merge the book df with it"
   ]
  },
  {
   "cell_type": "code",
   "execution_count": 85,
   "id": "036892e7-225d-45a3-9b40-939683e06f3a",
   "metadata": {
    "tags": []
   },
   "outputs": [
    {
     "data": {
      "text/html": [
       "<div>\n",
       "<style scoped>\n",
       "    .dataframe tbody tr th:only-of-type {\n",
       "        vertical-align: middle;\n",
       "    }\n",
       "\n",
       "    .dataframe tbody tr th {\n",
       "        vertical-align: top;\n",
       "    }\n",
       "\n",
       "    .dataframe thead th {\n",
       "        text-align: right;\n",
       "    }\n",
       "</style>\n",
       "<table border=\"1\" class=\"dataframe\">\n",
       "  <thead>\n",
       "    <tr style=\"text-align: right;\">\n",
       "      <th></th>\n",
       "      <th>user_id</th>\n",
       "      <th>book_id</th>\n",
       "      <th>rating</th>\n",
       "      <th>goodreads_book_id</th>\n",
       "      <th>best_book_id</th>\n",
       "      <th>work_id</th>\n",
       "      <th>books_count</th>\n",
       "      <th>isbn</th>\n",
       "      <th>isbn13</th>\n",
       "      <th>authors</th>\n",
       "      <th>original_publication_year</th>\n",
       "      <th>original_title</th>\n",
       "      <th>title</th>\n",
       "      <th>language_code</th>\n",
       "      <th>average_rating</th>\n",
       "      <th>ratings_count</th>\n",
       "      <th>work_ratings_count</th>\n",
       "      <th>work_text_reviews_count</th>\n",
       "      <th>ratings_1</th>\n",
       "      <th>ratings_2</th>\n",
       "      <th>ratings_3</th>\n",
       "      <th>ratings_4</th>\n",
       "      <th>ratings_5</th>\n",
       "      <th>image_url</th>\n",
       "      <th>small_image_url</th>\n",
       "    </tr>\n",
       "  </thead>\n",
       "  <tbody>\n",
       "    <tr>\n",
       "      <th>0</th>\n",
       "      <td>29403</td>\n",
       "      <td>102</td>\n",
       "      <td>5</td>\n",
       "      <td>19543</td>\n",
       "      <td>19543</td>\n",
       "      <td>3020535</td>\n",
       "      <td>110</td>\n",
       "      <td>99408392</td>\n",
       "      <td>9.780099e+12</td>\n",
       "      <td>Maurice Sendak</td>\n",
       "      <td>1963.0</td>\n",
       "      <td>Where the Wild Things Are</td>\n",
       "      <td>Where the Wild Things Are</td>\n",
       "      <td>eng</td>\n",
       "      <td>4.22</td>\n",
       "      <td>620618</td>\n",
       "      <td>636061</td>\n",
       "      <td>9102</td>\n",
       "      <td>15392</td>\n",
       "      <td>27532</td>\n",
       "      <td>93700</td>\n",
       "      <td>167043</td>\n",
       "      <td>332394</td>\n",
       "      <td>https://images.gr-assets.com/books/1384434560m...</td>\n",
       "      <td>https://images.gr-assets.com/books/1384434560s...</td>\n",
       "    </tr>\n",
       "    <tr>\n",
       "      <th>1</th>\n",
       "      <td>36128</td>\n",
       "      <td>4663</td>\n",
       "      <td>4</td>\n",
       "      <td>64081</td>\n",
       "      <td>64081</td>\n",
       "      <td>2827103</td>\n",
       "      <td>19</td>\n",
       "      <td>310266300</td>\n",
       "      <td>9.780310e+12</td>\n",
       "      <td>Shane Claiborne</td>\n",
       "      <td>2006.0</td>\n",
       "      <td>The Irresistible Revolution: Living as an Ordi...</td>\n",
       "      <td>The Irresistible Revolution: Living as an Ordi...</td>\n",
       "      <td>NaN</td>\n",
       "      <td>4.07</td>\n",
       "      <td>18566</td>\n",
       "      <td>19186</td>\n",
       "      <td>953</td>\n",
       "      <td>409</td>\n",
       "      <td>977</td>\n",
       "      <td>3435</td>\n",
       "      <td>6486</td>\n",
       "      <td>7879</td>\n",
       "      <td>https://s.gr-assets.com/assets/nophoto/book/11...</td>\n",
       "      <td>https://s.gr-assets.com/assets/nophoto/book/50...</td>\n",
       "    </tr>\n",
       "    <tr>\n",
       "      <th>2</th>\n",
       "      <td>37112</td>\n",
       "      <td>25</td>\n",
       "      <td>5</td>\n",
       "      <td>136251</td>\n",
       "      <td>136251</td>\n",
       "      <td>2963218</td>\n",
       "      <td>263</td>\n",
       "      <td>545010225</td>\n",
       "      <td>9.780545e+12</td>\n",
       "      <td>J.K. Rowling, Mary GrandPré</td>\n",
       "      <td>2007.0</td>\n",
       "      <td>Harry Potter and the Deathly Hallows</td>\n",
       "      <td>Harry Potter and the Deathly Hallows (Harry Po...</td>\n",
       "      <td>eng</td>\n",
       "      <td>4.61</td>\n",
       "      <td>1746574</td>\n",
       "      <td>1847395</td>\n",
       "      <td>51942</td>\n",
       "      <td>9363</td>\n",
       "      <td>22245</td>\n",
       "      <td>113646</td>\n",
       "      <td>383914</td>\n",
       "      <td>1318227</td>\n",
       "      <td>https://images.gr-assets.com/books/1474171184m...</td>\n",
       "      <td>https://images.gr-assets.com/books/1474171184s...</td>\n",
       "    </tr>\n",
       "    <tr>\n",
       "      <th>3</th>\n",
       "      <td>16114</td>\n",
       "      <td>693</td>\n",
       "      <td>4</td>\n",
       "      <td>455373</td>\n",
       "      <td>455373</td>\n",
       "      <td>2651694</td>\n",
       "      <td>122</td>\n",
       "      <td>345418972</td>\n",
       "      <td>9.780345e+12</td>\n",
       "      <td>Michael Crichton</td>\n",
       "      <td>1987.0</td>\n",
       "      <td>Sphere</td>\n",
       "      <td>Sphere</td>\n",
       "      <td>eng</td>\n",
       "      <td>3.77</td>\n",
       "      <td>128244</td>\n",
       "      <td>135005</td>\n",
       "      <td>2313</td>\n",
       "      <td>1851</td>\n",
       "      <td>9728</td>\n",
       "      <td>40085</td>\n",
       "      <td>49513</td>\n",
       "      <td>33828</td>\n",
       "      <td>https://s.gr-assets.com/assets/nophoto/book/11...</td>\n",
       "      <td>https://s.gr-assets.com/assets/nophoto/book/50...</td>\n",
       "    </tr>\n",
       "    <tr>\n",
       "      <th>4</th>\n",
       "      <td>50684</td>\n",
       "      <td>1731</td>\n",
       "      <td>4</td>\n",
       "      <td>6736971</td>\n",
       "      <td>6736971</td>\n",
       "      <td>6527274</td>\n",
       "      <td>37</td>\n",
       "      <td>345503813</td>\n",
       "      <td>9.780346e+12</td>\n",
       "      <td>Peter V. Brett</td>\n",
       "      <td>2010.0</td>\n",
       "      <td>The Desert Spear</td>\n",
       "      <td>The Desert Spear (Demon Cycle, #2)</td>\n",
       "      <td>eng</td>\n",
       "      <td>4.24</td>\n",
       "      <td>53143</td>\n",
       "      <td>58608</td>\n",
       "      <td>1927</td>\n",
       "      <td>555</td>\n",
       "      <td>1691</td>\n",
       "      <td>7805</td>\n",
       "      <td>21853</td>\n",
       "      <td>26704</td>\n",
       "      <td>https://s.gr-assets.com/assets/nophoto/book/11...</td>\n",
       "      <td>https://s.gr-assets.com/assets/nophoto/book/50...</td>\n",
       "    </tr>\n",
       "  </tbody>\n",
       "</table>\n",
       "</div>"
      ],
      "text/plain": [
       "   user_id  book_id  rating  goodreads_book_id  best_book_id  work_id  \\\n",
       "0    29403      102       5              19543         19543  3020535   \n",
       "1    36128     4663       4              64081         64081  2827103   \n",
       "2    37112       25       5             136251        136251  2963218   \n",
       "3    16114      693       4             455373        455373  2651694   \n",
       "4    50684     1731       4            6736971       6736971  6527274   \n",
       "\n",
       "   books_count       isbn        isbn13                      authors  \\\n",
       "0          110   99408392  9.780099e+12               Maurice Sendak   \n",
       "1           19  310266300  9.780310e+12              Shane Claiborne   \n",
       "2          263  545010225  9.780545e+12  J.K. Rowling, Mary GrandPré   \n",
       "3          122  345418972  9.780345e+12             Michael Crichton   \n",
       "4           37  345503813  9.780346e+12               Peter V. Brett   \n",
       "\n",
       "   original_publication_year  \\\n",
       "0                     1963.0   \n",
       "1                     2006.0   \n",
       "2                     2007.0   \n",
       "3                     1987.0   \n",
       "4                     2010.0   \n",
       "\n",
       "                                      original_title  \\\n",
       "0                          Where the Wild Things Are   \n",
       "1  The Irresistible Revolution: Living as an Ordi...   \n",
       "2               Harry Potter and the Deathly Hallows   \n",
       "3                                             Sphere   \n",
       "4                                   The Desert Spear   \n",
       "\n",
       "                                               title language_code  \\\n",
       "0                          Where the Wild Things Are           eng   \n",
       "1  The Irresistible Revolution: Living as an Ordi...           NaN   \n",
       "2  Harry Potter and the Deathly Hallows (Harry Po...           eng   \n",
       "3                                             Sphere           eng   \n",
       "4                 The Desert Spear (Demon Cycle, #2)           eng   \n",
       "\n",
       "   average_rating  ratings_count  work_ratings_count  work_text_reviews_count  \\\n",
       "0            4.22         620618              636061                     9102   \n",
       "1            4.07          18566               19186                      953   \n",
       "2            4.61        1746574             1847395                    51942   \n",
       "3            3.77         128244              135005                     2313   \n",
       "4            4.24          53143               58608                     1927   \n",
       "\n",
       "   ratings_1  ratings_2  ratings_3  ratings_4  ratings_5  \\\n",
       "0      15392      27532      93700     167043     332394   \n",
       "1        409        977       3435       6486       7879   \n",
       "2       9363      22245     113646     383914    1318227   \n",
       "3       1851       9728      40085      49513      33828   \n",
       "4        555       1691       7805      21853      26704   \n",
       "\n",
       "                                           image_url  \\\n",
       "0  https://images.gr-assets.com/books/1384434560m...   \n",
       "1  https://s.gr-assets.com/assets/nophoto/book/11...   \n",
       "2  https://images.gr-assets.com/books/1474171184m...   \n",
       "3  https://s.gr-assets.com/assets/nophoto/book/11...   \n",
       "4  https://s.gr-assets.com/assets/nophoto/book/11...   \n",
       "\n",
       "                                     small_image_url  \n",
       "0  https://images.gr-assets.com/books/1384434560s...  \n",
       "1  https://s.gr-assets.com/assets/nophoto/book/50...  \n",
       "2  https://images.gr-assets.com/books/1474171184s...  \n",
       "3  https://s.gr-assets.com/assets/nophoto/book/50...  \n",
       "4  https://s.gr-assets.com/assets/nophoto/book/50...  "
      ]
     },
     "execution_count": 85,
     "metadata": {},
     "output_type": "execute_result"
    }
   ],
   "source": [
    "ratings_and_books = pd.merge(ratings_sample, books, how='left', on='book_id')\n",
    "ratings_and_books.head()"
   ]
  },
  {
   "cell_type": "markdown",
   "id": "767420ee-f053-4e4c-96e0-bd7696fcece3",
   "metadata": {},
   "source": [
    "Make sure the counts are all the same..."
   ]
  },
  {
   "cell_type": "code",
   "execution_count": 86,
   "id": "1a5228d7-6ae1-4f18-804a-bfe3c1df9323",
   "metadata": {
    "tags": []
   },
   "outputs": [
    {
     "data": {
      "text/plain": [
       "(100000, 25)"
      ]
     },
     "execution_count": 86,
     "metadata": {},
     "output_type": "execute_result"
    }
   ],
   "source": [
    "ratings_and_books.shape"
   ]
  },
  {
   "cell_type": "code",
   "execution_count": 87,
   "id": "70344d9f-ac9d-4fb0-a9c9-ac77671b4d43",
   "metadata": {
    "tags": []
   },
   "outputs": [
    {
     "data": {
      "text/plain": [
       "44364"
      ]
     },
     "execution_count": 87,
     "metadata": {},
     "output_type": "execute_result"
    }
   ],
   "source": [
    "ratings_and_books.user_id.value_counts().count()"
   ]
  },
  {
   "cell_type": "code",
   "execution_count": 88,
   "id": "1d1973b0-fbe8-4400-8f77-f9e3d96ddd0b",
   "metadata": {
    "tags": []
   },
   "outputs": [
    {
     "data": {
      "text/plain": [
       "9523"
      ]
     },
     "execution_count": 88,
     "metadata": {},
     "output_type": "execute_result"
    }
   ],
   "source": [
    "ratings_and_books.book_id.value_counts().count()"
   ]
  },
  {
   "cell_type": "markdown",
   "id": "9a8e4613-c527-4d01-b9f0-46d677c7f486",
   "metadata": {},
   "source": [
    "Let's drop unwanted columns:"
   ]
  },
  {
   "cell_type": "code",
   "execution_count": 90,
   "id": "22eac292-7fb6-43fd-966e-e0a00518753c",
   "metadata": {
    "tags": []
   },
   "outputs": [
    {
     "data": {
      "text/html": [
       "<div>\n",
       "<style scoped>\n",
       "    .dataframe tbody tr th:only-of-type {\n",
       "        vertical-align: middle;\n",
       "    }\n",
       "\n",
       "    .dataframe tbody tr th {\n",
       "        vertical-align: top;\n",
       "    }\n",
       "\n",
       "    .dataframe thead th {\n",
       "        text-align: right;\n",
       "    }\n",
       "</style>\n",
       "<table border=\"1\" class=\"dataframe\">\n",
       "  <thead>\n",
       "    <tr style=\"text-align: right;\">\n",
       "      <th></th>\n",
       "      <th>user_id</th>\n",
       "      <th>book_id</th>\n",
       "      <th>rating</th>\n",
       "      <th>authors</th>\n",
       "      <th>original_publication_year</th>\n",
       "      <th>title</th>\n",
       "      <th>language_code</th>\n",
       "      <th>average_rating</th>\n",
       "      <th>ratings_count</th>\n",
       "    </tr>\n",
       "  </thead>\n",
       "  <tbody>\n",
       "    <tr>\n",
       "      <th>0</th>\n",
       "      <td>29403</td>\n",
       "      <td>102</td>\n",
       "      <td>5</td>\n",
       "      <td>Maurice Sendak</td>\n",
       "      <td>1963.0</td>\n",
       "      <td>Where the Wild Things Are</td>\n",
       "      <td>eng</td>\n",
       "      <td>4.22</td>\n",
       "      <td>620618</td>\n",
       "    </tr>\n",
       "    <tr>\n",
       "      <th>1</th>\n",
       "      <td>36128</td>\n",
       "      <td>4663</td>\n",
       "      <td>4</td>\n",
       "      <td>Shane Claiborne</td>\n",
       "      <td>2006.0</td>\n",
       "      <td>The Irresistible Revolution: Living as an Ordi...</td>\n",
       "      <td>NaN</td>\n",
       "      <td>4.07</td>\n",
       "      <td>18566</td>\n",
       "    </tr>\n",
       "    <tr>\n",
       "      <th>2</th>\n",
       "      <td>37112</td>\n",
       "      <td>25</td>\n",
       "      <td>5</td>\n",
       "      <td>J.K. Rowling, Mary GrandPré</td>\n",
       "      <td>2007.0</td>\n",
       "      <td>Harry Potter and the Deathly Hallows (Harry Po...</td>\n",
       "      <td>eng</td>\n",
       "      <td>4.61</td>\n",
       "      <td>1746574</td>\n",
       "    </tr>\n",
       "    <tr>\n",
       "      <th>3</th>\n",
       "      <td>16114</td>\n",
       "      <td>693</td>\n",
       "      <td>4</td>\n",
       "      <td>Michael Crichton</td>\n",
       "      <td>1987.0</td>\n",
       "      <td>Sphere</td>\n",
       "      <td>eng</td>\n",
       "      <td>3.77</td>\n",
       "      <td>128244</td>\n",
       "    </tr>\n",
       "    <tr>\n",
       "      <th>4</th>\n",
       "      <td>50684</td>\n",
       "      <td>1731</td>\n",
       "      <td>4</td>\n",
       "      <td>Peter V. Brett</td>\n",
       "      <td>2010.0</td>\n",
       "      <td>The Desert Spear (Demon Cycle, #2)</td>\n",
       "      <td>eng</td>\n",
       "      <td>4.24</td>\n",
       "      <td>53143</td>\n",
       "    </tr>\n",
       "  </tbody>\n",
       "</table>\n",
       "</div>"
      ],
      "text/plain": [
       "   user_id  book_id  rating                      authors  \\\n",
       "0    29403      102       5               Maurice Sendak   \n",
       "1    36128     4663       4              Shane Claiborne   \n",
       "2    37112       25       5  J.K. Rowling, Mary GrandPré   \n",
       "3    16114      693       4             Michael Crichton   \n",
       "4    50684     1731       4               Peter V. Brett   \n",
       "\n",
       "   original_publication_year  \\\n",
       "0                     1963.0   \n",
       "1                     2006.0   \n",
       "2                     2007.0   \n",
       "3                     1987.0   \n",
       "4                     2010.0   \n",
       "\n",
       "                                               title language_code  \\\n",
       "0                          Where the Wild Things Are           eng   \n",
       "1  The Irresistible Revolution: Living as an Ordi...           NaN   \n",
       "2  Harry Potter and the Deathly Hallows (Harry Po...           eng   \n",
       "3                                             Sphere           eng   \n",
       "4                 The Desert Spear (Demon Cycle, #2)           eng   \n",
       "\n",
       "   average_rating  ratings_count  \n",
       "0            4.22         620618  \n",
       "1            4.07          18566  \n",
       "2            4.61        1746574  \n",
       "3            3.77         128244  \n",
       "4            4.24          53143  "
      ]
     },
     "execution_count": 90,
     "metadata": {},
     "output_type": "execute_result"
    }
   ],
   "source": [
    "ratings_and_books = ratings_and_books[['user_id', 'book_id', 'rating', 'authors', 'original_publication_year', 'title', 'language_code', 'average_rating', 'ratings_count']]\n",
    "ratings_and_books.head()"
   ]
  },
  {
   "cell_type": "code",
   "execution_count": 91,
   "id": "500eec3c-ab8e-4fea-a833-99e007c707f4",
   "metadata": {
    "tags": []
   },
   "outputs": [
    {
     "data": {
      "text/plain": [
       "(100000, 9)"
      ]
     },
     "execution_count": 91,
     "metadata": {},
     "output_type": "execute_result"
    }
   ],
   "source": [
    "ratings_and_books.shape"
   ]
  },
  {
   "cell_type": "code",
   "execution_count": 92,
   "id": "a35bc86a-d6cf-43de-afd9-b7e172fba2dc",
   "metadata": {
    "tags": []
   },
   "outputs": [
    {
     "name": "stdout",
     "output_type": "stream",
     "text": [
      "<class 'pandas.core.frame.DataFrame'>\n",
      "Int64Index: 100000 entries, 0 to 99999\n",
      "Data columns (total 9 columns):\n",
      " #   Column                     Non-Null Count   Dtype  \n",
      "---  ------                     --------------   -----  \n",
      " 0   user_id                    100000 non-null  int64  \n",
      " 1   book_id                    100000 non-null  int64  \n",
      " 2   rating                     100000 non-null  int64  \n",
      " 3   authors                    100000 non-null  object \n",
      " 4   original_publication_year  99897 non-null   float64\n",
      " 5   title                      100000 non-null  object \n",
      " 6   language_code              94350 non-null   object \n",
      " 7   average_rating             100000 non-null  float64\n",
      " 8   ratings_count              100000 non-null  int64  \n",
      "dtypes: float64(2), int64(4), object(3)\n",
      "memory usage: 7.6+ MB\n"
     ]
    }
   ],
   "source": [
    "ratings_and_books.info()"
   ]
  },
  {
   "cell_type": "markdown",
   "id": "eda0a17a-e946-4da3-b22b-c054f42711c1",
   "metadata": {},
   "source": [
    "> Missing values in publication year and language code"
   ]
  },
  {
   "cell_type": "code",
   "execution_count": 118,
   "id": "096721a5-c8bd-493a-9ca1-8188be1e04ff",
   "metadata": {
    "tags": []
   },
   "outputs": [
    {
     "data": {
      "text/html": [
       "<div>\n",
       "<style scoped>\n",
       "    .dataframe tbody tr th:only-of-type {\n",
       "        vertical-align: middle;\n",
       "    }\n",
       "\n",
       "    .dataframe tbody tr th {\n",
       "        vertical-align: top;\n",
       "    }\n",
       "\n",
       "    .dataframe thead th {\n",
       "        text-align: right;\n",
       "    }\n",
       "</style>\n",
       "<table border=\"1\" class=\"dataframe\">\n",
       "  <thead>\n",
       "    <tr style=\"text-align: right;\">\n",
       "      <th></th>\n",
       "      <th>user_id</th>\n",
       "      <th>book_id</th>\n",
       "      <th>rating</th>\n",
       "      <th>authors</th>\n",
       "      <th>original_publication_year</th>\n",
       "      <th>title</th>\n",
       "      <th>language_code</th>\n",
       "      <th>average_rating</th>\n",
       "      <th>ratings_count</th>\n",
       "    </tr>\n",
       "  </thead>\n",
       "  <tbody>\n",
       "    <tr>\n",
       "      <th>916</th>\n",
       "      <td>35864</td>\n",
       "      <td>3506</td>\n",
       "      <td>5</td>\n",
       "      <td>Yuu Watase</td>\n",
       "      <td>NaN</td>\n",
       "      <td>Absolute Boyfriend, Vol. 1</td>\n",
       "      <td>eng</td>\n",
       "      <td>4.01</td>\n",
       "      <td>29385</td>\n",
       "    </tr>\n",
       "    <tr>\n",
       "      <th>1284</th>\n",
       "      <td>36516</td>\n",
       "      <td>5872</td>\n",
       "      <td>5</td>\n",
       "      <td>Charles Dickens</td>\n",
       "      <td>NaN</td>\n",
       "      <td>A Tale of Two Cities / Great Expectations</td>\n",
       "      <td>en-US</td>\n",
       "      <td>3.98</td>\n",
       "      <td>14912</td>\n",
       "    </tr>\n",
       "    <tr>\n",
       "      <th>2288</th>\n",
       "      <td>36072</td>\n",
       "      <td>7417</td>\n",
       "      <td>4</td>\n",
       "      <td>Giles Andreae, Guy Parker-Rees</td>\n",
       "      <td>NaN</td>\n",
       "      <td>Giraffes Can't Dance</td>\n",
       "      <td>en-US</td>\n",
       "      <td>4.28</td>\n",
       "      <td>14144</td>\n",
       "    </tr>\n",
       "    <tr>\n",
       "      <th>4650</th>\n",
       "      <td>13903</td>\n",
       "      <td>4708</td>\n",
       "      <td>5</td>\n",
       "      <td>BookRags</td>\n",
       "      <td>NaN</td>\n",
       "      <td>BookRags Summary:  A Storm of Swords</td>\n",
       "      <td>eng</td>\n",
       "      <td>4.59</td>\n",
       "      <td>18960</td>\n",
       "    </tr>\n",
       "    <tr>\n",
       "      <th>4938</th>\n",
       "      <td>37309</td>\n",
       "      <td>5872</td>\n",
       "      <td>3</td>\n",
       "      <td>Charles Dickens</td>\n",
       "      <td>NaN</td>\n",
       "      <td>A Tale of Two Cities / Great Expectations</td>\n",
       "      <td>en-US</td>\n",
       "      <td>3.98</td>\n",
       "      <td>14912</td>\n",
       "    </tr>\n",
       "  </tbody>\n",
       "</table>\n",
       "</div>"
      ],
      "text/plain": [
       "      user_id  book_id  rating                         authors  \\\n",
       "916     35864     3506       5                      Yuu Watase   \n",
       "1284    36516     5872       5                 Charles Dickens   \n",
       "2288    36072     7417       4  Giles Andreae, Guy Parker-Rees   \n",
       "4650    13903     4708       5                        BookRags   \n",
       "4938    37309     5872       3                 Charles Dickens   \n",
       "\n",
       "      original_publication_year                                      title  \\\n",
       "916                         NaN                 Absolute Boyfriend, Vol. 1   \n",
       "1284                        NaN  A Tale of Two Cities / Great Expectations   \n",
       "2288                        NaN                       Giraffes Can't Dance   \n",
       "4650                        NaN       BookRags Summary:  A Storm of Swords   \n",
       "4938                        NaN  A Tale of Two Cities / Great Expectations   \n",
       "\n",
       "     language_code  average_rating  ratings_count  \n",
       "916            eng            4.01          29385  \n",
       "1284         en-US            3.98          14912  \n",
       "2288         en-US            4.28          14144  \n",
       "4650           eng            4.59          18960  \n",
       "4938         en-US            3.98          14912  "
      ]
     },
     "execution_count": 118,
     "metadata": {},
     "output_type": "execute_result"
    }
   ],
   "source": [
    "ratings_and_books.loc[ratings_and_books['original_publication_year'].isna() == True ].head()"
   ]
  },
  {
   "cell_type": "code",
   "execution_count": 102,
   "id": "e447fcec-0a70-4f13-a35f-01c7dcae98b4",
   "metadata": {
    "tags": []
   },
   "outputs": [
    {
     "data": {
      "text/plain": [
       "103"
      ]
     },
     "execution_count": 102,
     "metadata": {},
     "output_type": "execute_result"
    }
   ],
   "source": [
    "100000-99897"
   ]
  },
  {
   "cell_type": "code",
   "execution_count": 111,
   "id": "e872fb5a-2d84-4eb1-89aa-253f50311df4",
   "metadata": {
    "tags": []
   },
   "outputs": [
    {
     "data": {
      "text/plain": [
       " 1867.0    1\n",
       " 1863.0    1\n",
       " 1519.0    1\n",
       " 1764.0    1\n",
       " 1785.0    1\n",
       " 1651.0    2\n",
       " 1353.0    2\n",
       " 1677.0    2\n",
       " 1550.0    2\n",
       " 1767.0    2\n",
       " 1589.0    2\n",
       " 1554.0    2\n",
       " 1641.0    2\n",
       " 1590.0    3\n",
       " 1796.0    3\n",
       " 1781.0    3\n",
       "-440.0     3\n",
       " 1418.0    4\n",
       " 119.0     4\n",
       " 1563.0    4\n",
       "Name: original_publication_year, dtype: int64"
      ]
     },
     "execution_count": 111,
     "metadata": {},
     "output_type": "execute_result"
    }
   ],
   "source": [
    "ratings_and_books.original_publication_year.value_counts().sort_values().head(20)"
   ]
  },
  {
   "cell_type": "code",
   "execution_count": 121,
   "id": "100be809-1c05-41d6-b7f1-2547426c138f",
   "metadata": {
    "tags": []
   },
   "outputs": [
    {
     "data": {
      "text/html": [
       "<div>\n",
       "<style scoped>\n",
       "    .dataframe tbody tr th:only-of-type {\n",
       "        vertical-align: middle;\n",
       "    }\n",
       "\n",
       "    .dataframe tbody tr th {\n",
       "        vertical-align: top;\n",
       "    }\n",
       "\n",
       "    .dataframe thead th {\n",
       "        text-align: right;\n",
       "    }\n",
       "</style>\n",
       "<table border=\"1\" class=\"dataframe\">\n",
       "  <thead>\n",
       "    <tr style=\"text-align: right;\">\n",
       "      <th></th>\n",
       "      <th>user_id</th>\n",
       "      <th>book_id</th>\n",
       "      <th>rating</th>\n",
       "      <th>authors</th>\n",
       "      <th>original_publication_year</th>\n",
       "      <th>title</th>\n",
       "      <th>language_code</th>\n",
       "      <th>average_rating</th>\n",
       "      <th>ratings_count</th>\n",
       "    </tr>\n",
       "  </thead>\n",
       "  <tbody>\n",
       "    <tr>\n",
       "      <th>1</th>\n",
       "      <td>36128</td>\n",
       "      <td>4663</td>\n",
       "      <td>4</td>\n",
       "      <td>Shane Claiborne</td>\n",
       "      <td>2006.0</td>\n",
       "      <td>The Irresistible Revolution: Living as an Ordi...</td>\n",
       "      <td>NaN</td>\n",
       "      <td>4.07</td>\n",
       "      <td>18566</td>\n",
       "    </tr>\n",
       "    <tr>\n",
       "      <th>33</th>\n",
       "      <td>1159</td>\n",
       "      <td>9927</td>\n",
       "      <td>4</td>\n",
       "      <td>Christopher Buckley</td>\n",
       "      <td>1994.0</td>\n",
       "      <td>Thank You for Smoking</td>\n",
       "      <td>NaN</td>\n",
       "      <td>3.92</td>\n",
       "      <td>9054</td>\n",
       "    </tr>\n",
       "    <tr>\n",
       "      <th>62</th>\n",
       "      <td>46941</td>\n",
       "      <td>1497</td>\n",
       "      <td>2</td>\n",
       "      <td>Mary Norton, Beth Krush, Joe Krush</td>\n",
       "      <td>1952.0</td>\n",
       "      <td>The Borrowers (The Borrowers, #1)</td>\n",
       "      <td>NaN</td>\n",
       "      <td>4.02</td>\n",
       "      <td>74820</td>\n",
       "    </tr>\n",
       "    <tr>\n",
       "      <th>91</th>\n",
       "      <td>36984</td>\n",
       "      <td>4704</td>\n",
       "      <td>3</td>\n",
       "      <td>Jeanette Winterson</td>\n",
       "      <td>2011.0</td>\n",
       "      <td>Why Be Happy When You Could Be Normal?</td>\n",
       "      <td>NaN</td>\n",
       "      <td>3.94</td>\n",
       "      <td>19537</td>\n",
       "    </tr>\n",
       "    <tr>\n",
       "      <th>93</th>\n",
       "      <td>30813</td>\n",
       "      <td>5878</td>\n",
       "      <td>5</td>\n",
       "      <td>Diane Muldrow</td>\n",
       "      <td>1992.0</td>\n",
       "      <td>Frosty the Snowman (Frosty the Snowman)</td>\n",
       "      <td>NaN</td>\n",
       "      <td>4.34</td>\n",
       "      <td>17540</td>\n",
       "    </tr>\n",
       "  </tbody>\n",
       "</table>\n",
       "</div>"
      ],
      "text/plain": [
       "    user_id  book_id  rating                             authors  \\\n",
       "1     36128     4663       4                     Shane Claiborne   \n",
       "33     1159     9927       4                 Christopher Buckley   \n",
       "62    46941     1497       2  Mary Norton, Beth Krush, Joe Krush   \n",
       "91    36984     4704       3                  Jeanette Winterson   \n",
       "93    30813     5878       5                       Diane Muldrow   \n",
       "\n",
       "    original_publication_year  \\\n",
       "1                      2006.0   \n",
       "33                     1994.0   \n",
       "62                     1952.0   \n",
       "91                     2011.0   \n",
       "93                     1992.0   \n",
       "\n",
       "                                                title language_code  \\\n",
       "1   The Irresistible Revolution: Living as an Ordi...           NaN   \n",
       "33                              Thank You for Smoking           NaN   \n",
       "62                  The Borrowers (The Borrowers, #1)           NaN   \n",
       "91             Why Be Happy When You Could Be Normal?           NaN   \n",
       "93            Frosty the Snowman (Frosty the Snowman)           NaN   \n",
       "\n",
       "    average_rating  ratings_count  \n",
       "1             4.07          18566  \n",
       "33            3.92           9054  \n",
       "62            4.02          74820  \n",
       "91            3.94          19537  \n",
       "93            4.34          17540  "
      ]
     },
     "execution_count": 121,
     "metadata": {},
     "output_type": "execute_result"
    }
   ],
   "source": [
    "ratings_and_books.loc[ratings_and_books['language_code'].isna() == True ].head()"
   ]
  },
  {
   "cell_type": "code",
   "execution_count": 122,
   "id": "da25f013-2c58-4b94-b910-0a825922d593",
   "metadata": {
    "tags": []
   },
   "outputs": [
    {
     "data": {
      "text/plain": [
       "5650"
      ]
     },
     "execution_count": 122,
     "metadata": {},
     "output_type": "execute_result"
    }
   ],
   "source": [
    "100000 - 94350"
   ]
  },
  {
   "cell_type": "code",
   "execution_count": 124,
   "id": "0163e3c1-19ae-4393-b25f-67f4163a3be7",
   "metadata": {
    "tags": []
   },
   "outputs": [],
   "source": [
    "ratings_and_books.language_code.fillna('unknown', inplace=True)"
   ]
  },
  {
   "cell_type": "code",
   "execution_count": 125,
   "id": "80533066-4395-44d0-bb29-66ce823f17f4",
   "metadata": {
    "tags": []
   },
   "outputs": [
    {
     "name": "stdout",
     "output_type": "stream",
     "text": [
      "<class 'pandas.core.frame.DataFrame'>\n",
      "Int64Index: 100000 entries, 0 to 99999\n",
      "Data columns (total 9 columns):\n",
      " #   Column                     Non-Null Count   Dtype  \n",
      "---  ------                     --------------   -----  \n",
      " 0   user_id                    100000 non-null  int64  \n",
      " 1   book_id                    100000 non-null  int64  \n",
      " 2   rating                     100000 non-null  int64  \n",
      " 3   authors                    100000 non-null  object \n",
      " 4   original_publication_year  99897 non-null   float64\n",
      " 5   title                      100000 non-null  object \n",
      " 6   language_code              100000 non-null  object \n",
      " 7   average_rating             100000 non-null  float64\n",
      " 8   ratings_count              100000 non-null  int64  \n",
      "dtypes: float64(2), int64(4), object(3)\n",
      "memory usage: 7.6+ MB\n"
     ]
    }
   ],
   "source": [
    "ratings_and_books.info()"
   ]
  },
  {
   "cell_type": "code",
   "execution_count": 144,
   "id": "dac97077-4ef7-4860-9ebb-0ebf07b33b76",
   "metadata": {
    "tags": []
   },
   "outputs": [
    {
     "data": {
      "image/png": "[encoded data removed]",
      "text/plain": [
       "<Figure size 1200x800 with 1 Axes>"
      ]
     },
     "metadata": {},
     "output_type": "display_data"
    }
   ],
   "source": [
    "plt.figure(figsize=(12,8))\n",
    "plt.scatter(ratings_and_books.original_publication_year, ratings_and_books.book_id, color = 'goldenrod')\n",
    "plt.ylabel('Book ID')\n",
    "plt.xlabel('Original Publication Year')\n",
    "plt.title('Book ID Publication Years');\n",
    "\n",
    "# plt.savefig('book_id_pub_year.png')"
   ]
  },
  {
   "cell_type": "code",
   "execution_count": 142,
   "id": "1b2ec265-38a8-43a4-bbac-eeeace25da92",
   "metadata": {
    "tags": []
   },
   "outputs": [
    {
     "data": {
      "text/plain": [
       "1967.8362613491897"
      ]
     },
     "execution_count": 142,
     "metadata": {},
     "output_type": "execute_result"
    }
   ],
   "source": [
    "ratings_and_books.original_publication_year.mean()"
   ]
  },
  {
   "cell_type": "code",
   "execution_count": 145,
   "id": "4c3b7857-345c-4f9a-9a29-6ea1075e9bb9",
   "metadata": {
    "tags": []
   },
   "outputs": [
    {
     "data": {
      "text/html": [
       "<div>\n",
       "<style scoped>\n",
       "    .dataframe tbody tr th:only-of-type {\n",
       "        vertical-align: middle;\n",
       "    }\n",
       "\n",
       "    .dataframe tbody tr th {\n",
       "        vertical-align: top;\n",
       "    }\n",
       "\n",
       "    .dataframe thead th {\n",
       "        text-align: right;\n",
       "    }\n",
       "</style>\n",
       "<table border=\"1\" class=\"dataframe\">\n",
       "  <thead>\n",
       "    <tr style=\"text-align: right;\">\n",
       "      <th></th>\n",
       "      <th>user_id</th>\n",
       "      <th>book_id</th>\n",
       "      <th>rating</th>\n",
       "      <th>authors</th>\n",
       "      <th>original_publication_year</th>\n",
       "      <th>title</th>\n",
       "      <th>language_code</th>\n",
       "      <th>average_rating</th>\n",
       "      <th>ratings_count</th>\n",
       "      <th>publication_date_category</th>\n",
       "    </tr>\n",
       "  </thead>\n",
       "  <tbody>\n",
       "    <tr>\n",
       "      <th>0</th>\n",
       "      <td>29403</td>\n",
       "      <td>102</td>\n",
       "      <td>5</td>\n",
       "      <td>Maurice Sendak</td>\n",
       "      <td>1963.0</td>\n",
       "      <td>Where the Wild Things Are</td>\n",
       "      <td>eng</td>\n",
       "      <td>4.22</td>\n",
       "      <td>620618</td>\n",
       "      <td>1900s</td>\n",
       "    </tr>\n",
       "    <tr>\n",
       "      <th>1</th>\n",
       "      <td>36128</td>\n",
       "      <td>4663</td>\n",
       "      <td>4</td>\n",
       "      <td>Shane Claiborne</td>\n",
       "      <td>2006.0</td>\n",
       "      <td>The Irresistible Revolution: Living as an Ordi...</td>\n",
       "      <td>unknown</td>\n",
       "      <td>4.07</td>\n",
       "      <td>18566</td>\n",
       "      <td>2000s</td>\n",
       "    </tr>\n",
       "    <tr>\n",
       "      <th>2</th>\n",
       "      <td>37112</td>\n",
       "      <td>25</td>\n",
       "      <td>5</td>\n",
       "      <td>J.K. Rowling, Mary GrandPré</td>\n",
       "      <td>2007.0</td>\n",
       "      <td>Harry Potter and the Deathly Hallows (Harry Po...</td>\n",
       "      <td>eng</td>\n",
       "      <td>4.61</td>\n",
       "      <td>1746574</td>\n",
       "      <td>2000s</td>\n",
       "    </tr>\n",
       "    <tr>\n",
       "      <th>3</th>\n",
       "      <td>16114</td>\n",
       "      <td>693</td>\n",
       "      <td>4</td>\n",
       "      <td>Michael Crichton</td>\n",
       "      <td>1987.0</td>\n",
       "      <td>Sphere</td>\n",
       "      <td>eng</td>\n",
       "      <td>3.77</td>\n",
       "      <td>128244</td>\n",
       "      <td>1900s</td>\n",
       "    </tr>\n",
       "    <tr>\n",
       "      <th>4</th>\n",
       "      <td>50684</td>\n",
       "      <td>1731</td>\n",
       "      <td>4</td>\n",
       "      <td>Peter V. Brett</td>\n",
       "      <td>2010.0</td>\n",
       "      <td>The Desert Spear (Demon Cycle, #2)</td>\n",
       "      <td>eng</td>\n",
       "      <td>4.24</td>\n",
       "      <td>53143</td>\n",
       "      <td>2000s</td>\n",
       "    </tr>\n",
       "  </tbody>\n",
       "</table>\n",
       "</div>"
      ],
      "text/plain": [
       "   user_id  book_id  rating                      authors  \\\n",
       "0    29403      102       5               Maurice Sendak   \n",
       "1    36128     4663       4              Shane Claiborne   \n",
       "2    37112       25       5  J.K. Rowling, Mary GrandPré   \n",
       "3    16114      693       4             Michael Crichton   \n",
       "4    50684     1731       4               Peter V. Brett   \n",
       "\n",
       "   original_publication_year  \\\n",
       "0                     1963.0   \n",
       "1                     2006.0   \n",
       "2                     2007.0   \n",
       "3                     1987.0   \n",
       "4                     2010.0   \n",
       "\n",
       "                                               title language_code  \\\n",
       "0                          Where the Wild Things Are           eng   \n",
       "1  The Irresistible Revolution: Living as an Ordi...       unknown   \n",
       "2  Harry Potter and the Deathly Hallows (Harry Po...           eng   \n",
       "3                                             Sphere           eng   \n",
       "4                 The Desert Spear (Demon Cycle, #2)           eng   \n",
       "\n",
       "   average_rating  ratings_count publication_date_category  \n",
       "0            4.22         620618                     1900s  \n",
       "1            4.07          18566                     2000s  \n",
       "2            4.61        1746574                     2000s  \n",
       "3            3.77         128244                     1900s  \n",
       "4            4.24          53143                     2000s  "
      ]
     },
     "execution_count": 145,
     "metadata": {},
     "output_type": "execute_result"
    }
   ],
   "source": [
    "def pub_date_category(publication_date):\n",
    "    if publication_date < 1900:\n",
    "        return \"Pre-1900s\"\n",
    "    elif 1900 <= publication_date <= 1999:\n",
    "        return \"1900s\"\n",
    "    elif 2000 <= publication_date:\n",
    "        return \"2000s\"\n",
    "    else:\n",
    "        return \"Unknown\"\n",
    "\n",
    "ratings_and_books['publication_date_category'] = ratings_and_books['original_publication_year'].apply(pub_date_category)\n",
    "\n",
    "ratings_and_books.head()"
   ]
  },
  {
   "cell_type": "code",
   "execution_count": 146,
   "id": "45b3d54b-aafb-44fd-b939-f1b4f2dabc3a",
   "metadata": {
    "tags": []
   },
   "outputs": [
    {
     "name": "stdout",
     "output_type": "stream",
     "text": [
      "<class 'pandas.core.frame.DataFrame'>\n",
      "Int64Index: 100000 entries, 0 to 99999\n",
      "Data columns (total 10 columns):\n",
      " #   Column                     Non-Null Count   Dtype  \n",
      "---  ------                     --------------   -----  \n",
      " 0   user_id                    100000 non-null  int64  \n",
      " 1   book_id                    100000 non-null  int64  \n",
      " 2   rating                     100000 non-null  int64  \n",
      " 3   authors                    100000 non-null  object \n",
      " 4   original_publication_year  99897 non-null   float64\n",
      " 5   title                      100000 non-null  object \n",
      " 6   language_code              100000 non-null  object \n",
      " 7   average_rating             100000 non-null  float64\n",
      " 8   ratings_count              100000 non-null  int64  \n",
      " 9   publication_date_category  100000 non-null  object \n",
      "dtypes: float64(2), int64(4), object(4)\n",
      "memory usage: 8.4+ MB\n"
     ]
    }
   ],
   "source": [
    "ratings_and_books.info()"
   ]
  },
  {
   "cell_type": "code",
   "execution_count": 147,
   "id": "79c14388-b1ba-4e72-acd9-d822b5b1ebeb",
   "metadata": {
    "tags": []
   },
   "outputs": [
    {
     "data": {
      "text/plain": [
       "2000s        51790\n",
       "1900s        40769\n",
       "Pre-1900s     7338\n",
       "Unknown        103\n",
       "Name: publication_date_category, dtype: int64"
      ]
     },
     "execution_count": 147,
     "metadata": {},
     "output_type": "execute_result"
    }
   ],
   "source": [
    "ratings_and_books.publication_date_category.value_counts()"
   ]
  },
  {
   "cell_type": "markdown",
   "id": "e8f27cb3-8f25-49e9-a283-47656249951a",
   "metadata": {},
   "source": [
    "Now I can drop the original pub date column"
   ]
  },
  {
   "cell_type": "code",
   "execution_count": 148,
   "id": "7c125658-6ad5-423d-89d2-6b2f4279bb6d",
   "metadata": {
    "tags": []
   },
   "outputs": [],
   "source": [
    "ratings_and_books = ratings_and_books.drop(columns= 'original_publication_year')"
   ]
  },
  {
   "cell_type": "code",
   "execution_count": 149,
   "id": "a485f008-2b0f-4bc8-9482-30716eb04f54",
   "metadata": {
    "tags": []
   },
   "outputs": [
    {
     "data": {
      "text/html": [
       "<div>\n",
       "<style scoped>\n",
       "    .dataframe tbody tr th:only-of-type {\n",
       "        vertical-align: middle;\n",
       "    }\n",
       "\n",
       "    .dataframe tbody tr th {\n",
       "        vertical-align: top;\n",
       "    }\n",
       "\n",
       "    .dataframe thead th {\n",
       "        text-align: right;\n",
       "    }\n",
       "</style>\n",
       "<table border=\"1\" class=\"dataframe\">\n",
       "  <thead>\n",
       "    <tr style=\"text-align: right;\">\n",
       "      <th></th>\n",
       "      <th>user_id</th>\n",
       "      <th>book_id</th>\n",
       "      <th>rating</th>\n",
       "      <th>authors</th>\n",
       "      <th>title</th>\n",
       "      <th>language_code</th>\n",
       "      <th>average_rating</th>\n",
       "      <th>ratings_count</th>\n",
       "      <th>publication_date_category</th>\n",
       "    </tr>\n",
       "  </thead>\n",
       "  <tbody>\n",
       "    <tr>\n",
       "      <th>0</th>\n",
       "      <td>29403</td>\n",
       "      <td>102</td>\n",
       "      <td>5</td>\n",
       "      <td>Maurice Sendak</td>\n",
       "      <td>Where the Wild Things Are</td>\n",
       "      <td>eng</td>\n",
       "      <td>4.22</td>\n",
       "      <td>620618</td>\n",
       "      <td>1900s</td>\n",
       "    </tr>\n",
       "    <tr>\n",
       "      <th>1</th>\n",
       "      <td>36128</td>\n",
       "      <td>4663</td>\n",
       "      <td>4</td>\n",
       "      <td>Shane Claiborne</td>\n",
       "      <td>The Irresistible Revolution: Living as an Ordi...</td>\n",
       "      <td>unknown</td>\n",
       "      <td>4.07</td>\n",
       "      <td>18566</td>\n",
       "      <td>2000s</td>\n",
       "    </tr>\n",
       "    <tr>\n",
       "      <th>2</th>\n",
       "      <td>37112</td>\n",
       "      <td>25</td>\n",
       "      <td>5</td>\n",
       "      <td>J.K. Rowling, Mary GrandPré</td>\n",
       "      <td>Harry Potter and the Deathly Hallows (Harry Po...</td>\n",
       "      <td>eng</td>\n",
       "      <td>4.61</td>\n",
       "      <td>1746574</td>\n",
       "      <td>2000s</td>\n",
       "    </tr>\n",
       "    <tr>\n",
       "      <th>3</th>\n",
       "      <td>16114</td>\n",
       "      <td>693</td>\n",
       "      <td>4</td>\n",
       "      <td>Michael Crichton</td>\n",
       "      <td>Sphere</td>\n",
       "      <td>eng</td>\n",
       "      <td>3.77</td>\n",
       "      <td>128244</td>\n",
       "      <td>1900s</td>\n",
       "    </tr>\n",
       "    <tr>\n",
       "      <th>4</th>\n",
       "      <td>50684</td>\n",
       "      <td>1731</td>\n",
       "      <td>4</td>\n",
       "      <td>Peter V. Brett</td>\n",
       "      <td>The Desert Spear (Demon Cycle, #2)</td>\n",
       "      <td>eng</td>\n",
       "      <td>4.24</td>\n",
       "      <td>53143</td>\n",
       "      <td>2000s</td>\n",
       "    </tr>\n",
       "  </tbody>\n",
       "</table>\n",
       "</div>"
      ],
      "text/plain": [
       "   user_id  book_id  rating                      authors  \\\n",
       "0    29403      102       5               Maurice Sendak   \n",
       "1    36128     4663       4              Shane Claiborne   \n",
       "2    37112       25       5  J.K. Rowling, Mary GrandPré   \n",
       "3    16114      693       4             Michael Crichton   \n",
       "4    50684     1731       4               Peter V. Brett   \n",
       "\n",
       "                                               title language_code  \\\n",
       "0                          Where the Wild Things Are           eng   \n",
       "1  The Irresistible Revolution: Living as an Ordi...       unknown   \n",
       "2  Harry Potter and the Deathly Hallows (Harry Po...           eng   \n",
       "3                                             Sphere           eng   \n",
       "4                 The Desert Spear (Demon Cycle, #2)           eng   \n",
       "\n",
       "   average_rating  ratings_count publication_date_category  \n",
       "0            4.22         620618                     1900s  \n",
       "1            4.07          18566                     2000s  \n",
       "2            4.61        1746574                     2000s  \n",
       "3            3.77         128244                     1900s  \n",
       "4            4.24          53143                     2000s  "
      ]
     },
     "execution_count": 149,
     "metadata": {},
     "output_type": "execute_result"
    }
   ],
   "source": [
    "ratings_and_books.head()"
   ]
  },
  {
   "cell_type": "code",
   "execution_count": 151,
   "id": "50b5b150-7cb8-4e6c-a0c0-5f775e2274f5",
   "metadata": {
    "tags": []
   },
   "outputs": [
    {
     "data": {
      "text/plain": [
       "4424"
      ]
     },
     "execution_count": 151,
     "metadata": {},
     "output_type": "execute_result"
    }
   ],
   "source": [
    "ratings_and_books.authors.value_counts().count()"
   ]
  },
  {
   "cell_type": "code",
   "execution_count": 155,
   "id": "6ad465df-14fa-477b-9b4f-49b3ce15db4f",
   "metadata": {
    "tags": []
   },
   "outputs": [
    {
     "data": {
      "text/plain": [
       "9523"
      ]
     },
     "execution_count": 155,
     "metadata": {},
     "output_type": "execute_result"
    }
   ],
   "source": [
    "ratings_and_books.book_id.value_counts().count()"
   ]
  },
  {
   "cell_type": "code",
   "execution_count": 154,
   "id": "98bb5c3a-38cd-4149-a989-ec40266583ff",
   "metadata": {
    "tags": []
   },
   "outputs": [
    {
     "name": "stderr",
     "output_type": "stream",
     "text": [
      "/var/folders/w4/lpzl5f8j3kx7kch0q9wglx4c0000gn/T/ipykernel_35405/1225032254.py:1: FutureWarning: The default value of numeric_only in DataFrame.corr is deprecated. In a future version, it will default to False. Select only valid columns or specify the value of numeric_only to silence this warning.\n",
      "  sns.heatmap(ratings_and_books.corr(), annot=True);\n"
     ]
    },
    {
     "data": {
      "image/png": "[encoded data removed]",
      "text/plain": [
       "<Figure size 640x480 with 2 Axes>"
      ]
     },
     "metadata": {},
     "output_type": "display_data"
    }
   ],
   "source": [
    "sns.heatmap(ratings_and_books.corr(), annot=True);"
   ]
  },
  {
   "cell_type": "code",
   "execution_count": null,
   "id": "0f747b99-aaab-47e4-aa7a-a2994c775378",
   "metadata": {},
   "outputs": [],
   "source": []
  }
 ],
 "metadata": {
  "kernelspec": {
   "display_name": "Python 3 (ipykernel)",
   "language": "python",
   "name": "python3"
  },
  "language_info": {
   "codemirror_mode": {
    "name": "ipython",
    "version": 3
   },
   "file_extension": ".py",
   "mimetype": "text/x-python",
   "name": "python",
   "nbconvert_exporter": "python",
   "pygments_lexer": "ipython3",
   "version": "3.11.4"
  }
 },
 "nbformat": 4,
 "nbformat_minor": 5
}
